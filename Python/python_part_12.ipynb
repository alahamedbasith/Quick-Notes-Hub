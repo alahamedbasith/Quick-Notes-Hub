{
  "nbformat": 4,
  "nbformat_minor": 0,
  "metadata": {
    "colab": {
      "provenance": []
    },
    "kernelspec": {
      "name": "python3",
      "display_name": "Python 3"
    },
    "language_info": {
      "name": "python"
    }
  },
  "cells": [
    {
      "cell_type": "markdown",
      "source": [
        "# What is a Set?\n",
        "A set is a built-in data structure in Python that:\n",
        "\n",
        " - Is unordered\n",
        "\n",
        "- Does not allow duplicate elements\n",
        "\n",
        "- Is mutable (you can add/remove items)\n",
        "\n",
        "\n",
        "| Feature       | Description                                  |\n",
        "| ------------- | -------------------------------------------- |\n",
        "| Unordered     | Elements don’t maintain order                |\n",
        "| Mutable       | Can add or remove elements                   |\n",
        "| No Duplicates | Duplicate elements are automatically removed |\n",
        "| Iterable      | Can be used in loops like lists              |\n",
        "\n",
        "\n",
        "# Set Methods\n",
        "| Method             | Description                                     |\n",
        "| ------------------ | ----------------------------------------------- |\n",
        "| `add(elem)`        | Adds an element                                 |\n",
        "| `update(iterable)` | Adds multiple elements                          |\n",
        "| `remove(elem)`     | Removes a specific element (error if not found) |\n",
        "| `discard(elem)`    | Removes an element (no error if not found)      |\n",
        "| `pop()`            | Removes and returns an arbitrary element        |\n",
        "| `clear()`          | Removes all elements                            |\n",
        "| `copy()`           | Returns a shallow copy                          |\n",
        "\n",
        "# Set Operations\n",
        "\n",
        "| Operation       | Symbol/Method                   | Example           |     |     |\n",
        "| --------------- | ------------------------------- | ----------------- | --- | --- |\n",
        "| Union           | \\`                              | `or`union()\\`     | \\`a | b\\` |\n",
        "| Intersection    | `&` or `intersection()`         | `a & b`           |     |     |\n",
        "| Difference      | `-` or `difference()`           | `a - b`           |     |     |\n",
        "| Symmetric Diff. | `^` or `symmetric_difference()` | `a ^ b`           |     |     |\n",
        "| Subset          | `issubset()`                    | `a.issubset(b)`   |     |     |\n",
        "| Superset        | `issuperset()`                  | `a.issuperset(b)` |     |     |\n",
        "| Disjoint        | `isdisjoint()`                  | `a.isdisjoint(b)` |     |     |\n",
        "\n",
        "\n"
      ],
      "metadata": {
        "id": "ow7GycEUDLwQ"
      }
    },
    {
      "cell_type": "code",
      "source": [
        "##create a set\n",
        "my_set={1,2,3,4,5}\n",
        "print(my_set)\n",
        "print(type(my_set))"
      ],
      "metadata": {
        "colab": {
          "base_uri": "https://localhost:8080/"
        },
        "id": "tZj_WbI_Dqz_",
        "outputId": "4029eac0-4513-420b-f8d7-ebd15ceb5c8e"
      },
      "execution_count": null,
      "outputs": [
        {
          "output_type": "stream",
          "name": "stdout",
          "text": [
            "{1, 2, 3, 4, 5}\n",
            "<class 'set'>\n"
          ]
        }
      ]
    },
    {
      "cell_type": "code",
      "source": [],
      "metadata": {
        "id": "JyFhf_PtKc-i"
      },
      "execution_count": null,
      "outputs": []
    },
    {
      "cell_type": "code",
      "source": [
        "lst = [1,2,3,4,5]\n",
        "\n",
        "my_empty_set=set(lst)\n",
        "\n",
        "print(my_empty_set)"
      ],
      "metadata": {
        "colab": {
          "base_uri": "https://localhost:8080/"
        },
        "id": "eSEA2vtqDw66",
        "outputId": "84548a10-2214-45e8-b1c4-e56d93f8c265"
      },
      "execution_count": null,
      "outputs": [
        {
          "output_type": "stream",
          "name": "stdout",
          "text": [
            "{1, 2, 3, 4, 5}\n"
          ]
        }
      ]
    },
    {
      "cell_type": "markdown",
      "source": [
        "# Set Methods"
      ],
      "metadata": {
        "id": "WB7V7x_rHYNY"
      }
    },
    {
      "cell_type": "code",
      "source": [
        "# Initial Set\n",
        "fruits = {\"apple\", \"banana\", \"cherry\"}\n",
        "print(\"Initial Set:\", fruits)\n",
        "\n",
        "# 1. add(elem)\n",
        "fruits.add(\"orange\")\n",
        "print(\"\\nAfter add('orange'):\", fruits)"
      ],
      "metadata": {
        "colab": {
          "base_uri": "https://localhost:8080/"
        },
        "id": "tsX-6dBADz8F",
        "outputId": "d26c731f-608a-4969-df7a-2a7a480cdf8a"
      },
      "execution_count": null,
      "outputs": [
        {
          "output_type": "stream",
          "name": "stdout",
          "text": [
            "Initial Set: {'banana', 'cherry', 'apple'}\n",
            "\n",
            "After add('orange'): {'banana', 'orange', 'cherry', 'apple'}\n"
          ]
        }
      ]
    },
    {
      "cell_type": "code",
      "source": [
        "# 2. update(iterable)\n",
        "fruits.update([\"mango\", \"grape\"])\n",
        "print(\"\\nAfter update(['mango', 'grape']):\", fruits)"
      ],
      "metadata": {
        "colab": {
          "base_uri": "https://localhost:8080/"
        },
        "id": "o1pQACDRG_jA",
        "outputId": "f03859ce-0eb0-472c-ea91-3e685b23cded"
      },
      "execution_count": null,
      "outputs": [
        {
          "output_type": "stream",
          "name": "stdout",
          "text": [
            "\n",
            "After update(['mango', 'grape']): {'mango', 'grape', 'orange', 'banana', 'cherry', 'apple'}\n"
          ]
        }
      ]
    },
    {
      "cell_type": "code",
      "source": [
        "# 3. remove(elem)\n",
        "fruits.remove(\"kiwi\")  # Will raise error if 'banana' not found\n",
        "print(\"\\nAfter remove('banana'):\", fruits)"
      ],
      "metadata": {
        "colab": {
          "base_uri": "https://localhost:8080/",
          "height": 180
        },
        "id": "epfirQJNHB74",
        "outputId": "ce4268ac-91bd-462a-f090-847fa0bd0804"
      },
      "execution_count": null,
      "outputs": [
        {
          "output_type": "error",
          "ename": "KeyError",
          "evalue": "'kiwi'",
          "traceback": [
            "\u001b[0;31m---------------------------------------------------------------------------\u001b[0m",
            "\u001b[0;31mKeyError\u001b[0m                                  Traceback (most recent call last)",
            "\u001b[0;32m/tmp/ipython-input-12-99724534.py\u001b[0m in \u001b[0;36m<cell line: 0>\u001b[0;34m()\u001b[0m\n\u001b[1;32m      1\u001b[0m \u001b[0;31m# 3. remove(elem)\u001b[0m\u001b[0;34m\u001b[0m\u001b[0;34m\u001b[0m\u001b[0m\n\u001b[0;32m----> 2\u001b[0;31m \u001b[0mfruits\u001b[0m\u001b[0;34m.\u001b[0m\u001b[0mremove\u001b[0m\u001b[0;34m(\u001b[0m\u001b[0;34m\"kiwi\"\u001b[0m\u001b[0;34m)\u001b[0m  \u001b[0;31m# Will raise error if 'banana' not found\u001b[0m\u001b[0;34m\u001b[0m\u001b[0;34m\u001b[0m\u001b[0m\n\u001b[0m\u001b[1;32m      3\u001b[0m \u001b[0mprint\u001b[0m\u001b[0;34m(\u001b[0m\u001b[0;34m\"\\nAfter remove('banana'):\"\u001b[0m\u001b[0;34m,\u001b[0m \u001b[0mfruits\u001b[0m\u001b[0;34m)\u001b[0m\u001b[0;34m\u001b[0m\u001b[0;34m\u001b[0m\u001b[0m\n",
            "\u001b[0;31mKeyError\u001b[0m: 'kiwi'"
          ]
        }
      ]
    },
    {
      "cell_type": "code",
      "source": [
        "# 4. discard(elem)\n",
        "fruits.discard(\"kiwi\")  # No error if 'pineapple' not found\n",
        "print(\"\\nAfter discard('kiwi'):\", fruits)"
      ],
      "metadata": {
        "colab": {
          "base_uri": "https://localhost:8080/"
        },
        "id": "XeCMQAS7HGRH",
        "outputId": "1be3c75b-8bdb-42e1-bb9b-69533ac86095"
      },
      "execution_count": null,
      "outputs": [
        {
          "output_type": "stream",
          "name": "stdout",
          "text": [
            "\n",
            "After discard('kiwi'): {'mango', 'grape', 'orange', 'cherry', 'apple'}\n"
          ]
        }
      ]
    },
    {
      "cell_type": "code",
      "source": [
        "# 5. pop()\n",
        "removed_item = fruits.pop()  # Removes random item\n",
        "print(f\"\\nAfter pop(): removed '{removed_item}'\")\n",
        "print(\"Set now:\", fruits)"
      ],
      "metadata": {
        "colab": {
          "base_uri": "https://localhost:8080/"
        },
        "id": "38Yknf2LHJyq",
        "outputId": "2996f111-81df-4126-f06f-191cadf457f1"
      },
      "execution_count": null,
      "outputs": [
        {
          "output_type": "stream",
          "name": "stdout",
          "text": [
            "\n",
            "After pop(): removed 'mango'\n",
            "Set now: {'grape', 'orange', 'cherry', 'apple'}\n"
          ]
        }
      ]
    },
    {
      "cell_type": "code",
      "source": [
        "# 6. copy()\n",
        "copy_set = fruits.copy()\n",
        "print(\"\\nCopied Set:\", copy_set)"
      ],
      "metadata": {
        "colab": {
          "base_uri": "https://localhost:8080/"
        },
        "id": "R5edn9QPHMse",
        "outputId": "1f4edc4d-2197-4ad5-844f-4a69ac6a1186"
      },
      "execution_count": null,
      "outputs": [
        {
          "output_type": "stream",
          "name": "stdout",
          "text": [
            "\n",
            "Copied Set: {'grape', 'orange', 'cherry', 'apple'}\n"
          ]
        }
      ]
    },
    {
      "cell_type": "code",
      "source": [
        "# 7. clear()\n",
        "fruits.clear()\n",
        "print(\"\\nAfter clear():\", fruits)"
      ],
      "metadata": {
        "colab": {
          "base_uri": "https://localhost:8080/"
        },
        "id": "srlClDOfHTKN",
        "outputId": "7a1d39e7-5edf-48ef-afca-835ab7b792f0"
      },
      "execution_count": null,
      "outputs": [
        {
          "output_type": "stream",
          "name": "stdout",
          "text": [
            "\n",
            "After clear(): set()\n"
          ]
        }
      ]
    },
    {
      "cell_type": "markdown",
      "source": [
        "# Set Operations"
      ],
      "metadata": {
        "id": "cD65xyJJHaoO"
      }
    },
    {
      "cell_type": "code",
      "source": [
        "# Define two sets\n",
        "a = {1, 2, 3, 4}\n",
        "b = {3, 4, 5, 6}\n",
        "\n",
        "print(\"Set A:\", a)\n",
        "print(\"Set B:\", b)\n",
        "\n",
        "# 1. Union\n",
        "print(\"\\n1. Union (a | b):\", a | b)\n",
        "print(\"   Using union():\", a.union(b))"
      ],
      "metadata": {
        "colab": {
          "base_uri": "https://localhost:8080/"
        },
        "id": "Vrd3ooxyDz_O",
        "outputId": "d6bfeda6-6c32-48cb-d482-52dd9ea20b97"
      },
      "execution_count": null,
      "outputs": [
        {
          "output_type": "stream",
          "name": "stdout",
          "text": [
            "Set A: {1, 2, 3, 4}\n",
            "Set B: {3, 4, 5, 6}\n",
            "\n",
            "1. Union (a | b): {1, 2, 3, 4, 5, 6}\n",
            "   Using union(): {1, 2, 3, 4, 5, 6}\n"
          ]
        }
      ]
    },
    {
      "cell_type": "code",
      "source": [
        "\n",
        "# 2. Intersection\n",
        "print(\"\\n2. Intersection (a & b):\", a & b)\n",
        "print(\"   Using intersection():\", a.intersection(b))"
      ],
      "metadata": {
        "colab": {
          "base_uri": "https://localhost:8080/"
        },
        "id": "ccNWMPzTHhZf",
        "outputId": "0c32f86d-a1e3-4ea4-cb70-e6c1ba4bcd0b"
      },
      "execution_count": null,
      "outputs": [
        {
          "output_type": "stream",
          "name": "stdout",
          "text": [
            "\n",
            "2. Intersection (a & b): {3, 4}\n",
            "   Using intersection(): {3, 4}\n"
          ]
        }
      ]
    },
    {
      "cell_type": "code",
      "source": [
        "# 3. Difference\n",
        "print(\"\\n3. Difference (a - b):\", a - b)\n",
        "print(\"   Using difference():\", a.difference(b))"
      ],
      "metadata": {
        "colab": {
          "base_uri": "https://localhost:8080/"
        },
        "id": "fkHKJVZEHmrB",
        "outputId": "0d02524e-9a8e-476d-f680-66ae2cd479d2"
      },
      "execution_count": null,
      "outputs": [
        {
          "output_type": "stream",
          "name": "stdout",
          "text": [
            "\n",
            "3. Difference (a - b): {1, 2}\n",
            "   Using difference(): {1, 2}\n"
          ]
        }
      ]
    },
    {
      "cell_type": "code",
      "source": [
        "# 4. Symmetric Difference\n",
        "print(\"\\n4. Symmetric Difference (a ^ b):\", a ^ b)\n",
        "print(\"   Using symmetric_difference():\", a.symmetric_difference(b))"
      ],
      "metadata": {
        "colab": {
          "base_uri": "https://localhost:8080/"
        },
        "id": "k_cyV1IVHpyd",
        "outputId": "5c404790-90eb-4c27-fd83-cbf2ebcfad2d"
      },
      "execution_count": null,
      "outputs": [
        {
          "output_type": "stream",
          "name": "stdout",
          "text": [
            "\n",
            "4. Symmetric Difference (a ^ b): {1, 2, 5, 6}\n",
            "   Using symmetric_difference(): {1, 2, 5, 6}\n"
          ]
        }
      ]
    },
    {
      "cell_type": "code",
      "source": [
        "# 5. Subset\n",
        "# Set A: {1, 2, 3, 4}\n",
        "# Set B: {3, 4, 5, 6}\n",
        "print(\"\\n5. Subset (a.issubset(b)):\", a.issubset(b))  # False\n",
        "subset_test = {1, 2}\n",
        "print(\"   Subset test (subset_test.issubset(a)):\", subset_test.issubset(a))  # True"
      ],
      "metadata": {
        "colab": {
          "base_uri": "https://localhost:8080/"
        },
        "id": "Xy_zBWkjHtCd",
        "outputId": "e2f0f1e8-30f7-4cdc-e46e-46dc88c59f2b"
      },
      "execution_count": null,
      "outputs": [
        {
          "output_type": "stream",
          "name": "stdout",
          "text": [
            "\n",
            "5. Subset (a.issubset(b)): False\n",
            "   Subset test (subset_test.issubset(a)): True\n"
          ]
        }
      ]
    },
    {
      "cell_type": "code",
      "source": [
        "# 6. Superset\n",
        "print(\"\\n6. Superset (a.issuperset(b)):\", a.issuperset(b))  # False\n",
        "print(\"   Superset test (a.issuperset(subset_test)):\", a.issuperset(subset_test))  # True"
      ],
      "metadata": {
        "colab": {
          "base_uri": "https://localhost:8080/"
        },
        "id": "UeXFE_V6HveM",
        "outputId": "c28dfadf-7f5d-457b-ed9c-278e6df9c84d"
      },
      "execution_count": null,
      "outputs": [
        {
          "output_type": "stream",
          "name": "stdout",
          "text": [
            "\n",
            "6. Superset (a.issuperset(b)): False\n",
            "   Superset test (a.issuperset(subset_test)): True\n"
          ]
        }
      ]
    },
    {
      "cell_type": "code",
      "source": [
        "# 7. Disjoint\n",
        "print(\"\\n7. Disjoint (a.isdisjoint(b)):\", a.isdisjoint(b))  # False\n",
        "disjoint_test = {7, 8}\n",
        "print(\"   Disjoint test (a.isdisjoint(disjoint_test)):\", a.isdisjoint(disjoint_test))  # Tru"
      ],
      "metadata": {
        "colab": {
          "base_uri": "https://localhost:8080/"
        },
        "id": "HGWNc1lLHyRD",
        "outputId": "92ad9edf-300c-4d8a-81c3-f3fc86a352e2"
      },
      "execution_count": null,
      "outputs": [
        {
          "output_type": "stream",
          "name": "stdout",
          "text": [
            "\n",
            "7. Disjoint (a.isdisjoint(b)): False\n",
            "   Disjoint test (a.isdisjoint(disjoint_test)): True\n"
          ]
        }
      ]
    },
    {
      "cell_type": "markdown",
      "source": [
        "# Example - Real Time"
      ],
      "metadata": {
        "id": "CWMlA0MxH18W"
      }
    },
    {
      "cell_type": "code",
      "source": [
        "### Counting Unique words in text\n",
        "\n",
        "text=\"In this tutorial we are discussing about sets\"\n",
        "words=text.split()\n",
        "print(words)\n",
        "## convert list of words to set to get unique words\n",
        "\n",
        "unique_words=set(words)\n",
        "print(unique_words)\n",
        "print(len(unique_words))"
      ],
      "metadata": {
        "colab": {
          "base_uri": "https://localhost:8080/"
        },
        "id": "TmOP598GEYlq",
        "outputId": "79d310e3-ccae-410a-b808-007157b3b670"
      },
      "execution_count": null,
      "outputs": [
        {
          "output_type": "stream",
          "name": "stdout",
          "text": [
            "['In', 'this', 'tutorial', 'we', 'are', 'discussing', 'about', 'sets']\n",
            "{'discussing', 'are', 'tutorial', 'we', 'sets', 'In', 'this', 'about'}\n",
            "8\n"
          ]
        }
      ]
    },
    {
      "cell_type": "markdown",
      "source": [
        "# What is a frozenset?\n",
        "A frozenset is an immutable version of a set in Python.\n",
        "\n",
        "- Unlike a regular set, a frozenset cannot be modified after it's created.\n",
        "\n",
        "- It does not allow adding, removing, or updating elements.\n",
        "\n",
        "- It supports all read-only set operations like union, intersection, etc.\n",
        "\n",
        "\n",
        "# When to use frozenset?\n",
        "When you need a hashable set (e.g., as a dictionary key or element in another set)\n",
        "\n",
        "- When you want to ensure the set doesn't change\n",
        "\n",
        "- For performance and safety in fixed-set scenarios\n",
        "\n"
      ],
      "metadata": {
        "id": "FkE9N8wjE1JO"
      }
    },
    {
      "cell_type": "code",
      "source": [
        "# Creating frozen set\n",
        "\n",
        "fs = frozenset([1, 2, 3, 2, 1])\n",
        "print(fs)  # Output: frozenset({1, 2, 3})\n"
      ],
      "metadata": {
        "colab": {
          "base_uri": "https://localhost:8080/"
        },
        "id": "LHu2xGvwE8JC",
        "outputId": "798691bb-7dcf-41fc-96e5-5e0d8fab64fd"
      },
      "execution_count": null,
      "outputs": [
        {
          "output_type": "stream",
          "name": "stdout",
          "text": [
            "frozenset({1, 2, 3})\n"
          ]
        }
      ]
    },
    {
      "cell_type": "code",
      "source": [
        "# Invalid Operations\n",
        "\n",
        "fs.add(4)        # ❌ AttributeError\n",
        "fs.remove(2)     # ❌ AttributeError\n",
        "fs.clear()       # ❌ AttributeError\n",
        "fs.update([5])   # ❌ AttributeError\n"
      ],
      "metadata": {
        "id": "He9DtuZtFOZL"
      },
      "execution_count": null,
      "outputs": []
    },
    {
      "cell_type": "code",
      "source": [
        "# Valid Operations\n",
        "\n",
        "a = frozenset([1, 2, 3])\n",
        "b = frozenset([3, 4, 5])\n",
        "\n",
        "# Union\n",
        "print(a | b)  # frozenset({1, 2, 3, 4, 5})\n",
        "\n",
        "# Intersection\n",
        "print(a & b)  # frozenset({3})\n",
        "\n",
        "# Difference\n",
        "print(a - b)  # frozenset({1, 2})\n",
        "\n",
        "# Symmetric Difference\n",
        "print(a ^ b)  # frozenset({1, 2, 4, 5})\n",
        "\n",
        "# Subset/Superset/Disjoint\n",
        "print(a.issubset(b))       # False\n",
        "print(a.issuperset(b))     # False\n",
        "print(a.isdisjoint(b))     # False"
      ],
      "metadata": {
        "id": "4bm7zrJHFT6o"
      },
      "execution_count": null,
      "outputs": []
    },
    {
      "cell_type": "code",
      "source": [
        "# Example: As Dictionary Key\n",
        "\n",
        "my_dict = {frozenset([1, 2]): \"A pair\"}\n",
        "print(my_dict[frozenset([1, 2])])  # Output: A pair"
      ],
      "metadata": {
        "colab": {
          "base_uri": "https://localhost:8080/"
        },
        "id": "H9xqeIVOFajA",
        "outputId": "8653051f-783e-400b-adbd-fe7e62882786"
      },
      "execution_count": null,
      "outputs": [
        {
          "output_type": "stream",
          "name": "stdout",
          "text": [
            "A pair\n"
          ]
        }
      ]
    },
    {
      "cell_type": "code",
      "source": [],
      "metadata": {
        "id": "SlQ46gbyFbmi"
      },
      "execution_count": null,
      "outputs": []
    }
  ]
}