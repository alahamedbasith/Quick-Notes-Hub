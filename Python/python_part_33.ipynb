{
  "cells": [
    {
      "cell_type": "markdown",
      "id": "c22adc16",
      "metadata": {
        "id": "c22adc16"
      },
      "source": [
        "# Complete NumPy in Python\n",
        "**What is NumPy?**  \n",
        "NumPy (Numerical Python) is the core library for numerical computing in Python. It provides:\n",
        "- A powerful N-dimensional array object: `ndarray`\n",
        "- Vectorized operations and broadcasting for speed\n",
        "- A large library of mathematical, statistical, and linear algebra functions\n",
        "\n",
        "**Why NumPy over Python lists?**\n",
        "- Contiguous memory & fixed dtype → faster computation\n",
        "- Elementwise operations without Python loops\n",
        "- Interoperability with SciPy, pandas, scikit-learn, and many more\n",
        "\n",
        "\n",
        "This all-in-one notebook covers NumPy from zero to advanced with concise explanations and runnable examples."
      ]
    },
    {
      "cell_type": "code",
      "source": [
        "!pip install numpy"
      ],
      "metadata": {
        "colab": {
          "base_uri": "https://localhost:8080/"
        },
        "id": "5_4A-T0HvU4C",
        "outputId": "766caa7c-7bfb-40e7-e52c-c8cb90c79422"
      },
      "id": "5_4A-T0HvU4C",
      "execution_count": null,
      "outputs": [
        {
          "output_type": "stream",
          "name": "stdout",
          "text": [
            "Requirement already satisfied: numpy in /usr/local/lib/python3.12/dist-packages (2.0.2)\n"
          ]
        }
      ]
    },
    {
      "cell_type": "code",
      "source": [
        "import numpy as np\n",
        "\n",
        "arr = np.array([1.23456789, 0.0000001234])\n",
        "\n",
        "print(\"Default:\", arr)\n",
        "np.set_printoptions(precision=3, suppress=True)\n",
        "print(\"With print options:\", arr)"
      ],
      "metadata": {
        "colab": {
          "base_uri": "https://localhost:8080/"
        },
        "id": "UjbnBwxUuxvE",
        "outputId": "f272198f-d6dd-4597-e829-7fefd4dbd58d"
      },
      "id": "UjbnBwxUuxvE",
      "execution_count": null,
      "outputs": [
        {
          "output_type": "stream",
          "name": "stdout",
          "text": [
            "Default: [1.23456789e+00 1.23400000e-07]\n",
            "With print options: [1.235 0.   ]\n"
          ]
        }
      ]
    },
    {
      "cell_type": "code",
      "execution_count": null,
      "id": "ea91b060",
      "metadata": {
        "colab": {
          "base_uri": "https://localhost:8080/"
        },
        "id": "ea91b060",
        "outputId": "a2201b50-f828-42e9-f5e7-450fa86fb4c5"
      },
      "outputs": [
        {
          "output_type": "stream",
          "name": "stdout",
          "text": [
            "2.0.2\n"
          ]
        }
      ],
      "source": [
        "print(np.__version__)"
      ]
    },
    {
      "cell_type": "markdown",
      "id": "a7d38369",
      "metadata": {
        "id": "a7d38369"
      },
      "source": [
        "## 1. NumPy Arrays: Creation and Attributes"
      ]
    },
    {
      "cell_type": "code",
      "source": [],
      "metadata": {
        "id": "HjBcxd96vusF"
      },
      "id": "HjBcxd96vusF",
      "execution_count": null,
      "outputs": []
    },
    {
      "cell_type": "code",
      "execution_count": null,
      "id": "c6f98a8b",
      "metadata": {
        "colab": {
          "base_uri": "https://localhost:8080/"
        },
        "id": "c6f98a8b",
        "outputId": "46a243f9-f190-4321-ed59-d4d3404228df"
      },
      "outputs": [
        {
          "output_type": "stream",
          "name": "stdout",
          "text": [
            "array:\n",
            " [1 2 3 4 5]\n",
            "shape: (5,) ndim: 1 size: 5 dtype: int64 \n",
            "\n",
            "array:\n",
            " [[1 2 3]\n",
            " [4 5 6]]\n",
            "shape: (2, 3) ndim: 2 size: 6 dtype: int64 \n",
            "\n",
            "array:\n",
            " [[[1]\n",
            "  [2]\n",
            "  [3]]\n",
            "\n",
            " [[4]\n",
            "  [5]\n",
            "  [6]]]\n",
            "shape: (2, 3, 1) ndim: 3 size: 6 dtype: int64 \n",
            "\n"
          ]
        }
      ],
      "source": [
        "# Creating arrays\n",
        "a1 = np.array([1, 2, 3, 4, 5])              # 1D\n",
        "a2 = np.array([[1, 2, 3], [4, 5, 6]])       # 2D\n",
        "a3 = np.array([[[1],[2],[3]], [[4],[5],[6]]])  # 3D (2x3x1)\n",
        "\n",
        "for a in (a1, a2, a3):\n",
        "    print('array:\\n', a)\n",
        "    print('shape:', a.shape, 'ndim:', a.ndim, 'size:', a.size, 'dtype:', a.dtype, '\\n')\n"
      ]
    },
    {
      "cell_type": "code",
      "execution_count": null,
      "id": "ccf3fc2b",
      "metadata": {
        "colab": {
          "base_uri": "https://localhost:8080/"
        },
        "id": "ccf3fc2b",
        "outputId": "0cc1164f-9098-4f66-892a-f33d6545de1e"
      },
      "outputs": [
        {
          "output_type": "stream",
          "name": "stdout",
          "text": [
            "zeros:\n",
            " [[0. 0. 0.]\n",
            " [0. 0. 0.]] \n",
            "ones:\n",
            " [[1 1]\n",
            " [1 1]\n",
            " [1 1]] \n",
            "empty:\n",
            " [[0.25 0.5 ]\n",
            " [0.75 1.  ]] \n",
            "arange: [0 2 4 6 8] \n",
            "linspace: [0.   0.75 1.5  2.25 3.  ] \n",
            "eye:\n",
            " [[1. 0. 0.]\n",
            " [0. 1. 0.]\n",
            " [0. 0. 1.]]\n"
          ]
        }
      ],
      "source": [
        "# Common creation routines\n",
        "z = np.zeros((2,3))\n",
        "o = np.ones((3,2), dtype=np.int32)\n",
        "e = np.empty((2,2))\n",
        "rng = np.arange(0, 10, 2)\n",
        "lin = np.linspace(0, 3, 5)\n",
        "eye = np.eye(3)\n",
        "\n",
        "print('zeros:\\n', z, '\\nones:\\n', o, '\\nempty:\\n', e, '\\narange:', rng, '\\nlinspace:', lin, '\\neye:\\n', eye)\n"
      ]
    },
    {
      "cell_type": "markdown",
      "id": "5072d483",
      "metadata": {
        "id": "5072d483"
      },
      "source": [
        "## 2. Random Numbers"
      ]
    },
    {
      "cell_type": "code",
      "execution_count": null,
      "id": "eec8eec4",
      "metadata": {
        "id": "eec8eec4",
        "colab": {
          "base_uri": "https://localhost:8080/"
        },
        "outputId": "c63d9eea-a02f-41eb-f6ee-6753a15b86b5"
      },
      "outputs": [
        {
          "output_type": "stream",
          "name": "stdout",
          "text": [
            "uniform:\n",
            " [[0.784 0.635 0.249]\n",
            " [0.758 0.313 0.937]] \n",
            "normal:\n",
            " [[-0.073 -0.566 -0.093]\n",
            " [ 0.857 -0.862  0.016]] \n",
            "randint:\n",
            " [[2 2 6]\n",
            " [7 8 8]] \n",
            "choice: [30 10 10 30 40 40 10 10 10 10]\n"
          ]
        }
      ],
      "source": [
        "# np.random.seed(46)  # reproducibility\n",
        "r_uniform = np.random.rand(2,3)    # uniform [0,1)\n",
        "r_normal = np.random.randn(2,3)    # standard normal\n",
        "r_int = np.random.randint(0, 10, size=(2,3))\n",
        "choice = np.random.choice([10,20,30,40], size=10, replace=True)\n",
        "\n",
        "print('uniform:\\n', r_uniform, '\\nnormal:\\n', r_normal, '\\nrandint:\\n', r_int, '\\nchoice:', choice)\n"
      ]
    },
    {
      "cell_type": "markdown",
      "id": "604a9d7f",
      "metadata": {
        "id": "604a9d7f"
      },
      "source": [
        "## 3. Indexing and Slicing"
      ]
    },
    {
      "cell_type": "code",
      "execution_count": null,
      "id": "ea4a77f1",
      "metadata": {
        "id": "ea4a77f1",
        "colab": {
          "base_uri": "https://localhost:8080/"
        },
        "outputId": "92e60622-095f-4638-c749-1767b46e745f"
      },
      "outputs": [
        {
          "output_type": "stream",
          "name": "stdout",
          "text": [
            "arr:\n",
            " [[ 1  2  3  4]\n",
            " [ 5  6  7  8]\n",
            " [ 9 10 11 12]]\n",
            "Basic indexing arr[1,2]: 7\n",
            "Row 0: [1 2 3 4]\n",
            "Column 1: [ 2  6 10]\n",
            "Slicing rows 0..1, cols 1..3:\n",
            " [[2 3 4]\n",
            " [6 7 8]]\n",
            "Every 2nd element in column 0: [1 9]\n"
          ]
        }
      ],
      "source": [
        "arr = np.arange(1, 13).reshape(3,4)\n",
        "print('arr:\\n', arr)\n",
        "\n",
        "print('Basic indexing arr[1,2]:', arr[1,2])\n",
        "print('Row 0:', arr[0])\n",
        "print('Column 1:', arr[:,1])\n",
        "print('Slicing rows 0..1, cols 1..3:\\n', arr[0:2, 1:4])\n",
        "print('Every 2nd element in column 0:', arr[:,0][::2])"
      ]
    },
    {
      "cell_type": "markdown",
      "id": "3bf66994",
      "metadata": {
        "id": "3bf66994"
      },
      "source": [
        "## 4. Elementwise Operations, UFuncs, Aggregations\n",
        "\n",
        "\n"
      ]
    },
    {
      "cell_type": "code",
      "execution_count": null,
      "id": "f4b2f7ec",
      "metadata": {
        "id": "f4b2f7ec",
        "colab": {
          "base_uri": "https://localhost:8080/"
        },
        "outputId": "206b3884-3d9c-4c03-8d96-7e8d3dab1557"
      },
      "outputs": [
        {
          "output_type": "stream",
          "name": "stdout",
          "text": [
            "Add: [11 22 33 44]\n",
            "Mul: [ 10  40  90 160]\n",
            "Div: [10. 10. 10. 10.]\n",
            "Pow: [ 1  4  9 16]\n",
            "sin: [ 0.841  0.909  0.141 -0.757]\n",
            "exp: [ 2.718  7.389 20.086 54.598]\n",
            "log: [0.    0.693 1.099 1.386]\n",
            "m:\n",
            " [[ 1  2  3  4]\n",
            " [ 5  6  7  8]\n",
            " [ 9 10 11 12]]\n",
            "sum: 78 axis0: [15 18 21 24] axis1: [10 26 42]\n",
            "mean: 6.5 std: 3.452052529534663 var: 11.916666666666666 min: 1 max: 12\n"
          ]
        }
      ],
      "source": [
        "x = np.array([1, 2, 3, 4])\n",
        "y = np.array([10, 20, 30, 40])\n",
        "\n",
        "print('Add:', x + y)\n",
        "print('Mul:', x * y)\n",
        "print('Div:', y / x)\n",
        "print('Pow:', x ** 2)\n",
        "\n",
        "# ufuncs\n",
        "print('sin:', np.sin(x))\n",
        "print('exp:', np.exp(x))\n",
        "print('log:', np.log(x))\n",
        "\n",
        "# Aggregations\n",
        "m = np.arange(1, 13).reshape(3,4)\n",
        "print('m:\\n', m)\n",
        "print('sum:', m.sum(), 'axis0:', m.sum(axis=0), 'axis1:', m.sum(axis=1))\n",
        "print('mean:', m.mean(), 'std:', m.std(), 'var:', m.var(), 'min:', m.min(), 'max:', m.max())\n"
      ]
    },
    {
      "cell_type": "markdown",
      "id": "81f50ec0",
      "metadata": {
        "id": "81f50ec0"
      },
      "source": [
        "## 5. Broadcasting"
      ]
    },
    {
      "cell_type": "code",
      "execution_count": null,
      "id": "d7d7bc54",
      "metadata": {
        "id": "d7d7bc54",
        "colab": {
          "base_uri": "https://localhost:8080/"
        },
        "outputId": "a18066ac-e50f-4942-b3f0-9531c3901287"
      },
      "outputs": [
        {
          "output_type": "stream",
          "name": "stdout",
          "text": [
            "[[1. 1. 1. 1.]\n",
            " [1. 1. 1. 1.]\n",
            " [1. 1. 1. 1.]]\n",
            "[1 2 3 4]\n",
            "A + b:\n",
            " [[2. 3. 4. 5.]\n",
            " [2. 3. 4. 5.]\n",
            " [2. 3. 4. 5.]]\n",
            "[[1]\n",
            " [2]\n",
            " [3]]\n",
            "A * c:\n",
            " [[1. 1. 1. 1.]\n",
            " [2. 2. 2. 2.]\n",
            " [3. 3. 3. 3.]]\n"
          ]
        }
      ],
      "source": [
        "A = np.ones((3,4))\n",
        "b = np.array([1, 2, 3, 4])\n",
        "print(A)\n",
        "print(b)\n",
        "print('A + b:\\n', A + b)\n",
        "\n",
        "c = np.array([[1],[2],[3]])\n",
        "print(c)\n",
        "print('A * c:\\n', A * c)\n"
      ]
    },
    {
      "cell_type": "markdown",
      "id": "3d313bbd",
      "metadata": {
        "id": "3d313bbd"
      },
      "source": [
        "## 6. Reshaping and Resizing"
      ]
    },
    {
      "cell_type": "code",
      "execution_count": null,
      "id": "ac4d2e0b",
      "metadata": {
        "id": "ac4d2e0b",
        "colab": {
          "base_uri": "https://localhost:8080/"
        },
        "outputId": "6d457a78-4d34-4e6f-e052-d606d96082d9"
      },
      "outputs": [
        {
          "output_type": "stream",
          "name": "stdout",
          "text": [
            "r: [ 0  1  2  3  4  5  6  7  8  9 10 11]\n",
            "reshape (3,4):\n",
            " [[ 0  1  2  3]\n",
            " [ 4  5  6  7]\n",
            " [ 8  9 10 11]]\n",
            "np.resize to (3,6):\n",
            " [[ 0  1  2  3  4  5  6  7  8  9]\n",
            " [10 11  0  1  2  3  4  5  6  7]\n",
            " [ 8  9 10 11  0  1  2  3  4  5]]\n"
          ]
        }
      ],
      "source": [
        "r = np.arange(12)\n",
        "print('r:', r)\n",
        "print('reshape (3,4):\\n', r.reshape(3,4))\n",
        "\n",
        "sized = np.resize(r, (3,10))  # repeats data if needed\n",
        "print('np.resize to (3,6):\\n', sized)\n"
      ]
    },
    {
      "cell_type": "markdown",
      "id": "bb8a116c",
      "metadata": {
        "id": "bb8a116c"
      },
      "source": [
        "## 7. Stacking and Splitting"
      ]
    },
    {
      "cell_type": "code",
      "execution_count": null,
      "id": "38657c8e",
      "metadata": {
        "id": "38657c8e",
        "colab": {
          "base_uri": "https://localhost:8080/"
        },
        "outputId": "30ecd3cd-cdb9-4f5d-963f-4358007a1233"
      },
      "outputs": [
        {
          "output_type": "stream",
          "name": "stdout",
          "text": [
            "a:\n",
            " [[0 1 2]\n",
            " [3 4 5]] \n",
            "b:\n",
            " [[100 101 102]\n",
            " [103 104 105]]\n",
            "vstack:\n",
            " [[  0   1   2]\n",
            " [  3   4   5]\n",
            " [100 101 102]\n",
            " [103 104 105]]\n",
            "hstack:\n",
            " [[  0   1   2 100 101 102]\n",
            " [  3   4   5 103 104 105]]\n",
            "c:\n",
            " [[ 0  1  2  3]\n",
            " [ 4  5  6  7]\n",
            " [ 8  9 10 11]]\n",
            "split into 2 (horizontally):\n",
            "[array([[0, 1],\n",
            "       [4, 5],\n",
            "       [8, 9]]), array([[ 2,  3],\n",
            "       [ 6,  7],\n",
            "       [10, 11]])]\n",
            "split into 3 (vertically):\n",
            "[array([[0, 1, 2, 3]]), array([[4, 5, 6, 7]]), array([[ 8,  9, 10, 11]])]\n"
          ]
        }
      ],
      "source": [
        "a = np.arange(6).reshape(2,3)\n",
        "b = (np.arange(6)+100).reshape(2,3)\n",
        "\n",
        "print('a:\\n', a, '\\nb:\\n', b)\n",
        "print('vstack:\\n', np.vstack([a,b]))\n",
        "print('hstack:\\n', np.hstack([a,b]))\n",
        "\n",
        "c = np.arange(12).reshape(3,4)\n",
        "print('c:\\n', c)\n",
        "print('split into 2 (horizontally):')\n",
        "print(np.hsplit(c, 2))\n",
        "print('split into 3 (vertically):')\n",
        "print(np.vsplit(c, 3))\n"
      ]
    },
    {
      "cell_type": "markdown",
      "id": "e50a358c",
      "metadata": {
        "id": "e50a358c"
      },
      "source": [
        "## 8. Copy vs View (Memory Semantics)"
      ]
    },
    {
      "cell_type": "code",
      "execution_count": null,
      "id": "30d1c4d8",
      "metadata": {
        "id": "30d1c4d8",
        "colab": {
          "base_uri": "https://localhost:8080/"
        },
        "outputId": "687ce3cf-dff2-4178-ba50-71c81cb42b51"
      },
      "outputs": [
        {
          "output_type": "stream",
          "name": "stdout",
          "text": [
            "orig: [99  1  2  3  4  5]\n",
            "view reflects change: [99  1  2  3  4  5]\n",
            "copy independent: [0 1 2 3 4 5]\n"
          ]
        }
      ],
      "source": [
        "orig = np.arange(6)\n",
        "view = orig.view()\n",
        "copy = orig.copy()\n",
        "orig[0] = 99\n",
        "print('orig:', orig)\n",
        "print('view reflects change:', view)\n",
        "print('copy independent:', copy)\n"
      ]
    },
    {
      "cell_type": "markdown",
      "id": "37fccfa5",
      "metadata": {
        "id": "37fccfa5"
      },
      "source": [
        "## 9. Mathematical Functions"
      ]
    },
    {
      "cell_type": "code",
      "execution_count": null,
      "id": "989f80fe",
      "metadata": {
        "id": "989f80fe",
        "colab": {
          "base_uri": "https://localhost:8080/"
        },
        "outputId": "330e8593-1094-44cc-db23-9eb0a9dec201"
      },
      "outputs": [
        {
          "output_type": "stream",
          "name": "stdout",
          "text": [
            "angles: [0.    0.785 1.571 2.356 3.142]\n",
            "sin: [0.    0.707 1.    0.707 0.   ]\n",
            "cos: [ 1.     0.707  0.    -0.707 -1.   ]\n",
            "tan: [ 0.000e+00  1.000e+00  1.633e+16 -1.000e+00 -1.225e-16]\n",
            "exp: [    1.105     2.718 22026.466]\n",
            "log: [-2.303  0.     2.303]\n",
            "around: [ 0.1  1.  10. ] floor: [ 0.  1. 10.] ceil: [ 1.  1. 10.]\n"
          ]
        }
      ],
      "source": [
        "angles = np.linspace(0, np.pi, 5)\n",
        "print('angles:',angles)\n",
        "print('sin:', np.sin(angles))\n",
        "print('cos:', np.cos(angles))\n",
        "print('tan:', np.tan(angles))\n",
        "\n",
        "vals = np.array([0.1, 1, 10])\n",
        "print('exp:', np.exp(vals))\n",
        "print('log:', np.log(vals))\n",
        "print('around:', np.around(vals, 1), 'floor:', np.floor(vals), 'ceil:', np.ceil(vals))\n"
      ]
    },
    {
      "cell_type": "markdown",
      "id": "58f1ae5e",
      "metadata": {
        "id": "58f1ae5e"
      },
      "source": [
        "## 10. Linear Algebra with NumPy"
      ]
    },
    {
      "cell_type": "code",
      "execution_count": null,
      "id": "682cee81",
      "metadata": {
        "id": "682cee81",
        "colab": {
          "base_uri": "https://localhost:8080/"
        },
        "outputId": "cf82ce3f-f597-4c0e-963b-9e8b1ce22602"
      },
      "outputs": [
        {
          "output_type": "stream",
          "name": "stdout",
          "text": [
            "Matrix M:\n",
            " [[2. 1.]\n",
            " [1. 3.]]\n",
            "Vector v: [1. 2.]\n",
            "Dot (Mv): [4. 7.]\n",
            "Transpose:\n",
            " [[2. 1.]\n",
            " [1. 3.]]\n",
            "Determinant: 5.000000000000001\n",
            "Inverse:\n",
            " [[ 0.6 -0.2]\n",
            " [-0.2  0.4]]\n",
            "Eigenvalues: [1.382 3.618]\n",
            "Eigenvectors:\n",
            " [[-0.851 -0.526]\n",
            " [ 0.526 -0.851]]\n"
          ]
        }
      ],
      "source": [
        "M = np.array([[2, 1], [1, 3]], dtype=float)\n",
        "v = np.array([1, 2], dtype=float)\n",
        "\n",
        "print('Matrix M:\\n', M)\n",
        "print('Vector v:', v)\n",
        "\n",
        "print('Dot (Mv):', M @ v)\n",
        "print('Transpose:\\n', M.T)\n",
        "print('Determinant:', np.linalg.det(M))\n",
        "print('Inverse:\\n', np.linalg.inv(M))\n",
        "vals, vecs = np.linalg.eig(M)\n",
        "print('Eigenvalues:', vals)\n",
        "print('Eigenvectors:\\n', vecs)\n"
      ]
    },
    {
      "cell_type": "markdown",
      "id": "64f19c6b",
      "metadata": {
        "id": "64f19c6b"
      },
      "source": [
        "## 11. Statistical Operations"
      ]
    },
    {
      "cell_type": "code",
      "execution_count": null,
      "id": "303997de",
      "metadata": {
        "id": "303997de",
        "colab": {
          "base_uri": "https://localhost:8080/"
        },
        "outputId": "d317404e-c1da-4398-9744-0eb29ba70c73"
      },
      "outputs": [
        {
          "output_type": "stream",
          "name": "stdout",
          "text": [
            "mean: 4.0 median: 3.0 var: 7.428571428571429 std: 2.7255405754769875\n",
            "25th, 50th, 90th percentiles: [2.  3.  7.8]\n"
          ]
        }
      ],
      "source": [
        "data = np.array([1, 2, 2, 3, 4, 7, 9])\n",
        "print('mean:', data.mean(), 'median:', np.median(data), 'var:', data.var(), 'std:', data.std())\n",
        "print('25th, 50th, 90th percentiles:', np.percentile(data, [25,50,90]))"
      ]
    },
    {
      "cell_type": "markdown",
      "id": "fc8349a3",
      "metadata": {
        "id": "fc8349a3"
      },
      "source": [
        "## 12. Sorting & Searching"
      ]
    },
    {
      "cell_type": "code",
      "execution_count": null,
      "id": "3e37a014",
      "metadata": {
        "id": "3e37a014",
        "colab": {
          "base_uri": "https://localhost:8080/"
        },
        "outputId": "e4810e46-b1e6-40c8-adb6-b45fa5989d6e"
      },
      "outputs": [
        {
          "output_type": "stream",
          "name": "stdout",
          "text": [
            "sorted: [2 2 5 7 9]\n",
            "argsort (indices): [1 3 4 0 2]\n",
            "unique values: [2 5 7 9]\n",
            "where b>25: (array([2, 3, 4]),)\n",
            "nonzero: (array([1, 3, 4]),)\n"
          ]
        }
      ],
      "source": [
        "a = np.array([7, 2, 9, 2, 5])\n",
        "print('sorted:', np.sort(a))\n",
        "print('argsort (indices):', np.argsort(a))\n",
        "print('unique values:', np.unique(a))\n",
        "\n",
        "b = np.array([10, 20, 30, 40, 50])\n",
        "print('where b>25:', np.where(b>25))\n",
        "nz = np.nonzero([0,1,0,2,3])\n",
        "print('nonzero:', nz)\n"
      ]
    },
    {
      "cell_type": "markdown",
      "id": "00a1ac75",
      "metadata": {
        "id": "00a1ac75"
      },
      "source": [
        "## 13. Dtypes, Type Casting, and NaNs"
      ]
    },
    {
      "cell_type": "code",
      "execution_count": null,
      "id": "4636750d",
      "metadata": {
        "id": "4636750d",
        "colab": {
          "base_uri": "https://localhost:8080/"
        },
        "outputId": "fe2a8a74-14a8-4908-9f17-dcb0722e118f"
      },
      "outputs": [
        {
          "output_type": "stream",
          "name": "stdout",
          "text": [
            "[1 2 3] [1. 2. 3.]\n",
            "x dtype: int32 y dtype: float64\n",
            "isnan: [False  True False  True False]\n",
            "nanmean (ignores NaN): 2.0\n"
          ]
        }
      ],
      "source": [
        "x = np.array([1, 2, 3], dtype=np.int32)\n",
        "y = x.astype(np.float64)\n",
        "print(x,y)\n",
        "print('x dtype:', x.dtype, 'y dtype:', y.dtype)\n",
        "\n",
        "arr = np.array([1.0, np.nan, 2.0, np.nan, 3.0])\n",
        "print('isnan:', np.isnan(arr))\n",
        "print('nanmean (ignores NaN):', np.nanmean(arr))\n"
      ]
    },
    {
      "cell_type": "markdown",
      "id": "426bdcde",
      "metadata": {
        "id": "426bdcde"
      },
      "source": [
        "## 14. File Input/Output"
      ]
    },
    {
      "cell_type": "code",
      "execution_count": null,
      "id": "5906d785",
      "metadata": {
        "id": "5906d785",
        "colab": {
          "base_uri": "https://localhost:8080/"
        },
        "outputId": "62ca6a75-5748-4721-b549-8d91a098d4da"
      },
      "outputs": [
        {
          "output_type": "stream",
          "name": "stdout",
          "text": [
            "Saved and reloaded .npy\n",
            "[[0 1 2]\n",
            " [3 4 5]]\n"
          ]
        }
      ],
      "source": [
        "a = np.arange(6).reshape(2,3)\n",
        "np.save('/content/drive/MyDrive/example.npy', a)\n",
        "loaded = np.load('/content/drive/MyDrive/example.npy')\n",
        "print('Saved and reloaded .npy')\n",
        "print(loaded)\n"
      ]
    },
    {
      "cell_type": "markdown",
      "id": "bb94bb65",
      "metadata": {
        "id": "bb94bb65"
      },
      "source": [
        "## 15. Practical Example: Treat a 2D Array Like an Image"
      ]
    },
    {
      "cell_type": "code",
      "execution_count": null,
      "id": "7cdb8e3a",
      "metadata": {
        "id": "7cdb8e3a",
        "colab": {
          "base_uri": "https://localhost:8080/"
        },
        "outputId": "e7444d00-1780-425b-c923-66c7caa84757"
      },
      "outputs": [
        {
          "output_type": "stream",
          "name": "stdout",
          "text": [
            "img shape: (16, 16) min: 0 max: 255 mean: 127.5\n",
            "Thresholded unique values: [  0 255]\n"
          ]
        }
      ],
      "source": [
        "# Create a simple gradient 'image' and compute basic stats\n",
        "img = np.linspace(0, 255, 256).astype(np.uint8).reshape(16,16)\n",
        "print('img shape:', img.shape, 'min:', img.min(), 'max:', img.max(), 'mean:', img.mean())\n",
        "\n",
        "# Thresholding via broadcasting & boolean mask\n",
        "mask = img > 128\n",
        "img_thresh = np.where(mask, 255, 0).astype(np.uint8)\n",
        "print('Thresholded unique values:', np.unique(img_thresh))\n"
      ]
    },
    {
      "cell_type": "code",
      "source": [
        "import matplotlib.pyplot as plt\n",
        "\n",
        "# Show images side by side\n",
        "plt.figure(figsize=(8,4))\n",
        "\n",
        "plt.subplot(1,2,1)\n",
        "plt.imshow(img, cmap='gray', vmin=0, vmax=255)\n",
        "plt.title(\"Original Gradient\")\n",
        "plt.axis(\"off\")\n",
        "\n",
        "plt.subplot(1,2,2)\n",
        "plt.imshow(img_thresh, cmap='gray', vmin=0, vmax=255)\n",
        "plt.title(\"Thresholded Image\")\n",
        "plt.axis(\"off\")\n",
        "\n",
        "plt.tight_layout()\n",
        "plt.show()\n"
      ],
      "metadata": {
        "colab": {
          "base_uri": "https://localhost:8080/",
          "height": 420
        },
        "id": "Rt6Xaff_Al7L",
        "outputId": "7bcf3e96-68eb-4c8f-e9fb-8badaf6cbe3f"
      },
      "id": "Rt6Xaff_Al7L",
      "execution_count": null,
      "outputs": [
        {
          "output_type": "display_data",
          "data": {
            "text/plain": [
              "<Figure size 800x400 with 2 Axes>"
            ],
            "image/png": "[encoded data removed]"
          },
          "metadata": {}
        }
      ]
    },
    {
      "cell_type": "markdown",
      "id": "4b77ca7f",
      "metadata": {
        "id": "4b77ca7f"
      },
      "source": [
        "## Tips & Best Practices"
      ]
    },
    {
      "cell_type": "markdown",
      "id": "91b2c001",
      "metadata": {
        "id": "91b2c001"
      },
      "source": [
        "\n",
        "- Prefer vectorized operations over Python loops for speed.\n",
        "- Use `np.random.seed(...)` to make experiments reproducible.\n",
        "- Watch out for **broadcasting shapes**; use `.shape` while debugging.\n",
        "- Choose appropriate `dtype` to save memory (e.g., `float32` for large data).\n",
        "- Use **views** thoughtfully; if you need isolation, call `.copy()`.\n",
        "- Save large arrays as `.npy` or `.npz` for speed and exactness.\n"
      ]
    },
    {
      "cell_type": "code",
      "source": [],
      "metadata": {
        "id": "9CC9yPzqrBa-"
      },
      "id": "9CC9yPzqrBa-",
      "execution_count": null,
      "outputs": []
    }
  ],
  "metadata": {
    "kernelspec": {
      "display_name": "Python 3",
      "name": "python3"
    },
    "colab": {
      "provenance": []
    }
  },
  "nbformat": 4,
  "nbformat_minor": 5
}