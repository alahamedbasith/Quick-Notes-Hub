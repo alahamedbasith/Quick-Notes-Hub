{
  "nbformat": 4,
  "nbformat_minor": 0,
  "metadata": {
    "colab": {
      "provenance": []
    },
    "kernelspec": {
      "name": "python3",
      "display_name": "Python 3"
    },
    "language_info": {
      "name": "python"
    }
  },
  "cells": [
    {
      "cell_type": "code",
      "source": [
        "for number in range(1,10,2):\n",
        "  print(number)"
      ],
      "metadata": {
        "id": "H0eEWz2-rAGN",
        "colab": {
          "base_uri": "https://localhost:8080/"
        },
        "outputId": "d411626a-e92f-4933-8480-b8108c04cd84"
      },
      "execution_count": null,
      "outputs": [
        {
          "output_type": "stream",
          "name": "stdout",
          "text": [
            "1\n",
            "3\n",
            "5\n",
            "7\n",
            "9\n"
          ]
        }
      ]
    },
    {
      "cell_type": "markdown",
      "source": [
        "# 🔁 Control Flow Loops in Python\n",
        "\n",
        "Python provides two main types of loops to control the flow of code: `for` and `while`.\n",
        "\n",
        "---\n",
        "\n",
        "## 🌀 `for` Loop\n",
        "\n",
        "Used to iterate over a sequence (like a list, string, tuple, or `range`).\n",
        "\n",
        "### 🔹 Syntax\n",
        "```python\n",
        "for variable in sequence:\n",
        "    # code block\n",
        "```\n",
        "\n",
        "### 🔹 Example with a list\n",
        "```python\n",
        "fruits = [\"apple\", \"banana\", \"cherry\"]\n",
        "for fruit in fruits:\n",
        "    print(fruit)\n",
        "```\n",
        "\n",
        "### 🔹 Example with `range()`\n",
        "`range()` generates a sequence of numbers and is often used for looping a specific number of times.\n",
        "\n",
        "```python\n",
        "for i in range(5):\n",
        "    print(i)\n",
        "```\n",
        "\n",
        "**Output:**\n",
        "```\n",
        "0\n",
        "1\n",
        "2\n",
        "3\n",
        "4\n",
        "```\n",
        "\n",
        "### 🔹 Example with start, stop, step\n",
        "```python\n",
        "for i in range(1, 10, 2):\n",
        "    print(i)\n",
        "```\n",
        "\n",
        "**Output:**\n",
        "```\n",
        "1\n",
        "3\n",
        "5\n",
        "7\n",
        "9\n",
        "```\n",
        "\n",
        "---\n"
      ],
      "metadata": {
        "id": "_c7nKtpImKp-"
      }
    },
    {
      "cell_type": "code",
      "source": [
        "fruits = [\"apple\", \"banana\", \"cherry\"]\n",
        "for fruit in fruits:\n",
        "    print(fruit)"
      ],
      "metadata": {
        "colab": {
          "base_uri": "https://localhost:8080/"
        },
        "id": "FL6u4MHdmsgH",
        "outputId": "35348fce-8900-4a91-e0b1-535df8903c3e"
      },
      "execution_count": null,
      "outputs": [
        {
          "output_type": "stream",
          "name": "stdout",
          "text": [
            "apple\n",
            "banana\n",
            "cherry\n"
          ]
        }
      ]
    },
    {
      "cell_type": "code",
      "source": [
        "fruit = \"Apple\"\n",
        "\n",
        "for ch in fruit:\n",
        "  print(ch)"
      ],
      "metadata": {
        "colab": {
          "base_uri": "https://localhost:8080/"
        },
        "id": "2Ld9l3qimsjd",
        "outputId": "2473c8d4-0b46-4f3a-df20-d8dababa5051"
      },
      "execution_count": null,
      "outputs": [
        {
          "output_type": "stream",
          "name": "stdout",
          "text": [
            "A\n",
            "p\n",
            "p\n",
            "l\n",
            "e\n"
          ]
        }
      ]
    },
    {
      "cell_type": "code",
      "source": [
        "fruit = \"Apple\"\n",
        "\n",
        "for ch in range(len(fruit)): # range(5) -- 0,1,2,3,4\n",
        "  print(fruit[ch])\n",
        "\n"
      ],
      "metadata": {
        "colab": {
          "base_uri": "https://localhost:8080/"
        },
        "id": "1f50DJXcx3TU",
        "outputId": "842921c5-a6d5-4197-f606-c8ba3d383187"
      },
      "execution_count": null,
      "outputs": [
        {
          "output_type": "stream",
          "name": "stdout",
          "text": [
            "A\n",
            "p\n",
            "p\n",
            "l\n",
            "e\n"
          ]
        }
      ]
    },
    {
      "cell_type": "code",
      "source": [],
      "metadata": {
        "id": "F2Wy0OS4zSIX"
      },
      "execution_count": null,
      "outputs": []
    },
    {
      "cell_type": "code",
      "source": [
        "# fruit = Apple A - , 0 p - 1 , p -2, L -3 , E - 4\n",
        "\n",
        "fruit = \"Apple\"\n",
        "print(fruit[4])"
      ],
      "metadata": {
        "colab": {
          "base_uri": "https://localhost:8080/"
        },
        "id": "d8nvEDSCmsog",
        "outputId": "6b1b9791-5bb7-421a-e229-f9470974da46"
      },
      "execution_count": null,
      "outputs": [
        {
          "output_type": "stream",
          "name": "stdout",
          "text": [
            "e\n"
          ]
        }
      ]
    },
    {
      "cell_type": "markdown",
      "source": [
        "\n",
        "## 🔁 `while` Loop\n",
        "\n",
        "Used to execute a block of code repeatedly as long as a condition is true.\n",
        "\n",
        "### 🔹 Syntax\n",
        "```python\n",
        "while condition:\n",
        "    # code block\n",
        "```\n",
        "\n",
        "### 🔹 Example\n",
        "```python\n",
        "i = 1\n",
        "while i <= 5:\n",
        "    print(i)\n",
        "    i += 1\n",
        "```\n",
        "\n",
        "---\n"
      ],
      "metadata": {
        "id": "YzPXIw7Pmsza"
      }
    },
    {
      "cell_type": "code",
      "source": [
        "i = 1\n",
        "while i <= 5: # 3 <= 5\n",
        "    print(i)\n",
        "    i += 1 # i = i+1"
      ],
      "metadata": {
        "colab": {
          "base_uri": "https://localhost:8080/"
        },
        "id": "ID6dDu0km0uC",
        "outputId": "5fd4780f-4021-4bd9-d78b-057a4d80a33a"
      },
      "execution_count": null,
      "outputs": [
        {
          "output_type": "stream",
          "name": "stdout",
          "text": [
            "1\n",
            "2\n",
            "3\n",
            "4\n",
            "5\n"
          ]
        }
      ]
    },
    {
      "cell_type": "code",
      "source": [
        "for i in range(1,6):\n",
        "  print(i)"
      ],
      "metadata": {
        "colab": {
          "base_uri": "https://localhost:8080/"
        },
        "id": "5phSzSIfm03R",
        "outputId": "da17c73a-737c-4ff8-d150-670b1e7c13ae"
      },
      "execution_count": null,
      "outputs": [
        {
          "output_type": "stream",
          "name": "stdout",
          "text": [
            "1\n",
            "2\n",
            "3\n",
            "4\n",
            "5\n"
          ]
        }
      ]
    },
    {
      "cell_type": "code",
      "source": [
        "fruit = \"Apple\"\n",
        "\n",
        "i = 0\n",
        "while i < len(fruit): # 0 < 5\n",
        "  print(fruit[i])\n",
        "  i+=1"
      ],
      "metadata": {
        "colab": {
          "base_uri": "https://localhost:8080/"
        },
        "id": "eiNoXCYU0sxv",
        "outputId": "b3a14e22-8d42-4cdb-f227-61161e03e138"
      },
      "execution_count": null,
      "outputs": [
        {
          "output_type": "stream",
          "name": "stdout",
          "text": [
            "A\n",
            "p\n",
            "p\n",
            "l\n",
            "e\n"
          ]
        }
      ]
    },
    {
      "cell_type": "markdown",
      "source": [
        "\n",
        "## ⛔ `break` Statement\n",
        "\n",
        "Stops the loop even if the condition is still true (used inside both `for` and `while` loops).\n",
        "\n",
        "### 🔹 Example\n",
        "```python\n",
        "for i in range(5):\n",
        "    if i == 3:\n",
        "        break\n",
        "    print(i)\n",
        "```\n",
        "\n",
        "---\n",
        "\n",
        "## 🔂 `continue` Statement\n",
        "\n",
        "Skips the current iteration and continues with the next one.\n",
        "\n",
        "### 🔹 Example\n",
        "```python\n",
        "for i in range(5):\n",
        "    if i == 3:\n",
        "        continue\n",
        "    print(i)\n",
        "```\n",
        "\n",
        "---\n",
        "\n",
        "## 🕳️ `pass` Statement\n",
        "\n",
        "Does nothing. It's a placeholder for future code.\n",
        "\n",
        "### 🔹 Example\n",
        "```python\n",
        "for i in range(5):\n",
        "    pass  # To be implemented later\n",
        "```\n",
        "\n",
        "---\n",
        "\n",
        "## ✅ `else` with Loops\n",
        "\n",
        "Runs a block of code after the loop finishes **without encountering a `break`**.\n",
        "\n",
        "### 🔹 Example\n",
        "```python\n",
        "for i in range(3):\n",
        "    print(i)\n",
        "else:\n",
        "    print(\"Loop finished without break\")\n",
        "```\n",
        "\n",
        "---\n"
      ],
      "metadata": {
        "id": "xhAiyD3cm1gG"
      }
    },
    {
      "cell_type": "code",
      "source": [
        "for i in range(5):\n",
        "    if i == 3:\n",
        "        break\n",
        "    print(i)"
      ],
      "metadata": {
        "colab": {
          "base_uri": "https://localhost:8080/"
        },
        "id": "--DLI0CunAua",
        "outputId": "18e994c5-4c1e-49ba-c9f4-d542a2b6b8ea"
      },
      "execution_count": null,
      "outputs": [
        {
          "output_type": "stream",
          "name": "stdout",
          "text": [
            "0\n",
            "1\n",
            "2\n"
          ]
        }
      ]
    },
    {
      "cell_type": "code",
      "source": [
        "for i in range(5):\n",
        "    if i == 3:\n",
        "        continue\n",
        "    print(i)"
      ],
      "metadata": {
        "colab": {
          "base_uri": "https://localhost:8080/"
        },
        "id": "gWN9PJIYnA15",
        "outputId": "01530202-613f-4161-a015-e0c2e29182af"
      },
      "execution_count": null,
      "outputs": [
        {
          "output_type": "stream",
          "name": "stdout",
          "text": [
            "0\n",
            "1\n",
            "2\n",
            "4\n"
          ]
        }
      ]
    },
    {
      "cell_type": "code",
      "source": [
        "for i in range(5):\n",
        "    pass"
      ],
      "metadata": {
        "id": "tr-8CQ-R2l_C"
      },
      "execution_count": null,
      "outputs": []
    },
    {
      "cell_type": "markdown",
      "source": [
        "## 🧠 Summary Table\n",
        "\n",
        "| Statement  | Description                                       |\n",
        "|------------|---------------------------------------------------|\n",
        "| `for`      | Loop over a sequence (list, string, tuple, etc.)  |\n",
        "| `range()`  | Generate numbers for loop iterations              |\n",
        "| `while`    | Loop while a condition is true                    |\n",
        "| `break`    | Exit the loop immediately                         |\n",
        "| `continue` | Skip the current iteration                        |\n",
        "| `pass`     | Do nothing; placeholder                           |\n",
        "| `else`     | Runs if loop completes normally (no `break`)      |\n"
      ],
      "metadata": {
        "id": "64Rl9ttQnBCz"
      }
    },
    {
      "cell_type": "code",
      "source": [
        "# Prime numbers (1,20)\n",
        "\n",
        "for n in range(1,21):\n",
        "\n",
        "  if n > 1:\n",
        "    for i in range(2,n): # 4/2=0   5/2=1\n",
        "      if n % i == 0:\n",
        "        break\n",
        "    else:\n",
        "      print(n)\n",
        "\n",
        "\n",
        "\n",
        "\n"
      ],
      "metadata": {
        "colab": {
          "base_uri": "https://localhost:8080/"
        },
        "id": "wEqbSB5YsQSd",
        "outputId": "19101276-daf6-4de5-b670-53e4bf05c84b"
      },
      "execution_count": null,
      "outputs": [
        {
          "output_type": "stream",
          "name": "stdout",
          "text": [
            "2\n",
            "3\n",
            "5\n",
            "7\n",
            "11\n",
            "13\n",
            "17\n",
            "19\n"
          ]
        }
      ]
    },
    {
      "cell_type": "code",
      "source": [
        "# Sqaure pattern\n",
        "for j in range(5):\n",
        "  for i in range(5):\n",
        "    print(\"*\",end=\" \")\n",
        "  print(\" \")"
      ],
      "metadata": {
        "colab": {
          "base_uri": "https://localhost:8080/"
        },
        "id": "ks6lmZo6uZul",
        "outputId": "44d4b811-e4fb-4aaf-991d-7a067e821703"
      },
      "execution_count": null,
      "outputs": [
        {
          "output_type": "stream",
          "name": "stdout",
          "text": [
            "* * * * *  \n",
            "* * * * *  \n",
            "* * * * *  \n",
            "* * * * *  \n",
            "* * * * *  \n"
          ]
        }
      ]
    },
    {
      "cell_type": "code",
      "source": [
        "# Left Triangle pattern\n",
        "for j in range(1,6):\n",
        "  for i in range(j):\n",
        "    print(\"*\",end=\" \")\n",
        "  print(\" \")"
      ],
      "metadata": {
        "colab": {
          "base_uri": "https://localhost:8080/"
        },
        "id": "cNHpUimBvo4K",
        "outputId": "a30d612d-699d-4d53-81de-847eb9678c74"
      },
      "execution_count": null,
      "outputs": [
        {
          "output_type": "stream",
          "name": "stdout",
          "text": [
            "*  \n",
            "* *  \n",
            "* * *  \n",
            "* * * *  \n",
            "* * * * *  \n"
          ]
        }
      ]
    },
    {
      "cell_type": "code",
      "source": [
        "# For loop\n",
        "\n",
        "multiplier = 3\n",
        "\n",
        "for i in range(1,21):\n",
        "  print(f\"{i}x{multiplier}={i*multiplier}\")"
      ],
      "metadata": {
        "colab": {
          "base_uri": "https://localhost:8080/"
        },
        "id": "VC3js2rxyYSc",
        "outputId": "eb3fc0e1-7f05-48db-a811-a1fcb201ec50"
      },
      "execution_count": null,
      "outputs": [
        {
          "output_type": "stream",
          "name": "stdout",
          "text": [
            "1x3=3\n",
            "2x3=6\n",
            "3x3=9\n",
            "4x3=12\n",
            "5x3=15\n",
            "6x3=18\n",
            "7x3=21\n",
            "8x3=24\n",
            "9x3=27\n",
            "10x3=30\n",
            "11x3=33\n",
            "12x3=36\n",
            "13x3=39\n",
            "14x3=42\n",
            "15x3=45\n",
            "16x3=48\n",
            "17x3=51\n",
            "18x3=54\n",
            "19x3=57\n",
            "20x3=60\n"
          ]
        }
      ]
    },
    {
      "cell_type": "code",
      "source": [
        "# Sum of n natural numbers\n",
        "\n",
        "n = 10\n",
        "sum = 0\n",
        "\n",
        "i = 1\n",
        "while i<=10:\n",
        "  sum += i\n",
        "  i += 1\n",
        "\n",
        "print(sum)\n"
      ],
      "metadata": {
        "id": "Vo0FsK0T2t9W",
        "colab": {
          "base_uri": "https://localhost:8080/"
        },
        "outputId": "dc4ba184-b207-401c-9da9-e73ab12ed8c8"
      },
      "execution_count": null,
      "outputs": [
        {
          "output_type": "stream",
          "name": "stdout",
          "text": [
            "55\n"
          ]
        }
      ]
    },
    {
      "cell_type": "code",
      "source": [],
      "metadata": {
        "id": "BAsYCs41Oa8L"
      },
      "execution_count": null,
      "outputs": []
    }
  ]
}