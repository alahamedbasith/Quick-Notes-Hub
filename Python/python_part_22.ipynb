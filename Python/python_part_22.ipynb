{
  "nbformat": 4,
  "nbformat_minor": 0,
  "metadata": {
    "colab": {
      "provenance": []
    },
    "kernelspec": {
      "name": "python3",
      "display_name": "Python 3"
    },
    "language_info": {
      "name": "python"
    }
  },
  "cells": [
    {
      "cell_type": "markdown",
      "source": [
        "# What is Inheritance?\n",
        "Inheritance is an OOP (Object-Oriented Programming) concept where one class (child) inherits the properties and methods of another class (parent).\n",
        "It promotes code reuse, modularity, and scalability."
      ],
      "metadata": {
        "id": "MoRDR2o7FY3l"
      }
    },
    {
      "cell_type": "markdown",
      "source": [
        "| Type             | Description                               | Example                          |\n",
        "| ---------------- | ----------------------------------------- | -------------------------------- |\n",
        "| **Single**       | One child inherits from one parent        | `Child(Parent)`                  |\n",
        "| **Multiple**     | One child inherits from multiple parents  | `Child(Parent1, Parent2)`        |\n",
        "| **Multilevel**   | Inheritance through multiple levels       | `GrandChild(Child(Parent))`      |\n",
        "| **Hierarchical** | Multiple children inherit from one parent | `Child1(Parent), Child2(Parent)` |\n",
        "| **Hybrid**       | Combination of any two types              | mix of above                     |\n"
      ],
      "metadata": {
        "id": "DSY10Q6PFm36"
      }
    },
    {
      "cell_type": "markdown",
      "source": [
        "### 🟩 1. **Single Inheritance**\n",
        "\n",
        "* **Description**: One child inherits from one parent.\n",
        "```\n",
        "   Parent\n",
        "     │\n",
        "     ▼\n",
        "   Child\n",
        "```\n",
        "* **Example**:\n",
        "\n",
        "```python\n",
        "class Person:\n",
        "    def display(self):\n",
        "        print(\"Name and Age\")\n",
        "\n",
        "class Student(Person):\n",
        "    def study(self):\n",
        "        print(\"Studying...\")\n",
        "\n",
        "s = Student()\n",
        "s.display()  # Inherited\n",
        "s.study()\n",
        "```\n",
        "\n",
        "* **Real-world scenario**: A `Student` inherits basic info from a `Person`.\n"
      ],
      "metadata": {
        "id": "7tYvhqiPHkUi"
      }
    },
    {
      "cell_type": "code",
      "source": [
        "class Books:\n",
        "  def __init__(self,height,width,paper_type):\n",
        "    self.height = height\n",
        "    self.width = width\n",
        "    self.paper_type = paper_type\n",
        "\n",
        "  def basic_info(self):\n",
        "    print(f\"Height:{self.height},Width:{self.width},Type of Paper:{self.paper_type}\")\n",
        "\n",
        "class comic_book(Books):\n",
        "  def __init__(self,height,width,paper_type,is_award):\n",
        "    super().__init__(height,width,paper_type)\n",
        "    self.is_award = is_award\n",
        "\n",
        "  def basic_info(self):\n",
        "    print(f\"Height:{self.height},Width:{self.width},Type of Paper:{self.paper_type},Award:{self.is_award}\")\n",
        "\n",
        "  def info():\n",
        "    print(\"comic book\")\n",
        "\n",
        "book1 = comic_book(10.5,6.8,\"A4\",True)\n",
        "book1.basic_info()\n",
        "\n"
      ],
      "metadata": {
        "colab": {
          "base_uri": "https://localhost:8080/"
        },
        "id": "RiRkdyzZH1D1",
        "outputId": "9da04a18-8935-4889-d0e0-3a1815f6fdd9"
      },
      "execution_count": null,
      "outputs": [
        {
          "output_type": "stream",
          "name": "stdout",
          "text": [
            "Height:10.5,Width:6.8,Type of Paper:A4,Award:True\n"
          ]
        }
      ]
    },
    {
      "cell_type": "code",
      "source": [],
      "metadata": {
        "id": "Y-dDtyZEHjy9"
      },
      "execution_count": null,
      "outputs": []
    },
    {
      "cell_type": "code",
      "source": [],
      "metadata": {
        "id": "YYRdRjlWFmK8"
      },
      "execution_count": null,
      "outputs": []
    },
    {
      "cell_type": "markdown",
      "source": [
        "### 🟩 2. **Multiple Inheritance**\n",
        "\n",
        "* **Description**: One child inherits from multiple parents.\n",
        "  ```\n",
        "  Parent1    Parent2\n",
        "      │         │\n",
        "      └──┬──────┘\n",
        "          ▼\n",
        "        Child\n",
        "\n",
        "  ```\n",
        "* **Example**:\n",
        "\n",
        "```python\n",
        "class Teacher:\n",
        "    def teach(self):\n",
        "        print(\"Teaching...\")\n",
        "\n",
        "class SportsCoach:\n",
        "    def train(self):\n",
        "        print(\"Training students in sports\")\n",
        "\n",
        "class PEFaculty(Teacher, SportsCoach):\n",
        "    pass\n",
        "\n",
        "f = PEFaculty()\n",
        "f.teach()\n",
        "f.train()\n",
        "```\n",
        "\n",
        "* **Real-world scenario**: `PEFaculty` plays the role of both `Teacher` and `SportsCoach`.\n",
        "\n",
        "\n"
      ],
      "metadata": {
        "id": "l4kx7kKRH12e"
      }
    },
    {
      "cell_type": "code",
      "source": [
        "class Books:\n",
        "  def __init__(self,height,width,paper_type):\n",
        "    self.height = height\n",
        "    self.width = width\n",
        "    self.paper_type = paper_type\n",
        "\n",
        "  def basic_info(self):\n",
        "    print(f\"Height:{self.height},Width:{self.width},Type of Paper:{self.paper_type}\")\n",
        "\n",
        "class Article:\n",
        "  def __init__(self,article_no):\n",
        "    self.article_no = article_no\n",
        "\n",
        "  def basic_info(self):\n",
        "    print(f\"Article No:{self.article_no}\")\n",
        "\n",
        "class comic_book(Article,Books):\n",
        "  def __init__(self,height,width,paper_type,article_no,is_award):\n",
        "    Books.__init__(self,height,width,paper_type)\n",
        "    Article.__init__(self,article_no)\n",
        "\n",
        "    self.is_award = is_award\n",
        "\n",
        "  # def basic_info(self):\n",
        "  #   print(f\"Height:{self.height},Width:{self.width},Type of Paper:{self.paper_type},Arcticle No:{self.article_no},Award:{self.is_award}\")\n",
        "\n",
        "  def info():\n",
        "    print(\"comic book\")\n",
        "\n",
        "book1 = comic_book(10.5,6.8,\"A4\",1234,True)\n",
        "book1.basic_info()\n",
        "\n"
      ],
      "metadata": {
        "colab": {
          "base_uri": "https://localhost:8080/"
        },
        "id": "05I_n_tcH7zd",
        "outputId": "cc52a0c9-88c2-4569-8e32-0d9ceefc7444"
      },
      "execution_count": null,
      "outputs": [
        {
          "output_type": "stream",
          "name": "stdout",
          "text": [
            "Article No:1234\n"
          ]
        }
      ]
    },
    {
      "cell_type": "code",
      "source": [],
      "metadata": {
        "id": "k8_ZFgw0H76O"
      },
      "execution_count": null,
      "outputs": []
    },
    {
      "cell_type": "code",
      "source": [],
      "metadata": {
        "id": "6kwdsssPH7Fe"
      },
      "execution_count": null,
      "outputs": []
    },
    {
      "cell_type": "markdown",
      "source": [
        "### 🟩 3. **Multilevel Inheritance**\n",
        "\n",
        "* **Description**: Inheritance through multiple levels.\n",
        "  ```\n",
        "    Parent\n",
        "      │\n",
        "      ▼\n",
        "    Child\n",
        "      │\n",
        "      ▼\n",
        "  GrandChild\n",
        "\n",
        "  ```\n",
        "* **Example**:\n",
        "\n",
        "```python\n",
        "class Person:\n",
        "    def identity(self):\n",
        "        print(\"General Info\")\n",
        "\n",
        "class Staff(Person):\n",
        "    def role(self):\n",
        "        print(\"Staff Role\")\n",
        "\n",
        "class Admin(Staff):\n",
        "    def manage(self):\n",
        "        print(\"Managing School Operations\")\n",
        "\n",
        "a = Admin()\n",
        "a.identity()\n",
        "a.role()\n",
        "a.manage()\n",
        "```\n",
        "\n",
        "* **Real-world scenario**: `Admin` inherits from `Staff`, who inherits from `Person`."
      ],
      "metadata": {
        "id": "M-sbM8XEH8hI"
      }
    },
    {
      "cell_type": "code",
      "source": [
        "class Books:\n",
        "  def __init__(self,height,width,paper_type):\n",
        "    self.height = height\n",
        "    self.width = width\n",
        "    self.paper_type = paper_type\n",
        "\n",
        "  def basic_info(self):\n",
        "    print(f\"Height:{self.height},Width:{self.width},Type of Paper:{self.paper_type}\")\n",
        "\n",
        "class comic_book(Books):\n",
        "  def __init__(self,height,width,paper_type,is_award):\n",
        "    super().__init__(height,width,paper_type)\n",
        "    self.is_award = is_award\n",
        "\n",
        "  def basic_info(self):\n",
        "    print(f\"Height:{self.height},Width:{self.width},Type of Paper:{self.paper_type},Award:{self.is_award}\")\n",
        "\n",
        "  def info():\n",
        "    print(\"comic book\")\n",
        "\n",
        "class comic_type_one(comic_book):\n",
        "  def __init__(self,height,width,paper_type,is_award,year):\n",
        "    comic_book.__init__(self,height,width,paper_type,is_award)\n",
        "    self.year = year\n",
        "\n",
        "  def basic_info(self):\n",
        "    print(f\"Height:{self.height},Width:{self.width},Type of Paper:{self.paper_type},Award:{self.is_award},Year:{self.year}\")\n",
        "\n",
        "\n",
        "book1 = comic_type_one(10.5,6.8,\"A4\",True,2003)\n",
        "book1.basic_info()\n",
        "\n"
      ],
      "metadata": {
        "colab": {
          "base_uri": "https://localhost:8080/"
        },
        "id": "Yw6wWxpgIC6o",
        "outputId": "793fb1d7-8863-4799-f7bb-5df2e1fb9b48"
      },
      "execution_count": null,
      "outputs": [
        {
          "output_type": "stream",
          "name": "stdout",
          "text": [
            "Height:10.5,Width:6.8,Type of Paper:A4,Award:True,Year:2003\n"
          ]
        }
      ]
    },
    {
      "cell_type": "code",
      "source": [],
      "metadata": {
        "id": "Qvm9fy1rIDWP"
      },
      "execution_count": null,
      "outputs": []
    },
    {
      "cell_type": "code",
      "source": [],
      "metadata": {
        "id": "r5pjtR78IDgG"
      },
      "execution_count": null,
      "outputs": []
    },
    {
      "cell_type": "markdown",
      "source": [
        "### 🟩 4. **Hierarchical Inheritance**\n",
        "\n",
        "* **Description**: Multiple children inherit from one parent.\n",
        "  ```\n",
        "      Parent\n",
        "      ┌─┴────┐\n",
        "      ▼      ▼\n",
        "    Child1  Child2\n",
        "\n",
        "  ```\n",
        "* **Example**:\n",
        "\n",
        "```python\n",
        "class Person:\n",
        "    def info(self):\n",
        "        print(\"Common Info\")\n",
        "\n",
        "class Student(Person):\n",
        "    def study(self):\n",
        "        print(\"Studying\")\n",
        "\n",
        "class Teacher(Person):\n",
        "    def teach(self):\n",
        "        print(\"Teaching\")\n",
        "\n",
        "s = Student()\n",
        "t = Teacher()\n",
        "s.info()\n",
        "t.info()\n",
        "```\n",
        "\n",
        "* **Real-world scenario**: Both `Student` and `Teacher` share common attributes from `Person`.\n"
      ],
      "metadata": {
        "id": "LS0_4UmzID5b"
      }
    },
    {
      "cell_type": "code",
      "source": [
        "class Books:\n",
        "  def __init__(self,height,width,paper_type):\n",
        "    self.height = height\n",
        "    self.width = width\n",
        "    self.paper_type = paper_type\n",
        "\n",
        "  def basic_info(self):\n",
        "    print(f\"Height:{self.height},Width:{self.width},Type of Paper:{self.paper_type}\")\n",
        "\n",
        "class comic_book(Books):\n",
        "  def __init__(self,height,width,paper_type,is_award):\n",
        "    super().__init__(height,width,paper_type)\n",
        "    self.is_award = is_award\n",
        "\n",
        "  def basic_info(self):\n",
        "    print(f\"Height:{self.height},Width:{self.width},Type of Paper:{self.paper_type},Award:{self.is_award}\")\n",
        "\n",
        "  def info():\n",
        "    print(\"comic book\")\n",
        "\n",
        "class tech_book(Books):\n",
        "  def __init__(self,height,width,paper_type,is_award):\n",
        "    super().__init__(height,width,paper_type)\n",
        "    self.is_award = is_award\n",
        "\n",
        "  def basic_info(self):\n",
        "    print(f\"Height:{self.height},Width:{self.width},Type of Paper:{self.paper_type},Award:{self.is_award}\")\n",
        "\n",
        "  def info():\n",
        "    print(\"comic book\")\n",
        "\n",
        "book1 = tech_book(10.5,6.8,\"A4\",True)\n",
        "book1.basic_info()\n",
        "\n"
      ],
      "metadata": {
        "colab": {
          "base_uri": "https://localhost:8080/"
        },
        "id": "QI6q1-alIShz",
        "outputId": "b7b820f0-8d4e-4e81-d2ed-0fa0d39c15d9"
      },
      "execution_count": null,
      "outputs": [
        {
          "output_type": "stream",
          "name": "stdout",
          "text": [
            "Height:10.5,Width:6.8,Type of Paper:A4,Award:True\n"
          ]
        }
      ]
    },
    {
      "cell_type": "code",
      "source": [],
      "metadata": {
        "id": "uIbfc9MzISqm"
      },
      "execution_count": null,
      "outputs": []
    },
    {
      "cell_type": "code",
      "source": [],
      "metadata": {
        "id": "OfWHvsmeIRwq"
      },
      "execution_count": null,
      "outputs": []
    },
    {
      "cell_type": "markdown",
      "source": [
        "\n",
        "### 🟩 5. **Hybrid Inheritance**\n",
        "\n",
        "* **Description**: Combination of multiple types.\n",
        "  ```\n",
        "        Parent\n",
        "         │\n",
        "  ┌──────┴───────┐\n",
        "  ▼              ▼\n",
        "  Student       Teacher\n",
        "    └────┬───────┘\n",
        "         ▼\n",
        "  TeachingAssistant\n",
        "\n",
        "  ```\n",
        "* **Example**:\n",
        "\n",
        "```python\n",
        "class Person:\n",
        "    def info(self):\n",
        "        print(\"Person Info\")\n",
        "\n",
        "class Teacher(Person):\n",
        "    def teach(self):\n",
        "        print(\"Teaching\")\n",
        "\n",
        "class Student(Person):\n",
        "    def study(self):\n",
        "        print(\"Studying\")\n",
        "\n",
        "class TeachingAssistant(Student, Teacher):\n",
        "    def assist(self):\n",
        "        print(\"Assisting in teaching\")\n",
        "\n",
        "ta = TeachingAssistant()\n",
        "ta.info()\n",
        "ta.study()\n",
        "ta.teach()\n",
        "ta.assist()\n",
        "```\n",
        "\n",
        "* **Real-world scenario**: `TeachingAssistant` is a hybrid role of both `Student` and `Teacher`."
      ],
      "metadata": {
        "id": "gBipb50vIThF"
      }
    },
    {
      "cell_type": "markdown",
      "source": [
        "# Diamond Problem\n",
        "\n",
        "If a class inherits from two classes that both inherit from the same base class, which version of the base class method should be called?\n",
        "\n",
        "This creates a diamond-shaped hierarchy, like this:\n",
        "```\n",
        "      A\n",
        "     / \\\n",
        "    B   C\n",
        "     \\ /\n",
        "      D\n",
        "\n",
        "```\n"
      ],
      "metadata": {
        "id": "2hvtAuCrdf8R"
      }
    },
    {
      "cell_type": "code",
      "source": [
        "class A:\n",
        "    def say(self):\n",
        "        print(\"Hello from A\")\n",
        "\n",
        "class B(A):\n",
        "    def say(self):\n",
        "        print(\"Hello from B\")\n",
        "\n",
        "class C(A):\n",
        "    def say(self):\n",
        "        print(\"Hello from C\")\n",
        "\n",
        "class D(B, C):\n",
        "    pass\n",
        "\n",
        "d = D()\n",
        "d.say()\n"
      ],
      "metadata": {
        "colab": {
          "base_uri": "https://localhost:8080/"
        },
        "id": "laGiyRB9IU-X",
        "outputId": "3d76b192-f203-4bd7-ef19-47981c4a33bd"
      },
      "execution_count": null,
      "outputs": [
        {
          "output_type": "stream",
          "name": "stdout",
          "text": [
            "Hello from B\n"
          ]
        }
      ]
    },
    {
      "cell_type": "code",
      "source": [],
      "metadata": {
        "id": "vlMUVum-fAxF"
      },
      "execution_count": null,
      "outputs": []
    }
  ]
}