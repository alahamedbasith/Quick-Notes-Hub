{
  "nbformat": 4,
  "nbformat_minor": 0,
  "metadata": {
    "colab": {
      "provenance": []
    },
    "kernelspec": {
      "name": "python3",
      "display_name": "Python 3"
    },
    "language_info": {
      "name": "python"
    }
  },
  "cells": [
    {
      "cell_type": "markdown",
      "source": [
        "# 🧠 Data Structures in Python\n",
        "\n",
        "## 🔹 Built-in Data Structures\n",
        "\n",
        "### ✅ List\n",
        "- Ordered\n",
        "- Mutable (can change)\n",
        "- Allows duplicate elements\n",
        "- Syntax: `my_list = [1, 2, 3]`\n",
        "\n",
        "### ✅ Tuple\n",
        "- Ordered\n",
        "- Immutable (cannot change)\n",
        "- Allows duplicate elements\n",
        "- Syntax: `my_tuple = (1, 2, 3)`\n",
        "\n",
        "### ✅ Set\n",
        "- Unordered\n",
        "- Mutable\n",
        "- No duplicate elements\n",
        "- Syntax: `my_set = {1, 2, 3}`\n",
        "\n",
        "### ✅ Dictionary\n",
        "- Unordered (prior to Python 3.7)\n",
        "- Mutable\n",
        "- Stores key-value pairs\n",
        "- Keys must be unique\n",
        "- Syntax: `my_dict = {\"name\": \"Ali\", \"age\": 25}`\n",
        "\n",
        "---\n",
        "\n",
        "## 🔸 User-Defined Data Structures\n",
        "\n",
        "### ✅ Stack\n",
        "- Follows **LIFO** (Last In First Out)\n",
        "- Operations: `push()`, `pop()`\n",
        "- Can be implemented using list or `collections.deque`\n",
        "\n",
        "### ✅ Queue\n",
        "- Follows **FIFO** (First In First Out)\n",
        "- Operations: `enqueue()`, `dequeue()`\n",
        "- Can be implemented using `collections.deque`\n",
        "\n",
        "### ✅ Linked List\n",
        "- Elements (nodes) linked using pointers\n",
        "- Each node contains data and a reference to the next node\n",
        "- Types: Singly, Doubly, Circular\n",
        "\n",
        "### ✅ Tree\n",
        "- Hierarchical structure (e.g., Binary Tree)\n",
        "- Each node has a value, left child, and right child\n",
        "- Used in searching, sorting, etc.\n",
        "\n",
        "### ✅ Graph\n",
        "- Collection of nodes (vertices) and edges\n",
        "- Can be directed or undirected\n",
        "- Represented using adjacency list or matrix\n",
        "\n",
        "---\n",
        "\n",
        "## 📌 Summary Table\n",
        "\n",
        "| Structure   | Ordered | Mutable | Duplicates | Use Case                            |\n",
        "|-------------|---------|---------|------------|-------------------------------------|\n",
        "| List        | Yes     | Yes     | Yes        | General-purpose, fast access        |\n",
        "| Tuple       | Yes     | No      | Yes        | Read-only, performance              |\n",
        "| Set         | No      | Yes     | No         | Unique items, membership test       |\n",
        "| Dictionary  | No      | Yes     | Keys: No   | Lookup table, key-value mapping     |\n",
        "| Stack       | Yes     | Yes     | Yes        | LIFO (undo, backtrack)              |\n",
        "| Queue       | Yes     | Yes     | Yes        | FIFO (scheduling, task queue)       |\n",
        "\n"
      ],
      "metadata": {
        "id": "WswEYzvu4s6C"
      }
    },
    {
      "cell_type": "code",
      "source": [
        "import array\n",
        "\n",
        "# Integer array\n",
        "numbers = array.array('i', [1, 2, 3, 4])\n",
        "print(numbers[1])  # Output: 2\n"
      ],
      "metadata": {
        "colab": {
          "base_uri": "https://localhost:8080/"
        },
        "id": "fiTGIPNQVj1s",
        "outputId": "21804758-c79a-43e8-b838-9793a6bfcd7f"
      },
      "execution_count": null,
      "outputs": [
        {
          "output_type": "stream",
          "name": "stdout",
          "text": [
            "2\n"
          ]
        }
      ]
    },
    {
      "cell_type": "markdown",
      "source": [
        "## 📌 What is a List?\n",
        "- A **list** is a built-in data structure in Python used to store **multiple items** in a **single variable**.\n",
        "- Lists are:\n",
        "  - **Ordered**\n",
        "  - **Mutable** (can be changed)\n",
        "  - **Allow duplicates**\n",
        "- Lists can contain **different data types** (integers, strings, booleans, etc.)"
      ],
      "metadata": {
        "id": "Lk0C-do5ABmY"
      }
    },
    {
      "cell_type": "code",
      "execution_count": null,
      "metadata": {
        "id": "Gn4GNGMZ8WhF",
        "colab": {
          "base_uri": "https://localhost:8080/"
        },
        "outputId": "6cdbf19c-ef3c-4ed0-ec8e-13310b264d4d"
      },
      "outputs": [
        {
          "output_type": "execute_result",
          "data": {
            "text/plain": [
              "24"
            ]
          },
          "metadata": {},
          "execution_count": 5
        }
      ],
      "source": [
        "# Creating the list\n",
        "\n",
        "numbers = [24,14,10,5,2]\n",
        "numbers[0]"
      ]
    },
    {
      "cell_type": "code",
      "source": [],
      "metadata": {
        "id": "FtxvlfEa8Szz"
      },
      "execution_count": null,
      "outputs": []
    },
    {
      "cell_type": "code",
      "source": [
        "# Accessing List Elements"
      ],
      "metadata": {
        "id": "4blQqctQFY2Q"
      },
      "execution_count": null,
      "outputs": []
    },
    {
      "cell_type": "code",
      "source": [
        "numbers = [24,14,10,5,2,\"hello\",4.2,4.66666666666666]\n",
        "\n",
        "for number in numbers:\n",
        "  print(number)"
      ],
      "metadata": {
        "id": "CZBoZ_oLFoQX",
        "colab": {
          "base_uri": "https://localhost:8080/"
        },
        "outputId": "a55932a9-dd60-44b7-c0c4-f324ecbb4e46"
      },
      "execution_count": null,
      "outputs": [
        {
          "output_type": "stream",
          "name": "stdout",
          "text": [
            "24\n",
            "14\n",
            "10\n",
            "5\n",
            "2\n",
            "hello\n",
            "4.2\n",
            "4.66666666666666\n"
          ]
        }
      ]
    },
    {
      "cell_type": "code",
      "source": [
        "# Modifying the list\n",
        "\n",
        "numbers = [24,14,10,5,2,\"hello\",4.2,4.66666666666666]\n",
        "\n",
        "numbers[0] = 34\n",
        "numbers.append(44)\n",
        "\n",
        "print(numbers)\n",
        "print(len(numbers))"
      ],
      "metadata": {
        "id": "A7mFeMtgFoYy",
        "colab": {
          "base_uri": "https://localhost:8080/"
        },
        "outputId": "2480d3b2-0f4e-4d96-c535-fc93749b025f"
      },
      "execution_count": null,
      "outputs": [
        {
          "output_type": "stream",
          "name": "stdout",
          "text": [
            "[34, 14, 10, 5, 2, 'hello', 4.2, 4.66666666666666, 44]\n",
            "9\n"
          ]
        }
      ]
    },
    {
      "cell_type": "code",
      "source": [],
      "metadata": {
        "id": "8Arx39nmF4fN"
      },
      "execution_count": null,
      "outputs": []
    },
    {
      "cell_type": "code",
      "source": [],
      "metadata": {
        "id": "ePCC0jePF4nP"
      },
      "execution_count": null,
      "outputs": []
    },
    {
      "cell_type": "markdown",
      "source": [
        "## List Methods\n",
        "- `append()`: Adds an element at the end of the list.\n",
        "- `clear()`: Removes all the elements from the list.\n",
        "- `copy()`: Returns a copy of the list.\n",
        "- `count()`: Returns the number of elements with the specified value.\n",
        "- `extend()`: Add the elements of a list (or any iterable), to the end of the current list.\n",
        "- `index()`: Returns the index of the first element with the specified value.\n",
        "- `insert()`: Adds an element at the specified position.\n",
        "- `pop()`: Removes the element at the specified position.\n",
        "- `remove()`: Removes the first item with the specified value.\n",
        "- `reverse()`: Reverses the order of the list.\n",
        "- `sort()`: Sorts the list."
      ],
      "metadata": {
        "id": "ZFm5g3lkGBru"
      }
    },
    {
      "cell_type": "code",
      "source": [
        "list1 = [23,93,44,43,56,77,80]"
      ],
      "metadata": {
        "id": "fFgDFWc1GFT8"
      },
      "execution_count": null,
      "outputs": []
    },
    {
      "cell_type": "code",
      "source": [
        "for number in [120,130,140]:\n",
        "  list1.append(number)\n",
        "list1"
      ],
      "metadata": {
        "id": "lzbipQAmGIIi",
        "colab": {
          "base_uri": "https://localhost:8080/"
        },
        "outputId": "63a0ee4e-1f43-4ecc-d4c3-5a543d708e0a"
      },
      "execution_count": null,
      "outputs": [
        {
          "output_type": "execute_result",
          "data": {
            "text/plain": [
              "[23, 93, 44, 43, 56, 77, 80, 100, 120, 130, 140]"
            ]
          },
          "metadata": {},
          "execution_count": 15
        }
      ]
    },
    {
      "cell_type": "code",
      "source": [
        "list1 = ['hello',\"welcome\",20,30,44]\n",
        "\n",
        "list1.insert(len(list1)//2,55)\n",
        "list1"
      ],
      "metadata": {
        "id": "VrHc18XiGINY",
        "colab": {
          "base_uri": "https://localhost:8080/"
        },
        "outputId": "4886eb8c-1f4d-42fb-b91a-a8b73b05610e"
      },
      "execution_count": null,
      "outputs": [
        {
          "output_type": "execute_result",
          "data": {
            "text/plain": [
              "['hello', 'welcome', 55, 20, 30, 44]"
            ]
          },
          "metadata": {},
          "execution_count": 17
        }
      ]
    },
    {
      "cell_type": "code",
      "source": [
        "list1.remove(55)\n",
        "list1"
      ],
      "metadata": {
        "colab": {
          "base_uri": "https://localhost:8080/"
        },
        "id": "IIUteXCOdYsc",
        "outputId": "e3ecf242-5f20-485d-d4c1-16f1df20f658"
      },
      "execution_count": null,
      "outputs": [
        {
          "output_type": "execute_result",
          "data": {
            "text/plain": [
              "['hello', 'welcome', 20, 30, 44]"
            ]
          },
          "metadata": {},
          "execution_count": 18
        }
      ]
    },
    {
      "cell_type": "code",
      "source": [
        "list1.pop(0)\n",
        "list1"
      ],
      "metadata": {
        "colab": {
          "base_uri": "https://localhost:8080/"
        },
        "id": "nSrg0f7CdYy1",
        "outputId": "b3e2c296-94dd-4a38-d65f-676629a4127a"
      },
      "execution_count": null,
      "outputs": [
        {
          "output_type": "execute_result",
          "data": {
            "text/plain": [
              "['welcome', 20, 30]"
            ]
          },
          "metadata": {},
          "execution_count": 20
        }
      ]
    },
    {
      "cell_type": "code",
      "source": [
        "lst1 = ['cat','dog','deer','lion']\n",
        "lst2 = ['tiger','bear','wolf']\n",
        "\n",
        "lst3 = lst1.copy()\n",
        "lst3.extend(lst2)\n",
        "lst3\n"
      ],
      "metadata": {
        "colab": {
          "base_uri": "https://localhost:8080/"
        },
        "id": "bwOXftgRdY2_",
        "outputId": "66f913ed-a85f-4f8a-d5d0-a1f3332bd61b"
      },
      "execution_count": null,
      "outputs": [
        {
          "output_type": "execute_result",
          "data": {
            "text/plain": [
              "['cat', 'dog', 'deer', 'lion', 'tiger', 'bear', 'wolf']"
            ]
          },
          "metadata": {},
          "execution_count": 25
        }
      ]
    },
    {
      "cell_type": "code",
      "source": [
        "lst2"
      ],
      "metadata": {
        "colab": {
          "base_uri": "https://localhost:8080/"
        },
        "id": "raZcOZARfMyt",
        "outputId": "a05bd158-8773-466c-c0e8-ae890c2aa438"
      },
      "execution_count": null,
      "outputs": [
        {
          "output_type": "execute_result",
          "data": {
            "text/plain": [
              "['tiger', 'bear', 'wolf']"
            ]
          },
          "metadata": {},
          "execution_count": 27
        }
      ]
    },
    {
      "cell_type": "code",
      "source": [
        "lst1 = ['cat','dog','deer','lion']\n",
        "lst1.index('deer')"
      ],
      "metadata": {
        "colab": {
          "base_uri": "https://localhost:8080/"
        },
        "id": "MfgMv8vMfZwb",
        "outputId": "f8ba60c4-211c-4786-c4c6-223575344769"
      },
      "execution_count": null,
      "outputs": [
        {
          "output_type": "execute_result",
          "data": {
            "text/plain": [
              "2"
            ]
          },
          "metadata": {},
          "execution_count": 29
        }
      ]
    },
    {
      "cell_type": "code",
      "source": [
        "# Reverse\n",
        "numbers1 = [3, 1, 5, 7, 9]\n",
        "\n",
        "numbers1.reverse()\n",
        "print(numbers1)\n"
      ],
      "metadata": {
        "colab": {
          "base_uri": "https://localhost:8080/"
        },
        "id": "qWurUk1ffZ83",
        "outputId": "f0cb0325-2300-40f6-d4c4-b8dbdf2a78e5"
      },
      "execution_count": null,
      "outputs": [
        {
          "output_type": "stream",
          "name": "stdout",
          "text": [
            "[9, 7, 5, 1, 3]\n"
          ]
        }
      ]
    },
    {
      "cell_type": "code",
      "source": [
        "# Sort\n",
        "\n",
        "fruits = ['apple','watermelon','grape','banana']\n",
        "fruits.sort()\n",
        "print(fruits)\n",
        "\n",
        "numbers = [2,6,3,4,9]\n",
        "numbers.sort()\n",
        "print(numbers)"
      ],
      "metadata": {
        "colab": {
          "base_uri": "https://localhost:8080/"
        },
        "id": "LiSzdHQsfaBe",
        "outputId": "2aea36b5-08dc-4a9e-99e9-b4c13d776ccd"
      },
      "execution_count": null,
      "outputs": [
        {
          "output_type": "stream",
          "name": "stdout",
          "text": [
            "['apple', 'banana', 'grape', 'watermelon']\n",
            "[2, 3, 4, 6, 9]\n"
          ]
        }
      ]
    },
    {
      "cell_type": "code",
      "source": [
        "fruits.clear() ## Remove all items\n",
        "\n",
        "print(fruits)"
      ],
      "metadata": {
        "colab": {
          "base_uri": "https://localhost:8080/"
        },
        "id": "7eh5SrEBhL9C",
        "outputId": "2bee8866-9dda-43f5-ed9e-7c7e745d6bba"
      },
      "execution_count": null,
      "outputs": [
        {
          "output_type": "stream",
          "name": "stdout",
          "text": [
            "[]\n"
          ]
        }
      ]
    },
    {
      "cell_type": "code",
      "source": [
        "numbers = [1, 2, 3, 2, 4, 2, 5]\n",
        "\n",
        "print(numbers.count(2))  # Output: 3"
      ],
      "metadata": {
        "colab": {
          "base_uri": "https://localhost:8080/"
        },
        "id": "9yJqMmxUhMAX",
        "outputId": "02d9f8a5-80f7-4b43-b1eb-bb31a2e6847b"
      },
      "execution_count": null,
      "outputs": [
        {
          "output_type": "stream",
          "name": "stdout",
          "text": [
            "3\n"
          ]
        }
      ]
    },
    {
      "cell_type": "code",
      "source": [
        "# Slicing List\n",
        "\n",
        "numbers = [1, 2, 3, 4, 5, 6, 7, 8, 9, 10]\n",
        "print(numbers[0])\n",
        "print(numbers[2:5])\n",
        "print(numbers[:5])\n",
        "print(numbers[5:])\n",
        "print(numbers[::2])\n",
        "print(numbers[::-1])"
      ],
      "metadata": {
        "id": "XFyM-nFUGLC5",
        "colab": {
          "base_uri": "https://localhost:8080/"
        },
        "outputId": "4bd1142a-cb4e-4b1c-d6bb-682f6383ff57"
      },
      "execution_count": null,
      "outputs": [
        {
          "output_type": "stream",
          "name": "stdout",
          "text": [
            "1\n",
            "[3, 4, 5]\n",
            "[1, 2, 3, 4, 5]\n",
            "[6, 7, 8, 9, 10]\n",
            "[1, 3, 5, 7, 9]\n",
            "[10, 9, 8, 7, 6, 5, 4, 3, 2, 1]\n"
          ]
        }
      ]
    },
    {
      "cell_type": "code",
      "source": [
        "print(numbers[::3])\n"
      ],
      "metadata": {
        "id": "FKtgxZdpGOmW",
        "colab": {
          "base_uri": "https://localhost:8080/"
        },
        "outputId": "fab671cb-24b6-4d94-bc39-c6e26bd8f0ca"
      },
      "execution_count": null,
      "outputs": [
        {
          "output_type": "stream",
          "name": "stdout",
          "text": [
            "[1, 4, 7, 10]\n"
          ]
        }
      ]
    },
    {
      "cell_type": "code",
      "source": [],
      "metadata": {
        "id": "HNgk2xcyGOqK"
      },
      "execution_count": null,
      "outputs": []
    },
    {
      "cell_type": "code",
      "source": [
        "# Iterating Over List\n",
        "\n",
        "num = [2,3,4,5,6]\n",
        "\n",
        "for number in num:\n",
        "  print(number)"
      ],
      "metadata": {
        "id": "p7tb2I4EGPsx",
        "colab": {
          "base_uri": "https://localhost:8080/"
        },
        "outputId": "9c866577-5371-4226-b67d-5e8a60628415"
      },
      "execution_count": null,
      "outputs": [
        {
          "output_type": "stream",
          "name": "stdout",
          "text": [
            "2\n",
            "3\n",
            "4\n",
            "5\n",
            "6\n"
          ]
        }
      ]
    },
    {
      "cell_type": "code",
      "source": [
        "num = [2,3,4,5,6]\n",
        "\n",
        "for i in range(len(num)):\n",
        "  print(num[i])"
      ],
      "metadata": {
        "colab": {
          "base_uri": "https://localhost:8080/"
        },
        "id": "7gBML00WyO5E",
        "outputId": "fcc9d1a2-cd83-41ba-af2f-629ce3469a67"
      },
      "execution_count": null,
      "outputs": [
        {
          "output_type": "stream",
          "name": "stdout",
          "text": [
            "2\n",
            "3\n",
            "4\n",
            "5\n",
            "6\n"
          ]
        }
      ]
    },
    {
      "cell_type": "code",
      "source": [
        "num = [2,3,4,5,6]\n",
        "\n",
        "for index,number in enumerate(num):\n",
        "  print(index,number)"
      ],
      "metadata": {
        "id": "fsmwAIYoGP18",
        "colab": {
          "base_uri": "https://localhost:8080/"
        },
        "outputId": "ec5999c7-b065-4157-f1fd-8cd38d2ebab7"
      },
      "execution_count": null,
      "outputs": [
        {
          "output_type": "stream",
          "name": "stdout",
          "text": [
            "0 2\n",
            "1 3\n",
            "2 4\n",
            "3 5\n",
            "4 6\n"
          ]
        }
      ]
    },
    {
      "cell_type": "code",
      "source": [
        "num1 = [2,3,4,5,6]\n",
        "num2 = [5,6,7,8,9]\n",
        "\n",
        "\n",
        "for number1,number2 in zip(num1,num2):\n",
        "  print(number1,number2)"
      ],
      "metadata": {
        "id": "iEuFPVoPGWKJ",
        "colab": {
          "base_uri": "https://localhost:8080/"
        },
        "outputId": "26c54b9b-c513-4267-91d3-9bed711b2795"
      },
      "execution_count": null,
      "outputs": [
        {
          "output_type": "stream",
          "name": "stdout",
          "text": [
            "2 5\n",
            "3 6\n",
            "4 7\n",
            "5 8\n",
            "6 9\n"
          ]
        }
      ]
    },
    {
      "cell_type": "code",
      "source": [
        "# Nested List\n",
        "lst = [\n",
        "    [1,2,3],\n",
        "    [2,3,4]\n",
        "]\n",
        "\n",
        "print(lst[1][2])"
      ],
      "metadata": {
        "id": "leZhEmaMGWNT",
        "colab": {
          "base_uri": "https://localhost:8080/"
        },
        "outputId": "90cd2c83-0e2a-483c-8d25-94754f473fe9"
      },
      "execution_count": null,
      "outputs": [
        {
          "output_type": "stream",
          "name": "stdout",
          "text": [
            "4\n"
          ]
        }
      ]
    },
    {
      "cell_type": "code",
      "source": [
        "for num in lst:\n",
        "  for number in num:\n",
        "    print(number)\n",
        "  print('----')"
      ],
      "metadata": {
        "id": "FV0D2E7pGj7f",
        "colab": {
          "base_uri": "https://localhost:8080/"
        },
        "outputId": "1261b9fe-1f67-4349-da9d-73f90c4fa109"
      },
      "execution_count": null,
      "outputs": [
        {
          "output_type": "stream",
          "name": "stdout",
          "text": [
            "1\n",
            "2\n",
            "3\n",
            "----\n",
            "2\n",
            "3\n",
            "4\n",
            "----\n"
          ]
        }
      ]
    },
    {
      "cell_type": "code",
      "source": [
        "# Nested list: Each inner list contains [name, mark1, mark2]\n",
        "students = [\n",
        "    [\"Alice\", 85, 90],\n",
        "    [\"Bob\", 78, 82],\n",
        "    [\"Charlie\", 92, 88]\n",
        "]\n",
        "\n",
        "# Print each student's average\n",
        "for student in students:\n",
        "    name = student[0]\n",
        "    marks = student[1:]\n",
        "    average = sum(marks) / len(marks)\n",
        "    print(f\"{name}'s average mark is {average}\")\n"
      ],
      "metadata": {
        "colab": {
          "base_uri": "https://localhost:8080/"
        },
        "id": "bpMIHV-52dru",
        "outputId": "ac7de9c7-2e73-4697-fc14-569705780f1a"
      },
      "execution_count": null,
      "outputs": [
        {
          "output_type": "stream",
          "name": "stdout",
          "text": [
            "Alice's average mark is 87.5\n",
            "Bob's average mark is 80.0\n",
            "Charlie's average mark is 90.0\n"
          ]
        }
      ]
    },
    {
      "cell_type": "code",
      "source": [
        "# List Comprehension\n",
        "result = [print(num,\"Even\") for num in range(21) if num % 2 == 0]\n",
        "# Even number\n",
        "\n",
        "for num in range(21):\n",
        "  if num % 2 == 0:\n",
        "    print(num,\"Even\")\n"
      ],
      "metadata": {
        "id": "t1SSAyIoGkBr",
        "colab": {
          "base_uri": "https://localhost:8080/"
        },
        "outputId": "0dcd1ac0-10b9-4938-8a30-764500265b08"
      },
      "execution_count": null,
      "outputs": [
        {
          "output_type": "stream",
          "name": "stdout",
          "text": [
            "0 Even\n",
            "2 Even\n",
            "4 Even\n",
            "6 Even\n",
            "8 Even\n",
            "10 Even\n",
            "12 Even\n",
            "14 Even\n",
            "16 Even\n",
            "18 Even\n",
            "20 Even\n"
          ]
        }
      ]
    },
    {
      "cell_type": "code",
      "source": [
        "result = [f\"{num} Even\" for num in range(21) if num % 2 == 0]\n",
        "print(result)"
      ],
      "metadata": {
        "colab": {
          "base_uri": "https://localhost:8080/"
        },
        "id": "f01UboIB4hXN",
        "outputId": "ad5c11d5-d7cf-48e8-e254-0bf1e3d29a04"
      },
      "execution_count": null,
      "outputs": [
        {
          "output_type": "stream",
          "name": "stdout",
          "text": [
            "['0 Even', '2 Even', '4 Even', '6 Even', '8 Even', '10 Even', '12 Even', '14 Even', '16 Even', '18 Even', '20 Even']\n"
          ]
        }
      ]
    },
    {
      "cell_type": "code",
      "source": [
        "lst = [2,3]\n",
        "print(lst)"
      ],
      "metadata": {
        "id": "BcaTEgdbGnCi",
        "colab": {
          "base_uri": "https://localhost:8080/"
        },
        "outputId": "0814e6d4-046f-48eb-f34f-3a439470ffd2"
      },
      "execution_count": null,
      "outputs": [
        {
          "output_type": "stream",
          "name": "stdout",
          "text": [
            "[2, 3]\n"
          ]
        }
      ]
    },
    {
      "cell_type": "code",
      "source": [
        "lst = list()\n",
        "print(lst)"
      ],
      "metadata": {
        "colab": {
          "base_uri": "https://localhost:8080/"
        },
        "id": "1ZN0CHK85kDK",
        "outputId": "80baf467-b249-4589-dd49-0dd21507da7a"
      },
      "execution_count": null,
      "outputs": [
        {
          "output_type": "stream",
          "name": "stdout",
          "text": [
            "[]\n"
          ]
        }
      ]
    },
    {
      "cell_type": "code",
      "source": [],
      "metadata": {
        "id": "ePU6FtdTGnI6"
      },
      "execution_count": null,
      "outputs": []
    },
    {
      "cell_type": "code",
      "source": [
        "# Simple List Example - Removing Duplicates\n",
        "\n",
        "numbers = [1, 2, 2, 3, 4, 4, 5]\n",
        "unique_numbers = list(set(numbers))\n",
        "print(unique_numbers)"
      ],
      "metadata": {
        "colab": {
          "base_uri": "https://localhost:8080/"
        },
        "id": "NOA2LbwwGnPS",
        "outputId": "b4595c3c-5f8f-4aff-8881-d4c85328dbef"
      },
      "execution_count": null,
      "outputs": [
        {
          "output_type": "stream",
          "name": "stdout",
          "text": [
            "[1, 2, 3, 4, 5]\n"
          ]
        }
      ]
    },
    {
      "cell_type": "code",
      "source": [
        "# Simple List Comprehension Example - Flattening a list\n",
        "\n",
        "nested_list = [[1, 2, 3], [4, 5, 6], [7, 8, 9]]\n",
        "flat_list = [item for sublist in nested_list for item in sublist]\n",
        "print(flat_list)"
      ],
      "metadata": {
        "colab": {
          "base_uri": "https://localhost:8080/"
        },
        "id": "SvPJU1m0GtLz",
        "outputId": "70b8557e-1c70-4258-f1ab-223d6dcfa637"
      },
      "execution_count": null,
      "outputs": [
        {
          "output_type": "stream",
          "name": "stdout",
          "text": [
            "[1, 2, 3, 4, 5, 6, 7, 8, 9]\n"
          ]
        }
      ]
    },
    {
      "cell_type": "code",
      "source": [
        "# List Comprehension - Word Count\n",
        "\n",
        "words = [\"hello\", \"world\", \"python\", \"AI\", \"AGI\"]\n",
        "lengths = [len(word) for word in words]\n",
        "print(lengths)"
      ],
      "metadata": {
        "colab": {
          "base_uri": "https://localhost:8080/"
        },
        "id": "nEGHiTaZIVIG",
        "outputId": "fb50cdcf-b031-42f2-a579-a5a0c677f81b"
      },
      "execution_count": null,
      "outputs": [
        {
          "output_type": "stream",
          "name": "stdout",
          "text": [
            "[5, 5, 6, 2, 3]\n"
          ]
        }
      ]
    },
    {
      "cell_type": "markdown",
      "source": [
        "# Common Error in List"
      ],
      "metadata": {
        "id": "y-ftC60iHp3P"
      }
    },
    {
      "cell_type": "code",
      "source": [
        "# 1. Modifying a list while iterating over it\n",
        "\n",
        "numbers = [1, 2, 3, 4, 5]\n",
        "for number in numbers:\n",
        "    if number % 2 == 0:\n",
        "        numbers.remove(number) # This can lead to unexpected behavior\n",
        "print(numbers)"
      ],
      "metadata": {
        "colab": {
          "base_uri": "https://localhost:8080/"
        },
        "id": "-92oyW-FHJLV",
        "outputId": "928c1cdd-c255-4cab-81a8-25969085b7a7"
      },
      "execution_count": null,
      "outputs": [
        {
          "output_type": "stream",
          "name": "stdout",
          "text": [
            "[1, 3, 5]\n"
          ]
        }
      ]
    },
    {
      "cell_type": "code",
      "source": [
        "# 2.IndexError: Trying to access an index that is out of range.\n",
        "numbers = [1, 2, 3]\n",
        "# print(numbers[3]) # This will raise an IndexError"
      ],
      "metadata": {
        "id": "oINEOqFwHMP9"
      },
      "execution_count": null,
      "outputs": []
    },
    {
      "cell_type": "code",
      "source": [
        "# Real-time Example - Inventory Management\n",
        "\n",
        "# Managing an inventory\n",
        "inventory = [\"apples\", \"bananas\", \"oranges\", \"grapes\"]\n",
        "\n",
        "# Adding a new item to the inventory\n",
        "inventory.append(\"strawberries\")\n",
        "\n",
        "# Removing an item that is out of stock\n",
        "inventory.remove(\"bananas\")\n",
        "\n",
        "# Checking if a specific item is in stock\n",
        "item = \"oranges\"\n",
        "if item in inventory:\n",
        "    print(f\"{item.capitalize()} are in stock.\")\n",
        "else:\n",
        "    print(f\"{item.capitalize()} are out of stock.\")\n",
        "\n",
        "# Displaying the current inventory list\n",
        "print(\"\\nInventory List:\")\n",
        "for item in inventory:\n",
        "    print(f\"- {item.capitalize()}\")\n"
      ],
      "metadata": {
        "colab": {
          "base_uri": "https://localhost:8080/"
        },
        "id": "7sUZvnVOH9nt",
        "outputId": "6d66be58-dd46-4c15-ef31-6d5fa53e1de5"
      },
      "execution_count": null,
      "outputs": [
        {
          "output_type": "stream",
          "name": "stdout",
          "text": [
            "Oranges are in stock.\n",
            "\n",
            "Inventory List:\n",
            "- Apples\n",
            "- Oranges\n",
            "- Grapes\n",
            "- Strawberries\n"
          ]
        }
      ]
    },
    {
      "cell_type": "code",
      "source": [],
      "metadata": {
        "id": "lCdKLrLAJlce"
      },
      "execution_count": null,
      "outputs": []
    }
  ]
}