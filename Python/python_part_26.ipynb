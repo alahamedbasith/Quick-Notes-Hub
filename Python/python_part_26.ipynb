{
  "nbformat": 4,
  "nbformat_minor": 0,
  "metadata": {
    "colab": {
      "provenance": []
    },
    "kernelspec": {
      "name": "python3",
      "display_name": "Python 3"
    },
    "language_info": {
      "name": "python"
    }
  },
  "cells": [
    {
      "cell_type": "code",
      "execution_count": null,
      "metadata": {
        "id": "WDb9LYx9KKgo"
      },
      "outputs": [],
      "source": []
    },
    {
      "cell_type": "markdown",
      "source": [
        "# Custom Exception\n",
        "A custom exception in Python is a user-defined error type created by making a new class that inherits from the built-in Exception class (or its subclasses).\n",
        "It allows programmers to create meaningful, descriptive error messages and handle specific error cases in a more organized and readable way."
      ],
      "metadata": {
        "id": "xQRW-4vrLclu"
      }
    },
    {
      "cell_type": "code",
      "source": [
        "class NoListError(Exception):\n",
        "  pass\n",
        "\n",
        "user = [2,3,45,4]\n",
        "\n",
        "try:\n",
        "  if isinstance(user,list):\n",
        "    raise NoListError(\"List are not allowed\")\n",
        "  else:\n",
        "    result = user*user\n",
        "    print(result)\n",
        "except NoListError as error:\n",
        "  print(error)\n"
      ],
      "metadata": {
        "colab": {
          "base_uri": "https://localhost:8080/"
        },
        "id": "w7Sdx4FsLlTe",
        "outputId": "4b0cb5d1-d96c-4421-b662-56ba4de6a936"
      },
      "execution_count": null,
      "outputs": [
        {
          "output_type": "stream",
          "name": "stdout",
          "text": [
            "List are not allowed\n"
          ]
        }
      ]
    },
    {
      "cell_type": "code",
      "source": [
        "class Error(Exception):\n",
        "  pass\n",
        "\n",
        "class NoListError(Error):\n",
        "  pass\n",
        "\n",
        "class other_exception(Error):\n",
        "  pass\n",
        "\n",
        "user = [2,3,45,4]\n",
        "\n",
        "try:\n",
        "  if isinstance(user,list):\n",
        "    raise NoListError(\"List are not allowed\")\n",
        "  else:\n",
        "    result = user*user\n",
        "    print(result)\n",
        "except NoListError as error:\n",
        "  print(error)\n"
      ],
      "metadata": {
        "id": "GDVm4eAvSxur"
      },
      "execution_count": null,
      "outputs": []
    },
    {
      "cell_type": "code",
      "source": [
        "# Example 01 Negative Number Error\n",
        "\n",
        "class NegativeNumberError(Exception):\n",
        "    \"\"\"Raised when a negative number is given where it's not allowed.\"\"\"\n",
        "    pass\n",
        "\n",
        "def square_root(num):\n",
        "    if num < 0:\n",
        "        raise NegativeNumberError(\"Negative numbers are not allowed!\")\n",
        "    return num ** 0.5\n",
        "\n",
        "try:\n",
        "    print(square_root(-9))\n",
        "except NegativeNumberError as e:\n",
        "    print(\"Error:\", e)\n"
      ],
      "metadata": {
        "colab": {
          "base_uri": "https://localhost:8080/"
        },
        "id": "JrhPZYO9L-BP",
        "outputId": "1418d37f-1906-4fd5-a40f-ce3540d3fed0"
      },
      "execution_count": null,
      "outputs": [
        {
          "output_type": "stream",
          "name": "stdout",
          "text": [
            "Error: Negative numbers are not allowed!\n"
          ]
        }
      ]
    },
    {
      "cell_type": "code",
      "source": [
        "# Example 02 Username Already Exists\n",
        "\n",
        "class UsernameExistsError(Exception):\n",
        "    pass\n",
        "\n",
        "def register_user(username, existing_users):\n",
        "    if username in existing_users:\n",
        "        raise UsernameExistsError(f\"Username '{username}' is already taken!\")\n",
        "    existing_users.append(username)\n",
        "    print(\"User registered successfully!\")\n",
        "\n",
        "try:\n",
        "    register_user(\"admin\", [\"admin\", \"guest\"])\n",
        "except UsernameExistsError as e:\n",
        "    print(e)\n"
      ],
      "metadata": {
        "colab": {
          "base_uri": "https://localhost:8080/"
        },
        "id": "0352zQwuMHG_",
        "outputId": "6e569d72-c328-4272-e0df-263265403490"
      },
      "execution_count": null,
      "outputs": [
        {
          "output_type": "stream",
          "name": "stdout",
          "text": [
            "Username 'admin' is already taken!\n"
          ]
        }
      ]
    },
    {
      "cell_type": "code",
      "source": [],
      "metadata": {
        "id": "sy9XiEVTT1AA"
      },
      "execution_count": null,
      "outputs": []
    }
  ]
}