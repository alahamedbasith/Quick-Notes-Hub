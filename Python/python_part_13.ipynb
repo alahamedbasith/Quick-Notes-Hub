{
  "nbformat": 4,
  "nbformat_minor": 0,
  "metadata": {
    "colab": {
      "provenance": []
    },
    "kernelspec": {
      "name": "python3",
      "display_name": "Python 3"
    },
    "language_info": {
      "name": "python"
    }
  },
  "cells": [
    {
      "cell_type": "code",
      "source": [
        "lst = [20,10]\n",
        "lst[0]"
      ],
      "metadata": {
        "colab": {
          "base_uri": "https://localhost:8080/"
        },
        "id": "N84zkbkD-H8h",
        "outputId": "0e893e35-b366-4953-eaf0-4b72fff6e9b4"
      },
      "execution_count": null,
      "outputs": [
        {
          "output_type": "execute_result",
          "data": {
            "text/plain": [
              "20"
            ]
          },
          "metadata": {},
          "execution_count": 4
        }
      ]
    },
    {
      "cell_type": "code",
      "source": [
        "hash(\"Name\")"
      ],
      "metadata": {
        "colab": {
          "base_uri": "https://localhost:8080/"
        },
        "id": "VlBihZ-G-udZ",
        "outputId": "05d97691-5d06-46ad-f46a-6b8e2b552198"
      },
      "execution_count": null,
      "outputs": [
        {
          "output_type": "execute_result",
          "data": {
            "text/plain": [
              "3828824727677061470"
            ]
          },
          "metadata": {},
          "execution_count": 5
        }
      ]
    },
    {
      "cell_type": "markdown",
      "source": [
        "# What is a Dictionary in Python?\n",
        "A dictionary is a collection of key-value pairs. It's unordered, mutable, and indexed by keys (not positions like lists).\n",
        "\n",
        "```python\n",
        "# Basic Example\n",
        "employee = {\n",
        "    \"name\": \"Ahamed\",\n",
        "    \"age\": 22,\n",
        "    \"role\": \"AI ML Engineer\"\n",
        "}\n",
        "print(employee[\"name\"])  # Output: Ahamed\n",
        "```\n",
        "\n",
        "# 📌 Key Features\n",
        "- Keys are unique and immutable (e.g., strings, numbers, tuples).\n",
        "\n",
        "- Values can be any data type (even another dictionary or list)."
      ],
      "metadata": {
        "id": "TShVfAzLjglE"
      }
    },
    {
      "cell_type": "markdown",
      "source": [
        "# ✅ Creating Dictionaries\n",
        "\n",
        "variable = {key1:value1,key2:value2}"
      ],
      "metadata": {
        "id": "pVasD3Ngkrvi"
      }
    },
    {
      "cell_type": "code",
      "source": [
        "employee = {\n",
        "    \"name\":\"XYZ\",\n",
        "    \"age\":23\n",
        "}\n",
        "\n",
        "print(employee)\n",
        "print(type(employee))"
      ],
      "metadata": {
        "colab": {
          "base_uri": "https://localhost:8080/"
        },
        "id": "Jw7-h6g4jjiw",
        "outputId": "eaff7cde-57c3-411b-e3bc-7d79c1a57224"
      },
      "execution_count": null,
      "outputs": [
        {
          "output_type": "stream",
          "name": "stdout",
          "text": [
            "{'name': 'XYZ', 'age': 23}\n",
            "<class 'dict'>\n"
          ]
        }
      ]
    },
    {
      "cell_type": "code",
      "source": [],
      "metadata": {
        "id": "WpdsBW8wkdWC"
      },
      "execution_count": null,
      "outputs": []
    },
    {
      "cell_type": "code",
      "source": [
        "# Using curly braces\n",
        "a = {\"a\": 1, \"b\": 2}\n",
        "\n",
        "# Using dict() function\n",
        "b = dict(name=\"John\", age=30)\n",
        "\n",
        "# Empty dictionary\n",
        "empty = {}"
      ],
      "metadata": {
        "id": "1J8fVzuOkdmg"
      },
      "execution_count": null,
      "outputs": []
    },
    {
      "cell_type": "markdown",
      "source": [
        "# 🔁 Accessing Items\n"
      ],
      "metadata": {
        "id": "kqF9vDe6kqwV"
      }
    },
    {
      "cell_type": "code",
      "source": [
        "emp = {89: 101, \"name\": \"Basith\"}\n",
        "#print(emp[90])\n",
        "print(emp.get(89,\" \"))"
      ],
      "metadata": {
        "colab": {
          "base_uri": "https://localhost:8080/"
        },
        "id": "BmD8YRiRkhy7",
        "outputId": "a4c982a3-7168-4f09-a325-7db6bf285a2a"
      },
      "execution_count": null,
      "outputs": [
        {
          "output_type": "stream",
          "name": "stdout",
          "text": [
            "101\n"
          ]
        }
      ]
    },
    {
      "cell_type": "code",
      "source": [],
      "metadata": {
        "id": "sQvs-65plECt"
      },
      "execution_count": null,
      "outputs": []
    },
    {
      "cell_type": "code",
      "source": [],
      "metadata": {
        "id": "woIw5KiblEGK"
      },
      "execution_count": null,
      "outputs": []
    },
    {
      "cell_type": "code",
      "source": [
        "emp = {\"id\": 101, \"name\": \"Basith\"}\n",
        "print(emp[\"name\"])       # Basith\n",
        "print(emp.get(\"name\"))   # Basith (safe method)\n",
        "\n",
        "# .get() avoids KeyError\n",
        "print(emp.get(\"salary\", \"Not found\"))  # Not found\n"
      ],
      "metadata": {
        "id": "5HWXydIslELV"
      },
      "execution_count": null,
      "outputs": []
    },
    {
      "cell_type": "markdown",
      "source": [
        "# ✍️ Adding / Updating Items"
      ],
      "metadata": {
        "id": "iJYsDYUYlMt6"
      }
    },
    {
      "cell_type": "code",
      "source": [],
      "metadata": {
        "id": "IijToCtblRK3"
      },
      "execution_count": null,
      "outputs": []
    },
    {
      "cell_type": "code",
      "source": [],
      "metadata": {
        "id": "MY5saTn7lUMh"
      },
      "execution_count": null,
      "outputs": []
    },
    {
      "cell_type": "code",
      "source": [
        "emp = {\"id\": 101}\n",
        "emp[\"name\"] = \"John\"        # Add\n",
        "print(emp)\n",
        "emp[\"id\"] = 102             # Update\n",
        "print(emp)"
      ],
      "metadata": {
        "colab": {
          "base_uri": "https://localhost:8080/"
        },
        "id": "LSoMaDQ5lUWI",
        "outputId": "b774e810-2baa-4914-8d0a-fd1cd92395eb"
      },
      "execution_count": null,
      "outputs": [
        {
          "output_type": "stream",
          "name": "stdout",
          "text": [
            "{'id': 101, 'name': 'John'}\n",
            "{'id': 102, 'name': 'John'}\n"
          ]
        }
      ]
    },
    {
      "cell_type": "markdown",
      "source": [
        "# ❌ Removing Items\n"
      ],
      "metadata": {
        "id": "PUE1mvu-lhdL"
      }
    },
    {
      "cell_type": "code",
      "source": [],
      "metadata": {
        "id": "LPVD78oslgRB"
      },
      "execution_count": null,
      "outputs": []
    },
    {
      "cell_type": "code",
      "source": [],
      "metadata": {
        "id": "l6id2CLGllH5"
      },
      "execution_count": null,
      "outputs": []
    },
    {
      "cell_type": "code",
      "source": [
        "data = {\"a\": 1, \"b\": 2}\n",
        "data.pop(\"a\")        # Removes key 'a'\n",
        "print(data)"
      ],
      "metadata": {
        "colab": {
          "base_uri": "https://localhost:8080/"
        },
        "id": "8kF1BQMollLb",
        "outputId": "9a24c1a3-d571-44d8-97c9-0486eb3eb07b"
      },
      "execution_count": null,
      "outputs": [
        {
          "output_type": "stream",
          "name": "stdout",
          "text": [
            "{'b': 2}\n"
          ]
        }
      ]
    },
    {
      "cell_type": "code",
      "source": [
        "data = {\"a\": 1, \"b\": 2}\n",
        "data.popitem()       # Removes last inserted item\n",
        "print(data)"
      ],
      "metadata": {
        "colab": {
          "base_uri": "https://localhost:8080/"
        },
        "id": "tcFqFzpu3L5R",
        "outputId": "2eb3f6fd-7d9c-4a4d-fcb1-05038eb86e0d"
      },
      "execution_count": null,
      "outputs": [
        {
          "output_type": "stream",
          "name": "stdout",
          "text": [
            "{'a': 1}\n"
          ]
        }
      ]
    },
    {
      "cell_type": "code",
      "source": [
        "data = {\"a\": 1, \"b\": 2}\n",
        "del data[\"b\"]        # Delete specific key\n",
        "print(data)"
      ],
      "metadata": {
        "colab": {
          "base_uri": "https://localhost:8080/"
        },
        "id": "piRqOP9S3Rf7",
        "outputId": "9d461c73-c98f-46f6-9a46-eff738103a77"
      },
      "execution_count": null,
      "outputs": [
        {
          "output_type": "stream",
          "name": "stdout",
          "text": [
            "{'a': 1}\n"
          ]
        }
      ]
    },
    {
      "cell_type": "code",
      "source": [
        "data = {\"a\": 1, \"b\": 2}\n",
        "data.clear()\n",
        "print(data)"
      ],
      "metadata": {
        "colab": {
          "base_uri": "https://localhost:8080/"
        },
        "id": "7_e0C97w3VaO",
        "outputId": "beeb7870-858f-4079-9f06-acec55386da2"
      },
      "execution_count": null,
      "outputs": [
        {
          "output_type": "stream",
          "name": "stdout",
          "text": [
            "{}\n"
          ]
        }
      ]
    },
    {
      "cell_type": "markdown",
      "source": [
        "# 🔁 Looping Through Dictionary\n"
      ],
      "metadata": {
        "id": "6YktE8xplt0p"
      }
    },
    {
      "cell_type": "code",
      "source": [
        "student = {\"name\": \"Najim\", \"mark\": 89}\n",
        "\n",
        "for key in student:\n",
        "  print(key)\n"
      ],
      "metadata": {
        "colab": {
          "base_uri": "https://localhost:8080/"
        },
        "id": "YOaQItAaHmBC",
        "outputId": "69d2d6ad-69a7-4039-929f-4924041db663"
      },
      "execution_count": null,
      "outputs": [
        {
          "output_type": "stream",
          "name": "stdout",
          "text": [
            "name\n",
            "mark\n"
          ]
        }
      ]
    },
    {
      "cell_type": "code",
      "source": [
        "for info in student.items():\n",
        "  print(info)"
      ],
      "metadata": {
        "colab": {
          "base_uri": "https://localhost:8080/"
        },
        "id": "iH6AqvKEH046",
        "outputId": "83ece0f6-67b2-45d9-ff4d-d37741db5071"
      },
      "execution_count": null,
      "outputs": [
        {
          "output_type": "stream",
          "name": "stdout",
          "text": [
            "('name', 'Najim')\n",
            "('mark', 89)\n"
          ]
        }
      ]
    },
    {
      "cell_type": "code",
      "source": [
        "student = {\"name\": \"Najim\", \"mark\": 89}\n",
        "\n",
        "# Keys\n",
        "for key in student:\n",
        "    print(key)\n",
        "\n",
        "# Values\n",
        "for val in student.values():\n",
        "    print(val)\n",
        "\n",
        "# Key-Value pairs\n",
        "for key, val in student.items():\n",
        "    print(f\"{key} → {val}\")\n"
      ],
      "metadata": {
        "colab": {
          "base_uri": "https://localhost:8080/"
        },
        "id": "xz9xGlkllwBB",
        "outputId": "e5290eee-9428-4e4b-cf0b-ab49b87b1d0f"
      },
      "execution_count": null,
      "outputs": [
        {
          "output_type": "stream",
          "name": "stdout",
          "text": [
            "name\n",
            "mark\n",
            "Najim\n",
            "89\n",
            "name → Najim\n",
            "mark → 89\n"
          ]
        }
      ]
    },
    {
      "cell_type": "markdown",
      "source": [
        "# 🧪 Check if Key Exists\n"
      ],
      "metadata": {
        "id": "hZCHEiONl4w4"
      }
    },
    {
      "cell_type": "code",
      "source": [
        "emp = {\"id\": 101}\n",
        "if \"name\" in emp:\n",
        "    print(\"ID exists\")\n",
        "else:\n",
        "  print(\"Not Exists\")"
      ],
      "metadata": {
        "colab": {
          "base_uri": "https://localhost:8080/"
        },
        "id": "MEWaBD36l3ow",
        "outputId": "6c2146bf-f779-4db1-c551-d174c7e98a77"
      },
      "execution_count": null,
      "outputs": [
        {
          "output_type": "stream",
          "name": "stdout",
          "text": [
            "Not Exists\n"
          ]
        }
      ]
    },
    {
      "cell_type": "markdown",
      "source": [
        "# 🧬 Nested Dictionaries\n"
      ],
      "metadata": {
        "id": "QX1-0EM1l4Jj"
      }
    },
    {
      "cell_type": "code",
      "source": [
        "emp = {\n",
        "    \"person\": {\n",
        "        \"name\":\"XYZ\"\n",
        "    }\n",
        "}"
      ],
      "metadata": {
        "id": "-4QXxootIzO0"
      },
      "execution_count": null,
      "outputs": []
    },
    {
      "cell_type": "code",
      "source": [
        "company = {\n",
        "    \"emp1\": {\"name\": \"John\", \"age\": 30},\n",
        "    \"emp2\": {\"name\": \"Anna\", \"age\": 25}\n",
        "}\n",
        "print(company[\"emp1\"][\"age\"])  # John"
      ],
      "metadata": {
        "colab": {
          "base_uri": "https://localhost:8080/"
        },
        "id": "2Jr54345lzp-",
        "outputId": "2c756723-8d86-4b0a-94dd-b9461157eb7b"
      },
      "execution_count": null,
      "outputs": [
        {
          "output_type": "stream",
          "name": "stdout",
          "text": [
            "30\n"
          ]
        }
      ]
    },
    {
      "cell_type": "code",
      "source": [
        "# Iterating Nested Dictionaries\n",
        "\n",
        "for key,value in company.items():\n",
        "  print(key)\n",
        "  for key1,value1 in value.items():\n",
        "    print(key1,value1)\n"
      ],
      "metadata": {
        "colab": {
          "base_uri": "https://localhost:8080/"
        },
        "id": "89pTPm0FmkPU",
        "outputId": "db36b854-7f2c-4f6d-922a-342f5b7d70f0"
      },
      "execution_count": null,
      "outputs": [
        {
          "output_type": "stream",
          "name": "stdout",
          "text": [
            "emp1\n",
            "name John\n",
            "age 30\n",
            "emp2\n",
            "name Anna\n",
            "age 25\n"
          ]
        }
      ]
    },
    {
      "cell_type": "markdown",
      "source": [
        "# Shallow Copy and Deep Copy\n",
        "\n",
        "## 🔁 Shallow Copy\n",
        "- Creates a new object, but doesn't copy nested objects inside it.\n",
        "\n",
        "- References to the same nested objects are shared between the original and the copy.\n",
        "\n",
        "```python\n",
        "import copy\n",
        "\n",
        "original = [[1, 2], [3, 4]]\n",
        "shallow = copy.copy(original)\n",
        "\n",
        "shallow[0][0] = 99\n",
        "\n",
        "print(\"Original:\", original)  # [[99, 2], [3, 4]]\n",
        "print(\"Shallow:\", shallow)    # [[99, 2], [3, 4]]\n",
        "\n",
        "```\n",
        "\n",
        "✅ The outer list is copied, but the inner lists are shared (not copied). So changes to nested objects affect both.\n",
        "\n",
        "## 🧠 Deep Copy\n",
        "- Creates a completely independent copy, including all nested objects.\n",
        "\n",
        "- No references are shared between the original and the copy.\n",
        "\n",
        "```python\n",
        "import copy\n",
        "\n",
        "original = [[1, 2], [3, 4]]\n",
        "deep = copy.deepcopy(original)\n",
        "\n",
        "deep[0][0] = 99\n",
        "\n",
        "print(\"Original:\", original)  # [[1, 2], [3, 4]]\n",
        "print(\"Deep:\", deep)          # [[99, 2], [3, 4]]\n",
        "\n",
        "```\n",
        "\n",
        "## Summary\n",
        "| Feature                  | Shallow Copy (`copy.copy()`)          | Deep Copy (`copy.deepcopy()`) |\n",
        "| ------------------------ | ------------------------------------- | ----------------------------- |\n",
        "| New outer object         | ✅ Yes                                 | ✅ Yes                         |\n",
        "| New inner/nested objects | ❌ No                                  | ✅ Yes                         |\n",
        "| Shared references        | ✅ Yes                                 | ❌ No                          |\n",
        "| Use case                 | When you want a partial copy (faster) | When full isolation is needed |\n"
      ],
      "metadata": {
        "id": "C7nEtolYrP5V"
      }
    },
    {
      "cell_type": "code",
      "source": [
        "# Shallow Copy\n",
        "\n",
        "original = {\n",
        "    \"name\": \"Ahamed\",\n",
        "    \"skills\": \"html\"\n",
        "}\n",
        "\n",
        "shallow = original.copy()\n",
        "shallow[\"skills\"] = \"Java\"\n",
        "\n",
        "print(\"Original:\", original)\n",
        "print(\"Shallow:\", shallow)\n"
      ],
      "metadata": {
        "colab": {
          "base_uri": "https://localhost:8080/"
        },
        "id": "uqklpHpUrOj4",
        "outputId": "02937532-d979-4123-90b1-be7e0ae73348"
      },
      "execution_count": null,
      "outputs": [
        {
          "output_type": "stream",
          "name": "stdout",
          "text": [
            "Original: {'name': 'Ahamed', 'skills': 'html'}\n",
            "Shallow: {'name': 'Ahamed', 'skills': 'Java'}\n"
          ]
        }
      ]
    },
    {
      "cell_type": "code",
      "source": [
        "# Deep Copy\n",
        "\n",
        "import copy\n",
        "\n",
        "original = {\n",
        "    \"name\": \"Ahamed\",\n",
        "    \"skills\": [\"Python\", \"SQL\"]\n",
        "}\n",
        "\n",
        "deep = copy.deepcopy(original)\n",
        "deep[\"skills\"][0] = \"Java\"\n",
        "\n",
        "print(\"Original:\", original)\n",
        "print(\"Deep:\", deep)\n"
      ],
      "metadata": {
        "colab": {
          "base_uri": "https://localhost:8080/"
        },
        "id": "1xvaZJWYrOgp",
        "outputId": "1d09b068-ea60-43fb-cd1c-489396abb0f9"
      },
      "execution_count": null,
      "outputs": [
        {
          "output_type": "stream",
          "name": "stdout",
          "text": [
            "Original: {'name': 'Ahamed', 'skills': ['Python', 'SQL']}\n",
            "Deep: {'name': 'Ahamed', 'skills': ['Java', 'SQL']}\n"
          ]
        }
      ]
    },
    {
      "cell_type": "code",
      "source": [
        "# Dictionary Comprehension\n",
        "\n",
        "square = {i:i**2 for i in range(1,11) if i % 2 == 0}\n",
        "print(square)"
      ],
      "metadata": {
        "colab": {
          "base_uri": "https://localhost:8080/"
        },
        "id": "wtpkOt2RttTD",
        "outputId": "e3f113e1-a6c0-4ae5-d7af-95bfef159c90"
      },
      "execution_count": null,
      "outputs": [
        {
          "output_type": "stream",
          "name": "stdout",
          "text": [
            "{2: 4, 4: 16, 6: 36, 8: 64, 10: 100}\n"
          ]
        }
      ]
    },
    {
      "cell_type": "code",
      "source": [
        "# Merge two dictionaries into one\n",
        "\n",
        "dict1={\"a\":1,\"b\":2}\n",
        "dict2={\"b\":3,\"c\":4}\n",
        "merged_dict={**dict1,**dict2}\n",
        "print(merged_dict)"
      ],
      "metadata": {
        "colab": {
          "base_uri": "https://localhost:8080/"
        },
        "id": "bhtMfcfSng0T",
        "outputId": "efe7d1de-e7f8-4350-d08d-ddd6ef8be3c8"
      },
      "execution_count": null,
      "outputs": [
        {
          "output_type": "stream",
          "name": "stdout",
          "text": [
            "{'a': 1, 'b': 3, 'c': 4}\n"
          ]
        }
      ]
    },
    {
      "cell_type": "markdown",
      "source": [
        "# Frozen Set as Dictionary"
      ],
      "metadata": {
        "id": "m-w8vU9svlms"
      }
    },
    {
      "cell_type": "code",
      "source": [
        "# Using frozenset as a Dictionary Key\n",
        "\n",
        "# Use frozenset of two cities as key\n",
        "distance_map = {\n",
        "    frozenset([\"Doha\", \"Al Rayyan\"]): 20,\n",
        "    frozenset([\"Doha\", \"Lusail\"]): 15\n",
        "}\n",
        "\n",
        "# Lookup distance regardless of order\n",
        "print(distance_map[frozenset([\"Al Rayyan\", \"Doha\"])])  # Output: 20\n"
      ],
      "metadata": {
        "colab": {
          "base_uri": "https://localhost:8080/"
        },
        "id": "mSvpN7TVvWZf",
        "outputId": "c40436e4-5a88-4745-ccdb-25604f743f60"
      },
      "execution_count": null,
      "outputs": [
        {
          "output_type": "stream",
          "name": "stdout",
          "text": [
            "20\n"
          ]
        }
      ]
    },
    {
      "cell_type": "code",
      "source": [
        "## Practical Example 01\n",
        "## Use a dictionary to count the frequency of elements in list\n",
        "\n",
        "numbers=[1,2,2,3,3,3,4,4,4,4]\n",
        "frequency={}\n",
        "\n",
        "for number in numbers:\n",
        "    if number in frequency:\n",
        "        frequency[number]+=1\n",
        "    else:\n",
        "        frequency[number]=1 # frequency[1] = 1 ==> {1:1,2:2,}\n",
        "print(frequency)"
      ],
      "metadata": {
        "colab": {
          "base_uri": "https://localhost:8080/"
        },
        "id": "3Gpq20Z0vu5K",
        "outputId": "7727b67b-bfb7-4456-b822-4442d4e2541a"
      },
      "execution_count": null,
      "outputs": [
        {
          "output_type": "stream",
          "name": "stdout",
          "text": [
            "{1: 1, 2: 2, 3: 3, 4: 4}\n"
          ]
        }
      ]
    },
    {
      "cell_type": "code",
      "source": [
        "## Practical Example 02\n",
        "## Student Grade System\n",
        "\n",
        "grades = {\"Alice\": 85, \"Bob\": 90, \"Charlie\": 78}\n",
        "\n",
        "for name, mark in grades.items():\n",
        "    status = \"Pass\" if mark >= 80 else \"Fail\"\n",
        "    print(f\"{name}: {status}\")\n"
      ],
      "metadata": {
        "colab": {
          "base_uri": "https://localhost:8080/"
        },
        "id": "EFBzQQni2WHT",
        "outputId": "1dc56ffd-248e-41b5-f383-b1b0c888e0a1"
      },
      "execution_count": null,
      "outputs": [
        {
          "output_type": "stream",
          "name": "stdout",
          "text": [
            "Alice: Pass\n",
            "Bob: Pass\n",
            "Charlie: Fail\n"
          ]
        }
      ]
    },
    {
      "cell_type": "code",
      "source": [
        "## Practical Example 03\n",
        "##  JSON Parsing (API Response)\n",
        "\n",
        "import json\n",
        "\n",
        "response = '{\"name\": \"Ahamed\", \"country\": \"Qatar\"}'\n",
        "print(type(response))\n",
        "\n",
        "data = json.loads(response)\n",
        "print(type(data))\n",
        "\n",
        "print(data[\"name\"])  # Ahamed\n"
      ],
      "metadata": {
        "colab": {
          "base_uri": "https://localhost:8080/"
        },
        "id": "xKMVa_hd2fUH",
        "outputId": "23d5e532-293a-4bb4-d64d-76a8fdefe6b4"
      },
      "execution_count": null,
      "outputs": [
        {
          "output_type": "stream",
          "name": "stdout",
          "text": [
            "<class 'str'>\n",
            "<class 'dict'>\n",
            "Ahamed\n"
          ]
        }
      ]
    },
    {
      "cell_type": "code",
      "source": [],
      "metadata": {
        "id": "2kXFazzG2ip0"
      },
      "execution_count": null,
      "outputs": []
    }
  ]
}