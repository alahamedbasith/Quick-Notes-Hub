{
  "nbformat": 4,
  "nbformat_minor": 0,
  "metadata": {
    "colab": {
      "provenance": []
    },
    "kernelspec": {
      "name": "python3",
      "display_name": "Python 3"
    },
    "language_info": {
      "name": "python"
    }
  },
  "cells": [
    {
      "cell_type": "markdown",
      "source": [
        "## Variable\n",
        "\n",
        "A variable is a name that stores data in memory. You can use it to store and reuse values.\n",
        "\n",
        "## What is an Identifier?\n",
        "An identifier is the name used for variables, functions, classes, etc.\n",
        "\n",
        "\n",
        "## Examples of identifiers:\n",
        "\n",
        "x\n",
        "\n",
        "my_age\n",
        "\n",
        "totalSalary\n",
        "\n",
        "These are all identifiers used to name variables.\n",
        "\n",
        "\n",
        "## Rules for Writing Identifiers:\n",
        "Can use letters (a–z, A–Z), digits (0–9), and underscore (_)\n",
        "\n",
        "Must not begin with a digit\n",
        "\n",
        "✅ name1\n",
        "\n",
        "❌ 1name (invalid)\n",
        "\n",
        "Cannot use special characters like @, $, %, !\n",
        "\n",
        "Python keywords cannot be used as identifiers\n",
        "❌ class = 10 ← class is a Python keyword"
      ],
      "metadata": {
        "id": "ouuz4y_mZko3"
      }
    },
    {
      "cell_type": "code",
      "source": [
        "a = 10"
      ],
      "metadata": {
        "id": "AxgIZnMUZq8N"
      },
      "execution_count": null,
      "outputs": []
    },
    {
      "cell_type": "code",
      "source": [
        "print(a)"
      ],
      "metadata": {
        "colab": {
          "base_uri": "https://localhost:8080/"
        },
        "id": "5JbpF1j5agXe",
        "outputId": "b5ac44fe-3d46-466c-d089-d89e0e2b51d0"
      },
      "execution_count": null,
      "outputs": [
        {
          "output_type": "stream",
          "name": "stdout",
          "text": [
            "10\n"
          ]
        }
      ]
    },
    {
      "cell_type": "code",
      "source": [
        "b = 20\n",
        "print(b)\n",
        "print(type(b))"
      ],
      "metadata": {
        "colab": {
          "base_uri": "https://localhost:8080/"
        },
        "id": "hLJWKw3QagaB",
        "outputId": "08f258c4-9fa6-4727-be09-f8e2921179ef"
      },
      "execution_count": null,
      "outputs": [
        {
          "output_type": "stream",
          "name": "stdout",
          "text": [
            "20\n",
            "<class 'int'>\n"
          ]
        }
      ]
    },
    {
      "cell_type": "code",
      "source": [
        "c = 2.3\n",
        "print(c)\n",
        "print(type(c))"
      ],
      "metadata": {
        "colab": {
          "base_uri": "https://localhost:8080/"
        },
        "id": "e7hRuX_cd5An",
        "outputId": "7a93d844-7263-4d66-f888-9cbbbd845ccd"
      },
      "execution_count": null,
      "outputs": [
        {
          "output_type": "stream",
          "name": "stdout",
          "text": [
            "2.3\n",
            "<class 'float'>\n"
          ]
        }
      ]
    },
    {
      "cell_type": "code",
      "source": [
        "d = \"hello\"\n",
        "print(d)\n",
        "print(type(d))"
      ],
      "metadata": {
        "colab": {
          "base_uri": "https://localhost:8080/"
        },
        "id": "1lO1PHd2d5KO",
        "outputId": "1b2cf43e-5d57-4b51-f3c4-5784baa7a13f"
      },
      "execution_count": null,
      "outputs": [
        {
          "output_type": "stream",
          "name": "stdout",
          "text": [
            "hello\n",
            "<class 'str'>\n"
          ]
        }
      ]
    },
    {
      "cell_type": "code",
      "source": [
        "e = True\n",
        "print(e)\n",
        "print(type(e))"
      ],
      "metadata": {
        "colab": {
          "base_uri": "https://localhost:8080/"
        },
        "id": "FIQKhXe9d5OD",
        "outputId": "aca5b259-a588-48ff-b3da-dfadacd50e27"
      },
      "execution_count": null,
      "outputs": [
        {
          "output_type": "stream",
          "name": "stdout",
          "text": [
            "True\n",
            "<class 'bool'>\n"
          ]
        }
      ]
    },
    {
      "cell_type": "code",
      "source": [
        "number = 10\n",
        "\n",
        "print(number)\n",
        "\n",
        "print(number)\n",
        "\n",
        "print(number)"
      ],
      "metadata": {
        "colab": {
          "base_uri": "https://localhost:8080/"
        },
        "id": "YChuIOvDd5Rg",
        "outputId": "c0c31500-dc11-4521-8330-4c037a328e1d"
      },
      "execution_count": null,
      "outputs": [
        {
          "output_type": "stream",
          "name": "stdout",
          "text": [
            "10\n",
            "10\n",
            "10\n"
          ]
        }
      ]
    },
    {
      "cell_type": "code",
      "source": [
        "name = \"Ahamed\"\n",
        "\n",
        "print(name)\n",
        "print(\"Iam\",name)\n",
        "print(f\"Iam {name}\")\n",
        "print(\"Iam {}\".format(name))"
      ],
      "metadata": {
        "colab": {
          "base_uri": "https://localhost:8080/"
        },
        "id": "0WmqRoq7hxWV",
        "outputId": "6f47782b-a04c-43a1-d247-c8a9f8b8aa5f"
      },
      "execution_count": null,
      "outputs": [
        {
          "output_type": "stream",
          "name": "stdout",
          "text": [
            "Ahamed\n",
            "Iam Ahamed\n",
            "Iam Ahamed\n",
            "Iam Ahamed\n"
          ]
        }
      ]
    },
    {
      "cell_type": "code",
      "source": [
        "type = 10\n",
        "print(type)"
      ],
      "metadata": {
        "colab": {
          "base_uri": "https://localhost:8080/"
        },
        "id": "hYa0tWWmiP2Q",
        "outputId": "239a111d-67b8-472a-fe3b-0ea2c3bd545f"
      },
      "execution_count": null,
      "outputs": [
        {
          "output_type": "stream",
          "name": "stdout",
          "text": [
            "Ahamed\n"
          ]
        }
      ]
    },
    {
      "cell_type": "code",
      "source": [
        "type(name)"
      ],
      "metadata": {
        "colab": {
          "base_uri": "https://localhost:8080/",
          "height": 141
        },
        "id": "zoPxJNxuiP5I",
        "outputId": "12782f95-c4a2-477b-98f7-944102e2ecc1"
      },
      "execution_count": null,
      "outputs": [
        {
          "output_type": "error",
          "ename": "TypeError",
          "evalue": "'int' object is not callable",
          "traceback": [
            "\u001b[0;31m---------------------------------------------------------------------------\u001b[0m",
            "\u001b[0;31mTypeError\u001b[0m                                 Traceback (most recent call last)",
            "\u001b[0;32m/tmp/ipython-input-21-1126750303.py\u001b[0m in \u001b[0;36m<cell line: 0>\u001b[0;34m()\u001b[0m\n\u001b[0;32m----> 1\u001b[0;31m \u001b[0mtype\u001b[0m\u001b[0;34m(\u001b[0m\u001b[0mname\u001b[0m\u001b[0;34m)\u001b[0m\u001b[0;34m\u001b[0m\u001b[0;34m\u001b[0m\u001b[0m\n\u001b[0m",
            "\u001b[0;31mTypeError\u001b[0m: 'int' object is not callable"
          ]
        }
      ]
    },
    {
      "cell_type": "code",
      "source": [
        "int a = 10"
      ],
      "metadata": {
        "id": "8B1w3cUPiP82"
      },
      "execution_count": null,
      "outputs": []
    },
    {
      "cell_type": "code",
      "source": [],
      "metadata": {
        "id": "5qZqByJNfis8"
      },
      "execution_count": null,
      "outputs": []
    },
    {
      "cell_type": "markdown",
      "source": [
        "# 📘 Python Data Types\n",
        "\n",
        "In Python, **data types** define what kind of data a variable can hold — like numbers, text, etc.\n",
        "\n",
        "---\n",
        "\n",
        "## 🔹 1. Numeric Types\n",
        "\n",
        "Used to store numbers.\n",
        "\n",
        "| Type     | Description        | Example       |\n",
        "|----------|--------------------|---------------|\n",
        "| `int`    | Integer numbers    | `x = 10`      |\n",
        "| `float`  | Decimal numbers    | `x = 3.14`    |\n",
        "| `complex`| Complex numbers    | `x = 2 + 3j`  |\n",
        "\n",
        "---\n",
        "\n",
        "## 🔹 2. Text Type\n",
        "\n",
        "| Type   | Description     | Example            |\n",
        "|--------|------------------|--------------------|\n",
        "| `str`  | String (text)    | `name = \"Basith\"`  |\n",
        "\n",
        "---\n",
        "\n",
        "## 🔹 3. Boolean Type\n",
        "\n",
        "| Type     | Description            | Example        |\n",
        "|----------|------------------------|----------------|\n",
        "| `bool`   | True or False values   | `is_on = True` |\n",
        "\n",
        "---\n",
        "\n",
        "## 🔹 4. Sequence Types\n",
        "\n",
        "| Type    | Description                        | Example                        |\n",
        "|---------|------------------------------------|--------------------------------|\n",
        "| `list`  | Ordered, changeable, duplicates ok | `fruits = [\"apple\", \"banana\"]` |\n",
        "| `tuple` | Ordered, unchangeable              | `marks = (85, 90, 95)`         |\n",
        "| `range` | Sequence of numbers                | `r = range(5)` (0 to 4)        |\n",
        "\n",
        "---\n",
        "\n",
        "## 🔹 5. Set Types\n",
        "\n",
        "| Type        | Description              | Example               |\n",
        "|-------------|--------------------------|-----------------------|\n",
        "| `set`       | Unordered, no duplicates | `s = {1, 2, 3}`       |\n",
        "| `frozenset` | Immutable set            | `fs = frozenset([1,2,3])` |\n",
        "\n",
        "---\n",
        "\n",
        "## 🔹 6. Mapping Type\n",
        "\n",
        "| Type   | Description      | Example                                 |\n",
        "|--------|------------------|-----------------------------------------|\n",
        "| `dict` | Key-value pairs  | `person = {\"name\": \"Basith\", \"age\": 25}` |\n",
        "\n",
        "---\n",
        "\n",
        "## 🔹 7. None Type\n",
        "\n",
        "| Type    | Description             | Example     |\n",
        "|---------|-------------------------|-------------|\n",
        "| `None`  | Represents no value     | `x = None`  |\n",
        "\n",
        "---\n"
      ],
      "metadata": {
        "id": "F_kaqrXPahFd"
      }
    },
    {
      "cell_type": "code",
      "source": [],
      "metadata": {
        "id": "jgTKIJxoah31"
      },
      "execution_count": null,
      "outputs": []
    }
  ]
}