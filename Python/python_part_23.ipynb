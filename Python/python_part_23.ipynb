{
  "nbformat": 4,
  "nbformat_minor": 0,
  "metadata": {
    "colab": {
      "provenance": []
    },
    "kernelspec": {
      "name": "python3",
      "display_name": "Python 3"
    },
    "language_info": {
      "name": "python"
    }
  },
  "cells": [
    {
      "cell_type": "code",
      "execution_count": null,
      "metadata": {
        "id": "CqD4KAPa5eu5"
      },
      "outputs": [],
      "source": []
    },
    {
      "cell_type": "markdown",
      "source": [
        "# 📘Polymorphism in Python\n",
        "\n",
        "## 🔰 What is Polymorphism?\n",
        "Polymorphism means \"many forms\". It allows different classes to be treated as instances of the same class through a common interface.\n",
        "\n",
        "---\n"
      ],
      "metadata": {
        "id": "wXqD_IomeRnX"
      }
    },
    {
      "cell_type": "markdown",
      "source": [
        "## ✅ Types of Polymorphism in Python\n",
        "\n",
        "| Type                    | Also Called           | Python Support | Description |\n",
        "|-------------------------|------------------------|----------------|-------------|\n",
        "| 1. Compile-time         | Method Overloading     | ❌ Simulated   | Same method name, different arguments |\n",
        "| 2. Run-time             | Method Overriding      | ✅ Yes         | Subclass changes behavior of base class method |\n",
        "| 3. Duck Typing          | Behavioral Polymorphism| ✅ Yes         | Based on behavior, not class inheritance |\n",
        "| 4. Operator Overloading |                        | ✅ Yes         | Custom behavior for built-in operators |\n",
        "| 5. Interface/Abstract   | Formal Polymorphism    | ✅ Yes         | Enforced method contract using abc module |\n",
        "\n",
        "---"
      ],
      "metadata": {
        "id": "d7kfuZ_YeVls"
      }
    },
    {
      "cell_type": "markdown",
      "source": [
        "# Java\n",
        "```\n",
        "public class Calculator {\n",
        "\n",
        "    // Method to add two integers\n",
        "    public int add(int a, int b) {\n",
        "        return a + b;\n",
        "    }\n",
        "\n",
        "    // Overloaded method to add three integers\n",
        "    public int add(int a, int b, int c) {\n",
        "        return a + b + c;\n",
        "    }\n",
        "\n",
        "    // Overloaded method to add two doubles\n",
        "    public double add(double a, double b) {\n",
        "        return a + b;\n",
        "    }\n",
        "\n",
        "    public static void main(String[] args) {\n",
        "        Calculator calc = new Calculator();\n",
        "        System.out.println(calc.add(2, 3));          // Output: 5\n",
        "        System.out.println(calc.add(2, 3, 4));       // Output: 9\n",
        "        System.out.println(calc.add(2.5, 3.5));      // Output: 6.0\n",
        "    }\n",
        "}\n",
        "\n",
        "```"
      ],
      "metadata": {
        "id": "dNeAPp0GhEsR"
      }
    },
    {
      "cell_type": "code",
      "source": [
        "class calculator:\n",
        "  def add(self,a,b):\n",
        "    return a+b\n",
        "\n",
        "  def add(self,a,b,c):\n",
        "    return a+b\n",
        "\n",
        "calc = calculator()\n",
        "print(calc.add(2,3))\n",
        "print(calc.add(2,3,5))"
      ],
      "metadata": {
        "colab": {
          "base_uri": "https://localhost:8080/",
          "height": 198
        },
        "id": "9NTMaCVWjA1a",
        "outputId": "e188225b-b037-4050-9e03-ae39ad0ab822"
      },
      "execution_count": null,
      "outputs": [
        {
          "output_type": "error",
          "ename": "TypeError",
          "evalue": "calculator.add() missing 1 required positional argument: 'c'",
          "traceback": [
            "\u001b[0;31m---------------------------------------------------------------------------\u001b[0m",
            "\u001b[0;31mTypeError\u001b[0m                                 Traceback (most recent call last)",
            "\u001b[0;32m/tmp/ipython-input-3839376704.py\u001b[0m in \u001b[0;36m<cell line: 0>\u001b[0;34m()\u001b[0m\n\u001b[1;32m      7\u001b[0m \u001b[0;34m\u001b[0m\u001b[0m\n\u001b[1;32m      8\u001b[0m \u001b[0mcalc\u001b[0m \u001b[0;34m=\u001b[0m \u001b[0mcalculator\u001b[0m\u001b[0;34m(\u001b[0m\u001b[0;34m)\u001b[0m\u001b[0;34m\u001b[0m\u001b[0;34m\u001b[0m\u001b[0m\n\u001b[0;32m----> 9\u001b[0;31m \u001b[0mprint\u001b[0m\u001b[0;34m(\u001b[0m\u001b[0mcalc\u001b[0m\u001b[0;34m.\u001b[0m\u001b[0madd\u001b[0m\u001b[0;34m(\u001b[0m\u001b[0;36m2\u001b[0m\u001b[0;34m,\u001b[0m\u001b[0;36m3\u001b[0m\u001b[0;34m)\u001b[0m\u001b[0;34m)\u001b[0m\u001b[0;34m\u001b[0m\u001b[0;34m\u001b[0m\u001b[0m\n\u001b[0m\u001b[1;32m     10\u001b[0m \u001b[0mprint\u001b[0m\u001b[0;34m(\u001b[0m\u001b[0mcalc\u001b[0m\u001b[0;34m.\u001b[0m\u001b[0madd\u001b[0m\u001b[0;34m(\u001b[0m\u001b[0;36m2\u001b[0m\u001b[0;34m,\u001b[0m\u001b[0;36m3\u001b[0m\u001b[0;34m,\u001b[0m\u001b[0;36m5\u001b[0m\u001b[0;34m)\u001b[0m\u001b[0;34m)\u001b[0m\u001b[0;34m\u001b[0m\u001b[0;34m\u001b[0m\u001b[0m\n",
            "\u001b[0;31mTypeError\u001b[0m: calculator.add() missing 1 required positional argument: 'c'"
          ]
        }
      ]
    },
    {
      "cell_type": "code",
      "source": [
        "class calculator:\n",
        "  def add(self,*args):\n",
        "    sum = 0\n",
        "    for num in args:\n",
        "      sum += num\n",
        "\n",
        "    return sum\n",
        "\n",
        "calc = calculator()\n",
        "print(calc.add(2,3))\n",
        "print(calc.add(2,3,5))"
      ],
      "metadata": {
        "colab": {
          "base_uri": "https://localhost:8080/"
        },
        "id": "P-kN2nAnuYaw",
        "outputId": "768e261b-fe35-4e44-a7c2-b4bd568e4dac"
      },
      "execution_count": null,
      "outputs": [
        {
          "output_type": "stream",
          "name": "stdout",
          "text": [
            "5\n",
            "10\n"
          ]
        }
      ]
    },
    {
      "cell_type": "code",
      "source": [
        "## 🔹 1. Compile-time Polymorphism (Simulated Method Overloading)\n",
        "\n",
        "class Greet:\n",
        "    def hello(self, name=None):\n",
        "        if name:\n",
        "            print(f\"Hello, {name}!\")\n",
        "        else:\n",
        "            print(\"Hello!\")\n",
        "\n",
        "g = Greet()\n",
        "g.hello()\n",
        "g.hello(\"Basith\")\n"
      ],
      "metadata": {
        "colab": {
          "base_uri": "https://localhost:8080/"
        },
        "id": "Syo-fpE6eUlg",
        "outputId": "be839941-9bc1-44f1-f571-5ee5125b1e0e"
      },
      "execution_count": null,
      "outputs": [
        {
          "output_type": "stream",
          "name": "stdout",
          "text": [
            "Hello!\n",
            "Hello, Basith!\n"
          ]
        }
      ]
    },
    {
      "cell_type": "code",
      "source": [
        "## 🔹 2. Run-time Polymorphism (Method Overriding)\n",
        "\n",
        "class Animal:\n",
        "    def speak(self):\n",
        "        print(\"Animal speaks\")\n",
        "\n",
        "class Dog(Animal):\n",
        "    def speak(self):\n",
        "        print(\"Dog barks\")\n",
        "\n",
        "a = Animal()\n",
        "d = Dog()\n",
        "\n",
        "a.speak()\n",
        "d.speak()"
      ],
      "metadata": {
        "colab": {
          "base_uri": "https://localhost:8080/"
        },
        "id": "rtQrx5ANeg64",
        "outputId": "3ac0e103-43fb-4a2b-a06d-609db959a0da"
      },
      "execution_count": null,
      "outputs": [
        {
          "output_type": "stream",
          "name": "stdout",
          "text": [
            "Animal speaks\n"
          ]
        }
      ]
    },
    {
      "cell_type": "code",
      "source": [
        "\n",
        "## 🔹 3. Duck Typing\n",
        "\n",
        "class Duck:\n",
        "    def sound(self):\n",
        "        print(\"Quack\")\n",
        "\n",
        "class Cat:\n",
        "    def sound(self):\n",
        "        print(\"Meow\")\n",
        "\n",
        "def make_sound(animal):\n",
        "    animal.sound()\n",
        "\n",
        "make_sound(Duck())\n",
        "make_sound(Cat())"
      ],
      "metadata": {
        "colab": {
          "base_uri": "https://localhost:8080/"
        },
        "id": "yyJ3AweTem-i",
        "outputId": "c46eb28b-4e45-4b56-aee1-c65063047b50"
      },
      "execution_count": null,
      "outputs": [
        {
          "output_type": "stream",
          "name": "stdout",
          "text": [
            "Quack\n",
            "Meow\n"
          ]
        }
      ]
    },
    {
      "cell_type": "code",
      "source": [
        "## 🔹 4. Operator Overloading\n",
        "class Book:\n",
        "    def __init__(self, pages):\n",
        "        self.pages = pages\n",
        "\n",
        "    def __add__(self, other):\n",
        "        return self.pages + other.pages\n",
        "\n",
        "b1 = Book(100)\n",
        "b2 = Book(200)\n",
        "print(b1 + b2)"
      ],
      "metadata": {
        "colab": {
          "base_uri": "https://localhost:8080/"
        },
        "id": "lhIGwmcIesFt",
        "outputId": "4031922d-5252-458e-fadf-0b969dfe13ad"
      },
      "execution_count": null,
      "outputs": [
        {
          "output_type": "stream",
          "name": "stdout",
          "text": [
            "300\n"
          ]
        }
      ]
    },
    {
      "cell_type": "code",
      "source": [
        "\n",
        "## 🔹 5. Interface / Abstract Class (Using abc module)\n",
        "\n",
        "### Interface-style Abstract Base Class\n",
        "\n",
        "from abc import ABC, abstractmethod\n",
        "\n",
        "class BirdInterface(ABC):\n",
        "    @abstractmethod\n",
        "    def fly(self):\n",
        "        pass\n",
        "\n",
        "    @abstractmethod\n",
        "    def sing(self):\n",
        "        pass\n",
        "\n",
        "\n",
        "\n",
        "class Sparrow(BirdInterface):\n",
        "    def fly(self):\n",
        "        print(\"Sparrow flies\")\n",
        "\n",
        "    def sing(self):\n",
        "        print(\"Sparrow sings\")\n",
        "\n",
        "s = Sparrow()\n",
        "s.fly()\n",
        "s.sing()"
      ],
      "metadata": {
        "colab": {
          "base_uri": "https://localhost:8080/"
        },
        "id": "vr7H69LdezaW",
        "outputId": "9bb1ecd2-44af-41c6-abad-ffbbb7721de6"
      },
      "execution_count": null,
      "outputs": [
        {
          "output_type": "stream",
          "name": "stdout",
          "text": [
            "Sparrow flies\n",
            "Sparrow sings\n"
          ]
        }
      ]
    },
    {
      "cell_type": "markdown",
      "source": [
        "## Abstract Class with Data and Logic"
      ],
      "metadata": {
        "id": "DdzgKfTcfnKo"
      }
    },
    {
      "cell_type": "code",
      "source": [
        "from abc import ABC, abstractmethod\n",
        "\n",
        "class Vehicle(ABC):\n",
        "    def __init__(self, brand):\n",
        "        self.brand = brand\n",
        "\n",
        "    def start_engine(self):\n",
        "        print(f\"{self.brand} engine started\")\n",
        "\n",
        "    @abstractmethod\n",
        "    def drive(self):\n",
        "        pass\n",
        "\n",
        "class Car(Vehicle):\n",
        "    def drive(self):\n",
        "        print(f\"{self.brand} is driving\")\n",
        "\n",
        "c = Car(\"Toyota\")\n",
        "c.start_engine()\n",
        "c.drive()"
      ],
      "metadata": {
        "colab": {
          "base_uri": "https://localhost:8080/"
        },
        "id": "gKHNZ0_Fe8gv",
        "outputId": "0b812dfe-8136-4079-ec60-04ea96a0f746"
      },
      "execution_count": null,
      "outputs": [
        {
          "output_type": "stream",
          "name": "stdout",
          "text": [
            "Toyota engine started\n",
            "Toyota is driving\n"
          ]
        }
      ]
    },
    {
      "cell_type": "code",
      "source": [],
      "metadata": {
        "id": "homR-jlUfHjC"
      },
      "execution_count": null,
      "outputs": []
    },
    {
      "cell_type": "markdown",
      "source": [
        "\n",
        "## 🔁 Interface vs Abstract Class Comparison\n",
        "\n",
        "| Feature                     | Interface Style (`ABC`)   | Abstract Class (`ABC`)    |\n",
        "|-----------------------------|----------------------------|----------------------------|\n",
        "| Can have abstract methods   | ✅ Yes                     | ✅ Yes                     |\n",
        "| Can have concrete methods   | ⚠️ Avoid (allowed)        | ✅ Yes                     |\n",
        "| Can have data fields        | ⚠️ Avoid                  | ✅ Yes                     |\n",
        "| Object creation             | ❌ No                      | ❌ No                      |\n",
        "| Purpose                     | Method contract only       | Logic + contract           |\n",
        "| Example                     | `BirdInterface`            | `Vehicle`                  |\n",
        "\n",
        "---\n",
        "\n",
        "## 🧠 When to Use What?\n",
        "\n",
        "| Use Case                              | Choose           |\n",
        "|---------------------------------------|------------------|\n",
        "| Only method structure (no logic)      | Interface        |\n",
        "| Some shared logic + some abstraction | Abstract Class   |\n",
        "| All logic known                       | Concrete Class   |"
      ],
      "metadata": {
        "id": "Qbz5Ty8zfHsi"
      }
    },
    {
      "cell_type": "code",
      "source": [
        "# Real time Example\n",
        "class Payment:\n",
        "    def make_payment(self, amount):\n",
        "        pass  # Base method to be overridden\n",
        "\n",
        "class CreditCardPayment(Payment):\n",
        "    def make_payment(self, amount):\n",
        "        print(f\"Processing credit card payment of ${amount}\")\n",
        "\n",
        "class PayPalPayment(Payment):\n",
        "    def make_payment(self, amount):\n",
        "        print(f\"Processing PayPal payment of ${amount}\")\n",
        "\n",
        "class CashPayment(Payment):\n",
        "    def make_payment(self, amount):\n",
        "        print(f\"Processing cash payment of ${amount}\")\n",
        "\n",
        "# Usage:\n",
        "def process_payment(payment_method, amount):\n",
        "    payment_method.make_payment(amount)\n",
        "\n",
        "# Different payment methods used in the system\n",
        "cc = CreditCardPayment()\n",
        "pp = PayPalPayment()\n",
        "cash = CashPayment()\n",
        "\n",
        "process_payment(cc, 100)\n",
        "process_payment(pp, 50)\n",
        "process_payment(cash, 20)\n"
      ],
      "metadata": {
        "colab": {
          "base_uri": "https://localhost:8080/"
        },
        "id": "H62-UY2QfDKx",
        "outputId": "b2875c6e-4bc7-470d-a7ca-ee7e05600840"
      },
      "execution_count": null,
      "outputs": [
        {
          "output_type": "stream",
          "name": "stdout",
          "text": [
            "deposit added\n",
            "deposit added\n",
            "deposit added\n"
          ]
        },
        {
          "output_type": "execute_result",
          "data": {
            "text/plain": [
              "100"
            ]
          },
          "metadata": {},
          "execution_count": 36
        }
      ]
    },
    {
      "cell_type": "code",
      "source": [],
      "metadata": {
        "id": "VQEfCTbu5M__"
      },
      "execution_count": null,
      "outputs": []
    }
  ]
}