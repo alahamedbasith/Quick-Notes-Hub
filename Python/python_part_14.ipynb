{
  "nbformat": 4,
  "nbformat_minor": 0,
  "metadata": {
    "colab": {
      "provenance": []
    },
    "kernelspec": {
      "name": "python3",
      "display_name": "Python 3"
    },
    "language_info": {
      "name": "python"
    }
  },
  "cells": [
    {
      "cell_type": "markdown",
      "source": [
        "# Strings in Python – Complete Overview\n",
        "\n",
        "In Python, strings are sequences of characters enclosed in either single quotes ('...') or double quotes (\"...\")."
      ],
      "metadata": {
        "id": "QjEgIie4Bzwk"
      }
    },
    {
      "cell_type": "code",
      "source": [
        " # Creating the string\n",
        "\n",
        "s1 = 'Hello'\n",
        "s2 = \"World\"\n",
        "s3 = '''This is a multi-line\n",
        "string in Python.'''\n",
        "\n",
        "print(s1,s2,s3)\n"
      ],
      "metadata": {
        "colab": {
          "base_uri": "https://localhost:8080/"
        },
        "id": "7aG44cCSB4tC",
        "outputId": "60a5a5a6-fc49-42be-b0dd-fbbaa45cae4b"
      },
      "execution_count": 21,
      "outputs": [
        {
          "output_type": "stream",
          "name": "stdout",
          "text": [
            "Hello World This is a multi-line\n",
            "string in Python.\n"
          ]
        }
      ]
    },
    {
      "cell_type": "code",
      "source": [
        "# Accessing Characters\n",
        "\n",
        "text = \"Python\"\n",
        "print(text[0])     # P\n",
        "print(text[-1])    # n (last character)"
      ],
      "metadata": {
        "colab": {
          "base_uri": "https://localhost:8080/"
        },
        "id": "XMroEBZHCDd-",
        "outputId": "ad999226-133c-4f16-afba-e315f41f4d05"
      },
      "execution_count": 12,
      "outputs": [
        {
          "output_type": "stream",
          "name": "stdout",
          "text": [
            "P\n",
            "n\n"
          ]
        }
      ]
    },
    {
      "cell_type": "code",
      "source": [
        "# String Slicing\n",
        "\n",
        "text = \"Python\"\n",
        "print(text[0:3])   # Pyt\n",
        "print(text[:4])    # Pyth\n",
        "print(text[2:])    # thon\n",
        "print(text[::-1])  # Reverse: nohtyP"
      ],
      "metadata": {
        "colab": {
          "base_uri": "https://localhost:8080/"
        },
        "id": "YThGLKGUCMD0",
        "outputId": "b769c4bb-88cf-4f7b-9571-3daa7685c3fd"
      },
      "execution_count": 22,
      "outputs": [
        {
          "output_type": "stream",
          "name": "stdout",
          "text": [
            "Pyt\n",
            "Pyth\n",
            "thon\n",
            "nohtyP\n"
          ]
        }
      ]
    },
    {
      "cell_type": "code",
      "source": [
        "# String Immutability\n",
        "\n",
        "s = \"Hello\"\n",
        "s[0] = 'h'  # ❌ This will raise an error"
      ],
      "metadata": {
        "colab": {
          "base_uri": "https://localhost:8080/",
          "height": 180
        },
        "id": "5X5j02A6CWsi",
        "outputId": "86fbc3e1-f055-48b0-89cd-db5a38a695a9"
      },
      "execution_count": 23,
      "outputs": [
        {
          "output_type": "error",
          "ename": "TypeError",
          "evalue": "'str' object does not support item assignment",
          "traceback": [
            "\u001b[0;31m---------------------------------------------------------------------------\u001b[0m",
            "\u001b[0;31mTypeError\u001b[0m                                 Traceback (most recent call last)",
            "\u001b[0;32m/tmp/ipython-input-23-2247971315.py\u001b[0m in \u001b[0;36m<cell line: 0>\u001b[0;34m()\u001b[0m\n\u001b[1;32m      2\u001b[0m \u001b[0;34m\u001b[0m\u001b[0m\n\u001b[1;32m      3\u001b[0m \u001b[0ms\u001b[0m \u001b[0;34m=\u001b[0m \u001b[0;34m\"Hello\"\u001b[0m\u001b[0;34m\u001b[0m\u001b[0;34m\u001b[0m\u001b[0m\n\u001b[0;32m----> 4\u001b[0;31m \u001b[0ms\u001b[0m\u001b[0;34m[\u001b[0m\u001b[0;36m0\u001b[0m\u001b[0;34m]\u001b[0m \u001b[0;34m=\u001b[0m \u001b[0;34m'h'\u001b[0m  \u001b[0;31m# ❌ This will raise an error\u001b[0m\u001b[0;34m\u001b[0m\u001b[0;34m\u001b[0m\u001b[0m\n\u001b[0m",
            "\u001b[0;31mTypeError\u001b[0m: 'str' object does not support item assignment"
          ]
        }
      ]
    },
    {
      "cell_type": "code",
      "source": [
        "a = \"hello\"\n",
        "b = a.replace(\"h\",\"H\")\n",
        "print(b)"
      ],
      "metadata": {
        "colab": {
          "base_uri": "https://localhost:8080/"
        },
        "id": "vx-VDBseQ9JP",
        "outputId": "ac6c6df3-4faf-487a-c16d-71cce8ba183a"
      },
      "execution_count": 30,
      "outputs": [
        {
          "output_type": "stream",
          "name": "stdout",
          "text": [
            "Hello\n"
          ]
        }
      ]
    },
    {
      "cell_type": "markdown",
      "source": [
        "# String Builtin Methods\n",
        "| Method          | Description                            | Example                          |\n",
        "| --------------- | -------------------------------------- | -------------------------------- |\n",
        "| `lower()`       | Converts to lowercase                  | `'HELLO'.lower()` → `'hello'`    |\n",
        "| `upper()`       | Converts to uppercase                  | `'hello'.upper()` → `'HELLO'`    |\n",
        "| `title()`       | Title cases the string                 | `'hello world'.title()`          |\n",
        "| `strip()`       | Removes surrounding whitespace         | `' hello '.strip()` → `'hello'`  |\n",
        "| `replace(a, b)` | Replace `a` with `b`                   | `'hello'.replace('l', 'x')`      |\n",
        "| `split()`       | Splits string into list                | `'a,b,c'.split(',')`             |\n",
        "| `join()`        | Joins elements of a list into a string | `'-'.join(['a', 'b'])` → `'a-b'` |\n",
        "| `startswith()`  | Checks if starts with a value          | `'hello'.startswith('he')`       |\n",
        "| `endswith()`    | Checks if ends with a value            | `'hello'.endswith('lo')`         |\n",
        "| `find()`        | Finds index of substring               | `'hello'.find('l')` → `2`        |\n",
        "| `count()`       | Counts occurrences of a substring      | `'banana'.count('a')` → `3`      |\n",
        "| `isdigit()`     | Checks if all chars are digits         | `'123'.isdigit()` → `True`       |\n",
        "| `isalpha()`     | Checks if all chars are alphabets      | `'abc'.isalpha()` → `True`       |\n"
      ],
      "metadata": {
        "id": "_OgJW7U7Cb_g"
      }
    },
    {
      "cell_type": "code",
      "source": [
        "# String Formatting\n",
        "\n",
        "name = \"Ahamed\"\n",
        "age = 25\n",
        "print(f\"My name is {name} and I am {age} years old.\")  # f-string\n",
        "print(\"My name is {} and I am {} years old.\".format(name, age))\n"
      ],
      "metadata": {
        "id": "KFKNj7XTCcxy"
      },
      "execution_count": null,
      "outputs": []
    },
    {
      "cell_type": "markdown",
      "source": [
        "# Escape Characters\n",
        "\n",
        "| Escape Code | Meaning         |\n",
        "| ----------- | --------------- |\n",
        "| `\\n`        | New line        |\n",
        "| `\\t`        | Tab             |\n",
        "| `\\\\`        | Backslash (`\\`) |\n",
        "| `\\'`        | Single quote    |\n",
        "| `\\\"`        | Double quote    |\n"
      ],
      "metadata": {
        "id": "B2j8x4QRCqRs"
      }
    },
    {
      "cell_type": "code",
      "source": [
        "print(\"Hello\\\"s World\")  # New line\n"
      ],
      "metadata": {
        "colab": {
          "base_uri": "https://localhost:8080/"
        },
        "id": "H3HverZNCxJB",
        "outputId": "14ac202a-cf1f-4fb0-e8ed-4ccf99bcc285"
      },
      "execution_count": 34,
      "outputs": [
        {
          "output_type": "stream",
          "name": "stdout",
          "text": [
            "Hello\"s World\n"
          ]
        }
      ]
    },
    {
      "cell_type": "markdown",
      "source": [
        "# String Operations"
      ],
      "metadata": {
        "id": "7HcBoPgpC98B"
      }
    },
    {
      "cell_type": "code",
      "source": [
        "# Concatenation\n",
        "s1 = \"Hello\"\n",
        "s2 = \"World\"\n",
        "print(s1 + \" \" + s2)\n",
        "\n",
        "# Repetition\n",
        "print(\"ha\" * 3)  # hahaha\n",
        "\n",
        "# Membership test\n",
        "print(\"a\" in \"banana\")  # True\n"
      ],
      "metadata": {
        "colab": {
          "base_uri": "https://localhost:8080/"
        },
        "id": "fK5J7YeDC03t",
        "outputId": "b30b64e9-a603-41fd-f6dd-22b67db97ca6"
      },
      "execution_count": 35,
      "outputs": [
        {
          "output_type": "stream",
          "name": "stdout",
          "text": [
            "Hello World\n",
            "hahaha\n",
            "True\n"
          ]
        }
      ]
    },
    {
      "cell_type": "code",
      "source": [
        "#  Unicode & Encoding\n",
        "\n",
        "text = \"வணக்கம்\"\n",
        "print(text.encode(\"utf-8\"))  # Convert to bytes"
      ],
      "metadata": {
        "colab": {
          "base_uri": "https://localhost:8080/"
        },
        "id": "2QWAAwdbDGrX",
        "outputId": "d7576462-976b-43b4-81db-410a582d2e81"
      },
      "execution_count": 36,
      "outputs": [
        {
          "output_type": "stream",
          "name": "stdout",
          "text": [
            "b'\\xe0\\xae\\xb5\\xe0\\xae\\xa3\\xe0\\xae\\x95\\xe0\\xaf\\x8d\\xe0\\xae\\x95\\xe0\\xae\\xae\\xe0\\xaf\\x8d'\n"
          ]
        }
      ]
    },
    {
      "cell_type": "markdown",
      "source": [
        "# Collections Module – Advanced Collections\n"
      ],
      "metadata": {
        "id": "s4sdTIbPETe1"
      }
    },
    {
      "cell_type": "markdown",
      "source": [
        "## 1. namedtuple() – Named Fields in Tuples\n",
        "Use case: Access tuple elements using names instead of just indexes."
      ],
      "metadata": {
        "id": "_0uKQ6MyEgHN"
      }
    },
    {
      "cell_type": "code",
      "source": [
        "from collections import namedtuple\n",
        "\n",
        "# Define a named tuple called 'Student'\n",
        "Student = namedtuple('Student', ['name', 'age', 'grade'])\n",
        "\n",
        "s1 = Student(name='Ahamed', age=21, grade='A')\n",
        "\n",
        "print(s1.name)   # Ahamed\n",
        "print(s1[1])     # 21 (also accessible by index)"
      ],
      "metadata": {
        "colab": {
          "base_uri": "https://localhost:8080/"
        },
        "id": "3yCg6ggxEfgC",
        "outputId": "fd2c884b-7f1d-464b-cef8-438aa51c48ba"
      },
      "execution_count": 4,
      "outputs": [
        {
          "output_type": "stream",
          "name": "stdout",
          "text": [
            "Ahamed\n",
            "21\n"
          ]
        }
      ]
    },
    {
      "cell_type": "markdown",
      "source": [
        "## 2. deque – Double-Ended Queue\n",
        "Use case: Fast append and pop from both sides (faster than list)."
      ],
      "metadata": {
        "id": "KSgWlp3nEq83"
      }
    },
    {
      "cell_type": "code",
      "source": [
        "from collections import deque\n",
        "\n",
        "dq = deque([1, 2, 3])\n",
        "dq.append(4)        # [1, 2, 3, 4]\n",
        "dq.appendleft(0)    # [0, 1, 2, 3, 4]\n",
        "\n",
        "dq.pop()            # Removes 4\n",
        "dq.popleft()        # Removes 0\n",
        "\n",
        "print(dq)           # deque([1, 2, 3])\n"
      ],
      "metadata": {
        "colab": {
          "base_uri": "https://localhost:8080/"
        },
        "id": "gwjdb_b6EWtg",
        "outputId": "0f850fbe-3fb8-4cab-a861-5300d0a3fb02"
      },
      "execution_count": 5,
      "outputs": [
        {
          "output_type": "stream",
          "name": "stdout",
          "text": [
            "deque([1, 2, 3])\n"
          ]
        }
      ]
    },
    {
      "cell_type": "markdown",
      "source": [
        "## 3. Counter – Count Frequencies\n",
        "Use case: Count how many times each element appears in a list or string."
      ],
      "metadata": {
        "id": "fpUlz06oEypR"
      }
    },
    {
      "cell_type": "code",
      "source": [
        "from collections import Counter\n",
        "\n",
        "fruits = ['apple', 'banana', 'apple', 'cherry', 'banana', 'apple']\n",
        "count = Counter(fruits)\n",
        "\n",
        "print(count)             # Counter({'apple': 3, 'banana': 2, 'cherry': 1})\n",
        "print(count['apple'])    # 3"
      ],
      "metadata": {
        "colab": {
          "base_uri": "https://localhost:8080/"
        },
        "id": "SXcICodQExgg",
        "outputId": "ae399efb-1c71-4592-db6d-9fdc6eb978a9"
      },
      "execution_count": 37,
      "outputs": [
        {
          "output_type": "stream",
          "name": "stdout",
          "text": [
            "Counter({'apple': 3, 'banana': 2, 'cherry': 1})\n",
            "3\n"
          ]
        }
      ]
    },
    {
      "cell_type": "markdown",
      "source": [
        "## 4. OrderedDict (Python < 3.7) – Maintains Order\n",
        "Use case: Like a regular dict, but remembers insertion order (before Python 3.7 this was not guaranteed)."
      ],
      "metadata": {
        "id": "EIMibbeXE4Lv"
      }
    },
    {
      "cell_type": "code",
      "source": [
        "from collections import OrderedDict\n",
        "\n",
        "od = OrderedDict()\n",
        "od['one'] = 1\n",
        "od['two'] = 2\n",
        "od['three'] = 3\n",
        "\n",
        "print(od)  # OrderedDict([('one', 1), ('two', 2), ('three', 3)])"
      ],
      "metadata": {
        "colab": {
          "base_uri": "https://localhost:8080/"
        },
        "id": "HXAVhk22E-zb",
        "outputId": "ec4b615d-d906-4e84-c15a-09600f762a63"
      },
      "execution_count": 6,
      "outputs": [
        {
          "output_type": "stream",
          "name": "stdout",
          "text": [
            "OrderedDict([('one', 1), ('two', 2), ('three', 3)])\n"
          ]
        }
      ]
    },
    {
      "cell_type": "markdown",
      "source": [
        "## 5. defaultdict – Default Values for Missing Keys\n",
        "Use case: Avoid KeyError by setting a default type for values."
      ],
      "metadata": {
        "id": "t3BFfBh3FGXg"
      }
    },
    {
      "cell_type": "code",
      "source": [
        "from collections import defaultdict\n",
        "\n",
        "# Default value is int() → 0\n",
        "dd = defaultdict(int)\n",
        "\n",
        "# dd['apple'] += 1\n",
        "# dd['banana'] += 1\n",
        "\n",
        "print()  # defaultdict(<class 'int'>, {'apple': 1, 'banana': 1})\n"
      ],
      "metadata": {
        "colab": {
          "base_uri": "https://localhost:8080/"
        },
        "id": "UlOO7_4rFAh8",
        "outputId": "b798aed9-4b62-4cc3-ab45-57a88e1acb31"
      },
      "execution_count": 38,
      "outputs": [
        {
          "output_type": "stream",
          "name": "stdout",
          "text": [
            "0\n"
          ]
        }
      ]
    },
    {
      "cell_type": "markdown",
      "source": [
        "## 6. ChainMap – Combine Multiple Dictionaries\n",
        "Use case: Search multiple dictionaries as a single view."
      ],
      "metadata": {
        "id": "F_rGnNaKFJ15"
      }
    },
    {
      "cell_type": "code",
      "source": [
        "from collections import ChainMap\n",
        "\n",
        "dict1 = {'a': 1, 'b': 2}\n",
        "dict2 = {'b': 3, 'c': 4}\n",
        "\n",
        "combined = ChainMap(dict1, dict2)\n",
        "\n",
        "print(combined['a'])  # 1 (from dict1)\n",
        "print(combined['b'])  # 2 (from dict1, takes first match)\n",
        "print(combined['c'])  # 4 (from dict2)\n"
      ],
      "metadata": {
        "colab": {
          "base_uri": "https://localhost:8080/"
        },
        "id": "K2jmJVcoFL0l",
        "outputId": "f9b3a446-4b9b-4647-b924-49ddea7a58cd"
      },
      "execution_count": 7,
      "outputs": [
        {
          "output_type": "stream",
          "name": "stdout",
          "text": [
            "1\n",
            "2\n",
            "4\n"
          ]
        }
      ]
    },
    {
      "cell_type": "code",
      "source": [],
      "metadata": {
        "id": "bWQHLSReFNht"
      },
      "execution_count": null,
      "outputs": []
    }
  ]
}