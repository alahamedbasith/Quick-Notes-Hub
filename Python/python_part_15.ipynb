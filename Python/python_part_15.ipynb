{
  "nbformat": 4,
  "nbformat_minor": 0,
  "metadata": {
    "colab": {
      "provenance": []
    },
    "kernelspec": {
      "name": "python3",
      "display_name": "Python 3"
    },
    "language_info": {
      "name": "python"
    }
  },
  "cells": [
    {
      "cell_type": "code",
      "execution_count": null,
      "metadata": {
        "id": "aLzJDNq8mn3V"
      },
      "outputs": [],
      "source": [
        "def odd_even(num):\n",
        "  if num % 2 == 0:\n",
        "    print(\"even\")\n",
        "  else:\n",
        "    print(\"odd\")"
      ]
    },
    {
      "cell_type": "code",
      "source": [
        "odd_even(20)\n",
        "odd_even(305)"
      ],
      "metadata": {
        "colab": {
          "base_uri": "https://localhost:8080/"
        },
        "id": "vmhXRTBnZJ3y",
        "outputId": "8a847ce0-ec23-414a-9456-09e74946d836"
      },
      "execution_count": null,
      "outputs": [
        {
          "output_type": "stream",
          "name": "stdout",
          "text": [
            "even\n",
            "odd\n"
          ]
        }
      ]
    },
    {
      "cell_type": "code",
      "source": [
        "num = 60\n",
        "\n",
        "if num % 2 == 0:\n",
        "  print(\"even\")\n",
        "else:\n",
        "  print(\"odd\")"
      ],
      "metadata": {
        "colab": {
          "base_uri": "https://localhost:8080/"
        },
        "id": "04WZq9CpYgRE",
        "outputId": "778bc587-c7fc-4492-b9fd-f278c1d1252c"
      },
      "execution_count": null,
      "outputs": [
        {
          "output_type": "stream",
          "name": "stdout",
          "text": [
            "even\n"
          ]
        }
      ]
    },
    {
      "cell_type": "markdown",
      "source": [
        "# 1. Function Basics\n",
        "## 🔹 What is a Function?\n",
        "A function is a block of reusable code that performs a specific task.\n",
        "\n",
        "🔹 Syntax\n",
        "```python\n",
        "def function_name(parameters):\n",
        "    # function body\n",
        "    return result  # optional\n",
        "\n",
        "```\n"
      ],
      "metadata": {
        "id": "KNCzvJFqnDd2"
      }
    },
    {
      "cell_type": "code",
      "source": [],
      "metadata": {
        "id": "n6kpKc62nQd6"
      },
      "execution_count": null,
      "outputs": []
    },
    {
      "cell_type": "markdown",
      "source": [
        "##2. Simple Function Examples\n",
        "➤ No Parameter, No Return\n",
        "```python\n",
        "def greet():\n",
        "    print(\"Hello, world!\")\n",
        "\n",
        "greet()\n",
        "\n",
        "```"
      ],
      "metadata": {
        "id": "iOsqAAmUnUq7"
      }
    },
    {
      "cell_type": "code",
      "source": [
        "def greet():\n",
        "    print(\"Hello, world!\")\n",
        "\n",
        "greet()\n",
        "greet()\n",
        "greet()"
      ],
      "metadata": {
        "colab": {
          "base_uri": "https://localhost:8080/"
        },
        "id": "2N2C500Hnj1Y",
        "outputId": "7158e0ee-90b0-48c9-ab74-053c7f335d52"
      },
      "execution_count": null,
      "outputs": [
        {
          "output_type": "stream",
          "name": "stdout",
          "text": [
            "Hello, world!\n",
            "Hello, world!\n",
            "Hello, world!\n"
          ]
        }
      ]
    },
    {
      "cell_type": "markdown",
      "source": [
        "➤ With Parameter, No Return\n",
        "\n",
        "```python\n",
        "def greet_user(name):\n",
        "    print(f\"Hello, {name}!\")\n",
        "\n",
        "greet_user(\"Ahamed\")\n",
        "\n",
        "```"
      ],
      "metadata": {
        "id": "xrp71GUpnrmX"
      }
    },
    {
      "cell_type": "code",
      "source": [
        "def user(name): # name = \"Ahamed\"\n",
        "   print(f\"Hello World, {name}!\")\n",
        "\n",
        "name = input(\"Enter a user name:\")\n",
        "\n",
        "user(name) # Ahamed"
      ],
      "metadata": {
        "colab": {
          "base_uri": "https://localhost:8080/"
        },
        "id": "Mh0pfqnXnuqk",
        "outputId": "443141fa-6f1a-4ea5-95f7-13994549af4f"
      },
      "execution_count": null,
      "outputs": [
        {
          "output_type": "stream",
          "name": "stdout",
          "text": [
            "Enter a user name:Ahamed\n",
            "Hello World, Ahamed!\n"
          ]
        }
      ]
    },
    {
      "cell_type": "markdown",
      "source": [
        "➤ With Parameter and Return\n",
        "\n",
        "```python\n",
        "def add(a, b):\n",
        "    return a + b\n",
        "\n",
        "result = add(5, 3)\n",
        "print(\"Sum:\", result)\n",
        "\n",
        "```"
      ],
      "metadata": {
        "id": "qRDrfiXkn11e"
      }
    },
    {
      "cell_type": "code",
      "source": [
        "def add(a, b):\n",
        "    return a + b\n",
        "\n",
        "print(add(2,3))"
      ],
      "metadata": {
        "colab": {
          "base_uri": "https://localhost:8080/"
        },
        "id": "PtlH0Plgn9VT",
        "outputId": "1bf115b8-98fa-41a0-ee8b-a32e5c91947e"
      },
      "execution_count": null,
      "outputs": [
        {
          "output_type": "stream",
          "name": "stdout",
          "text": [
            "5\n"
          ]
        }
      ]
    },
    {
      "cell_type": "markdown",
      "source": [
        " ➤ No Parameter and Return\n",
        "\n",
        " ```python\n",
        " def pi():\n",
        "    PI = 3.14\n",
        "    return PI\n",
        "\n",
        "result = pi()\n",
        "print(\"pi value:\", result)\n",
        " ```"
      ],
      "metadata": {
        "id": "hb1aaSXEoPz6"
      }
    },
    {
      "cell_type": "code",
      "source": [
        "def pi():\n",
        "  return 3.14\n",
        "\n",
        "pi()"
      ],
      "metadata": {
        "colab": {
          "base_uri": "https://localhost:8080/"
        },
        "id": "u_rADtWRoVtH",
        "outputId": "5642041a-93e6-4e4f-db6e-10ebea24ac6d"
      },
      "execution_count": null,
      "outputs": [
        {
          "output_type": "execute_result",
          "data": {
            "text/plain": [
              "3.14"
            ]
          },
          "metadata": {},
          "execution_count": 24
        }
      ]
    },
    {
      "cell_type": "code",
      "source": [],
      "metadata": {
        "id": "cDQSxZQvqHMY"
      },
      "execution_count": null,
      "outputs": []
    },
    {
      "cell_type": "markdown",
      "source": [
        "## 3. Types of Function Arguments\n",
        "➤ Positional Arguments\n",
        "\n",
        "```python\n",
        "def subtract(a, b):\n",
        "    return a - b\n",
        "\n",
        "print(subtract(10, 5))\n",
        "\n",
        "```"
      ],
      "metadata": {
        "id": "uEibriJDqbRT"
      }
    },
    {
      "cell_type": "code",
      "source": [
        "def subtract(first, second = 0):\n",
        "    return first - second\n",
        "\n",
        "print(subtract(second=5,first=10))"
      ],
      "metadata": {
        "colab": {
          "base_uri": "https://localhost:8080/"
        },
        "id": "pRvvlnG4quRO",
        "outputId": "d8c2f942-a784-4caf-cf91-8650c0d043c6"
      },
      "execution_count": null,
      "outputs": [
        {
          "output_type": "stream",
          "name": "stdout",
          "text": [
            "5\n"
          ]
        }
      ]
    },
    {
      "cell_type": "markdown",
      "source": [
        "➤ Default Arguments\n",
        "```python\n",
        "def power(base, exp=2):\n",
        "    return base ** exp\n",
        "\n",
        "print(power(3))       # 9\n",
        "print(power(3, 3))    # 27\n",
        "\n",
        "```"
      ],
      "metadata": {
        "id": "S8UvPMgFqxbx"
      }
    },
    {
      "cell_type": "code",
      "source": [
        "def power(base, exp=2):\n",
        "    return base ** exp\n",
        "\n",
        "print(power(3))"
      ],
      "metadata": {
        "colab": {
          "base_uri": "https://localhost:8080/"
        },
        "id": "0DD_hiAHq41Q",
        "outputId": "02748a4b-af9b-49f2-9263-950d66dccd4f"
      },
      "execution_count": null,
      "outputs": [
        {
          "output_type": "stream",
          "name": "stdout",
          "text": [
            "9\n"
          ]
        }
      ]
    },
    {
      "cell_type": "markdown",
      "source": [
        "➤ Keyword Arguments\n",
        "```python\n",
        "def student(name, age):\n",
        "    print(f\"Name: {name}, Age: {age}\")\n",
        "\n",
        "student(age=21, name=\"Sara\")\n",
        "```"
      ],
      "metadata": {
        "id": "rwEVK8_nq7C5"
      }
    },
    {
      "cell_type": "code",
      "source": [],
      "metadata": {
        "id": "suW1VjzZrUmZ"
      },
      "execution_count": null,
      "outputs": []
    },
    {
      "cell_type": "markdown",
      "source": [
        "➤ Variable-Length Arguments (*args, **kwargs)\n",
        "\n",
        "``` python\n",
        "def total_sum(*args):\n",
        "    return sum(args)\n",
        "\n",
        "print(total_sum(1, 2, 3, 4))\n",
        "\n",
        "def show_data(**kwargs):\n",
        "    for k, v in kwargs.items():\n",
        "        print(f\"{k}: {v}\")\n",
        "\n",
        "show_data(name=\"Ali\", age=22)\n",
        "\n",
        "```\n"
      ],
      "metadata": {
        "id": "F2naBX66rVwd"
      }
    },
    {
      "cell_type": "code",
      "source": [
        "def total_sum(*args):\n",
        "  return sum(args)\n",
        "\n",
        "\n",
        "print(total_sum(1, 2, 3, 4))"
      ],
      "metadata": {
        "colab": {
          "base_uri": "https://localhost:8080/"
        },
        "id": "Wx6UiRAMrf47",
        "outputId": "ac53fbe9-d137-475d-e4cc-868a758e9ac9"
      },
      "execution_count": null,
      "outputs": [
        {
          "output_type": "stream",
          "name": "stdout",
          "text": [
            "10\n"
          ]
        }
      ]
    },
    {
      "cell_type": "code",
      "source": [
        "def show_data(**kwargs):\n",
        "    for key, value in kwargs.items():\n",
        "        print(f\"{key}\")\n",
        "\n",
        "show_data(name=\"Ahamed\", age=21)"
      ],
      "metadata": {
        "colab": {
          "base_uri": "https://localhost:8080/"
        },
        "id": "wh2iI0RZghWB",
        "outputId": "4ffe6fcb-db6f-44e3-8ef0-eb0bb7e556d3"
      },
      "execution_count": null,
      "outputs": [
        {
          "output_type": "stream",
          "name": "stdout",
          "text": [
            "name\n",
            "age\n"
          ]
        }
      ]
    },
    {
      "cell_type": "code",
      "source": [
        "{\"name\":\"Ahamed\", \"age\":21}"
      ],
      "metadata": {
        "id": "vi8Yd0Y3gxUk"
      },
      "execution_count": null,
      "outputs": []
    },
    {
      "cell_type": "markdown",
      "source": [
        "# 4. Return Statement\n",
        "➤ Single Return\n",
        "\n",
        "``` python\n",
        "def multiply(x, y):\n",
        "    return x * y\n",
        "```"
      ],
      "metadata": {
        "id": "aFp1hDlarkL4"
      }
    },
    {
      "cell_type": "code",
      "source": [
        "def multiply(x, y):\n",
        "  z = x * y\n",
        "  return z\n",
        "\n",
        "multiply(2,3)"
      ],
      "metadata": {
        "colab": {
          "base_uri": "https://localhost:8080/"
        },
        "id": "iUIqzhNFr0Lb",
        "outputId": "1cb844e0-022a-40cc-cde9-8a522ccb1216"
      },
      "execution_count": null,
      "outputs": [
        {
          "output_type": "execute_result",
          "data": {
            "text/plain": [
              "6"
            ]
          },
          "metadata": {},
          "execution_count": 40
        }
      ]
    },
    {
      "cell_type": "markdown",
      "source": [
        "➤ Multiple Return\n",
        "```python\n",
        "def min_max(numbers):\n",
        "    return min(numbers), max(numbers)\n",
        "\n",
        "small, large = min_max([1, 2, 3, 4])\n",
        "print(small, large)\n",
        "```"
      ],
      "metadata": {
        "id": "_c0d87aFr3W3"
      }
    },
    {
      "cell_type": "code",
      "source": [
        "def min_max(numbers):\n",
        "    return min(numbers), max(numbers)\n",
        "\n",
        "small, large = min_max([1, 2, 3, 4])\n",
        "print(small, large)"
      ],
      "metadata": {
        "colab": {
          "base_uri": "https://localhost:8080/"
        },
        "id": "n2HKQwnVrzBZ",
        "outputId": "93bfb252-cd59-40ac-c08a-e270a7b76f17"
      },
      "execution_count": null,
      "outputs": [
        {
          "output_type": "stream",
          "name": "stdout",
          "text": [
            "1 4\n"
          ]
        }
      ]
    },
    {
      "cell_type": "code",
      "source": [],
      "metadata": {
        "id": "fftLoupttJEF"
      },
      "execution_count": null,
      "outputs": []
    },
    {
      "cell_type": "markdown",
      "source": [
        "# Recursive Function\n",
        "\n",
        "```python\n",
        "def factorial(n):\n",
        "    if n == 0:\n",
        "        return 1\n",
        "    return n * factorial(n - 1)\n",
        "\n",
        "print(factorial(5))  # 120\n",
        "\n",
        "```"
      ],
      "metadata": {
        "id": "8KbP1jcqtJfF"
      }
    },
    {
      "cell_type": "code",
      "source": [
        "def factorial(n): # 5\n",
        "    if n == 0:\n",
        "        return 1\n",
        "    return n * factorial(n - 1) # 5 x 4x  3 x 2 x 1 x 1\n",
        "\n",
        "factorial(5)"
      ],
      "metadata": {
        "colab": {
          "base_uri": "https://localhost:8080/"
        },
        "id": "Vwu9N4BXtUDA",
        "outputId": "80e362b7-2e36-4168-a2f0-37c2b01b9b66"
      },
      "execution_count": null,
      "outputs": [
        {
          "output_type": "execute_result",
          "data": {
            "text/plain": [
              "120"
            ]
          },
          "metadata": {},
          "execution_count": 42
        }
      ]
    },
    {
      "cell_type": "markdown",
      "source": [
        "## Docstring Example\n",
        "\n",
        "```python\n",
        "def divide(a, b):\n",
        "    \"\"\"\n",
        "    Divides a by b and returns the result.\n",
        "    \"\"\"\n",
        "    if b == 0:\n",
        "        return \"Cannot divide by zero\"\n",
        "    return a / b\n",
        "\n",
        "print(divide(10, 2))\n",
        "```"
      ],
      "metadata": {
        "id": "A7Yzq_wCt_vS"
      }
    },
    {
      "cell_type": "code",
      "source": [
        "def total():\n",
        "  \"\"\"\n",
        "  this function\n",
        "  \"\"\""
      ],
      "metadata": {
        "id": "jM_HZb_VuG06"
      },
      "execution_count": null,
      "outputs": []
    },
    {
      "cell_type": "markdown",
      "source": [
        "## Nested Functions\n",
        "\n",
        "```python\n",
        "def outer():\n",
        "    def inner():\n",
        "        print(\"Inner function called\")\n",
        "    inner()\n",
        "\n",
        "outer()\n",
        "```\n"
      ],
      "metadata": {
        "id": "-Z14YKdOuNZS"
      }
    },
    {
      "cell_type": "code",
      "source": [
        "def outer():\n",
        "    def inner():\n",
        "        print(\"Inner function called\")\n",
        "    inner()\n",
        "\n",
        "outer()"
      ],
      "metadata": {
        "colab": {
          "base_uri": "https://localhost:8080/"
        },
        "id": "eCa86qdmuVsW",
        "outputId": "c5145bec-db39-4d85-e799-15fc2f48f186"
      },
      "execution_count": null,
      "outputs": [
        {
          "output_type": "stream",
          "name": "stdout",
          "text": [
            "Inner function called\n"
          ]
        }
      ]
    },
    {
      "cell_type": "code",
      "source": [],
      "metadata": {
        "id": "ipDOL-WbuYXF"
      },
      "execution_count": null,
      "outputs": []
    },
    {
      "cell_type": "markdown",
      "source": [
        "## Functions as Arguments\n",
        "\n",
        "```python\n",
        "def apply(func, value):\n",
        "    return func(value)\n",
        "\n",
        "def double(x):\n",
        "    return x * 2\n",
        "\n",
        "print(apply(double, 10))  # 20\n",
        "```"
      ],
      "metadata": {
        "id": "pIeFpS0UuYuV"
      }
    },
    {
      "cell_type": "code",
      "source": [
        "def total():\n",
        "  pass\n",
        "\n",
        "print(total())"
      ],
      "metadata": {
        "id": "bGkUuKvvujfK"
      },
      "execution_count": null,
      "outputs": []
    },
    {
      "cell_type": "code",
      "source": [
        "def apply(func, value): # double, 10\n",
        "    return func(value) # double(10)\n",
        "\n",
        "def double(x):\n",
        "    return x * 2\n",
        "\n",
        "print(apply(double, 10))"
      ],
      "metadata": {
        "colab": {
          "base_uri": "https://localhost:8080/"
        },
        "id": "C4TxLp6TunFK",
        "outputId": "7c305d38-6421-4d72-eb13-b59faa7c679a"
      },
      "execution_count": null,
      "outputs": [
        {
          "output_type": "stream",
          "name": "stdout",
          "text": [
            "20\n"
          ]
        }
      ]
    },
    {
      "cell_type": "markdown",
      "source": [
        "# Best Practice\n",
        "## Type Hinting (Python 3.5+)\n",
        "\n",
        "```python\n",
        "def greet_user(name: str) -> str:\n",
        "    return f\"Hello, {name}\"\n",
        "```"
      ],
      "metadata": {
        "id": "-ptBhsT3unQF"
      }
    },
    {
      "cell_type": "code",
      "source": [],
      "metadata": {
        "id": "ZGh4-mxPuvD_"
      },
      "execution_count": null,
      "outputs": []
    },
    {
      "cell_type": "code",
      "source": [],
      "metadata": {
        "id": "kU_sZq-XxrzE"
      },
      "execution_count": null,
      "outputs": []
    },
    {
      "cell_type": "markdown",
      "source": [
        "# Real Time Example"
      ],
      "metadata": {
        "id": "fNDpc6odxsYV"
      }
    },
    {
      "cell_type": "markdown",
      "source": [
        "## Fibbonacci Series"
      ],
      "metadata": {
        "id": "TeO9kxIYysmR"
      }
    },
    {
      "cell_type": "code",
      "source": [
        "def fibonacci(n):# 0, 1\n",
        "    if n <= 0:\n",
        "        return 0\n",
        "    elif n == 1:\n",
        "        return 1\n",
        "    else:\n",
        "        return fibonacci(n - 1) + fibonacci(n - 2) # fibonacci(2 - 1) + fibonacci(2 - 2) = >fibonacci(1)+fibonacci(0)\n",
        "\n",
        "# Generate Fibonacci series up to n terms\n",
        "n_terms = 4\n",
        "print(\"Fibonacci Series using Recursion:\")\n",
        "for i in range(n_terms): # 3 , 0,1,2\n",
        "    print(fibonacci(i), end=\" \")\n"
      ],
      "metadata": {
        "colab": {
          "base_uri": "https://localhost:8080/"
        },
        "id": "rzaBGsxcxv2f",
        "outputId": "b0ed0d5b-da7b-4304-ecd5-a5b66b70722f"
      },
      "execution_count": null,
      "outputs": [
        {
          "output_type": "stream",
          "name": "stdout",
          "text": [
            "Fibonacci Series using Recursion:\n",
            "0 1 1 2 "
          ]
        }
      ]
    },
    {
      "cell_type": "markdown",
      "source": [
        "## Password Strength Checker"
      ],
      "metadata": {
        "id": "ei1sVwhcypDM"
      }
    },
    {
      "cell_type": "code",
      "source": [
        "def is_strong_password(password):\n",
        "    \"\"\"This function checks if the password is strong or not\"\"\"\n",
        "    if len(password)<8:\n",
        "        return False\n",
        "    if not any(char.isdigit() for char in password):\n",
        "        return False\n",
        "    if not any(char.islower() for char in password):\n",
        "        return False\n",
        "    if not any(char.isupper() for char in password):\n",
        "        return False\n",
        "    if not any(char in '!@#$%^&*()_+' for char in password):\n",
        "        return False\n",
        "    return True\n",
        "\n",
        "## calling the function\n",
        "print(is_strong_password(\"WeakPwd\"))\n",
        "print(is_strong_password(\"Str0ngPwd!\"))\n",
        "\n",
        "\n",
        "# def is_strong_password(password):\n",
        "#     return all([\n",
        "#         len(password) >= 8,\n",
        "#         any(char.isdigit() for char in password),\n",
        "#         any(char.islower() for char in password),\n",
        "#         any(char.isupper() for char in password),\n",
        "#         any(char in '!@#$%^&*()_+' for char in password)\n",
        "#     ])\n"
      ],
      "metadata": {
        "colab": {
          "base_uri": "https://localhost:8080/"
        },
        "id": "jpn-eYZUx8Xv",
        "outputId": "5f703ba5-3c67-4dda-bee7-9f59e09c1fe6"
      },
      "execution_count": null,
      "outputs": [
        {
          "output_type": "stream",
          "name": "stdout",
          "text": [
            "False\n",
            "True\n"
          ]
        }
      ]
    },
    {
      "cell_type": "code",
      "source": [
        "def is_strong_password(password):\n",
        "    \"\"\"Checks if a password is strong without using any()\"\"\"\n",
        "\n",
        "    if len(password) < 8:\n",
        "        return False\n",
        "\n",
        "    has_digit = False\n",
        "    has_lower = False\n",
        "    has_upper = False\n",
        "    has_special = False\n",
        "\n",
        "    for char in password:\n",
        "        if char.isdigit():\n",
        "            has_digit = True\n",
        "        elif char.islower():\n",
        "            has_lower = True\n",
        "        elif char.isupper():\n",
        "            has_upper = True\n",
        "        elif char in '!@#$%^&*()_+':\n",
        "            has_special = True\n",
        "\n",
        "    if has_digit and has_lower and has_upper and has_special:\n",
        "        return True\n",
        "    else:\n",
        "        return False\n",
        "\n",
        "# Test cases\n",
        "print(is_strong_password(\"WeakPwd\"))     # False\n",
        "print(is_strong_password(\"Str0ngPwd!\"))  # True\n"
      ],
      "metadata": {
        "colab": {
          "base_uri": "https://localhost:8080/"
        },
        "id": "z1AVPuCN0P8o",
        "outputId": "1febf87d-c659-46b3-81dd-4f20318c5c95"
      },
      "execution_count": null,
      "outputs": [
        {
          "output_type": "stream",
          "name": "stdout",
          "text": [
            "False\n",
            "True\n"
          ]
        }
      ]
    },
    {
      "cell_type": "markdown",
      "source": [
        "## Validate Email Address\n",
        "###  Full Regex Breakdown\n",
        "\n",
        "| Part               | Explanation                                                                                                                                |\n",
        "| ------------------ | ------------------------------------------------------------------------------------------------------------------------------------------ |\n",
        "| `^`                | Start of the string                                                                                                                        |\n",
        "| `[a-zA-Z0-9_.+-]+` | Matches the **username** part before `@`<br>- Letters: `a-z`, `A-Z`<br>- Numbers: `0-9`<br>- Special: `_ . + -`<br>- `+` means one or more |\n",
        "| `@`                | Literal `@` symbol                                                                                                                         |\n",
        "| `[a-zA-Z0-9-]+`    | Matches the **domain name** (like `gmail`, `yahoo`)<br>- Letters, numbers, and dash `-`<br>- `+` means one or more                         |\n",
        "| `\\.`               | Escaped `.` (dot) → needed to match a real dot                                                                                             |\n",
        "| `[a-zA-Z0-9-.]+`   | Matches the **domain extension** (like `com`, `co.in`)<br>- Letters, numbers, dash `-`, dot `.`<br>- `+` means one or more                 |\n",
        "| `$`                | End of the string                                                                                                                          |\n"
      ],
      "metadata": {
        "id": "AWoD8ngVyj38"
      }
    },
    {
      "cell_type": "code",
      "source": [
        "import re\n",
        "\n",
        "# Email validation function\n",
        "def is_valid_email(email):\n",
        "    \"\"\"This function checks if the email is valid.\"\"\"\n",
        "    pattern = r'^[a-zA-Z0-9_.+-]+@[a-zA-Z0-9-]+\\.[a-zA-Z0-9-.]+$'\n",
        "    return re.match(pattern, email) is not None\n",
        "\n",
        "# Calling the function\n",
        "print(is_valid_email(\"test@example.com\"))  # Output: True\n",
        "print(is_valid_email(\"invalid-email\"))  # Output: False"
      ],
      "metadata": {
        "colab": {
          "base_uri": "https://localhost:8080/"
        },
        "id": "6a4MH_B8yWnE",
        "outputId": "8aef998d-3383-4f38-94cc-f17d77b1c173"
      },
      "execution_count": null,
      "outputs": [
        {
          "output_type": "stream",
          "name": "stdout",
          "text": [
            "True\n",
            "False\n"
          ]
        }
      ]
    },
    {
      "cell_type": "code",
      "source": [],
      "metadata": {
        "id": "h1fBvLHvyiUE"
      },
      "execution_count": null,
      "outputs": []
    }
  ]
}