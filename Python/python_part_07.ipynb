{
  "nbformat": 4,
  "nbformat_minor": 0,
  "metadata": {
    "colab": {
      "provenance": []
    },
    "kernelspec": {
      "name": "python3",
      "display_name": "Python 3"
    },
    "language_info": {
      "name": "python"
    }
  },
  "cells": [
    {
      "cell_type": "markdown",
      "source": [
        "# 1. if Statement\n",
        "✅ Definition:\n",
        "The if statement executes a block of code only if a specified condition is True.\n",
        "\n",
        "```python\n",
        "if condition:\n",
        "    # code block\n",
        "```\n"
      ],
      "metadata": {
        "id": "RCvq11l2031O"
      }
    },
    {
      "cell_type": "code",
      "source": [
        "age = 20\n",
        "\n",
        "if age >= 18:  # 20>=18 = True\n",
        "  print(\"Eligible for voting\")"
      ],
      "metadata": {
        "id": "YT_uvzG-06U9"
      },
      "execution_count": null,
      "outputs": []
    },
    {
      "cell_type": "code",
      "source": [],
      "metadata": {
        "id": "SJCRFRRT1X8J"
      },
      "execution_count": null,
      "outputs": []
    },
    {
      "cell_type": "markdown",
      "source": [
        "# 2. if...else Statement\n",
        "✅ Definition:\n",
        "if...else provides an alternative block of code to run when the condition is False.\n",
        "\n",
        "```python\n",
        "if condition:\n",
        "    # code if condition is True\n",
        "else:\n",
        "    # code if condition is False\n",
        "```"
      ],
      "metadata": {
        "id": "57E2A6H41Yai"
      }
    },
    {
      "cell_type": "code",
      "source": [
        "age = 15\n",
        "\n",
        "if age >= 18:\n",
        "  print(\"Eligible for voting\")\n",
        "else:\n",
        "  print(\"Not Eligible\")"
      ],
      "metadata": {
        "colab": {
          "base_uri": "https://localhost:8080/"
        },
        "id": "YGmKmzOR1iuz",
        "outputId": "534647fa-996c-410d-f475-977ba2d092f6"
      },
      "execution_count": 3,
      "outputs": [
        {
          "output_type": "stream",
          "name": "stdout",
          "text": [
            "Not Eligible\n"
          ]
        }
      ]
    },
    {
      "cell_type": "code",
      "source": [],
      "metadata": {
        "id": "f8v1vvJq1jTW"
      },
      "execution_count": null,
      "outputs": []
    },
    {
      "cell_type": "markdown",
      "source": [
        "# 3. if...elif...else Statement\n",
        "✅ Definition:\n",
        "Use elif (else if) to check multiple conditions. Only the first True condition is executed.\n",
        "\n",
        "```python\n",
        "if condition1:\n",
        "    # code block 1\n",
        "elif condition2:\n",
        "    # code block 2\n",
        "elif condition3:\n",
        "    # code block 3\n",
        "else:\n",
        "    # code block if none of the above are true\n",
        "\n",
        "```"
      ],
      "metadata": {
        "id": "LPeaekme1jfP"
      }
    },
    {
      "cell_type": "code",
      "source": [
        "age = 18\n",
        "\n",
        "if age >= 18:\n",
        "  print(\"Eligible for voting\")\n",
        "elif age == 17:\n",
        "  print(\"You need to concern respective authority\")\n",
        "else:\n",
        "  print(\"Not Eligible\")"
      ],
      "metadata": {
        "colab": {
          "base_uri": "https://localhost:8080/"
        },
        "id": "ogX17zrH1yxe",
        "outputId": "0a9cf384-a19d-4ffa-a9e6-d0e6e1c93684"
      },
      "execution_count": 6,
      "outputs": [
        {
          "output_type": "stream",
          "name": "stdout",
          "text": [
            "Eligible for voting\n"
          ]
        }
      ]
    },
    {
      "cell_type": "code",
      "source": [
        "marks = 49\n",
        "\n",
        "if marks >= 90:\n",
        "  print(\"Grade A\")\n",
        "elif marks >= 80:\n",
        "  print(\"Grade B\")\n",
        "elif marks >= 50 and marks < 80:\n",
        "  print(\"Grade C\")\n",
        "else:\n",
        "  print(\"No Grade\")\n"
      ],
      "metadata": {
        "colab": {
          "base_uri": "https://localhost:8080/"
        },
        "id": "d68xqVq314jU",
        "outputId": "e0bc81da-04dd-405e-e6a4-9dc51e37b35f"
      },
      "execution_count": 14,
      "outputs": [
        {
          "output_type": "stream",
          "name": "stdout",
          "text": [
            "No Grade\n"
          ]
        }
      ]
    },
    {
      "cell_type": "markdown",
      "source": [
        "# 4. Nested if Statement\n",
        "✅ Definition:\n",
        "A nested if is an if statement inside another if or else block.\n",
        "```python\n",
        "if condition1:\n",
        "    if condition2:\n",
        "        # nested if block\n",
        "    else:\n",
        "        # nested else block\n",
        "else:\n",
        "    # outer else block\n",
        "```"
      ],
      "metadata": {
        "id": "p6Ys9RJ5143d"
      }
    },
    {
      "cell_type": "code",
      "source": [
        "age = int(input(\"Enter an age:\"))\n",
        "citizen = input(\"Enter Citizen Code:\") # Indian True\n",
        "\n",
        "\n",
        "if age >= 18:\n",
        "  if citizen == \"IND\":\n",
        "    print(\"Eligible\")\n",
        "  else:\n",
        "    print(\"Not Eligible\")\n",
        "else:\n",
        "  print(\"Not Eligible\")"
      ],
      "metadata": {
        "colab": {
          "base_uri": "https://localhost:8080/"
        },
        "id": "uZ6yEAEJ2KgO",
        "outputId": "e69e15d7-736e-45c5-8e69-1ac76b9199e3"
      },
      "execution_count": 22,
      "outputs": [
        {
          "output_type": "stream",
          "name": "stdout",
          "text": [
            "Enter an age:25\n",
            "Enter Citizen Code:kjjjil\n",
            "Not Eligible\n"
          ]
        }
      ]
    },
    {
      "cell_type": "code",
      "source": [],
      "metadata": {
        "id": "I502e91a2Lig"
      },
      "execution_count": null,
      "outputs": []
    },
    {
      "cell_type": "code",
      "source": [],
      "metadata": {
        "id": "FJ6Q1BIi2Lqf"
      },
      "execution_count": null,
      "outputs": []
    }
  ]
}