{
  "cells": [
    {
      "cell_type": "markdown",
      "id": "a4d32c3f",
      "metadata": {
        "id": "a4d32c3f"
      },
      "source": [
        "# Generators in Python\n",
        "Generators in Python, including why they exist, how they work, and how they differ from iterators."
      ]
    },
    {
      "cell_type": "markdown",
      "id": "14702bd8",
      "metadata": {
        "id": "14702bd8"
      },
      "source": [
        "## 1. What is a Generator?\n",
        "A **generator** in Python is a special kind of **iterator** that is created using:\n",
        "- **Generator functions** (functions containing the `yield` keyword)\n",
        "- **Generator expressions** (similar to list comprehensions, but with parentheses)\n",
        "\n",
        "Generators produce values **lazily**, meaning they generate each value on demand instead of storing all values in memory."
      ]
    },
    {
      "cell_type": "markdown",
      "source": [
        "## Difference Between Iterators and Generators\n",
        "| Feature | Iterator (General) | Generator |\n",
        "|---------|--------------------|-----------|\n",
        "| **Definition** | Object with `__iter__()` and `__next__()` | Special iterator using `yield` or generator expressions |\n",
        "| **Ease of Creation** | Must define class and methods | Just a function with `yield` |\n",
        "| **State Handling** | Manual | Automatic |\n",
        "| **Syntax** | Class-based | Function/comprehension |\n",
        "| **Reusability** | Reusable by creating new instance | Must recreate generator object |"
      ],
      "metadata": {
        "id": "GztCZTXob9U8"
      },
      "id": "GztCZTXob9U8"
    },
    {
      "cell_type": "markdown",
      "id": "0ec03913",
      "metadata": {
        "id": "0ec03913"
      },
      "source": [
        "### Example: Generator Function"
      ]
    },
    {
      "cell_type": "code",
      "execution_count": null,
      "id": "92f69693",
      "metadata": {
        "colab": {
          "base_uri": "https://localhost:8080/"
        },
        "id": "92f69693",
        "outputId": "8b3f03f5-0eca-403c-b96c-4f7bec2e11c9"
      },
      "outputs": [
        {
          "output_type": "stream",
          "name": "stdout",
          "text": [
            "1\n",
            "2\n",
            "3\n"
          ]
        }
      ],
      "source": [
        "\n",
        "def count_up_to(n):\n",
        "    count = 1\n",
        "    while count <= n:\n",
        "        yield count\n",
        "        count += 1\n",
        "\n",
        "gen = count_up_to(3)\n",
        "# print(type(gen))\n",
        "# print(next(gen))  # 1\n",
        "# print(next(gen))  # 2\n",
        "# print(next(gen))  # 3\n",
        "# print(next(gen))\n",
        "\n",
        "for num in gen:\n",
        "  print(num)\n"
      ]
    },
    {
      "cell_type": "code",
      "source": [
        "def my_generator():\n",
        "  yield 1\n",
        "  yield 2\n",
        "  yield 3\n",
        "\n",
        "gen = my_generator()"
      ],
      "metadata": {
        "id": "PnZ4NM03HpaN"
      },
      "id": "PnZ4NM03HpaN",
      "execution_count": null,
      "outputs": []
    },
    {
      "cell_type": "code",
      "source": [
        "print(next(gen))"
      ],
      "metadata": {
        "colab": {
          "base_uri": "https://localhost:8080/",
          "height": 144
        },
        "id": "TA5QGDEzIEC1",
        "outputId": "5e3c377a-101e-4917-a490-3d70f3fe6c6b"
      },
      "id": "TA5QGDEzIEC1",
      "execution_count": null,
      "outputs": [
        {
          "output_type": "error",
          "ename": "StopIteration",
          "evalue": "",
          "traceback": [
            "\u001b[0;31m---------------------------------------------------------------------------\u001b[0m",
            "\u001b[0;31mStopIteration\u001b[0m                             Traceback (most recent call last)",
            "\u001b[0;32m/tmp/ipython-input-2955553870.py\u001b[0m in \u001b[0;36m<cell line: 0>\u001b[0;34m()\u001b[0m\n\u001b[0;32m----> 1\u001b[0;31m \u001b[0mprint\u001b[0m\u001b[0;34m(\u001b[0m\u001b[0mnext\u001b[0m\u001b[0;34m(\u001b[0m\u001b[0mgen\u001b[0m\u001b[0;34m)\u001b[0m\u001b[0;34m)\u001b[0m\u001b[0;34m\u001b[0m\u001b[0;34m\u001b[0m\u001b[0m\n\u001b[0m",
            "\u001b[0;31mStopIteration\u001b[0m: "
          ]
        }
      ]
    },
    {
      "cell_type": "markdown",
      "id": "d95e73f2",
      "metadata": {
        "id": "d95e73f2"
      },
      "source": [
        "### Example: Generator Expression"
      ]
    },
    {
      "cell_type": "code",
      "execution_count": null,
      "id": "12a4059e",
      "metadata": {
        "colab": {
          "base_uri": "https://localhost:8080/"
        },
        "id": "12a4059e",
        "outputId": "c25b7cf0-6b0e-40a9-d2e6-44d15a17fb78"
      },
      "outputs": [
        {
          "output_type": "stream",
          "name": "stdout",
          "text": [
            "0\n",
            "1\n",
            "4\n"
          ]
        }
      ],
      "source": [
        "\n",
        "gen_exp = (x**2 for x in range(5))\n",
        "print(next(gen_exp))  # 0\n",
        "print(next(gen_exp))  # 1\n",
        "print(next(gen_exp))  # 4"
      ]
    },
    {
      "cell_type": "markdown",
      "id": "95197b82",
      "metadata": {
        "id": "95197b82"
      },
      "source": [
        "## 2. How Generators Work Internally\n",
        "- Implement the **iterator protocol** (`__iter__()` and `__next__()`)\n",
        "- When `yield` is hit:\n",
        "  - The function **pauses**\n",
        "  - Local variables are saved\n",
        "  - Execution resumes from the same point on the next `next()` call\n",
        "- **Memory efficient** because they don’t store all values — they produce them on the fly."
      ]
    },
    {
      "cell_type": "markdown",
      "id": "5eab7643",
      "metadata": {
        "id": "5eab7643"
      },
      "source": [
        "## 3. Generator Lifecycle\n",
        "1. **Creation** → generator object is returned\n",
        "2. **Iteration** → each call to `next()` runs until `yield`\n",
        "3. **Completion** → `StopIteration` is raised when there’s nothing left"
      ]
    },
    {
      "cell_type": "markdown",
      "id": "3de27cc4",
      "metadata": {
        "id": "3de27cc4"
      },
      "source": [
        "## 4. Advantages of Generators\n",
        "- ✅ **Memory efficiency**\n",
        "- ✅ **Lazy evaluation**\n",
        "- ✅ **Infinite sequences possible**\n",
        "- ✅ **Readable code**\n",
        "\n",
        "## 5. Limitations of Generators\n",
        "- ❌ **One-time use**\n",
        "- ❌ **No random access**\n",
        "- ❌ **Not indexable**"
      ]
    },
    {
      "cell_type": "markdown",
      "id": "11e33e85",
      "metadata": {
        "id": "11e33e85"
      },
      "source": [
        "## 6. Why Generators Came into the Picture\n",
        "You *can* do everything with iterators, but:\n",
        "- Iterators require **manual state storage**\n",
        "- You must write boilerplate code for `__iter__()` and `__next__()`\n",
        "- You must manually raise `StopIteration`\n",
        "\n",
        "Generators solve this by:\n",
        "- Reducing boilerplate\n",
        "- Automatically managing state\n",
        "- Providing lazy evaluation by default\n",
        "- Making code more readable and maintainable"
      ]
    },
    {
      "cell_type": "markdown",
      "id": "71effd6c",
      "metadata": {
        "id": "71effd6c"
      },
      "source": [
        "### Example: Iterator Class (Manual State Storage)"
      ]
    },
    {
      "cell_type": "code",
      "execution_count": null,
      "id": "814a414f",
      "metadata": {
        "colab": {
          "base_uri": "https://localhost:8080/"
        },
        "id": "814a414f",
        "outputId": "7bfc0c44-e03b-481d-fe43-7c14fcd21a3e"
      },
      "outputs": [
        {
          "output_type": "stream",
          "name": "stdout",
          "text": [
            "1\n",
            "2\n",
            "3\n"
          ]
        }
      ],
      "source": [
        "\n",
        "class MyRange:\n",
        "    def __init__(self, start, end):\n",
        "        self.current = start\n",
        "        self.end = end\n",
        "\n",
        "    def __iter__(self):\n",
        "        return self\n",
        "\n",
        "    def __next__(self):\n",
        "        if self.current < self.end:\n",
        "            value = self.current\n",
        "            self.current += 1  # manual state update\n",
        "            return value\n",
        "        else:\n",
        "            raise StopIteration\n",
        "\n",
        "it = MyRange(1, 4)\n",
        "for num in it:\n",
        "    print(num)\n"
      ]
    },
    {
      "cell_type": "markdown",
      "id": "c7d63d32",
      "metadata": {
        "id": "c7d63d32"
      },
      "source": [
        "### Example: Generator Function (Automatic State Storage)"
      ]
    },
    {
      "cell_type": "code",
      "execution_count": null,
      "id": "1f35db65",
      "metadata": {
        "colab": {
          "base_uri": "https://localhost:8080/"
        },
        "id": "1f35db65",
        "outputId": "7abae905-7b98-4bd6-98cb-3e00356f1828"
      },
      "outputs": [
        {
          "output_type": "execute_result",
          "data": {
            "text/plain": [
              "range(1, 4)"
            ]
          },
          "metadata": {},
          "execution_count": 15
        }
      ],
      "source": [
        "range(1,4)"
      ]
    },
    {
      "cell_type": "code",
      "source": [
        "def ranges(start,end):\n",
        "  while start <= end:\n",
        "    yield start\n",
        "    start += 1\n",
        "\n"
      ],
      "metadata": {
        "id": "rongM9gqvka_"
      },
      "id": "rongM9gqvka_",
      "execution_count": null,
      "outputs": []
    },
    {
      "cell_type": "code",
      "source": [
        "for i in ranges(3,5):\n",
        "  print(i)"
      ],
      "metadata": {
        "colab": {
          "base_uri": "https://localhost:8080/"
        },
        "id": "FTcUZAhtYAKz",
        "outputId": "b780671f-0e33-4fc5-8f39-f3d7ced41c7a"
      },
      "id": "FTcUZAhtYAKz",
      "execution_count": null,
      "outputs": [
        {
          "output_type": "stream",
          "name": "stdout",
          "text": [
            "3\n",
            "4\n",
            "5\n"
          ]
        }
      ]
    },
    {
      "cell_type": "code",
      "source": [
        "# Example\n",
        "\n",
        "def read_file():\n",
        "  with open(\"/content/sample.txt\", mode = 'r') as file:\n",
        "    for line in file:\n",
        "      yield line\n",
        "\n",
        "for line in read_file():\n",
        "  print(line)"
      ],
      "metadata": {
        "colab": {
          "base_uri": "https://localhost:8080/"
        },
        "id": "fk6aBWV4YtfV",
        "outputId": "c90e775d-9c6f-4d56-af6d-c40caff4ef45"
      },
      "id": "fk6aBWV4YtfV",
      "execution_count": null,
      "outputs": [
        {
          "output_type": "stream",
          "name": "stdout",
          "text": [
            "1. The sun dipped below the horizon, painting the sky in crimson.\n",
            "\n",
            "2. A small cat chased its shadow across the alley.\n",
            "\n",
            "3. Raindrops tapped rhythmically on the windowpane.\n",
            "\n",
            "4. She whispered secrets that only the wind could hear.\n",
            "\n",
            "5. The old clock ticked with relentless precision.\n",
            "\n",
            "6. Broken glasses scattered across the wooden floor.\n",
            "\n",
            "7. A lone wolf howled under the silver moon.\n",
            "\n",
            "8. Paper airplanes flew over the crowded classroom.\n",
            "\n",
            "9. Dreams often carry messages we cannot decipher.\n",
            "\n",
            "10. The aroma of freshly baked bread filled the kitchen.\n",
            "\n",
            "11. Stars glittered like scattered diamonds in the night sky.\n",
            "\n",
            "12. He scribbled notes in the margins of his book.\n",
            "\n",
            "13. The train screeched to a sudden halt.\n",
            "\n",
            "14. A forgotten scarf lay tangled in the bushes.\n",
            "\n",
            "15. Music drifted from an open window down the street.\n",
            "\n",
            "16. Shadows danced on the walls of the abandoned house.\n",
            "\n",
            "17. A gust of wind blew leaves across the empty park.\n",
            "\n",
            "18. She found a letter dated fifty years ago.\n",
            "\n",
            "19. Candles flickered in the darkened room.\n",
            "\n",
            "20. The river carved a path through the valley.\n",
            "\n",
            "21. Laughter echoed from the playground.\n",
            "\n",
            "22. The scent of jasmine lingered in the evening air.\n",
            "\n",
            "23. A single feather floated to the ground.\n",
            "\n",
            "24. Time seemed to slow as the sun rose.\n",
            "\n",
            "25. Footsteps echoed on the marble floor.\n",
            "\n",
            "26. A rainbow stretched across the stormy sky.\n",
            "\n",
            "27. The lighthouse beam cut through the fog.\n",
            "\n",
            "28. A mysterious package arrived on the doorstep.\n",
            "\n",
            "29. The kitten purred softly in her lap.\n",
            "\n",
            "30. A thunderstorm rattled the windows.\n",
            "\n",
            "31. Leaves crunched under his feet.\n",
            "\n",
            "32. The wind carried whispers from the past.\n",
            "\n",
            "33. A paper boat sailed across the pond.\n",
            "\n",
            "34. The aroma of coffee filled the small café.\n",
            "\n",
            "35. Stars vanished as dawn broke.\n",
            "\n",
            "36. The bicycle leaned against a fence, forgotten.\n",
            "\n",
            "37. Waves crashed against the jagged rocks.\n",
            "\n",
            "38. A rainbow-colored kite danced in the sky.\n",
            "\n",
            "39. He found a key buried in the garden.\n",
            "\n",
            "40. The fireplace crackled with warmth.\n",
            "\n",
            "41. Snowflakes drifted lazily to the ground.\n",
            "\n",
            "42. The cat perched on the windowsill, watching.\n",
            "\n",
            "43. A melody played softly on an old piano.\n",
            "\n",
            "44. The clock struck midnight with a loud chime.\n",
            "\n",
            "45. Footprints led to an empty doorway.\n",
            "\n",
            "46. The lantern swayed in the cold breeze.\n",
            "\n",
            "47. Birds chirped at the first light of day.\n",
            "\n",
            "48. A postcard from Paris lay on the desk.\n",
            "\n",
            "49. The candle burned down to a stub.\n",
            "\n",
            "50. Rust crept across the abandoned swing set.\n",
            "\n",
            "51. The city hummed with distant traffic.\n",
            "\n",
            "52. A paper crane rested on the shelf.\n",
            "\n",
            "53. The forest whispered ancient tales.\n",
            "\n",
            "54. A torn photograph revealed a hidden smile.\n",
            "\n",
            "55. The rain washed the streets clean.\n",
            "\n",
            "56. Music floated through the empty hallways.\n",
            "\n",
            "57. She planted tulips in neat rows.\n",
            "\n",
            "58. The shadow of a tree stretched across the wall.\n",
            "\n",
            "59. A bell rang faintly in the distance.\n",
            "\n",
            "60. The dog chased its tail in dizzying circles.\n",
            "\n",
            "61. Steam rose from the hot tea.\n",
            "\n",
            "62. The old bridge groaned under the weight of cars.\n",
            "\n",
            "63. A butterfly landed gently on her hand.\n",
            "\n",
            "64. Crickets chirped in the twilight.\n",
            "\n",
            "65. The letter smelled faintly of lavender.\n",
            "\n",
            "66. A dusty bookshelf held forgotten memories.\n",
            "\n",
            "67. The fountain bubbled in the quiet park.\n",
            "\n",
            "68. A lantern flickered in the mist.\n",
            "\n",
            "69. Children’s laughter carried across the fields.\n",
            "\n",
            "70. A single rose lay on the doorstep.\n",
            "\n",
            "71. The scent of rain filled the air.\n",
            "\n",
            "72. She painted the sky in shades of orange.\n",
            "\n",
            "73. A stray cat prowled the alley.\n",
            "\n",
            "74. The waves whispered secrets to the shore.\n",
            "\n",
            "75. A broken watch ticked once more.\n",
            "\n",
            "76. Fireflies danced in the evening grass.\n",
            "\n",
            "77. A note fluttered from the tree branch.\n",
            "\n",
            "78. The wind carried a distant melody.\n",
            "\n",
            "79. A forgotten glove lay in the snow.\n",
            "\n",
            "80. The candlelight flickered in the attic.\n",
            "\n",
            "81. Birds soared above the mountains.\n",
            "\n",
            "82. A paper plane hit the ceiling.\n",
            "\n",
            "83. The old book smelled of dust and ink.\n",
            "\n",
            "84. A cold breeze brushed past his face.\n",
            "\n",
            "85. The night sky shimmered with countless stars.\n",
            "\n",
            "86. A keyhole revealed a tiny glimpse of the past.\n",
            "\n",
            "87. Footsteps faded into silence.\n",
            "\n",
            "88. A puddle reflected the neon lights.\n",
            "\n",
            "89. The train whistle echoed through the valley.\n",
            "\n",
            "90. A squirrel darted up the tree trunk.\n",
            "\n",
            "91. The scent of pine filled the cabin.\n",
            "\n",
            "92. A single raindrop landed on the leaf.\n",
            "\n",
            "93. Music from a street performer echoed softly.\n",
            "\n",
            "94. A cat stretched lazily in the sun.\n",
            "\n",
            "95. The wind rustled the autumn leaves.\n",
            "\n",
            "96. Lanterns floated on the river at dusk.\n",
            "\n",
            "97. She discovered a secret drawer in the desk.\n",
            "\n",
            "98. The clock hands moved in a lazy rhythm.\n",
            "\n",
            "99. A paper airplane carried a tiny message.\n",
            "\n",
            "100. Twilight descended, painting the world in soft hues.\n",
            "\n",
            "\n",
            "\n"
          ]
        }
      ]
    },
    {
      "cell_type": "markdown",
      "id": "f65dd75f",
      "metadata": {
        "id": "f65dd75f"
      },
      "source": []
    }
  ],
  "metadata": {
    "colab": {
      "provenance": []
    },
    "language_info": {
      "name": "python"
    },
    "kernelspec": {
      "name": "python3",
      "display_name": "Python 3"
    }
  },
  "nbformat": 4,
  "nbformat_minor": 5
}