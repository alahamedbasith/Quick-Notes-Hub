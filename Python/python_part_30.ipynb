{
  "cells": [
    {
      "cell_type": "markdown",
      "metadata": {
        "id": "VWessSi6hgaT"
      },
      "source": [
        "# Python Decorators\n",
        "Decorators are a powerful and flexible feature in Python that allows you to modify the behavior of a function or class method. They are commonly used to add functionality to functions or methods without modifying their actual code.\n",
        "\n",
        "### Prerequistes\n",
        "- Functions\n",
        "- Function Copy\n",
        "- Closure Function\n"
      ],
      "id": "VWessSi6hgaT"
    },
    {
      "cell_type": "code",
      "source": [
        "# Function Copy\n",
        "\n",
        "def greet():\n",
        "  print(\"welcome\")\n",
        "\n",
        "gt = greet()\n",
        "del greet\n",
        "gt\n"
      ],
      "metadata": {
        "colab": {
          "base_uri": "https://localhost:8080/"
        },
        "id": "reHLtjKNqman",
        "outputId": "79c4030c-f12b-4b46-b153-2fe44b1c4edc"
      },
      "id": "reHLtjKNqman",
      "execution_count": null,
      "outputs": [
        {
          "output_type": "stream",
          "name": "stdout",
          "text": [
            "welcome\n"
          ]
        }
      ]
    },
    {
      "cell_type": "code",
      "source": [
        "# Closure Function\n",
        "\n",
        "def outer(func):\n",
        "  def inner():\n",
        "    print(\"Functionality\")\n",
        "    func()\n",
        "    print(\"Functionality\")\n",
        "\n",
        "  return inner()\n",
        "\n",
        "\n",
        "def greet():\n",
        "  print(\"welcome\")\n",
        "\n",
        "outer(greet)\n",
        "\n",
        "\n",
        "\n"
      ],
      "metadata": {
        "colab": {
          "base_uri": "https://localhost:8080/"
        },
        "id": "M8Kk4YJCq-FA",
        "outputId": "6d2e68c1-4b24-402c-eb61-7431208f7679"
      },
      "id": "M8Kk4YJCq-FA",
      "execution_count": null,
      "outputs": [
        {
          "output_type": "stream",
          "name": "stdout",
          "text": [
            "Functionality\n",
            "welcome\n"
          ]
        }
      ]
    },
    {
      "cell_type": "code",
      "source": [
        "# Decorator Function\n",
        "# Corrected Decorator Function\n",
        "def outer(func):\n",
        "    def inner():\n",
        "        print(\"Functionality\")\n",
        "        func()\n",
        "        print(\"Functionality\")\n",
        "    return inner\n",
        "\n",
        "@outer\n",
        "def greet():\n",
        "    print(\"welcome\")\n",
        "\n",
        "@outer\n",
        "def greetsss():\n",
        "    print(\"welcomesss\")\n",
        "\n",
        "greetsss()"
      ],
      "metadata": {
        "colab": {
          "base_uri": "https://localhost:8080/"
        },
        "id": "uqjjLiQWMAR6",
        "outputId": "e78785fb-65ed-439c-b030-47427f426139"
      },
      "id": "uqjjLiQWMAR6",
      "execution_count": null,
      "outputs": [
        {
          "output_type": "stream",
          "name": "stdout",
          "text": [
            "Functionality\n",
            "welcomesss\n",
            "Functionality\n"
          ]
        }
      ]
    },
    {
      "cell_type": "code",
      "source": [],
      "metadata": {
        "id": "KDOOrowMq-Nm"
      },
      "id": "KDOOrowMq-Nm",
      "execution_count": null,
      "outputs": []
    },
    {
      "cell_type": "markdown",
      "source": [
        "### Topics:\n",
        "1. Simple decorator\n",
        "2. Decorator with function arguments\n",
        "3. Decorator with parameters\n",
        "4. Using functools.wraps to preserve metadata\n"
      ],
      "metadata": {
        "id": "gUsgWGjSq8Qn"
      },
      "id": "gUsgWGjSq8Qn"
    },
    {
      "cell_type": "markdown",
      "source": [
        "### Simple Decorator"
      ],
      "metadata": {
        "id": "azFghRNT2ANy"
      },
      "id": "azFghRNT2ANy"
    },
    {
      "cell_type": "code",
      "metadata": {
        "colab": {
          "base_uri": "https://localhost:8080/"
        },
        "id": "UzW1_bo_hgaW",
        "outputId": "8dbfac21-9e65-4c61-965e-8a0da0e4add4"
      },
      "source": [
        "# 1️⃣ Simple Decorator\n",
        "def simple_decorator(func):\n",
        "    def wrapper():\n",
        "        print(\"Before function runs\")\n",
        "        func()\n",
        "        print(\"After function runs\")\n",
        "    return wrapper\n",
        "\n",
        "@simple_decorator\n",
        "def say_hello():\n",
        "    print(\"Hello!\")\n",
        "\n",
        "say_hello()"
      ],
      "id": "UzW1_bo_hgaW",
      "execution_count": null,
      "outputs": [
        {
          "output_type": "stream",
          "name": "stdout",
          "text": [
            "Before function runs\n",
            "Hello!\n",
            "After function runs\n"
          ]
        }
      ]
    },
    {
      "cell_type": "markdown",
      "source": [
        "### Decorator with function arguments\n",
        "\n",
        "\n"
      ],
      "metadata": {
        "id": "YORi4mGD2Clv"
      },
      "id": "YORi4mGD2Clv"
    },
    {
      "cell_type": "code",
      "metadata": {
        "colab": {
          "base_uri": "https://localhost:8080/"
        },
        "id": "uVIE_Z6MhgaY",
        "outputId": "e753f261-9518-4a65-f358-afe30f341906"
      },
      "source": [
        "# 2️⃣ Decorator with function arguments\n",
        "\n",
        "def decorator_with_args(func):\n",
        "    def wrapper(name):\n",
        "        print(\"Before function call\")\n",
        "        func(name)\n",
        "        print(\"After function call\")\n",
        "    return wrapper\n",
        "\n",
        "@decorator_with_args\n",
        "def greet(name):\n",
        "    print(f\"Hello, {name}!\")\n",
        "\n",
        "greet(\"Basith\")\n"
      ],
      "id": "uVIE_Z6MhgaY",
      "execution_count": null,
      "outputs": [
        {
          "output_type": "stream",
          "name": "stdout",
          "text": [
            "Before function call\n",
            "Hello, Basith!\n",
            "After function call\n"
          ]
        }
      ]
    },
    {
      "cell_type": "markdown",
      "source": [
        "### Decorator with parameters"
      ],
      "metadata": {
        "id": "Glcc97dZ2J2Z"
      },
      "id": "Glcc97dZ2J2Z"
    },
    {
      "cell_type": "code",
      "metadata": {
        "colab": {
          "base_uri": "https://localhost:8080/"
        },
        "id": "wgtBMP1FhgaZ",
        "outputId": "1391acb2-476d-4e7e-c9c3-9f64b96a4b54"
      },
      "source": [
        "# 3️⃣ Decorator with parameters\n",
        "def repeat(n):\n",
        "    def decorator(func):\n",
        "        def wrapper(*args, **kwargs):\n",
        "            for _ in range(n):\n",
        "                func(*args, **kwargs)\n",
        "        return wrapper\n",
        "    return decorator\n",
        "\n",
        "@repeat(3)\n",
        "def say_hello_param(name):\n",
        "    print(f\"Hello, {name}!\")\n",
        "\n",
        "say_hello_param(\"Basith\")"
      ],
      "id": "wgtBMP1FhgaZ",
      "execution_count": null,
      "outputs": [
        {
          "output_type": "stream",
          "name": "stdout",
          "text": [
            "Hello, Basith!\n",
            "Hello, Basith!\n",
            "Hello, Basith!\n"
          ]
        }
      ]
    },
    {
      "cell_type": "markdown",
      "source": [
        "### Using functools.wraps"
      ],
      "metadata": {
        "id": "xgN7PUWN2SXV"
      },
      "id": "xgN7PUWN2SXV"
    },
    {
      "cell_type": "code",
      "metadata": {
        "colab": {
          "base_uri": "https://localhost:8080/"
        },
        "id": "FgPdZJsLhgaZ",
        "outputId": "c4a20069-ea55-4007-a187-ebeb3df262a0"
      },
      "source": [
        "# Without Wraps\n",
        "\n",
        "def decorator_without_wraps(func):\n",
        "    def wrapper(*args, **kwargs):\n",
        "        print(\"Before function call\")\n",
        "        func(*args, **kwargs)\n",
        "        print(\"After function call\")\n",
        "    return wrapper\n",
        "\n",
        "@decorator_without_wraps\n",
        "def greet_without_wraps(name):\n",
        "    \"\"\"This function greets a person\"\"\"\n",
        "    print(f\"Hello, {name}!\")\n",
        "\n",
        "print(greet_without_wraps.__name__)  # Lost original name\n",
        "print(greet_without_wraps.__doc__)   # Lost original docstring\n",
        "greet_without_wraps(\"Basith\")"
      ],
      "id": "FgPdZJsLhgaZ",
      "execution_count": null,
      "outputs": [
        {
          "output_type": "stream",
          "name": "stdout",
          "text": [
            "wrapper\n",
            "None\n",
            "Before function call\n",
            "Hello, Basith!\n",
            "After function call\n"
          ]
        }
      ]
    },
    {
      "cell_type": "code",
      "metadata": {
        "colab": {
          "base_uri": "https://localhost:8080/"
        },
        "id": "mOnqZJiuhgaa",
        "outputId": "d667303d-d375-402f-a0a6-b085b627409d"
      },
      "source": [
        "# With Wraps\n",
        "\n",
        "from functools import wraps\n",
        "\n",
        "def decorator_with_wraps(func):\n",
        "    @wraps(func)  # ✅ Keeps metadata\n",
        "    def wrapper(*args, **kwargs):\n",
        "        print(\"Before function call\")\n",
        "        func(*args, **kwargs)\n",
        "        print(\"After function call\")\n",
        "    return wrapper\n",
        "\n",
        "@decorator_with_wraps\n",
        "def greet_with_wraps(name):\n",
        "    \"\"\"This function greets a person\"\"\"\n",
        "    print(f\"Hello, {name}!\")\n",
        "\n",
        "print(greet_with_wraps.__name__)  # Original name kept\n",
        "print(greet_with_wraps.__doc__)   # Original docstring kept\n",
        "greet_with_wraps(\"Basith\")\n"
      ],
      "id": "mOnqZJiuhgaa",
      "execution_count": null,
      "outputs": [
        {
          "output_type": "stream",
          "name": "stdout",
          "text": [
            "greet_with_wraps\n",
            "This function greets a person\n",
            "Before function call\n",
            "Hello, Basith!\n",
            "After function call\n"
          ]
        }
      ]
    },
    {
      "cell_type": "code",
      "source": [],
      "metadata": {
        "id": "625sxCo4P35M"
      },
      "id": "625sxCo4P35M",
      "execution_count": null,
      "outputs": []
    }
  ],
  "metadata": {
    "kernelspec": {
      "display_name": "Python 3",
      "language": "python",
      "name": "python3"
    },
    "language_info": {
      "name": "python",
      "version": "3.10"
    },
    "colab": {
      "provenance": []
    }
  },
  "nbformat": 4,
  "nbformat_minor": 5
}