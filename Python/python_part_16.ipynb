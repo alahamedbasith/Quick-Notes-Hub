{
  "nbformat": 4,
  "nbformat_minor": 0,
  "metadata": {
    "colab": {
      "provenance": []
    },
    "kernelspec": {
      "name": "python3",
      "display_name": "Python 3"
    },
    "language_info": {
      "name": "python"
    }
  },
  "cells": [
    {
      "cell_type": "code",
      "source": [],
      "metadata": {
        "id": "tmgNPS7Nkho9"
      },
      "execution_count": null,
      "outputs": []
    },
    {
      "cell_type": "markdown",
      "source": [
        "# Lambda Functions in Python\n",
        "Lambda functions are small anonymous functions defined using the lambda keyword. They can have any number of arguments but only one expression. They are commonly used for short operations or as arguments to higher-order functions.\n",
        "\n",
        "**Syntax:**\n",
        "```python\n",
        "lambda arguments: expression\n",
        "```"
      ],
      "metadata": {
        "id": "aGdMiytQldFZ"
      }
    },
    {
      "cell_type": "code",
      "source": [
        "def even_odd(num):\n",
        "\n",
        "  if num % 2 == 0:\n",
        "    print(\"even\")\n",
        "  else:\n",
        "    print(\"odd\")\n",
        "\n",
        "even_odd(10)"
      ],
      "metadata": {
        "colab": {
          "base_uri": "https://localhost:8080/"
        },
        "id": "YCbWSDIwr_5k",
        "outputId": "a03e198a-034e-451e-9045-abf8b544ca91"
      },
      "execution_count": null,
      "outputs": [
        {
          "output_type": "stream",
          "name": "stdout",
          "text": [
            "even\n"
          ]
        }
      ]
    },
    {
      "cell_type": "code",
      "source": [
        "ev_od = lambda num: \"even\" if num % 2 == 0 else \"odd\"\n",
        "ev_od(5)"
      ],
      "metadata": {
        "id": "yJU0Szq9sR_9",
        "colab": {
          "base_uri": "https://localhost:8080/",
          "height": 36
        },
        "outputId": "500ed98c-4907-4f67-fa35-8393c306b9b2"
      },
      "execution_count": null,
      "outputs": [
        {
          "output_type": "execute_result",
          "data": {
            "text/plain": [
              "'odd'"
            ],
            "application/vnd.google.colaboratory.intrinsic+json": {
              "type": "string"
            }
          },
          "metadata": {},
          "execution_count": 5
        }
      ]
    },
    {
      "cell_type": "code",
      "source": [
        "add10 = lambda x: x + 10\n",
        "print(add10(5))  # 15\n",
        "\n",
        "multiply = lambda x, y: x * y\n",
        "print(multiply(2, 3))  # 6"
      ],
      "metadata": {
        "colab": {
          "base_uri": "https://localhost:8080/"
        },
        "id": "s6FzFs_alftU",
        "outputId": "1a751908-28cb-42a9-d084-6ebf49426dcb"
      },
      "execution_count": null,
      "outputs": [
        {
          "output_type": "stream",
          "name": "stdout",
          "text": [
            "15\n",
            "6\n"
          ]
        }
      ]
    },
    {
      "cell_type": "markdown",
      "source": [
        "# Lambda with If-Else Conditions\n"
      ],
      "metadata": {
        "id": "cMenNau7lyp_"
      }
    },
    {
      "cell_type": "code",
      "source": [
        "# Even or Odd\n",
        "is_even = lambda x: \"Even\" if x % 2 == 0 else \"Odd\"\n",
        "print(is_even(3))  # Odd\n",
        "\n",
        "# Max of two numbers\n",
        "max_func = lambda a, b: a if a > b else b\n",
        "print(max_func(10, 5))  # 10"
      ],
      "metadata": {
        "id": "2eg64js4ly5f",
        "colab": {
          "base_uri": "https://localhost:8080/"
        },
        "outputId": "5f49edcb-2739-4973-9e7f-96361224beb2"
      },
      "execution_count": null,
      "outputs": [
        {
          "output_type": "stream",
          "name": "stdout",
          "text": [
            "Odd\n",
            "10\n"
          ]
        }
      ]
    },
    {
      "cell_type": "markdown",
      "source": [
        "# map() Function\n",
        "Applies a function to each item in an iterable.\n",
        "\n",
        "Syntax:\n",
        "\n",
        "```python\n",
        "\n",
        "map(function, iterable)\n",
        "```"
      ],
      "metadata": {
        "id": "47wtEV-kmGYz"
      }
    },
    {
      "cell_type": "code",
      "source": [
        "number = [5,4,6,2,10]\n",
        "\n",
        "eve_od = lambda num: \"even\" if num % 2 == 0 else \"odd\"\n",
        "\n",
        "list(map(eve_od,number))"
      ],
      "metadata": {
        "colab": {
          "base_uri": "https://localhost:8080/"
        },
        "id": "95YPPorcA8Vu",
        "outputId": "53913cfb-997a-4b2e-8b21-dccc88e7ffbb"
      },
      "execution_count": null,
      "outputs": [
        {
          "output_type": "execute_result",
          "data": {
            "text/plain": [
              "['odd', 'even', 'even', 'even', 'even']"
            ]
          },
          "metadata": {},
          "execution_count": 9
        }
      ]
    },
    {
      "cell_type": "code",
      "source": [
        "nums = [1, 2, 3, 4]\n",
        "squares = list(map(lambda x: x**2, nums))\n",
        "print(squares)  # [1, 4, 9, 16]"
      ],
      "metadata": {
        "colab": {
          "base_uri": "https://localhost:8080/"
        },
        "id": "qnqf2K84lurw",
        "outputId": "f1202a1d-6bde-4e4b-eb22-19dda64ca3d5"
      },
      "execution_count": null,
      "outputs": [
        {
          "output_type": "stream",
          "name": "stdout",
          "text": [
            "[1, 4, 9, 16]\n"
          ]
        }
      ]
    },
    {
      "cell_type": "code",
      "source": [
        "## Lambda function with map\n",
        "\n",
        "numbers=[1,2,3,4,5,6,7,8]\n",
        "list(map(lambda x:x*x,numbers))"
      ],
      "metadata": {
        "colab": {
          "base_uri": "https://localhost:8080/"
        },
        "id": "cl3ZKojKmWYX",
        "outputId": "82a0ab01-a535-4c6f-dc71-7cf57200545e"
      },
      "execution_count": null,
      "outputs": [
        {
          "output_type": "execute_result",
          "data": {
            "text/plain": [
              "[1, 4, 9, 16, 25, 36, 49, 64]"
            ]
          },
          "metadata": {},
          "execution_count": 4
        }
      ]
    },
    {
      "cell_type": "code",
      "source": [
        "## Map multiple iterables\n",
        "\n",
        "numbers1=[1,2,3]\n",
        "numbers2=[4,5,6]\n",
        "\n",
        "added_numbers=list(map(lambda x,y:x+y,numbers1,numbers2))\n",
        "print(added_numbers)"
      ],
      "metadata": {
        "colab": {
          "base_uri": "https://localhost:8080/"
        },
        "id": "FGS4DaNambfA",
        "outputId": "a82ed05f-d251-4b86-d12e-05ba5e450d57"
      },
      "execution_count": null,
      "outputs": [
        {
          "output_type": "stream",
          "name": "stdout",
          "text": [
            "[5, 7, 9]\n"
          ]
        }
      ]
    },
    {
      "cell_type": "code",
      "source": [
        "## map() to convert a list of strings to integers\n",
        "# Use map to convert strings to integers\n",
        "\n",
        "str_numbers = ['1', '2', '3', '4', '5']\n",
        "int_numbers = list(map(int, str_numbers))\n",
        "\n",
        "print(int_numbers)  # Output: [1, 2, 3, 4, 5]"
      ],
      "metadata": {
        "colab": {
          "base_uri": "https://localhost:8080/"
        },
        "id": "j0tgwgFMmhhl",
        "outputId": "5972fc10-5f36-407e-a700-0202d45204fb"
      },
      "execution_count": null,
      "outputs": [
        {
          "output_type": "stream",
          "name": "stdout",
          "text": [
            "[1, 2, 3, 4, 5]\n"
          ]
        }
      ]
    },
    {
      "cell_type": "code",
      "source": [
        "words=['apple','banana','cherry']\n",
        "upper_word=list(map(str.upper,words))\n",
        "print(upper_word)"
      ],
      "metadata": {
        "colab": {
          "base_uri": "https://localhost:8080/"
        },
        "id": "Owy9Ydqgmnqh",
        "outputId": "2ff338a7-88a2-49d0-aa40-e81cd23c8696"
      },
      "execution_count": null,
      "outputs": [
        {
          "output_type": "stream",
          "name": "stdout",
          "text": [
            "['APPLE', 'BANANA', 'CHERRY']\n"
          ]
        }
      ]
    },
    {
      "cell_type": "code",
      "source": [
        "def get_name(person):\n",
        "    return person['name']\n",
        "\n",
        "people=[\n",
        "    {'name':'John','age':32},\n",
        "    {'name':'Doe','age':33}\n",
        "]\n",
        "list(map(get_name,people))"
      ],
      "metadata": {
        "colab": {
          "base_uri": "https://localhost:8080/"
        },
        "id": "lSp8EivTmr5l",
        "outputId": "26467db9-0d24-4099-8a16-4335fc2209dc"
      },
      "execution_count": null,
      "outputs": [
        {
          "output_type": "execute_result",
          "data": {
            "text/plain": [
              "['John', 'Doe']"
            ]
          },
          "metadata": {},
          "execution_count": 8
        }
      ]
    },
    {
      "cell_type": "markdown",
      "source": [
        "# filter() Function\n",
        "\n",
        "Filters elements based on a condition.\n",
        "\n",
        "Syntax:\n",
        "```python\n",
        "filter(function, iterable)\n",
        "```"
      ],
      "metadata": {
        "id": "m9x2HG4CpUyR"
      }
    },
    {
      "cell_type": "code",
      "source": [
        "nums = [1, 2, 3, 4, 5]\n",
        "evens = list(filter(lambda x: x % 2 == 0, nums))\n",
        "print(evens)  # [2, 4]"
      ],
      "metadata": {
        "colab": {
          "base_uri": "https://localhost:8080/"
        },
        "id": "cBR-vcd8mtwX",
        "outputId": "1e5325be-4189-4ae2-a14b-b4853d04e224"
      },
      "execution_count": null,
      "outputs": [
        {
          "output_type": "stream",
          "name": "stdout",
          "text": [
            "[2, 4]\n"
          ]
        }
      ]
    },
    {
      "cell_type": "code",
      "source": [
        "nums = [1, 2, 3, 4, 5]\n",
        "\n",
        "# Get only even numbers\n",
        "result = list(filter(lambda x: x % 2 == 0, nums))\n",
        "print(result)  # [2, 4]"
      ],
      "metadata": {
        "colab": {
          "base_uri": "https://localhost:8080/"
        },
        "id": "6Kea29wany46",
        "outputId": "b65a74cd-97a2-4d73-f5fa-8a512df5721a"
      },
      "execution_count": null,
      "outputs": [
        {
          "output_type": "stream",
          "name": "stdout",
          "text": [
            "[2, 4]\n"
          ]
        }
      ]
    },
    {
      "cell_type": "code",
      "source": [
        "# You’re trying to simulate filtering using map\n",
        "result = list(map(lambda x: x if x % 2 == 0 else None, nums))\n",
        "print(result)  # [None, 2, None, 4, None]\n"
      ],
      "metadata": {
        "colab": {
          "base_uri": "https://localhost:8080/"
        },
        "id": "r-_FWKlOp3mY",
        "outputId": "ff00e8ff-9e2d-4f5b-c6f9-2414b36dd0dc"
      },
      "execution_count": null,
      "outputs": [
        {
          "output_type": "stream",
          "name": "stdout",
          "text": [
            "[None, 2, None, 4, None]\n"
          ]
        }
      ]
    },
    {
      "cell_type": "code",
      "source": [
        "\n",
        "## Filter() to check if the age is greater than 25 in dictionaries\n",
        "people=[\n",
        "    {'name':'John','age':32},\n",
        "    {'name':'Doe','age':33},\n",
        "    {'name':'Joe','age':25}\n",
        "]\n",
        "\n",
        "def age_greater_than_25(person):\n",
        "    return person['age']>25\n",
        "\n",
        "list(filter(age_greater_than_25,people))"
      ],
      "metadata": {
        "colab": {
          "base_uri": "https://localhost:8080/"
        },
        "id": "DnKoZZd9p9Ck",
        "outputId": "61d21c20-457b-4cd3-fbbf-3f1d61b8d78e"
      },
      "execution_count": null,
      "outputs": [
        {
          "output_type": "execute_result",
          "data": {
            "text/plain": [
              "[{'name': 'John', 'age': 32}, {'name': 'Doe', 'age': 33}]"
            ]
          },
          "metadata": {},
          "execution_count": 16
        }
      ]
    },
    {
      "cell_type": "markdown",
      "source": [
        "# reduce() Function\n",
        "Reduces an iterable to a single value.\n",
        "\n",
        "### Import First:\n",
        "\n",
        "```python\n",
        "\n",
        "from functools import reduce\n",
        "```\n",
        "Syntax:\n",
        "\n",
        "```python\n",
        "\n",
        "reduce(function, iterable[, initializer])\n",
        "```"
      ],
      "metadata": {
        "id": "yG0lIyZdqloG"
      }
    },
    {
      "cell_type": "code",
      "source": [
        "# Sum\n",
        "\n",
        "from functools import reduce\n",
        "\n",
        "nums = [1, 2, 3, 4]\n",
        "total = reduce(lambda x, y: x + y, nums)\n",
        "print(total)  # 10"
      ],
      "metadata": {
        "colab": {
          "base_uri": "https://localhost:8080/"
        },
        "id": "_4acwFEYqRRP",
        "outputId": "7fb18f30-403d-4432-ff17-4279208cb44b"
      },
      "execution_count": null,
      "outputs": [
        {
          "output_type": "stream",
          "name": "stdout",
          "text": [
            "10\n"
          ]
        }
      ]
    },
    {
      "cell_type": "code",
      "source": [
        "# Product\n",
        "\n",
        "nums = [1, 2, 3, 4]\n",
        "product = reduce(lambda x, y: x * y, nums)\n",
        "print(product)  # 24\n"
      ],
      "metadata": {
        "colab": {
          "base_uri": "https://localhost:8080/"
        },
        "id": "jC0NyqZCq4ze",
        "outputId": "ea02610f-660b-4e98-e189-7f3c5110d487"
      },
      "execution_count": null,
      "outputs": [
        {
          "output_type": "stream",
          "name": "stdout",
          "text": [
            "24\n"
          ]
        }
      ]
    },
    {
      "cell_type": "code",
      "source": [
        "from functools import reduce\n",
        "\n",
        "# reduce with initializer\n",
        "nums = [1, 2, 3]\n",
        "total = reduce(lambda x, y: x + y, nums, 10)\n",
        "print(total)  # 16"
      ],
      "metadata": {
        "colab": {
          "base_uri": "https://localhost:8080/"
        },
        "id": "PZTjIFLTq8Re",
        "outputId": "fa7fd4ca-f833-48e3-b827-3c6ed3a0ce1d"
      },
      "execution_count": null,
      "outputs": [
        {
          "output_type": "stream",
          "name": "stdout",
          "text": [
            "16\n"
          ]
        }
      ]
    },
    {
      "cell_type": "code",
      "source": [],
      "metadata": {
        "id": "nOiZydLMrC9h"
      },
      "execution_count": null,
      "outputs": []
    }
  ]
}