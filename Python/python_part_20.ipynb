{
  "cells": [
    {
      "cell_type": "markdown",
      "metadata": {
        "id": "Ii0UY4eK5k_E"
      },
      "source": [
        "# 📘 Python Exception Handling"
      ],
      "id": "Ii0UY4eK5k_E"
    },
    {
      "cell_type": "markdown",
      "metadata": {
        "id": "dRlTmD4d5k_J"
      },
      "source": [
        "## 🔹 What is an Exception?\n",
        "An exception is an error that occurs during the execution of a program. Python stops the normal flow of the program and jumps to exception handling code."
      ],
      "id": "dRlTmD4d5k_J"
    },
    {
      "cell_type": "markdown",
      "metadata": {
        "id": "EqFiIIFX5k_K"
      },
      "source": [
        "## 🔹 Basic Syntax"
      ],
      "id": "EqFiIIFX5k_K"
    },
    {
      "cell_type": "code",
      "execution_count": null,
      "metadata": {
        "id": "Vvk5gzNQ5k_L"
      },
      "outputs": [],
      "source": [
        "try:\n",
        "    # Code that might raise an exception\n",
        "    pass\n",
        "except SomeException:\n",
        "    # Code that runs if an exception occurs\n",
        "    pass"
      ],
      "id": "Vvk5gzNQ5k_L"
    },
    {
      "cell_type": "code",
      "source": [
        "print(\"h\")\n",
        "print(\"e\")\n",
        "print(\"l\")\n",
        "print(10/0) # Runtime\n",
        "print(\"l\")\n",
        "print(\"o\")"
      ],
      "metadata": {
        "colab": {
          "base_uri": "https://localhost:8080/",
          "height": 270
        },
        "id": "H6CjByIVB0UZ",
        "outputId": "d6cf7226-ccfc-4ab3-d0c1-a927c1bd08fb"
      },
      "id": "H6CjByIVB0UZ",
      "execution_count": null,
      "outputs": [
        {
          "output_type": "stream",
          "name": "stdout",
          "text": [
            "h\n",
            "e\n",
            "l\n"
          ]
        },
        {
          "output_type": "error",
          "ename": "ZeroDivisionError",
          "evalue": "division by zero",
          "traceback": [
            "\u001b[0;31m---------------------------------------------------------------------------\u001b[0m",
            "\u001b[0;31mZeroDivisionError\u001b[0m                         Traceback (most recent call last)",
            "\u001b[0;32m/tmp/ipython-input-2535046041.py\u001b[0m in \u001b[0;36m<cell line: 0>\u001b[0;34m()\u001b[0m\n\u001b[1;32m      2\u001b[0m \u001b[0mprint\u001b[0m\u001b[0;34m(\u001b[0m\u001b[0;34m\"e\"\u001b[0m\u001b[0;34m)\u001b[0m\u001b[0;34m\u001b[0m\u001b[0;34m\u001b[0m\u001b[0m\n\u001b[1;32m      3\u001b[0m \u001b[0mprint\u001b[0m\u001b[0;34m(\u001b[0m\u001b[0;34m\"l\"\u001b[0m\u001b[0;34m)\u001b[0m\u001b[0;34m\u001b[0m\u001b[0;34m\u001b[0m\u001b[0m\n\u001b[0;32m----> 4\u001b[0;31m \u001b[0mprint\u001b[0m\u001b[0;34m(\u001b[0m\u001b[0;36m10\u001b[0m\u001b[0;34m/\u001b[0m\u001b[0;36m0\u001b[0m\u001b[0;34m)\u001b[0m\u001b[0;34m\u001b[0m\u001b[0;34m\u001b[0m\u001b[0m\n\u001b[0m\u001b[1;32m      5\u001b[0m \u001b[0mprint\u001b[0m\u001b[0;34m(\u001b[0m\u001b[0;34m\"l\"\u001b[0m\u001b[0;34m)\u001b[0m\u001b[0;34m\u001b[0m\u001b[0;34m\u001b[0m\u001b[0m\n\u001b[1;32m      6\u001b[0m \u001b[0mprint\u001b[0m\u001b[0;34m(\u001b[0m\u001b[0;34m\"o\"\u001b[0m\u001b[0;34m)\u001b[0m\u001b[0;34m\u001b[0m\u001b[0;34m\u001b[0m\u001b[0m\n",
            "\u001b[0;31mZeroDivisionError\u001b[0m: division by zero"
          ]
        }
      ]
    },
    {
      "cell_type": "markdown",
      "metadata": {
        "id": "U0jj2R6U5k_M"
      },
      "source": [
        "## 🔹 Full Try-Except-Else-Finally Block"
      ],
      "id": "U0jj2R6U5k_M"
    },
    {
      "cell_type": "code",
      "source": [
        "a = int(input(\"Enter a number:\"))\n",
        "b = int(input(\"Enter a number:\"))\n",
        "\n",
        "try:\n",
        "  result = a/b\n",
        "  # --\n",
        "except Exception as error:\n",
        "  print(error)\n",
        "else:\n",
        "  print(result)\n",
        "finally:\n",
        "  print(\"Always Execute\")\n",
        "\n",
        "\n",
        "\n",
        "print(\"Other Operations\")\n",
        "print(\"Coding...\")"
      ],
      "metadata": {
        "colab": {
          "base_uri": "https://localhost:8080/"
        },
        "id": "EmioxOA-xeok",
        "outputId": "646857f7-949a-4d61-cbf0-9528b7174e0e"
      },
      "id": "EmioxOA-xeok",
      "execution_count": null,
      "outputs": [
        {
          "output_type": "stream",
          "name": "stdout",
          "text": [
            "Enter a number:10\n",
            "Enter a number:0\n",
            "division by zero\n",
            "Always Execute\n",
            "Other Operations\n",
            "Coding...\n"
          ]
        }
      ]
    },
    {
      "cell_type": "markdown",
      "metadata": {
        "id": "6gdo0vIo5k_N"
      },
      "source": [
        "2## 🔹 Common Built-in Exceptions"
      ],
      "id": "6gdo0vIo5k_N"
    },
    {
      "cell_type": "markdown",
      "metadata": {
        "id": "WixNSP7K5k_O"
      },
      "source": [
        "| Exception             | Description                              |\n",
        "|-----------------------|------------------------------------------|\n",
        "| `ZeroDivisionError`   | Dividing by zero                         |\n",
        "| `TypeError`           | Invalid type operations                  |\n",
        "| `ValueError`          | Invalid value (e.g., converting string to int) |\n",
        "| `IndexError`          | Invalid list index                       |\n",
        "| `KeyError`            | Missing dictionary key                   |\n",
        "| `FileNotFoundError`   | File not found                           |\n",
        "| `IOError`             | Input/output operation failure           |\n",
        "| `AttributeError`      | Object has no attribute                  |\n",
        "| `ImportError`         | Module not found or failed to import     |\n",
        "| `NameError`           | Variable not defined                     |\n",
        "| `OverflowError`       | Number too large                         |\n",
        "| `AssertionError`      | Raised when `assert` fails               |"
      ],
      "id": "WixNSP7K5k_O"
    },
    {
      "cell_type": "markdown",
      "metadata": {
        "id": "qmpeBvbQ5k_O"
      },
      "source": [
        "## 🔹 Examples of Common Exceptions"
      ],
      "id": "qmpeBvbQ5k_O"
    },
    {
      "cell_type": "code",
      "execution_count": null,
      "metadata": {
        "id": "LJJIzmhG5k_O"
      },
      "outputs": [],
      "source": [
        "# ZeroDivisionError\n",
        "try:\n",
        "    x = 10 / 0\n",
        "except ZeroDivisionError as e:\n",
        "    print(\"Error:\", e)\n",
        "\n",
        "# TypeError\n",
        "try:\n",
        "    x = '5' + 3\n",
        "except TypeError as e:\n",
        "    print(\"Error:\", e)\n",
        "\n",
        "# ValueError\n",
        "try:\n",
        "    x = int(\"abc\")\n",
        "except ValueError as e:\n",
        "    print(\"Error:\", e)\n",
        "\n",
        "# IndexError\n",
        "try:\n",
        "    lst = [1, 2]\n",
        "    print(lst[5])\n",
        "except IndexError as e:\n",
        "    print(\"Error:\", e)\n",
        "\n",
        "# KeyError\n",
        "try:\n",
        "    d = {\"a\": 1}\n",
        "    print(d[\"b\"])\n",
        "except KeyError as e:\n",
        "    print(\"Error:\", e)\n",
        "\n",
        "# FileNotFoundError\n",
        "try:\n",
        "    with open(\"nonexistent.txt\") as f:\n",
        "        f.read()\n",
        "except FileNotFoundError as e:\n",
        "    print(\"Error:\", e)"
      ],
      "id": "LJJIzmhG5k_O"
    },
    {
      "cell_type": "markdown",
      "metadata": {
        "id": "1wM0N8Gm5k_P"
      },
      "source": [
        "## 🔹 Catching Multiple Exceptions"
      ],
      "id": "1wM0N8Gm5k_P"
    },
    {
      "cell_type": "code",
      "execution_count": null,
      "metadata": {
        "id": "w3oABIsr5k_P"
      },
      "outputs": [],
      "source": [
        "try:\n",
        "    x = int(\"abc\")\n",
        "    y = 10 / 0\n",
        "except (ValueError, ZeroDivisionError) as e:\n",
        "    print(\"Caught error:\", e)"
      ],
      "id": "w3oABIsr5k_P"
    },
    {
      "cell_type": "markdown",
      "metadata": {
        "id": "G2kltYyZ5k_P"
      },
      "source": [
        "## 🔹 Catching All Exceptions (Not Recommended Generally)"
      ],
      "id": "G2kltYyZ5k_P"
    },
    {
      "cell_type": "code",
      "execution_count": null,
      "metadata": {
        "id": "UR4U4AKs5k_P"
      },
      "outputs": [],
      "source": [
        "try:\n",
        "    # Risky code\n",
        "    pass\n",
        "except Exception as e:\n",
        "    print(\"Something went wrong:\", e)"
      ],
      "id": "UR4U4AKs5k_P"
    },
    {
      "cell_type": "markdown",
      "metadata": {
        "id": "hn2at1Jw5k_P"
      },
      "source": [
        "## 🔹 Raising Exceptions Manually"
      ],
      "id": "hn2at1Jw5k_P"
    },
    {
      "cell_type": "code",
      "execution_count": null,
      "metadata": {
        "id": "M8gUSGRe5k_P",
        "colab": {
          "base_uri": "https://localhost:8080/"
        },
        "outputId": "a195954a-39a9-4769-d3d3-00281cc65a74"
      },
      "outputs": [
        {
          "output_type": "stream",
          "name": "stdout",
          "text": [
            "Exception: Age must be 18 or older\n"
          ]
        }
      ],
      "source": [
        "def check_age(age):\n",
        "    if age < 18:\n",
        "        raise ValueError(\"Age must be 18 or older\")\n",
        "    return \"Access granted\"\n",
        "\n",
        "try:\n",
        "    print(check_age(16))\n",
        "except ValueError as e:\n",
        "    print(\"Exception:\", e)"
      ],
      "id": "M8gUSGRe5k_P"
    },
    {
      "cell_type": "markdown",
      "metadata": {
        "id": "-jB1iqol5k_Q"
      },
      "source": [
        "## 🔹 Using `assert` for Simple Error Checking"
      ],
      "id": "-jB1iqol5k_Q"
    },
    {
      "cell_type": "code",
      "execution_count": null,
      "metadata": {
        "id": "KudBp3uW5k_Q",
        "colab": {
          "base_uri": "https://localhost:8080/",
          "height": 323
        },
        "outputId": "336ed6df-f1c8-4955-86ea-78ff10a569b6"
      },
      "outputs": [
        {
          "output_type": "stream",
          "name": "stdout",
          "text": [
            "5.0\n"
          ]
        },
        {
          "output_type": "error",
          "ename": "AssertionError",
          "evalue": "Division by zero is not allowed",
          "traceback": [
            "\u001b[0;31m---------------------------------------------------------------------------\u001b[0m",
            "\u001b[0;31mAssertionError\u001b[0m                            Traceback (most recent call last)",
            "\u001b[0;32m/tmp/ipython-input-471551987.py\u001b[0m in \u001b[0;36m<cell line: 0>\u001b[0;34m()\u001b[0m\n\u001b[1;32m      4\u001b[0m \u001b[0;34m\u001b[0m\u001b[0m\n\u001b[1;32m      5\u001b[0m \u001b[0mprint\u001b[0m\u001b[0;34m(\u001b[0m\u001b[0mdivide\u001b[0m\u001b[0;34m(\u001b[0m\u001b[0;36m10\u001b[0m\u001b[0;34m,\u001b[0m \u001b[0;36m2\u001b[0m\u001b[0;34m)\u001b[0m\u001b[0;34m)\u001b[0m\u001b[0;34m\u001b[0m\u001b[0;34m\u001b[0m\u001b[0m\n\u001b[0;32m----> 6\u001b[0;31m \u001b[0mprint\u001b[0m\u001b[0;34m(\u001b[0m\u001b[0mdivide\u001b[0m\u001b[0;34m(\u001b[0m\u001b[0;36m10\u001b[0m\u001b[0;34m,\u001b[0m \u001b[0;36m0\u001b[0m\u001b[0;34m)\u001b[0m\u001b[0;34m)\u001b[0m  \u001b[0;31m# Raises AssertionError\u001b[0m\u001b[0;34m\u001b[0m\u001b[0;34m\u001b[0m\u001b[0m\n\u001b[0m",
            "\u001b[0;32m/tmp/ipython-input-471551987.py\u001b[0m in \u001b[0;36mdivide\u001b[0;34m(x, y)\u001b[0m\n\u001b[1;32m      1\u001b[0m \u001b[0;32mdef\u001b[0m \u001b[0mdivide\u001b[0m\u001b[0;34m(\u001b[0m\u001b[0mx\u001b[0m\u001b[0;34m,\u001b[0m \u001b[0my\u001b[0m\u001b[0;34m)\u001b[0m\u001b[0;34m:\u001b[0m\u001b[0;34m\u001b[0m\u001b[0;34m\u001b[0m\u001b[0m\n\u001b[0;32m----> 2\u001b[0;31m     \u001b[0;32massert\u001b[0m \u001b[0my\u001b[0m \u001b[0;34m!=\u001b[0m \u001b[0;36m0\u001b[0m\u001b[0;34m,\u001b[0m \u001b[0;34m\"Division by zero is not allowed\"\u001b[0m\u001b[0;34m\u001b[0m\u001b[0;34m\u001b[0m\u001b[0m\n\u001b[0m\u001b[1;32m      3\u001b[0m     \u001b[0;32mreturn\u001b[0m \u001b[0mx\u001b[0m \u001b[0;34m/\u001b[0m \u001b[0my\u001b[0m\u001b[0;34m\u001b[0m\u001b[0;34m\u001b[0m\u001b[0m\n\u001b[1;32m      4\u001b[0m \u001b[0;34m\u001b[0m\u001b[0m\n\u001b[1;32m      5\u001b[0m \u001b[0mprint\u001b[0m\u001b[0;34m(\u001b[0m\u001b[0mdivide\u001b[0m\u001b[0;34m(\u001b[0m\u001b[0;36m10\u001b[0m\u001b[0;34m,\u001b[0m \u001b[0;36m2\u001b[0m\u001b[0;34m)\u001b[0m\u001b[0;34m)\u001b[0m\u001b[0;34m\u001b[0m\u001b[0;34m\u001b[0m\u001b[0m\n",
            "\u001b[0;31mAssertionError\u001b[0m: Division by zero is not allowed"
          ]
        }
      ],
      "source": [
        "def divide(x, y):\n",
        "    assert y != 0, \"Division by zero is not allowed\"\n",
        "    return x / y\n",
        "\n",
        "print(divide(10, 2))\n",
        "print(divide(10, 0))  # Raises AssertionError"
      ],
      "id": "KudBp3uW5k_Q"
    },
    {
      "cell_type": "markdown",
      "metadata": {
        "id": "zLV9kr8g5k_Q"
      },
      "source": [
        "## 🔹 Best Practices\n",
        "\n",
        "- Be specific in except clauses.\n",
        "- Avoid catching all exceptions with `except:`.\n",
        "- Use `finally` for cleanup (closing files, releasing resources).\n",
        "- Use logging for real applications.\n",
        "- Define custom exceptions for better error semantics."
      ],
      "id": "zLV9kr8g5k_Q"
    },
    {
      "cell_type": "code",
      "source": [
        "from google.colab import drive\n",
        "drive.mount('/content/drive')"
      ],
      "metadata": {
        "colab": {
          "base_uri": "https://localhost:8080/",
          "height": 329
        },
        "id": "WTNh-K37XTj5",
        "outputId": "aaed8c85-700d-4171-b657-6f31e979fdfd"
      },
      "id": "WTNh-K37XTj5",
      "execution_count": null,
      "outputs": [
        {
          "output_type": "error",
          "ename": "MessageError",
          "evalue": "Error: credential propagation was unsuccessful",
          "traceback": [
            "\u001b[0;31m---------------------------------------------------------------------------\u001b[0m",
            "\u001b[0;31mMessageError\u001b[0m                              Traceback (most recent call last)",
            "\u001b[0;32m/tmp/ipython-input-1408506528.py\u001b[0m in \u001b[0;36m<cell line: 0>\u001b[0;34m()\u001b[0m\n\u001b[1;32m      1\u001b[0m \u001b[0;32mfrom\u001b[0m \u001b[0mgoogle\u001b[0m\u001b[0;34m.\u001b[0m\u001b[0mcolab\u001b[0m \u001b[0;32mimport\u001b[0m \u001b[0mdrive\u001b[0m\u001b[0;34m\u001b[0m\u001b[0;34m\u001b[0m\u001b[0m\n\u001b[0;32m----> 2\u001b[0;31m \u001b[0mdrive\u001b[0m\u001b[0;34m.\u001b[0m\u001b[0mmount\u001b[0m\u001b[0;34m(\u001b[0m\u001b[0;34m'/content/drive'\u001b[0m\u001b[0;34m)\u001b[0m\u001b[0;34m\u001b[0m\u001b[0;34m\u001b[0m\u001b[0m\n\u001b[0m",
            "\u001b[0;32m/usr/local/lib/python3.11/dist-packages/google/colab/drive.py\u001b[0m in \u001b[0;36mmount\u001b[0;34m(mountpoint, force_remount, timeout_ms, readonly)\u001b[0m\n\u001b[1;32m     98\u001b[0m \u001b[0;32mdef\u001b[0m \u001b[0mmount\u001b[0m\u001b[0;34m(\u001b[0m\u001b[0mmountpoint\u001b[0m\u001b[0;34m,\u001b[0m \u001b[0mforce_remount\u001b[0m\u001b[0;34m=\u001b[0m\u001b[0;32mFalse\u001b[0m\u001b[0;34m,\u001b[0m \u001b[0mtimeout_ms\u001b[0m\u001b[0;34m=\u001b[0m\u001b[0;36m120000\u001b[0m\u001b[0;34m,\u001b[0m \u001b[0mreadonly\u001b[0m\u001b[0;34m=\u001b[0m\u001b[0;32mFalse\u001b[0m\u001b[0;34m)\u001b[0m\u001b[0;34m:\u001b[0m\u001b[0;34m\u001b[0m\u001b[0;34m\u001b[0m\u001b[0m\n\u001b[1;32m     99\u001b[0m   \u001b[0;34m\"\"\"Mount your Google Drive at the specified mountpoint path.\"\"\"\u001b[0m\u001b[0;34m\u001b[0m\u001b[0;34m\u001b[0m\u001b[0m\n\u001b[0;32m--> 100\u001b[0;31m   return _mount(\n\u001b[0m\u001b[1;32m    101\u001b[0m       \u001b[0mmountpoint\u001b[0m\u001b[0;34m,\u001b[0m\u001b[0;34m\u001b[0m\u001b[0;34m\u001b[0m\u001b[0m\n\u001b[1;32m    102\u001b[0m       \u001b[0mforce_remount\u001b[0m\u001b[0;34m=\u001b[0m\u001b[0mforce_remount\u001b[0m\u001b[0;34m,\u001b[0m\u001b[0;34m\u001b[0m\u001b[0;34m\u001b[0m\u001b[0m\n",
            "\u001b[0;32m/usr/local/lib/python3.11/dist-packages/google/colab/drive.py\u001b[0m in \u001b[0;36m_mount\u001b[0;34m(mountpoint, force_remount, timeout_ms, ephemeral, readonly)\u001b[0m\n\u001b[1;32m    135\u001b[0m   )\n\u001b[1;32m    136\u001b[0m   \u001b[0;32mif\u001b[0m \u001b[0mephemeral\u001b[0m\u001b[0;34m:\u001b[0m\u001b[0;34m\u001b[0m\u001b[0;34m\u001b[0m\u001b[0m\n\u001b[0;32m--> 137\u001b[0;31m     _message.blocking_request(\n\u001b[0m\u001b[1;32m    138\u001b[0m         \u001b[0;34m'request_auth'\u001b[0m\u001b[0;34m,\u001b[0m\u001b[0;34m\u001b[0m\u001b[0;34m\u001b[0m\u001b[0m\n\u001b[1;32m    139\u001b[0m         \u001b[0mrequest\u001b[0m\u001b[0;34m=\u001b[0m\u001b[0;34m{\u001b[0m\u001b[0;34m'authType'\u001b[0m\u001b[0;34m:\u001b[0m \u001b[0;34m'dfs_ephemeral'\u001b[0m\u001b[0;34m}\u001b[0m\u001b[0;34m,\u001b[0m\u001b[0;34m\u001b[0m\u001b[0;34m\u001b[0m\u001b[0m\n",
            "\u001b[0;32m/usr/local/lib/python3.11/dist-packages/google/colab/_message.py\u001b[0m in \u001b[0;36mblocking_request\u001b[0;34m(request_type, request, timeout_sec, parent)\u001b[0m\n\u001b[1;32m    174\u001b[0m       \u001b[0mrequest_type\u001b[0m\u001b[0;34m,\u001b[0m \u001b[0mrequest\u001b[0m\u001b[0;34m,\u001b[0m \u001b[0mparent\u001b[0m\u001b[0;34m=\u001b[0m\u001b[0mparent\u001b[0m\u001b[0;34m,\u001b[0m \u001b[0mexpect_reply\u001b[0m\u001b[0;34m=\u001b[0m\u001b[0;32mTrue\u001b[0m\u001b[0;34m\u001b[0m\u001b[0;34m\u001b[0m\u001b[0m\n\u001b[1;32m    175\u001b[0m   )\n\u001b[0;32m--> 176\u001b[0;31m   \u001b[0;32mreturn\u001b[0m \u001b[0mread_reply_from_input\u001b[0m\u001b[0;34m(\u001b[0m\u001b[0mrequest_id\u001b[0m\u001b[0;34m,\u001b[0m \u001b[0mtimeout_sec\u001b[0m\u001b[0;34m)\u001b[0m\u001b[0;34m\u001b[0m\u001b[0;34m\u001b[0m\u001b[0m\n\u001b[0m",
            "\u001b[0;32m/usr/local/lib/python3.11/dist-packages/google/colab/_message.py\u001b[0m in \u001b[0;36mread_reply_from_input\u001b[0;34m(message_id, timeout_sec)\u001b[0m\n\u001b[1;32m    101\u001b[0m     ):\n\u001b[1;32m    102\u001b[0m       \u001b[0;32mif\u001b[0m \u001b[0;34m'error'\u001b[0m \u001b[0;32min\u001b[0m \u001b[0mreply\u001b[0m\u001b[0;34m:\u001b[0m\u001b[0;34m\u001b[0m\u001b[0;34m\u001b[0m\u001b[0m\n\u001b[0;32m--> 103\u001b[0;31m         \u001b[0;32mraise\u001b[0m \u001b[0mMessageError\u001b[0m\u001b[0;34m(\u001b[0m\u001b[0mreply\u001b[0m\u001b[0;34m[\u001b[0m\u001b[0;34m'error'\u001b[0m\u001b[0;34m]\u001b[0m\u001b[0;34m)\u001b[0m\u001b[0;34m\u001b[0m\u001b[0;34m\u001b[0m\u001b[0m\n\u001b[0m\u001b[1;32m    104\u001b[0m       \u001b[0;32mreturn\u001b[0m \u001b[0mreply\u001b[0m\u001b[0;34m.\u001b[0m\u001b[0mget\u001b[0m\u001b[0;34m(\u001b[0m\u001b[0;34m'data'\u001b[0m\u001b[0;34m,\u001b[0m \u001b[0;32mNone\u001b[0m\u001b[0;34m)\u001b[0m\u001b[0;34m\u001b[0m\u001b[0;34m\u001b[0m\u001b[0m\n\u001b[1;32m    105\u001b[0m \u001b[0;34m\u001b[0m\u001b[0m\n",
            "\u001b[0;31mMessageError\u001b[0m: Error: credential propagation was unsuccessful"
          ]
        }
      ]
    },
    {
      "cell_type": "markdown",
      "metadata": {
        "id": "0VDkvD-T5k_Q"
      },
      "source": [
        "## 🔹 Real-life Use Case Example"
      ],
      "id": "0VDkvD-T5k_Q"
    },
    {
      "cell_type": "code",
      "execution_count": null,
      "metadata": {
        "colab": {
          "base_uri": "https://localhost:8080/"
        },
        "id": "N3Kw7j_z5k_Q",
        "outputId": "45a5a1af-93c3-4a29-ca45-cd45f05f9610"
      },
      "outputs": [
        {
          "output_type": "stream",
          "name": "stdout",
          "text": [
            "File operation attempted.\n",
            "File not found.\n"
          ]
        }
      ],
      "source": [
        "def read_file(filename):\n",
        "    try:\n",
        "        with open(filename, 'r') as f:\n",
        "            return f.read()\n",
        "    except FileNotFoundError:\n",
        "        return \"File not found.\"\n",
        "    except IOError:\n",
        "        return \"Could not read file.\"\n",
        "    finally:\n",
        "        print(\"File operation attempted.\")\n",
        "\n",
        "print(read_file(\"demos.txt\"))"
      ],
      "id": "N3Kw7j_z5k_Q"
    },
    {
      "cell_type": "markdown",
      "metadata": {
        "id": "TNGNjPzs5k_R"
      },
      "source": [
        "## 📌 Summary\n",
        "\n",
        "| Concept             | Keyword      |\n",
        "|---------------------|--------------|\n",
        "| Try block           | `try`        |\n",
        "| Handle exception    | `except`     |\n",
        "| Optional else       | `else`       |\n",
        "| Cleanup             | `finally`    |\n",
        "| Raise exception     | `raise`      |\n",
        "| Custom error        | `class MyError(Exception)` |\n",
        "| Logging             | `logging.error()` |"
      ],
      "id": "TNGNjPzs5k_R"
    }
  ],
  "metadata": {
    "kernelspec": {
      "display_name": "Python 3",
      "language": "python",
      "name": "python3"
    },
    "language_info": {
      "name": "python",
      "version": "3.x"
    },
    "colab": {
      "provenance": []
    }
  },
  "nbformat": 4,
  "nbformat_minor": 5
}