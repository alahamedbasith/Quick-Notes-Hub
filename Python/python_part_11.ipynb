{
  "nbformat": 4,
  "nbformat_minor": 0,
  "metadata": {
    "colab": {
      "provenance": []
    },
    "kernelspec": {
      "name": "python3",
      "display_name": "Python 3"
    },
    "language_info": {
      "name": "python"
    }
  },
  "cells": [
    {
      "cell_type": "markdown",
      "source": [
        "# 🧠 Python Tuples, Tuple Methods & Tuple Comprehension\n",
        "\n",
        "---\n",
        "\n",
        "## ✅ What is a Tuple?\n",
        "\n",
        "- A **tuple** is an **ordered** and **immutable** collection of items.\n",
        "- Tuples are defined using **parentheses `()`**, but parentheses can sometimes be optional.\n",
        "- Can store different data types: integers, strings, floats, etc.\n",
        "\n",
        "```python\n",
        "my_tuple = (1, 2, 3)\n",
        "mixed_tuple = (1, \"apple\", 3.14)\n",
        "empty_tuple = ()\n",
        "single_item_tuple = (5,)  # Note the comma\n"
      ],
      "metadata": {
        "id": "dzIVAgsj8_Kd"
      }
    },
    {
      "cell_type": "code",
      "source": [
        "lst = (9,)\n",
        "print(type(lst))\n"
      ],
      "metadata": {
        "colab": {
          "base_uri": "https://localhost:8080/"
        },
        "id": "1ZeqZzI__PYF",
        "outputId": "2c60ea02-1b3f-49f5-ddc3-1eeccc034f4a"
      },
      "execution_count": null,
      "outputs": [
        {
          "output_type": "stream",
          "name": "stdout",
          "text": [
            "<class 'tuple'>\n"
          ]
        }
      ]
    },
    {
      "cell_type": "markdown",
      "source": [
        "| Feature           | Description           |\n",
        "| ----------------- | --------------------- |\n",
        "| Mutable           | ❌ No (Immutable)      |\n",
        "| Ordered           | ✅ Yes                 |\n",
        "| Allows Duplicates | ✅ Yes                 |\n",
        "| Indexable         | ✅ Yes                 |\n",
        "| Iterable          | ✅ Yes                 |\n",
        "| Faster than lists | ✅ Yes (in most cases) |\n",
        "\n",
        "\n",
        "| Method      | Description                                      | Example            |\n",
        "| ----------- | ------------------------------------------------ | ------------------ |\n",
        "| `.count(x)` | Returns number of times `x` appears              | `t.count(2)`       |\n",
        "| `.index(x)` | Returns the index of **first** occurrence of `x` | `t.index(\"apple\")` |\n",
        "\n"
      ],
      "metadata": {
        "id": "Iucwtv4a9HEd"
      }
    },
    {
      "cell_type": "code",
      "source": [
        "t = (1, 2, 3, 2, 2)\n",
        "print(t.count(2))     # Output: 3\n",
        "print(t.index(3))     # Output: 2"
      ],
      "metadata": {
        "colab": {
          "base_uri": "https://localhost:8080/"
        },
        "id": "wElIibzQ8GQr",
        "outputId": "f6d9a213-c24a-4941-b795-464f0cc1b8ad"
      },
      "execution_count": null,
      "outputs": [
        {
          "output_type": "stream",
          "name": "stdout",
          "text": [
            "3\n",
            "2\n"
          ]
        }
      ]
    },
    {
      "cell_type": "code",
      "source": [
        "# Indexing\n",
        "\n",
        "t = (10, 20, 30)\n",
        "print(t[0])   # Output: 10"
      ],
      "metadata": {
        "colab": {
          "base_uri": "https://localhost:8080/"
        },
        "id": "gDWKFqwD9QCJ",
        "outputId": "d766b401-2aa4-4552-ff4c-1dc9e6080eeb"
      },
      "execution_count": null,
      "outputs": [
        {
          "output_type": "stream",
          "name": "stdout",
          "text": [
            "10\n"
          ]
        }
      ]
    },
    {
      "cell_type": "code",
      "source": [
        "# Slicing\n",
        "\n",
        "print(t[0:2])   # Output: (10, 20)"
      ],
      "metadata": {
        "colab": {
          "base_uri": "https://localhost:8080/"
        },
        "id": "RhaWLBrZ9UOS",
        "outputId": "9ff36df1-5558-4333-9614-db897e4d55c7"
      },
      "execution_count": null,
      "outputs": [
        {
          "output_type": "stream",
          "name": "stdout",
          "text": [
            "(10, 20)\n"
          ]
        }
      ]
    },
    {
      "cell_type": "code",
      "source": [
        "# Concatenation\n",
        "\n",
        "t1 = (1, 2)\n",
        "t2 = (3, 4)\n",
        "print(t1 + t2)  # Output: (1, 2, 3, 4)"
      ],
      "metadata": {
        "colab": {
          "base_uri": "https://localhost:8080/"
        },
        "id": "KzcC1TrY9XoP",
        "outputId": "c72416a6-38b7-4720-e712-1c480fb9407b"
      },
      "execution_count": null,
      "outputs": [
        {
          "output_type": "stream",
          "name": "stdout",
          "text": [
            "[1, 2, 3, 4]\n"
          ]
        }
      ]
    },
    {
      "cell_type": "code",
      "source": [
        "# Repetation\n",
        "\n",
        "print(t1 * 3)   # Output: (1, 2, 1, 2, 1, 2)"
      ],
      "metadata": {
        "colab": {
          "base_uri": "https://localhost:8080/"
        },
        "id": "ct6LFD1k9bUP",
        "outputId": "e161a47d-9b88-4a8f-e8bf-aef445695ad4"
      },
      "execution_count": null,
      "outputs": [
        {
          "output_type": "stream",
          "name": "stdout",
          "text": [
            "(1, 2, 1, 2, 1, 2)\n"
          ]
        }
      ]
    },
    {
      "cell_type": "code",
      "source": [
        "# Length\n",
        "print(len(t1))  # Output: 2"
      ],
      "metadata": {
        "colab": {
          "base_uri": "https://localhost:8080/"
        },
        "id": "0zcvFQcX9fV1",
        "outputId": "e8032775-ced2-4322-d71c-4da9c71e1600"
      },
      "execution_count": null,
      "outputs": [
        {
          "output_type": "stream",
          "name": "stdout",
          "text": [
            "2\n"
          ]
        }
      ]
    },
    {
      "cell_type": "markdown",
      "source": [
        "# Tuple Packing & Unpacking"
      ],
      "metadata": {
        "id": "hFvhsNIf9p16"
      }
    },
    {
      "cell_type": "code",
      "source": [
        "# Packing\n",
        "packed = 1, 2, \"apple\",4,6,7,8,9\n",
        "print(packed)"
      ],
      "metadata": {
        "colab": {
          "base_uri": "https://localhost:8080/"
        },
        "id": "js1xTBc89kEd",
        "outputId": "e0baf6a9-a8f6-40e2-fd0d-d891ba322412"
      },
      "execution_count": null,
      "outputs": [
        {
          "output_type": "stream",
          "name": "stdout",
          "text": [
            "(1, 2, 'apple', 4, 6, 7, 8, 9)\n"
          ]
        }
      ]
    },
    {
      "cell_type": "code",
      "source": [
        "# Unpacking\n",
        "a, *b, c = packed\n",
        "print(a)  # Output: 1\n",
        "print(b)  # Output: 2\n",
        "print(c)  # Output: apple"
      ],
      "metadata": {
        "colab": {
          "base_uri": "https://localhost:8080/"
        },
        "id": "PLYlLIga9wQ0",
        "outputId": "8e0b7ed1-b9fd-4e42-a54d-418a19ec188d"
      },
      "execution_count": null,
      "outputs": [
        {
          "output_type": "stream",
          "name": "stdout",
          "text": [
            "1\n",
            "[2, 'apple', 4, 6, 7, 8]\n",
            "9\n"
          ]
        }
      ]
    },
    {
      "cell_type": "markdown",
      "source": [
        "✅ Tuple Comprehension (Generator Expression)\n",
        "\n",
        "- ❗ Python does not support direct tuple comprehension (like list comprehension).\n",
        "\n",
        "- ✔️ Use a generator expression with tuple() constructor."
      ],
      "metadata": {
        "id": "W5tPznKN93-o"
      }
    },
    {
      "cell_type": "code",
      "source": [
        "squares = tuple(x**2 for x in range(5))\n",
        "print(squares)  # Output: (0, 1, 4, 9, 16)"
      ],
      "metadata": {
        "colab": {
          "base_uri": "https://localhost:8080/"
        },
        "id": "znjzEq9c90EO",
        "outputId": "cbf15ccd-26a5-4c42-8c20-d5bedc997ce8"
      },
      "execution_count": null,
      "outputs": [
        {
          "output_type": "stream",
          "name": "stdout",
          "text": [
            "(0, 1, 4, 9, 16)\n"
          ]
        }
      ]
    },
    {
      "cell_type": "code",
      "source": [
        "# Nested Tuple\n",
        "\n",
        "nested_tuple = ((1, 2, 3), (\"a\", \"b\", \"c\"), (True, False))\n",
        "\n",
        "## access the elements inside a tuple\n",
        "print(nested_tuple[0])\n",
        "print(nested_tuple[1][2])"
      ],
      "metadata": {
        "colab": {
          "base_uri": "https://localhost:8080/"
        },
        "id": "WNTZl6B9-AcE",
        "outputId": "8c426b53-449b-4411-b227-9214b6213417"
      },
      "execution_count": null,
      "outputs": [
        {
          "output_type": "stream",
          "name": "stdout",
          "text": [
            "(1, 2, 3)\n",
            "c\n"
          ]
        }
      ]
    },
    {
      "cell_type": "code",
      "source": [
        "## iterating over nested tuples\n",
        "for sub_tuple in nested_tuple:\n",
        "    for item in sub_tuple:\n",
        "        print(item,end=\" \")\n",
        "    print()"
      ],
      "metadata": {
        "colab": {
          "base_uri": "https://localhost:8080/"
        },
        "id": "ZgVrrvL7-chS",
        "outputId": "4901d966-4369-4516-b6f5-011b9df48afc"
      },
      "execution_count": null,
      "outputs": [
        {
          "output_type": "stream",
          "name": "stdout",
          "text": [
            "1 2 3 \n",
            "a b c \n",
            "True False \n"
          ]
        }
      ]
    },
    {
      "cell_type": "code",
      "source": [
        "nested_tuple = ((1, 2, 3), (\"a\", \"b\", \"c\"), [2,3,5])\n",
        "nested_tuple[2][1] = 30\n",
        "\n",
        "print(nested_tuple)\n",
        "print(nested_tuple[2][1])\n"
      ],
      "metadata": {
        "colab": {
          "base_uri": "https://localhost:8080/"
        },
        "id": "1IB3F_Jj-f3O",
        "outputId": "c2ad2c8e-4210-45e6-a9c0-17f14b40e4df"
      },
      "execution_count": null,
      "outputs": [
        {
          "output_type": "stream",
          "name": "stdout",
          "text": [
            "((1, 2, 3), ('a', 'b', 'c'), [2, 30, 5])\n",
            "30\n"
          ]
        }
      ]
    },
    {
      "cell_type": "code",
      "source": [],
      "metadata": {
        "id": "2wlgA2uWCQO4"
      },
      "execution_count": null,
      "outputs": []
    }
  ]
}