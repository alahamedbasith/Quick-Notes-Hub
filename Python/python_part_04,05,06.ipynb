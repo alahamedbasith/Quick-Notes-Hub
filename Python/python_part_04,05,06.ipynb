{
  "nbformat": 4,
  "nbformat_minor": 0,
  "metadata": {
    "colab": {
      "provenance": []
    },
    "kernelspec": {
      "name": "python3",
      "display_name": "Python 3"
    },
    "language_info": {
      "name": "python"
    }
  },
  "cells": [
    {
      "cell_type": "markdown",
      "source": [
        "# 🐍 Operands and Operations in Python\n",
        "\n",
        "## ✅ What are Operands?\n",
        "\n",
        "**Operands** are the **values** or **variables** on which **operations** are performed.\n",
        "\n",
        "**Example:**\n",
        "```python\n",
        "a = 10\n",
        "b = 5\n",
        "result = a + b\n",
        "```\n",
        "\n",
        "- `a` and `b` are **operands**\n",
        "- `+` is the **operator**\n",
        "- `a + b` is the **operation**\n",
        "\n",
        "---\n",
        "\n",
        "## ✅ What are Operations?\n",
        "\n",
        "An **operation** is an expression where one or more operands are operated using an operator.\n",
        "\n",
        "**Example:**\n",
        "```python\n",
        "10 + 5\n",
        "```\n",
        "\n",
        "This is an **operation** with operands `10` and `5`, and operator `+`.\n",
        "\n",
        "---\n",
        "\n",
        "## 🔹 Types of Operators in Python\n",
        "\n",
        "| Operator Type     | Symbols                | Example         | Description                       |\n",
        "|------------------|------------------------|------------------|-----------------------------------|\n",
        "| Arithmetic        | `+ - * / % // **`       | `a + b`          | Math operations                   |\n",
        "| Assignment        | `= += -= *= /=` etc.    | `a += 1`         | Assign values to variables        |\n",
        "| Comparison        | `== != > < >= <=`       | `a == b`         | Compare two values                |\n",
        "| Logical           | `and or not`            | `a and b`        | Logical conditions                |\n",
        "| Bitwise           | `& | ^ ~ << >>`         | `a & b`          | Bit-level operations              |\n",
        "| Membership        | `in, not in`            | `'x' in 'xyz'`   | Test membership                   |\n",
        "| Identity          | `is, is not`            | `a is b`         | Test object identity              |\n",
        "\n",
        "---\n",
        "\n",
        "\n",
        "## ✅ Summary\n",
        "\n",
        "- **Operands**: The values like `a`, `10`, `'a'`\n",
        "- **Operations**: The action like `a + b`, `a == b`\n",
        "- Python supports various types of operators for different operations\n",
        "\n"
      ],
      "metadata": {
        "id": "lk5oyZxpKm4j"
      }
    },
    {
      "cell_type": "code",
      "source": [
        "a = 10\n",
        "b = 3\n",
        "\n",
        "print(a%b)"
      ],
      "metadata": {
        "id": "JVIm--fmLSuU",
        "colab": {
          "base_uri": "https://localhost:8080/"
        },
        "outputId": "2f40667e-f9d7-4b10-b983-9f07275f26c1"
      },
      "execution_count": null,
      "outputs": [
        {
          "output_type": "stream",
          "name": "stdout",
          "text": [
            "1\n"
          ]
        }
      ]
    },
    {
      "cell_type": "code",
      "source": [],
      "metadata": {
        "id": "F0IkIULnLvYq"
      },
      "execution_count": null,
      "outputs": []
    },
    {
      "cell_type": "markdown",
      "source": [],
      "metadata": {
        "id": "vfa83FNssIfM"
      }
    },
    {
      "cell_type": "code",
      "source": [],
      "metadata": {
        "id": "Iqxo281pLvfo"
      },
      "execution_count": null,
      "outputs": []
    },
    {
      "cell_type": "code",
      "source": [],
      "metadata": {
        "id": "rIvc5F8DLTYk"
      },
      "execution_count": null,
      "outputs": []
    },
    {
      "cell_type": "markdown",
      "source": [
        "# ➗ Arithmetic Operators in Python\n",
        "\n",
        "Arithmetic operators are used to perform mathematical operations.\n",
        "\n",
        "## ✅ List of Arithmetic Operators\n",
        "\n",
        "| Operator | Name             | Example    | Description                    |\n",
        "|----------|------------------|------------|--------------------------------|\n",
        "| `+`      | Addition          | `a + b`    | Adds two values                |\n",
        "| `-`      | Subtraction       | `a - b`    | Subtracts second from first    |\n",
        "| `*`      | Multiplication    | `a * b`    | Multiplies two values          |\n",
        "| `/`      | Division          | `a / b`    | Divides first by second        |\n",
        "| `%`      | Modulus           | `a % b`    | Returns remainder              |\n",
        "| `//`     | Floor Division    | `a // b`   | Division result rounded down   |\n",
        "| `**`     | Exponentiation    | `a ** b`   | Raises first to the power of second |\n",
        "\n",
        "---"
      ],
      "metadata": {
        "id": "stLRK6PRMrlj"
      }
    },
    {
      "cell_type": "code",
      "source": [
        "## 🧪 Example Using All Arithmetic Operators\n",
        "a = 10\n",
        "b = 3\n",
        "\n",
        "# Addition\n",
        "print(\"Addition:\", a + b)       # 13\n",
        "\n",
        "# Subtraction\n",
        "print(\"Subtraction:\", a - b)    # 7\n",
        "\n",
        "# Multiplication\n",
        "print(\"Multiplication:\", a * b) # 30\n",
        "\n",
        "# Division\n",
        "print(\"Division:\", a / b)       # 3.333...\n",
        "\n",
        "# Modulus\n",
        "print(\"Modulus:\", a % b)        # 1\n",
        "\n",
        "# Floor Division\n",
        "print(\"Floor Division:\", a // b) # 3\n",
        "\n",
        "# Exponentiation\n",
        "print(\"Exponentiation:\", a ** b) # 1000"
      ],
      "metadata": {
        "colab": {
          "base_uri": "https://localhost:8080/"
        },
        "id": "t81DN5l2Knzo",
        "outputId": "94210abb-21bb-44dc-cd65-45c0c8e14481"
      },
      "execution_count": null,
      "outputs": [
        {
          "output_type": "stream",
          "name": "stdout",
          "text": [
            "Addition: 13\n",
            "Subtraction: 7\n",
            "Multiplication: 30\n",
            "Division: 3.3333333333333335\n",
            "Modulus: 1\n",
            "Floor Division: 3\n",
            "Exponentiation: 1000\n"
          ]
        }
      ]
    },
    {
      "cell_type": "code",
      "source": [
        " a = 10\n",
        " print(a)"
      ],
      "metadata": {
        "id": "zSV-owYELROS",
        "colab": {
          "base_uri": "https://localhost:8080/"
        },
        "outputId": "b2f51adb-ba8a-45a9-e692-6c4d3c009cdb"
      },
      "execution_count": null,
      "outputs": [
        {
          "output_type": "stream",
          "name": "stdout",
          "text": [
            "10\n"
          ]
        }
      ]
    },
    {
      "cell_type": "code",
      "source": [
        "b = 5\n",
        "# b = b + 5\n",
        "b *= 5         # 5 = 10 --> 10\n",
        "print(b)"
      ],
      "metadata": {
        "id": "BC0Hv5u1LweO",
        "colab": {
          "base_uri": "https://localhost:8080/"
        },
        "outputId": "a1cef4b5-23dd-417a-f4d7-9ac6956a44c4"
      },
      "execution_count": null,
      "outputs": [
        {
          "output_type": "stream",
          "name": "stdout",
          "text": [
            "25\n"
          ]
        }
      ]
    },
    {
      "cell_type": "code",
      "source": [],
      "metadata": {
        "id": "NPJUWS9aLwib"
      },
      "execution_count": null,
      "outputs": []
    },
    {
      "cell_type": "markdown",
      "source": [
        "# 📝 Assignment Operators in Python\n",
        "\n",
        "Assignment operators are used to assign values to variables. Some also perform an operation before assignment.\n",
        "\n",
        "---\n",
        "\n",
        "## ✅ List of Assignment Operators\n",
        "\n",
        "| Operator | Description                  | Example       | Same as            |\n",
        "|----------|------------------------------|---------------|---------------------|\n",
        "| `=`      | Assign                       | `a = 5`       | Assign 5 to `a`     |\n",
        "| `+=`     | Add and assign               | `a += 3`      | `a = a + 3`         |\n",
        "| `-=`     | Subtract and assign          | `a -= 2`      | `a = a - 2`         |\n",
        "| `*=`     | Multiply and assign          | `a *= 2`      | `a = a * 2`         |\n",
        "| `/=`     | Divide and assign            | `a /= 2`      | `a = a / 2`         |\n",
        "| `%=`     | Modulus and assign           | `a %= 3`      | `a = a % 3`         |\n",
        "| `//=`    | Floor divide and assign      | `a //= 2`     | `a = a // 2`        |\n",
        "| `**=`    | Exponentiate and assign      | `a **= 2`     | `a = a ** 2`        |\n",
        "\n",
        "---"
      ],
      "metadata": {
        "id": "UVB-sSPGMvo3"
      }
    },
    {
      "cell_type": "code",
      "source": [
        "## 🧪 Example Using All Assignment Operators\n",
        "\n",
        "a = 10\n",
        "print(\"Initial value:\", a)\n",
        "\n",
        "a += 5\n",
        "print(\"After a += 5:\", a)   # 15\n",
        "\n",
        "a -= 3\n",
        "print(\"After a -= 3:\", a)   # 12\n",
        "\n",
        "a *= 2\n",
        "print(\"After a *= 2:\", a)   # 24\n",
        "\n",
        "a /= 4\n",
        "print(\"After a /= 4:\", a)   # 6.0\n",
        "\n",
        "a %= 5\n",
        "print(\"After a %= 5:\", a)   # 1.0\n",
        "\n",
        "a = 10  # Reset value\n",
        "a //= 3\n",
        "print(\"After a //= 3:\", a)  # 3\n",
        "\n",
        "a **= 2\n",
        "print(\"After a **= 2:\", a)  # 9"
      ],
      "metadata": {
        "colab": {
          "base_uri": "https://localhost:8080/"
        },
        "id": "zqbk1Y8NLwuk",
        "outputId": "6ee7fbde-ec64-4956-9980-a0620cdb721a"
      },
      "execution_count": null,
      "outputs": [
        {
          "output_type": "stream",
          "name": "stdout",
          "text": [
            "Initial value: 10\n",
            "After a += 5: 15\n",
            "After a -= 3: 12\n",
            "After a *= 2: 24\n",
            "After a /= 4: 6.0\n",
            "After a %= 5: 1.0\n",
            "After a //= 3: 3\n",
            "After a **= 2: 9\n"
          ]
        }
      ]
    },
    {
      "cell_type": "code",
      "source": [
        "a = 5\n",
        "b = 5\n",
        "\n",
        "print(b<=a)"
      ],
      "metadata": {
        "id": "9Eo13itTL1Eh",
        "colab": {
          "base_uri": "https://localhost:8080/"
        },
        "outputId": "aa769da1-e43b-4e2d-bfbe-7e47123c7b83"
      },
      "execution_count": null,
      "outputs": [
        {
          "output_type": "stream",
          "name": "stdout",
          "text": [
            "True\n"
          ]
        }
      ]
    },
    {
      "cell_type": "code",
      "source": [],
      "metadata": {
        "id": "mBBge3M8MLHv"
      },
      "execution_count": null,
      "outputs": []
    },
    {
      "cell_type": "code",
      "source": [],
      "metadata": {
        "id": "3CMjluSrMLWw"
      },
      "execution_count": null,
      "outputs": []
    },
    {
      "cell_type": "markdown",
      "source": [
        "# 🧮 Comparison Operators in Python\n",
        "\n",
        "Comparison operators are used to **compare** two values. They return either `True` or `False`.\n",
        "\n",
        "---\n",
        "\n",
        "## ✅ List of Comparison Operators\n",
        "\n",
        "| Operator | Description                  | Example       | Output   |\n",
        "|----------|------------------------------|---------------|----------|\n",
        "| `==`     | Equal to                     | `a == b`      | True if `a` is equal to `b` |\n",
        "| `!=`     | Not equal to                 | `a != b`      | True if `a` is not equal to `b` |\n",
        "| `>`      | Greater than                 | `a > b`       | True if `a` is greater than `b` |\n",
        "| `<`      | Less than                    | `a < b`       | True if `a` is less than `b` |\n",
        "| `>=`     | Greater than or equal to     | `a >= b`      | True if `a` is greater than or equal to `b` |\n",
        "| `<=`     | Less than or equal to        | `a <= b`      | True if `a` is less than or equal to `b` |\n",
        "\n",
        "---"
      ],
      "metadata": {
        "id": "ADz1IRbzM61i"
      }
    },
    {
      "cell_type": "code",
      "source": [
        "## 🧪 Example Using All Comparison Operators\n",
        "\n",
        "a = 10\n",
        "b = 5\n",
        "\n",
        "print(\"a == b:\", a == b)   # False\n",
        "print(\"a != b:\", a != b)   # True\n",
        "print(\"a > b:\", a > b)     # True\n",
        "print(\"a < b:\", a < b)     # False\n",
        "print(\"a >= b:\", a >= b)   # True\n",
        "print(\"a <= b:\", a <= b)   # False"
      ],
      "metadata": {
        "colab": {
          "base_uri": "https://localhost:8080/"
        },
        "id": "M0NEbYz5MLey",
        "outputId": "80cd64a9-7fa5-4577-c046-86e20736359a"
      },
      "execution_count": null,
      "outputs": [
        {
          "output_type": "stream",
          "name": "stdout",
          "text": [
            "a == b: False\n",
            "a != b: True\n",
            "a > b: True\n",
            "a < b: False\n",
            "a >= b: True\n",
            "a <= b: False\n"
          ]
        }
      ]
    },
    {
      "cell_type": "code",
      "source": [
        "a = 10\n",
        "b = 4\n",
        "\n",
        "print(a > 5)\n",
        "print(b > 5)\n",
        "\n",
        "print(a > 5 or b > 5)"
      ],
      "metadata": {
        "id": "TCq7rSemMNh0",
        "colab": {
          "base_uri": "https://localhost:8080/"
        },
        "outputId": "454ad3e0-5b3e-4134-bda9-ad2cafb7a763"
      },
      "execution_count": null,
      "outputs": [
        {
          "output_type": "stream",
          "name": "stdout",
          "text": [
            "True\n",
            "False\n",
            "True\n"
          ]
        }
      ]
    },
    {
      "cell_type": "code",
      "source": [
        "not(not(a == 10))"
      ],
      "metadata": {
        "id": "SWxngL5tNCME",
        "colab": {
          "base_uri": "https://localhost:8080/"
        },
        "outputId": "328a738c-4a5e-4b30-d3c6-c59d00e05876"
      },
      "execution_count": null,
      "outputs": [
        {
          "output_type": "execute_result",
          "data": {
            "text/plain": [
              "True"
            ]
          },
          "metadata": {},
          "execution_count": 72
        }
      ]
    },
    {
      "cell_type": "code",
      "source": [],
      "metadata": {
        "id": "ZPIbMFmINCT7"
      },
      "execution_count": null,
      "outputs": []
    },
    {
      "cell_type": "markdown",
      "source": [
        "# 🔗 Logical Operators in Python\n",
        "\n",
        "Logical operators are used to **combine** multiple conditions (expressions) and return `True` or `False`.\n",
        "\n",
        "---\n",
        "\n",
        "## ✅ List of Logical Operators\n",
        "\n",
        "| Operator | Description                      | Example               | Result                                  |\n",
        "|----------|----------------------------------|------------------------|-----------------------------------------|\n",
        "| `and`    | True if **both** conditions are True | `a > 5 and b < 10`     | True only if both are True              |\n",
        "| `or`     | True if **at least one** condition is True | `a > 5 or b < 2` | True if any one is True                 |\n",
        "| `not`    | **Reverses** the result (True → False) | `not(a > 5)`         | True if `a > 5` is False                |\n",
        "\n",
        "---"
      ],
      "metadata": {
        "id": "abZ-KDFlNChR"
      }
    },
    {
      "cell_type": "code",
      "source": [
        "## 🧪 Example Using All Logical Operators\n",
        "\n",
        "a = 10\n",
        "b = 5\n",
        "\n",
        "# and operator\n",
        "print(\"a > 5 and b < 10:\", a > 5 and b < 10)   # True and True → True\n",
        "\n",
        "# or operator\n",
        "print(\"a < 5 or b < 10:\", a < 5 or b < 10)     # False or True → True\n",
        "\n",
        "# not operator\n",
        "print(\"not(a == 10):\", not(a == 10))           # not(True) → False"
      ],
      "metadata": {
        "colab": {
          "base_uri": "https://localhost:8080/"
        },
        "id": "DH-jtbLGNQo0",
        "outputId": "c763d3eb-ac5c-4786-b71c-678dc2adeaf9"
      },
      "execution_count": null,
      "outputs": [
        {
          "output_type": "stream",
          "name": "stdout",
          "text": [
            "a > 5 and b < 10: True\n",
            "a < 5 or b < 10: True\n",
            "not(a == 10): False\n"
          ]
        }
      ]
    },
    {
      "cell_type": "code",
      "source": [],
      "metadata": {
        "id": "z0-iJm39NZNf"
      },
      "execution_count": null,
      "outputs": []
    },
    {
      "cell_type": "code",
      "source": [],
      "metadata": {
        "id": "qObUfXJ2Nms9"
      },
      "execution_count": null,
      "outputs": []
    },
    {
      "cell_type": "code",
      "source": [],
      "metadata": {
        "id": "NKof9H62Nm1l"
      },
      "execution_count": null,
      "outputs": []
    },
    {
      "cell_type": "markdown",
      "source": [
        "# 🧠 Bitwise Operators in Python\n",
        "\n",
        "Bitwise operators work on the **binary representation** of integers. They perform operations **bit by bit**.\n",
        "\n",
        "---\n",
        "\n",
        "## ✅ List of Bitwise Operators\n",
        "\n",
        "| Operator | Name              | Description                                     | Example      |\n",
        "|----------|-------------------|-------------------------------------------------|--------------|\n",
        "| `&`      | AND               | Bits that are **1 in both** operands            | `a & b`      |\n",
        "| '|'      | OR                | Bits that are **1 in either** operand           | `a | b`      |\n",
        "| `^`      | XOR               | Bits that are **different** in each operand     | `a ^ b`      |\n",
        "| `~`      | NOT               | **Inverts** all the bits                        | `~a`         |\n",
        "| `<<`     | Left Shift        | Shifts bits to the **left** (adds zeros)        | `a << 1`     |\n",
        "| `>>`     | Right Shift       | Shifts bits to the **right** (drops bits)       | `a >> 1`     |\n",
        "\n",
        "---"
      ],
      "metadata": {
        "id": "An0xOfhsNnE7"
      }
    },
    {
      "cell_type": "code",
      "source": [
        "## 🔢 Example Values\n",
        "\n",
        "a = 10      # In binary: 1010\n",
        "b = 4       # In binary: 0100\n",
        "\n",
        "## 🧪 Example Using All Bitwise Operators\n",
        "\n",
        "a = 10      # 1010\n",
        "b = 4       # 0100\n",
        "\n",
        "print(\"a & b:\", a & b)     # 1010 & 0100 = 0000 → 0\n",
        "print(\"a | b:\", a | b)     # 1010 | 0100 = 1110 → 14\n",
        "print(\"a ^ b:\", a ^ b)     # 1010 ^ 0100 = 1110 → 14\n",
        "print(\"~a:\", ~a)           # ~1010 = -(1010 + 1) → -11\n",
        "print(\"a << 1:\", a << 1)   # 1010 << 1 = 10100 → 20\n",
        "print(\"a >> 1:\", a >> 1)   # 1010 >> 1 = 0101 → 5"
      ],
      "metadata": {
        "colab": {
          "base_uri": "https://localhost:8080/"
        },
        "id": "wensaTcaNoH2",
        "outputId": "7900cdf0-bf6f-4644-956a-54ce10527b93"
      },
      "execution_count": null,
      "outputs": [
        {
          "output_type": "stream",
          "name": "stdout",
          "text": [
            "a & b: 0\n",
            "a | b: 14\n",
            "a ^ b: 14\n",
            "~a: -11\n",
            "a << 1: 20\n",
            "a >> 1: 5\n"
          ]
        }
      ]
    },
    {
      "cell_type": "code",
      "source": [],
      "metadata": {
        "id": "2CdGfXaGNx3_"
      },
      "execution_count": null,
      "outputs": []
    },
    {
      "cell_type": "code",
      "source": [],
      "metadata": {
        "id": "lImp31gaORmo"
      },
      "execution_count": null,
      "outputs": []
    },
    {
      "cell_type": "code",
      "source": [],
      "metadata": {
        "id": "1qqfdAFEORu2"
      },
      "execution_count": null,
      "outputs": []
    },
    {
      "cell_type": "markdown",
      "source": [
        "# 🔍 Membership Operators in Python\n",
        "\n",
        "Membership operators are used to test **whether a value is present** in a sequence (like a string, list, tuple, set, or dictionary).\n",
        "\n",
        "---\n",
        "\n",
        "## ✅ Membership Operators\n",
        "\n",
        "| Operator   | Description                          | Example                   | Result                |\n",
        "|------------|------------------------------------|---------------------------|-----------------------|\n",
        "| `in`       | Returns `True` if value is present | `'a' in 'apple'`           | `True`                |\n",
        "| `not in`   | Returns `True` if value is not present | `5 not in [1, 2, 3, 4]` | `True`                |\n",
        "\n",
        "---"
      ],
      "metadata": {
        "id": "Ax7SDanSOSFy"
      }
    },
    {
      "cell_type": "code",
      "source": [
        "## 🧪 Examples\n",
        "\n",
        "# Using 'in' operator\n",
        "print('a' in 'apple')          # True\n",
        "print(3 in [1, 2, 3, 4, 5])   # True\n",
        "print('x' in ('x', 'y', 'z')) # True\n",
        "\n",
        "# Using 'not in' operator\n",
        "print('c' not in 'banana')     # True\n",
        "print(10 not in [1, 2, 3])    # True\n",
        "print('a' not in {'a':1, 'b':2}) # False (checks keys in dict)"
      ],
      "metadata": {
        "colab": {
          "base_uri": "https://localhost:8080/"
        },
        "id": "Pb2JI0lVOTId",
        "outputId": "aafb9c7a-68ad-4e76-f701-9c67d529bb33"
      },
      "execution_count": null,
      "outputs": [
        {
          "output_type": "stream",
          "name": "stdout",
          "text": [
            "True\n",
            "True\n",
            "True\n",
            "True\n",
            "True\n",
            "False\n"
          ]
        }
      ]
    },
    {
      "cell_type": "code",
      "source": [],
      "metadata": {
        "id": "US5EnlFsOY77"
      },
      "execution_count": null,
      "outputs": []
    },
    {
      "cell_type": "code",
      "source": [],
      "metadata": {
        "id": "ZETCoX0vOwB8"
      },
      "execution_count": null,
      "outputs": []
    },
    {
      "cell_type": "code",
      "source": [],
      "metadata": {
        "id": "2OEVfREYOwIZ"
      },
      "execution_count": null,
      "outputs": []
    },
    {
      "cell_type": "markdown",
      "source": [
        "# 🔑 Identity Operators in Python\n",
        "\n",
        "Identity operators check **whether two variables point to the same object** in memory.\n",
        "\n",
        "---\n",
        "\n",
        "## ✅ Identity Operators\n",
        "\n",
        "| Operator  | Description                          | Example          | Result              |\n",
        "|-----------|------------------------------------|------------------|---------------------|\n",
        "| `is`      | Returns `True` if both refer to the **same object** | `a is b`          | True if `a` and `b` are same object |\n",
        "| `is not`  | Returns `True` if both refer to **different objects** | `a is not b`      | True if `a` and `b` are not same object |\n",
        "\n",
        "---"
      ],
      "metadata": {
        "id": "OU1CJ5siOwbS"
      }
    },
    {
      "cell_type": "code",
      "source": [
        "## 🧪 Examples\n",
        "\n",
        "a = [1, 2, 3]\n",
        "b = a  # [1, 2, 3]\n",
        "c = [1, 2, 3]\n",
        "\n",
        "print(a is b)        # True (both point to same list)\n",
        "print(a is c)        # False (different lists with same content)\n",
        "print(a == c)        # True (contents are equal)\n",
        "\n",
        "print(a is not c)    # True\n",
        "print(a is not b)    # False"
      ],
      "metadata": {
        "colab": {
          "base_uri": "https://localhost:8080/"
        },
        "id": "EpNz3LFiOxM3",
        "outputId": "b885838b-b73c-45e6-9214-0a0f7595571c"
      },
      "execution_count": null,
      "outputs": [
        {
          "output_type": "stream",
          "name": "stdout",
          "text": [
            "True\n",
            "False\n",
            "True\n",
            "True\n",
            "False\n"
          ]
        }
      ]
    },
    {
      "cell_type": "code",
      "source": [],
      "metadata": {
        "id": "OGezx3xaO2FU"
      },
      "execution_count": null,
      "outputs": []
    },
    {
      "cell_type": "markdown",
      "source": [
        "# Deep Understanding about Identity Operators"
      ],
      "metadata": {
        "id": "AUxkB25kRluN"
      }
    },
    {
      "cell_type": "code",
      "source": [
        "# Case 1: Two variables referencing the same object\n",
        "a = [1, 2, 3]\n",
        "b = a          # b references the same list as a\n",
        "print(a is b)  # True - both point to the same object\n",
        "print(a == b)  # True - contents are equal"
      ],
      "metadata": {
        "colab": {
          "base_uri": "https://localhost:8080/"
        },
        "id": "6EwtEehyR7cQ",
        "outputId": "e0bbf058-e031-4dc8-f113-9044b3f8ac4b"
      },
      "execution_count": null,
      "outputs": [
        {
          "output_type": "stream",
          "name": "stdout",
          "text": [
            "True\n",
            "True\n"
          ]
        }
      ]
    },
    {
      "cell_type": "code",
      "source": [
        "# Case 2: Two variables with equal but separate objects\n",
        "c = [1, 2, 3]\n",
        "print(a is c)  # False - different objects in memory\n",
        "print(a == c)  # True - contents are equal"
      ],
      "metadata": {
        "colab": {
          "base_uri": "https://localhost:8080/"
        },
        "id": "y1JBPZDtR-BM",
        "outputId": "8d2ac3a5-d180-441d-a3f8-90b0b1ff928c"
      },
      "execution_count": null,
      "outputs": [
        {
          "output_type": "stream",
          "name": "stdout",
          "text": [
            "False\n",
            "True\n"
          ]
        }
      ]
    },
    {
      "cell_type": "code",
      "source": [
        "# Case 3: Immutable objects with same value (small integers)\n",
        "x = 1000\n",
        "y = 1000\n",
        "print(x is y)  # Might be False (large ints may not be interned)\n",
        "print(x == y)  # True (values equal)\n",
        "\n",
        "# But for small integers (-5 to 256), Python caches objects\n",
        "x = 10\n",
        "y = 10\n",
        "print(x is y)  # True (small integers cached)\n",
        "print(x == y)  # True"
      ],
      "metadata": {
        "colab": {
          "base_uri": "https://localhost:8080/"
        },
        "id": "UEImQg8sSAWn",
        "outputId": "dc78481d-90d4-46c7-d9f0-28d4f11ae00d"
      },
      "execution_count": null,
      "outputs": [
        {
          "output_type": "stream",
          "name": "stdout",
          "text": [
            "False\n",
            "True\n",
            "True\n",
            "True\n"
          ]
        }
      ]
    },
    {
      "cell_type": "code",
      "source": [
        "# Case 4: Strings (interning can cause 'is' to be True)\n",
        "s1 = \"hello\"\n",
        "s2 = \"hello\"\n",
        "print(s1 is s2)  # Usually True (string interning)\n",
        "print(s1 == s2)  # True\n",
        "\n",
        "s3 = \"hello world!\"\n",
        "s4 = \"hello world!\"\n",
        "print(s3 is s4)  # May be False (longer strings may not be interned)\n",
        "print(s3 == s4)  # True"
      ],
      "metadata": {
        "colab": {
          "base_uri": "https://localhost:8080/"
        },
        "id": "MxOlVLGWSGzs",
        "outputId": "0fb0c0e5-73ad-4d93-b9fa-bef034830446"
      },
      "execution_count": null,
      "outputs": [
        {
          "output_type": "stream",
          "name": "stdout",
          "text": [
            "True\n",
            "True\n",
            "False\n",
            "True\n"
          ]
        }
      ]
    },
    {
      "cell_type": "code",
      "source": [
        "# Case 5: None singleton\n",
        "a = None\n",
        "b = None\n",
        "print(a is b)  # True (None is singleton)\n",
        "print(a == b)  # True"
      ],
      "metadata": {
        "colab": {
          "base_uri": "https://localhost:8080/"
        },
        "id": "hWqgVG0USKn5",
        "outputId": "3b8374a7-eae3-4323-cbf1-9ed1e1c70576"
      },
      "execution_count": null,
      "outputs": [
        {
          "output_type": "stream",
          "name": "stdout",
          "text": [
            "True\n",
            "True\n"
          ]
        }
      ]
    },
    {
      "cell_type": "code",
      "source": [
        "# Case 6: Using 'is not'\n",
        "a = [1, 2]\n",
        "b = [1, 2]\n",
        "print(a is not b)  # True (different objects)\n",
        "print(a != b)      # False (values equal)"
      ],
      "metadata": {
        "colab": {
          "base_uri": "https://localhost:8080/"
        },
        "id": "00YonCi6SNaz",
        "outputId": "5f938e92-66a2-486e-e9fa-e6855f82a173"
      },
      "execution_count": null,
      "outputs": [
        {
          "output_type": "stream",
          "name": "stdout",
          "text": [
            "True\n",
            "False\n"
          ]
        }
      ]
    },
    {
      "cell_type": "code",
      "source": [],
      "metadata": {
        "id": "5pR2-ZxcSBoI"
      },
      "execution_count": null,
      "outputs": []
    },
    {
      "cell_type": "code",
      "source": [],
      "metadata": {
        "id": "WJjHc0BqO5vH"
      },
      "execution_count": null,
      "outputs": []
    },
    {
      "cell_type": "markdown",
      "source": [
        "# Interning (Implicit, Explicit)\n",
        "Interning is an optimization technique where Python stores only one copy of immutable objects with the same value to save memory and improve performance.\n"
      ],
      "metadata": {
        "id": "n221yX0LSW6U"
      }
    },
    {
      "cell_type": "code",
      "source": [
        "a = \"this is a very very long string repeated many times\"\n",
        "b = \"this is a very very long string repeated many times\"\n",
        "print(a is b)  # False, because they are not explicitly interned"
      ],
      "metadata": {
        "colab": {
          "base_uri": "https://localhost:8080/"
        },
        "id": "yg-DT3ZqSnEu",
        "outputId": "4595da28-53e7-4aa3-cb17-b4c7c888ac3c"
      },
      "execution_count": null,
      "outputs": [
        {
          "output_type": "stream",
          "name": "stdout",
          "text": [
            "False\n"
          ]
        }
      ]
    },
    {
      "cell_type": "code",
      "source": [
        "import sys\n",
        "a = sys.intern(\"this is a very very long string repeated many times\")\n",
        "b = sys.intern(\"this is a very very long string repeated many times\")\n",
        "print(a is b)  # True, because they are explicitly interned\n"
      ],
      "metadata": {
        "colab": {
          "base_uri": "https://localhost:8080/"
        },
        "id": "snQ3ESB-O58R",
        "outputId": "6ed78bdc-6382-4f37-c725-59a0e345f9d9"
      },
      "execution_count": null,
      "outputs": [
        {
          "output_type": "stream",
          "name": "stdout",
          "text": [
            "True\n"
          ]
        }
      ]
    },
    {
      "cell_type": "code",
      "source": [],
      "metadata": {
        "id": "H_SCPWaYRIR5"
      },
      "execution_count": null,
      "outputs": []
    }
  ]
}