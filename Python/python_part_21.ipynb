{
  "nbformat": 4,
  "nbformat_minor": 0,
  "metadata": {
    "colab": {
      "provenance": []
    },
    "kernelspec": {
      "name": "python3",
      "display_name": "Python 3"
    },
    "language_info": {
      "name": "python"
    }
  },
  "cells": [
    {
      "cell_type": "code",
      "source": [
        "a = 0\n",
        "\n",
        "if a == 0:\n",
        "  print(True)\n",
        "else:\n",
        "  print(False)"
      ],
      "metadata": {
        "colab": {
          "base_uri": "https://localhost:8080/"
        },
        "id": "wFQG2rGBbyHC",
        "outputId": "ffa05f45-9c71-4cf2-f0df-a6f53c6de408"
      },
      "execution_count": null,
      "outputs": [
        {
          "output_type": "stream",
          "name": "stdout",
          "text": [
            "True\n"
          ]
        }
      ]
    },
    {
      "cell_type": "markdown",
      "source": [
        "# Object-Oriented Programming (OOP) in Python\n",
        "\n",
        "Object-Oriented Programming (OOP) is a programming paradigm that uses \"objects\" to design applications and computer programs. It allows for modeling real-world scenarios using classes and objects. This lesson covers the basics of creating classes and objects, including instance variables and methods, using a `Book` and `Library` example."
      ],
      "metadata": {
        "id": "FuNaWN3mSMDi"
      }
    },
    {
      "cell_type": "markdown",
      "source": [
        "## Creating a Simple Class\n",
        "\n",
        "A class is a blueprint for creating objects. It defines a set of attributes and methods that the created objects will have.\n",
        "\n",
        "```python\n",
        "# A class is a blueprint for creating objects.\n",
        "class Book:\n",
        "    pass\n",
        "\n",
        "# Creating instances (objects) of the Book class\n",
        "book1 = Book()\n",
        "book2 = Book()\n",
        "\n",
        "# Checking the type of an object\n",
        "print(type(book1))\n",
        "```"
      ],
      "metadata": {
        "id": "-m8UhzSdSYpY"
      }
    },
    {
      "cell_type": "code",
      "source": [
        "class Book:\n",
        "  pass\n",
        "\n",
        "comic_book = Book()\n",
        "story_book = Book()\n",
        "\n",
        "print(type(comic_book))"
      ],
      "metadata": {
        "colab": {
          "base_uri": "https://localhost:8080/"
        },
        "id": "2p23nIu2Sdtr",
        "outputId": "c0502662-1093-4310-c1a0-5830080aaf00"
      },
      "execution_count": null,
      "outputs": [
        {
          "output_type": "stream",
          "name": "stdout",
          "text": [
            "<class '__main__.Book'>\n"
          ]
        }
      ]
    },
    {
      "cell_type": "code",
      "source": [],
      "metadata": {
        "id": "TyxlrCO9Sdw7"
      },
      "execution_count": null,
      "outputs": []
    },
    {
      "cell_type": "markdown",
      "source": [],
      "metadata": {
        "id": "UasvH4L2Z5Kb"
      }
    },
    {
      "cell_type": "code",
      "source": [],
      "metadata": {
        "id": "e-je4q-xSdz9"
      },
      "execution_count": null,
      "outputs": []
    },
    {
      "cell_type": "markdown",
      "source": [
        "## Instance Attributes\n",
        "\n",
        "You can assign attributes to a specific instance of a class to store data unique to that object.\n",
        "\n",
        "```python\n",
        "# Printing the object references shows their memory location\n",
        "print(book1)\n",
        "print(book2)\n",
        "```\n",
        "\n",
        "```python\n",
        "# Assigning attributes to an instance\n",
        "book1.title = \"The Hobbit\"\n",
        "book1.author = \"J.R.R. Tolkien\"\n",
        "\n",
        "# Accessing the attributes\n",
        "print(book1.title)\n",
        "print(book1.author)\n",
        "```\n",
        "\n",
        "Accessing an attribute that has not been set will result in an `AttributeError`.\n",
        "\n",
        "```python\n",
        "book2.title = \"1984\"\n",
        "\n",
        "try:\n",
        "    # This will cause an error because 'author' is not set for book2\n",
        "    print(book2.author)\n",
        "except AttributeError as e:\n",
        "    print(e)\n",
        "```\n"
      ],
      "metadata": {
        "id": "R-Gsm1-6SeW8"
      }
    },
    {
      "cell_type": "code",
      "source": [
        "class Book:\n",
        "  book_no = 1234\n",
        "\n",
        "comic_book = Book()\n",
        "story_book = Book()\n",
        "\n",
        "comic_book.book_no = 2345\n",
        "comic_book.author = \"Ahamed\"\n",
        "\n",
        "\n",
        "print(comic_book.book_no)\n",
        "print(story_book.book_no)\n",
        "\n",
        "\n"
      ],
      "metadata": {
        "colab": {
          "base_uri": "https://localhost:8080/"
        },
        "id": "8QUmB-HQSXgu",
        "outputId": "23119f4b-93c2-4feb-c616-1a84ec645513"
      },
      "execution_count": null,
      "outputs": [
        {
          "output_type": "stream",
          "name": "stdout",
          "text": [
            "2345\n",
            "1234\n"
          ]
        }
      ]
    },
    {
      "cell_type": "code",
      "source": [],
      "metadata": {
        "id": "5M7kNKL9SpFh"
      },
      "execution_count": null,
      "outputs": []
    },
    {
      "cell_type": "code",
      "source": [],
      "metadata": {
        "id": "QnMiAtQsSpOL"
      },
      "execution_count": null,
      "outputs": []
    },
    {
      "cell_type": "markdown",
      "source": [
        "\n",
        "The `dir()` function can be used to see all the attributes and methods of an object.\n",
        "\n",
        "```python\n",
        "dir(book1)\n",
        "```\n",
        "\n"
      ],
      "metadata": {
        "id": "oYpxLQhHSpZd"
      }
    },
    {
      "cell_type": "code",
      "source": [
        "dir(comic_book)"
      ],
      "metadata": {
        "colab": {
          "base_uri": "https://localhost:8080/"
        },
        "id": "KXj6D497Suzy",
        "outputId": "50eef8f9-76a3-4cc2-b7e6-157d2baef344"
      },
      "execution_count": null,
      "outputs": [
        {
          "output_type": "execute_result",
          "data": {
            "text/plain": [
              "['__class__',\n",
              " '__delattr__',\n",
              " '__dict__',\n",
              " '__dir__',\n",
              " '__doc__',\n",
              " '__eq__',\n",
              " '__format__',\n",
              " '__ge__',\n",
              " '__getattribute__',\n",
              " '__getstate__',\n",
              " '__gt__',\n",
              " '__hash__',\n",
              " '__init__',\n",
              " '__init_subclass__',\n",
              " '__le__',\n",
              " '__lt__',\n",
              " '__module__',\n",
              " '__ne__',\n",
              " '__new__',\n",
              " '__reduce__',\n",
              " '__reduce_ex__',\n",
              " '__repr__',\n",
              " '__setattr__',\n",
              " '__sizeof__',\n",
              " '__str__',\n",
              " '__subclasshook__',\n",
              " '__weakref__',\n",
              " 'author',\n",
              " 'book_no']"
            ]
          },
          "metadata": {},
          "execution_count": 21
        }
      ]
    },
    {
      "cell_type": "markdown",
      "source": [
        "## The __init__ Method (Constructor)\n",
        "\n",
        "The `__init__` method is a special method, known as a constructor, that is automatically called when you create a new instance of a class. It's used to initialize the object's attributes.\n",
        "\n",
        "```python\n",
        "class Book:\n",
        "    # The constructor method\n",
        "    def __init__(self, title, author, pages):\n",
        "        self.title = title\n",
        "        self.author = author\n",
        "        self.pages = pages\n",
        "\n",
        "# Create an object, which automatically calls __init__\n",
        "book1 = Book(\"To Kill a Mockingbird\", \"Harper Lee\", 281)\n",
        "\n",
        "# Access the attributes that were initialized\n",
        "print(book1.title)\n",
        "print(book1.author)\n",
        "print(book1.pages)\n",
        "```\n",
        "\n",
        "```python\n",
        "# Creating another Book object\n",
        "book2 = Book(\"The Great Gatsby\", \"F. Scott Fitzgerald\", 180)\n",
        "\n",
        "# Accessing its attributes\n",
        "print(book2.title)\n",
        "print(book2.pages)\n",
        "```"
      ],
      "metadata": {
        "id": "UWKFCS_QSuEZ"
      }
    },
    {
      "cell_type": "code",
      "source": [
        "# Parameter Constructor\n",
        "class Book:\n",
        "  def __init__(self,book_id,author):\n",
        "    self.book_id = book_id\n",
        "    self.author = author\n",
        "\n",
        "comic_book = Book(1234,\"Ahamed\")\n",
        "story_book = Book(3456,\"Najim\")\n",
        "tech_book = Book(6789,\"Ram\")\n",
        "\n",
        "print(story_book.author)"
      ],
      "metadata": {
        "colab": {
          "base_uri": "https://localhost:8080/"
        },
        "id": "lcI116NsS103",
        "outputId": "73ab2117-ad50-4235-d0d8-fced1f9b2016"
      },
      "execution_count": null,
      "outputs": [
        {
          "output_type": "stream",
          "name": "stdout",
          "text": [
            "Najim\n"
          ]
        }
      ]
    },
    {
      "cell_type": "code",
      "source": [
        "# Default Constructor\n",
        "class Book:\n",
        "  def __init__(self):\n",
        "    self.book_id = 123\n",
        "    self.author = \"XYZ\"\n",
        "\n",
        "comic_book = Book()\n",
        "story_book = Book()\n",
        "tech_book = Book()\n",
        "\n",
        "print(story_book.author)"
      ],
      "metadata": {
        "colab": {
          "base_uri": "https://localhost:8080/"
        },
        "id": "raNJDmpjyf60",
        "outputId": "3be077c9-0f47-4ae2-b9b8-00f670d261b3"
      },
      "execution_count": null,
      "outputs": [
        {
          "output_type": "stream",
          "name": "stdout",
          "text": [
            "XYZ\n"
          ]
        }
      ]
    },
    {
      "cell_type": "code",
      "source": [],
      "metadata": {
        "id": "w00HAsJGS16X"
      },
      "execution_count": null,
      "outputs": []
    },
    {
      "cell_type": "code",
      "source": [],
      "metadata": {
        "id": "6CmWjtxRStSp"
      },
      "execution_count": null,
      "outputs": []
    },
    {
      "cell_type": "markdown",
      "source": [
        "## Instance Methods\n",
        "\n",
        "Instance methods are functions defined within a class that operate on an instance of that class. They always take `self` as their first argument, which refers to the instance itself.\n",
        "\n",
        "```python\n",
        "class Book:\n",
        "    def __init__(self, title, author, pages):\n",
        "        self.title = title\n",
        "        self.author = author\n",
        "        self.pages = pages\n",
        "\n",
        "    # An instance method to get a summary of the book\n",
        "    def get_summary(self):\n",
        "        print(f\"'{self.title}' by {self.author} is {self.pages} pages long.\")\n",
        "\n",
        "# Creating objects and calling their instance methods\n",
        "book1 = Book(\"Dune\", \"Frank Herbert\", 412)\n",
        "book1.get_summary()\n",
        "\n",
        "book2 = Book(\"Brave New World\", \"Aldous Huxley\", 311)\n",
        "book2.get_summary()\n",
        "```"
      ],
      "metadata": {
        "id": "emyYqx81S2u2"
      }
    },
    {
      "cell_type": "code",
      "source": [
        "class Book:\n",
        "    def __init__(self, title, author, pages):\n",
        "        self.title = title\n",
        "        self.author = author\n",
        "        self.pages = pages\n",
        "\n",
        "    # An instance method to get a summary of the book\n",
        "    def get_summary(self):\n",
        "        print(f\"'{self.title}' by {self.author} is {self.pages} pages long.\")\n",
        "\n",
        "# Creating objects and calling their instance methods\n",
        "book1 = Book(\"Dune\", \"Frank Herbert\", 412)\n",
        "book1.get_summary()\n",
        "\n",
        "book2 = Book(\"Brave New World\", \"Aldous Huxley\", 311)\n",
        "book2.get_summary()"
      ],
      "metadata": {
        "colab": {
          "base_uri": "https://localhost:8080/"
        },
        "id": "3bcdTrJRS6-a",
        "outputId": "12fc10e0-4df7-47e6-d83d-f4b8ead4475a"
      },
      "execution_count": null,
      "outputs": [
        {
          "output_type": "stream",
          "name": "stdout",
          "text": [
            "'Dune' by Frank Herbert is 412 pages long.\n",
            "'Brave New World' by Aldous Huxley is 311 pages long.\n"
          ]
        }
      ]
    },
    {
      "cell_type": "code",
      "source": [],
      "metadata": {
        "id": "lDitONN_S7Eu"
      },
      "execution_count": null,
      "outputs": []
    },
    {
      "cell_type": "markdown",
      "source": [
        "# Some Important Terminologies\n",
        "\n",
        "### 1. **Class**\n",
        "\n",
        "```python\n",
        "class Car:\n",
        "    pass  # empty class just to show blueprint\n",
        "```\n",
        "\n",
        "---\n",
        "\n",
        "### 2. **Object / Instance**\n",
        "\n",
        "```python\n",
        "my_car = Car()  # my_car is an instance of Car\n",
        "```\n",
        "\n",
        "---\n",
        "\n",
        "### 3. **Attribute**\n",
        "\n",
        "```python\n",
        "class Car:\n",
        "    def __init__(self, color):\n",
        "        self.color = color  # attribute storing color\n",
        "```\n",
        "\n",
        "---\n",
        "\n",
        "### 4. **Instance Attribute**\n",
        "\n",
        "```python\n",
        "car1 = Car(\"red\")\n",
        "car2 = Car(\"blue\")\n",
        "print(car1.color)  # red\n",
        "print(car2.color)  # blue\n",
        "```\n",
        "\n",
        "---\n",
        "\n",
        "### 5. **Class Attribute**\n",
        "\n",
        "```python\n",
        "class Car:\n",
        "    wheels = 4  # class attribute shared by all cars\n",
        "\n",
        "car1 = Car()\n",
        "car2 = Car()\n",
        "print(car1.wheels)  # 4\n",
        "print(car2.wheels)  # 4\n",
        "```\n",
        "\n",
        "---\n",
        "\n",
        "### 6. **Method**\n",
        "\n",
        "```python\n",
        "class Car:\n",
        "    def drive(self):\n",
        "        print(\"Car is driving\")\n",
        "\n",
        "car = Car()\n",
        "car.drive()  # Car is driving\n",
        "```\n",
        "\n",
        "---\n",
        "\n",
        "### 7. **Constructor (`__init__`)**\n",
        "\n",
        "```python\n",
        "class Car:\n",
        "    def __init__(self, color):\n",
        "        self.color = color\n",
        "\n",
        "car = Car(\"green\")\n",
        "print(car.color)  # green\n",
        "```\n",
        "\n",
        "---\n",
        "\n",
        "### 8. **Destructor (`__del__`)**\n",
        "\n",
        "```python\n",
        "class Car:\n",
        "    def __del__(self):\n",
        "        print(\"Car object is destroyed\")\n",
        "\n",
        "car = Car()\n",
        "del car  # Car object is destroyed\n",
        "```\n"
      ],
      "metadata": {
        "id": "McgLbFzvVCPT"
      }
    },
    {
      "cell_type": "markdown",
      "source": [
        "## Real-World Example:"
      ],
      "metadata": {
        "id": "VXw8YWTd1MLX"
      }
    },
    {
      "cell_type": "code",
      "source": [
        "class Car:\n",
        "    # Class Attribute\n",
        "    wheels = 4\n",
        "\n",
        "    # Constructor (called automatically when object is created)\n",
        "    def __init__(self, color, brand):\n",
        "        # Instance Attributes\n",
        "        self.color = color\n",
        "        self.brand = brand\n",
        "        print(f\"{self.brand} car created with color {self.color}\")\n",
        "\n",
        "    # Method\n",
        "    def drive(self,model_no):\n",
        "        print(f\"The {self.color} {self.brand} is driving.Model Number{model_no}\")\n",
        "\n",
        "    # Destructor (called when object is deleted)\n",
        "    def __del__(self):\n",
        "        print(f\"{self.brand} car object is destroyed.\")\n",
        "\n",
        "\n",
        "# Creating Objects (Instances)\n",
        "car1 = Car(\"red\", \"Toyota\")\n",
        "car2 = Car(\"blue\", \"BMW\")\n",
        "\n",
        "# Accessing Instance Attributes\n",
        "print(car1.color)  # red\n",
        "print(car2.brand)  # BMW\n",
        "\n",
        "# Accessing Class Attribute\n",
        "print(car1.wheels)  # 4\n",
        "print(car2.wheels)  # 4\n",
        "\n",
        "# Calling a Method\n",
        "car1.drive(\"123\")  # The red Toyota is driving\n",
        "car2.drive(\"345\")  # The blue BMW is driving\n",
        "\n",
        "# Deleting an object (calls destructor)\n",
        "del car1\n",
        "del car2"
      ],
      "metadata": {
        "colab": {
          "base_uri": "https://localhost:8080/"
        },
        "id": "30Ss5cOmS7NB",
        "outputId": "e2dafa6d-f964-4252-b78e-4f0a4109380c"
      },
      "execution_count": null,
      "outputs": [
        {
          "output_type": "stream",
          "name": "stdout",
          "text": [
            "Toyota car created with color red\n",
            "BMW car created with color blue\n",
            "red\n",
            "BMW\n",
            "4\n",
            "4\n",
            "The red Toyota is driving.Model Number123\n",
            "The blue BMW is driving.Model Number345\n",
            "Toyota car object is destroyed.\n",
            "BMW car object is destroyed.\n"
          ]
        }
      ]
    },
    {
      "cell_type": "markdown",
      "source": [],
      "metadata": {
        "id": "Izcjn9GfS7b0"
      }
    },
    {
      "cell_type": "code",
      "source": [],
      "metadata": {
        "id": "C6XmPq9YTUve"
      },
      "execution_count": null,
      "outputs": []
    },
    {
      "cell_type": "code",
      "source": [],
      "metadata": {
        "id": "ZY4LUeI3TMZh"
      },
      "execution_count": null,
      "outputs": []
    }
  ]
}