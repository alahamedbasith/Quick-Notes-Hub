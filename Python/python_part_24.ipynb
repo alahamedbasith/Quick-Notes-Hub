{
  "nbformat": 4,
  "nbformat_minor": 0,
  "metadata": {
    "colab": {
      "provenance": []
    },
    "kernelspec": {
      "name": "python3",
      "display_name": "Python 3"
    },
    "language_info": {
      "name": "python"
    }
  },
  "cells": [
    {
      "cell_type": "code",
      "execution_count": null,
      "metadata": {
        "id": "LMg0v-g0xRqT"
      },
      "outputs": [],
      "source": []
    },
    {
      "cell_type": "markdown",
      "source": [
        "# Encapsulation\n",
        "\n",
        "Encapsulation is an **OOP principle** where:\n",
        "\n",
        "* Data (**attributes**) and the code that manipulates it (**methods**) are wrapped together in a single unit (class).\n",
        "* Access to the data is restricted (to prevent unwanted modification) using **access modifiers**.\n",
        "\n",
        "**In Python, we use:**\n",
        "\n",
        "| Modifier  | Syntax  | Meaning                                            |\n",
        "| --------- | ------- | -------------------------------------------------- |\n",
        "| Public    | `var`   | Accessible anywhere                                |\n",
        "| Protected | `_var`  | Accessible in class & subclasses (convention only) |\n",
        "| Private   | `__var` | Accessible only inside the class (name mangling)   |\n",
        "\n",
        "## What is Name Mangling?\n",
        "When you define a variable with two leading underscores (like __var) in a class, Python changes the name internally to avoid accidental access or overriding.\n",
        "\n",
        "This internal change is called name mangling.\n",
        "\n",
        "The variable __var inside class MyClass becomes _MyClass__var inside Python.\n",
        "\n"
      ],
      "metadata": {
        "id": "ZNSV66e0yMYA"
      }
    },
    {
      "cell_type": "code",
      "source": [
        "## Basic Encapsulation Example (Public)\n",
        "\n",
        "class Car:\n",
        "    def __init__(self, brand, speed):\n",
        "        self.brand = brand    # public\n",
        "        self.speed = speed    # public\n",
        "\n",
        "    def display_info(self):\n",
        "        print(f\"Brand: {self.brand}, Speed: {self.speed} km/h\")\n",
        "\n",
        "# Using public attributes directly\n",
        "car1 = Car(\"Tesla\", 150)\n",
        "car1.display_info()\n",
        "car1.speed = 200  # Direct modification allowed\n",
        "car1.display_info()\n",
        "\n",
        "# Public attributes have no restrictions.\n"
      ],
      "metadata": {
        "colab": {
          "base_uri": "https://localhost:8080/"
        },
        "id": "5b2H6JmeyNdq",
        "outputId": "b77f7ca2-e2f4-45a3-95fd-f3544826179b"
      },
      "execution_count": null,
      "outputs": [
        {
          "output_type": "stream",
          "name": "stdout",
          "text": [
            "Brand: Tesla, Speed: 150 km/h\n",
            "Brand: Tesla, Speed: 200 km/h\n"
          ]
        }
      ]
    },
    {
      "cell_type": "code",
      "source": [],
      "metadata": {
        "id": "xrWHUdsI-pqu"
      },
      "execution_count": null,
      "outputs": []
    },
    {
      "cell_type": "code",
      "source": [
        "## Protected Attributes (`_single_underscore`)\n",
        "\n",
        "class BankAccount:\n",
        "    def __init__(self, account_holder, balance):\n",
        "        self.account_holder = account_holder\n",
        "        self._balance = balance  # Protected\n",
        "\n",
        "    def show_balance(self):\n",
        "        print(f\"Account Holder: {self.account_holder}, Balance: ${self._balance}\")\n",
        "\n",
        "account = BankAccount(\"Ahamed\", 5000)\n",
        "account.show_balance()\n",
        "\n",
        "# Can still access, but convention says \"don't touch\"\n",
        "print(account._balance)  # Not recommended\n",
        "\n",
        "# Protected means \"use at your own risk\" — it’s just a naming convention."
      ],
      "metadata": {
        "colab": {
          "base_uri": "https://localhost:8080/"
        },
        "id": "RTcQ-9ez9m5I",
        "outputId": "9f75ed93-9042-4fa4-d774-8390cb77ce25"
      },
      "execution_count": null,
      "outputs": [
        {
          "output_type": "stream",
          "name": "stdout",
          "text": [
            "Account Holder: Ahamed, Balance: $5000\n",
            "5000\n"
          ]
        }
      ]
    },
    {
      "cell_type": "code",
      "source": [
        "## Private Attributes (`__double_underscore`)\n",
        "\n",
        "class Employee:\n",
        "    def __init__(self, name, salary):\n",
        "        self.name = name\n",
        "        self.__salary = salary  # Private\n",
        "\n",
        "    # def show_info(self):\n",
        "    #     print(f\"Name: {self.name}, Salary: {self.__salary}\")\n",
        "\n",
        "    def set_salary(self, amount):\n",
        "        if amount > 0:\n",
        "            self.__salary = amount\n",
        "        else:\n",
        "            print(\"Invalid salary amount!\")\n",
        "\n",
        "    def get_salary(self):\n",
        "        return self.__salary\n",
        "\n",
        "emp = Employee(\"Basith\", 5000)\n",
        "print(dir(emp))\n",
        "print(emp.get_salary())\n",
        "\n",
        "# Direct access will fail\n",
        "# print(emp.__salary)  # AttributeError\n",
        "\n",
        "# Access via getter/setter\n",
        "print(\"Old Salary:\", emp.get_salary())\n",
        "emp.set_salary(6000)\n",
        "print(\"New Salary:\", emp.get_salary())\n",
        "\n",
        "# Name mangling trick (not recommended)\n",
        "# print(emp._Employee__salary)  # Accessing private var\n",
        "\n",
        "# Private variables are name-mangled to prevent direct access."
      ],
      "metadata": {
        "colab": {
          "base_uri": "https://localhost:8080/"
        },
        "id": "zUd86AuY93UM",
        "outputId": "bf8e09a4-469e-4d4e-fce8-930d9b89e4d3"
      },
      "execution_count": null,
      "outputs": [
        {
          "output_type": "stream",
          "name": "stdout",
          "text": [
            "['_Employee__salary', '__class__', '__delattr__', '__dict__', '__dir__', '__doc__', '__eq__', '__format__', '__ge__', '__getattribute__', '__getstate__', '__gt__', '__hash__', '__init__', '__init_subclass__', '__le__', '__lt__', '__module__', '__ne__', '__new__', '__reduce__', '__reduce_ex__', '__repr__', '__setattr__', '__sizeof__', '__str__', '__subclasshook__', '__weakref__', 'get_salary', 'name', 'set_salary']\n",
            "5000\n",
            "Old Salary: 5000\n",
            "New Salary: 6000\n"
          ]
        }
      ]
    },
    {
      "cell_type": "markdown",
      "source": [
        "# Getter and Setter"
      ],
      "metadata": {
        "id": "o1-nwHgxDmwJ"
      }
    },
    {
      "cell_type": "code",
      "source": [
        "class Person:\n",
        "    def __init__(self, name, age):\n",
        "        self.name = name           # public attribute\n",
        "        self.__age = age           # private attribute\n",
        "\n",
        "    # Getter method to access private variable __age\n",
        "    def get_age(self):\n",
        "        return self.__age\n",
        "\n",
        "    # Setter method to update private variable __age with validation\n",
        "    def set_age(self, age):\n",
        "        if age > 0:\n",
        "            self.__age = age\n",
        "        else:\n",
        "            print(\"Age must be positive!\")\n",
        "\n",
        "# Create object\n",
        "p = Person(\"Ahamed\", 25)\n",
        "\n",
        "# Access private variable via getter\n",
        "print(\"Age:\", p.get_age())  # Output: Age: 25\n",
        "\n",
        "# Try setting age with a valid value\n",
        "p.set_age(30)\n",
        "print(\"Updated Age:\", p.get_age())  # Output: Updated Age: 30\n",
        "\n",
        "# Try setting age with an invalid value\n",
        "p.set_age(-5)  # Output: Age must be positive!\n",
        "print(\"Age after invalid update:\", p.get_age())  # Output: Age after invalid update: 30\n"
      ],
      "metadata": {
        "colab": {
          "base_uri": "https://localhost:8080/"
        },
        "id": "1_11SinNDkyo",
        "outputId": "22eb6350-e55c-434d-fe0a-a77d34ecfe93"
      },
      "execution_count": null,
      "outputs": [
        {
          "output_type": "stream",
          "name": "stdout",
          "text": [
            "Age: 25\n",
            "Updated Age: 30\n",
            "Age must be positive!\n",
            "Age after invalid update: 30\n"
          ]
        }
      ]
    },
    {
      "cell_type": "code",
      "source": [
        "## Full Encapsulation with Validation\n",
        "\n",
        "class Student:\n",
        "    def __init__(self, name, marks):\n",
        "        self.__name = name\n",
        "        self.__marks = None\n",
        "        self.set_marks(marks)\n",
        "\n",
        "    # Getter\n",
        "    def get_name(self):\n",
        "        return self.__name\n",
        "\n",
        "    def get_marks(self):\n",
        "        return self.__marks\n",
        "\n",
        "    # Setter with validation\n",
        "    def set_marks(self, marks):\n",
        "        if 0 <= marks <= 100:\n",
        "            self.__marks = marks\n",
        "        else:\n",
        "            print(\"Marks must be between 0 and 100.\")\n",
        "\n",
        "    def display(self):\n",
        "        print(f\"Student: {self.__name}, Marks: {self.__marks}\")\n",
        "\n",
        "# Using encapsulation\n",
        "s1 = Student(\"Ahamed\", 95)\n",
        "s1.display()\n",
        "\n",
        "s1.set_marks(105)  # Invalid\n",
        "s1.display()\n",
        "\n",
        "# This ensures data safety because we control how attributes are modified."
      ],
      "metadata": {
        "colab": {
          "base_uri": "https://localhost:8080/"
        },
        "id": "zU9mh2pU-DvM",
        "outputId": "e77614be-81db-4ace-9687-68bdb1c26314"
      },
      "execution_count": null,
      "outputs": [
        {
          "output_type": "stream",
          "name": "stdout",
          "text": [
            "Student: Ahamed, Marks: 95\n",
            "Marks must be between 0 and 100.\n",
            "Student: Ahamed, Marks: 95\n"
          ]
        }
      ]
    },
    {
      "cell_type": "code",
      "source": [
        "## Real-Life Example – Bank System\n",
        "\n",
        "class Bank:\n",
        "    def __init__(self, balance):\n",
        "        self.__balance = balance  # private\n",
        "\n",
        "    def deposit(self, amount):\n",
        "        if amount > 0:\n",
        "            self.__balance += amount\n",
        "            print(f\"Deposited ${amount}\")\n",
        "        else:\n",
        "            print(\"Deposit amount must be positive.\")\n",
        "\n",
        "    def withdraw(self, amount):\n",
        "        if 0 < amount <= self.__balance:\n",
        "            self.__balance -= amount\n",
        "            print(f\"Withdrew ${amount}\")\n",
        "        else:\n",
        "            print(\"Insufficient balance or invalid amount.\")\n",
        "\n",
        "    def get_balance(self):\n",
        "        return self.__balance\n",
        "\n",
        "# Usage\n",
        "acc = Bank(1000)\n",
        "acc.deposit(500)\n",
        "acc.withdraw(300)\n",
        "print(\"Balance:\", acc.get_balance())\n",
        "\n",
        "# In banking systems, encapsulation prevents direct manipulation of balances."
      ],
      "metadata": {
        "colab": {
          "base_uri": "https://localhost:8080/"
        },
        "id": "cTZHHk4R-Ou0",
        "outputId": "dc9da7b1-75f6-4ed8-fa41-4b1249ea7b31"
      },
      "execution_count": null,
      "outputs": [
        {
          "output_type": "stream",
          "name": "stdout",
          "text": [
            "Deposited $500\n",
            "Withdrew $300\n",
            "Balance: 1200\n"
          ]
        }
      ]
    },
    {
      "cell_type": "markdown",
      "source": [
        "\n",
        "✅ **Key Points:**\n",
        "\n",
        "* **Encapsulation = Data + Methods together.**\n",
        "* Use **`_protected`** for \"internal use only\" attributes.\n",
        "* Use **`__private`** for sensitive data.\n",
        "* Always use **getter & setter** methods for controlled access.\n",
        "* Python’s encapsulation is **not strict** — it's more about **convention + name mangling**.\n",
        "\n"
      ],
      "metadata": {
        "id": "2PmwYilT-djJ"
      }
    },
    {
      "cell_type": "code",
      "source": [],
      "metadata": {
        "id": "TK2w4W6u-cKG"
      },
      "execution_count": null,
      "outputs": []
    }
  ]
}