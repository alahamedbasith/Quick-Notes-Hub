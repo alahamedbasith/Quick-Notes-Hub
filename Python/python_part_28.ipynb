{
  "nbformat": 4,
  "nbformat_minor": 0,
  "metadata": {
    "colab": {
      "provenance": []
    },
    "kernelspec": {
      "name": "python3",
      "display_name": "Python 3"
    },
    "language_info": {
      "name": "python"
    }
  },
  "cells": [
    {
      "cell_type": "markdown",
      "source": [
        "# Iterators in Python\n",
        "\n",
        "## What is an Iterator?\n",
        "An **iterator** is an object in Python that enables you to traverse through all the elements of a container (like lists, tuples, dictionaries, sets) one by one, **without exposing the underlying structure**. It implements two main methods:\n",
        "\n",
        "* `__iter__()` — Returns the iterator object itself.\n",
        "* `__next__()` — Returns the next item from the container. If no more items are left, it raises a `StopIteration` exception.\n",
        "\n",
        "## Why Iterators?\n",
        "Iterators allow us to access elements of a collection sequentially without needing to know the internal details of the collection. They provide **lazy evaluation**, meaning elements are produced only when requested (efficient for large data or streams).\n",
        "\n",
        "##What is Lazy Loading?\n",
        "Lazy Loading is a programming concept where data or resources are loaded only when they are actually needed, rather than loading everything upfront."
      ],
      "metadata": {
        "id": "tF4z8gnKVidU"
      }
    },
    {
      "cell_type": "code",
      "source": [
        "lsts = [10,20,30,40]\n",
        "\n",
        "for num in lsts:\n",
        "  print(num)"
      ],
      "metadata": {
        "colab": {
          "base_uri": "https://localhost:8080/"
        },
        "id": "KvFtcFo63Qy_",
        "outputId": "7f4d796c-7741-4ec9-cdb1-41908601eeae"
      },
      "execution_count": 38,
      "outputs": [
        {
          "output_type": "stream",
          "name": "stdout",
          "text": [
            "10\n",
            "20\n",
            "30\n",
            "40\n"
          ]
        }
      ]
    },
    {
      "cell_type": "code",
      "source": [
        "# New no iterable\n",
        "lst = [1,2,3]\n",
        "\n",
        "it = iter(lst)\n",
        "\n",
        "# print(next(it))\n",
        "# print(next(it))\n",
        "# print(next(it))\n",
        "# print(next(it))\n",
        "\n",
        "try:\n",
        "  while True:\n",
        "    print(next(it))\n",
        "except StopIteration as e:\n",
        "  pass\n",
        "\n",
        "\n",
        "\n",
        "\n"
      ],
      "metadata": {
        "colab": {
          "base_uri": "https://localhost:8080/"
        },
        "id": "yGI2djt2uBZn",
        "outputId": "eb3ad1fe-771b-4bab-f0ca-7e26105f3552"
      },
      "execution_count": 46,
      "outputs": [
        {
          "output_type": "stream",
          "name": "stdout",
          "text": [
            "1\n",
            "2\n",
            "3\n"
          ]
        }
      ]
    },
    {
      "cell_type": "code",
      "source": [],
      "metadata": {
        "id": "jyxk__dBvxnn"
      },
      "execution_count": 37,
      "outputs": []
    },
    {
      "cell_type": "code",
      "source": [
        "### How to create and use iterators?\n",
        "## Using built-in iterators (like lists, tuples, dicts, sets):\n",
        "\n",
        "my_list = [10, 20, 30]\n",
        "\n",
        "# Get iterator from iterable\n",
        "my_iter = iter(my_list)\n",
        "\n",
        "print(next(my_iter))  # Output: 10\n",
        "print(next(my_iter))  # Output: 20\n",
        "print(next(my_iter))  # Output: 30\n",
        "\n",
        "# next(my_iter) now would raise StopIteration"
      ],
      "metadata": {
        "colab": {
          "base_uri": "https://localhost:8080/"
        },
        "id": "LLxiKfCagwZA",
        "outputId": "4c6d7b9a-6d81-4579-edf5-d54198652241"
      },
      "execution_count": 31,
      "outputs": [
        {
          "output_type": "stream",
          "name": "stdout",
          "text": [
            "10\n",
            "20\n",
            "30\n"
          ]
        }
      ]
    },
    {
      "cell_type": "code",
      "source": [
        "# Using a for loop (which internally uses iterators):\n",
        "\n",
        "for item in my_list:\n",
        "    print(item)"
      ],
      "metadata": {
        "colab": {
          "base_uri": "https://localhost:8080/"
        },
        "id": "mWxNandqgzMJ",
        "outputId": "9cd1664c-7863-4eb9-9b6e-e0be3c342f23"
      },
      "execution_count": 32,
      "outputs": [
        {
          "output_type": "stream",
          "name": "stdout",
          "text": [
            "10\n",
            "20\n",
            "30\n"
          ]
        }
      ]
    },
    {
      "cell_type": "code",
      "source": [
        "# Creating a custom iterator class\n",
        "\n",
        "class MyNumbers:\n",
        "    def __init__(self, limit):\n",
        "        self.limit = limit\n",
        "        self.num = 1\n",
        "\n",
        "    def __iter__(self):\n",
        "        return self  # returns the iterator object itself\n",
        "\n",
        "    def __next__(self):\n",
        "        if self.num <= self.limit:\n",
        "            current = self.num\n",
        "            self.num += 1\n",
        "            return current\n",
        "        else:\n",
        "            raise StopIteration  # no more data\n",
        "\n",
        "numbers = MyNumbers(3)\n",
        "for n in numbers:\n",
        "    print(n)  # Outputs 1,2,3"
      ],
      "metadata": {
        "colab": {
          "base_uri": "https://localhost:8080/"
        },
        "id": "7K8qhWv2g4tW",
        "outputId": "9d369cdf-3ea6-4e64-864e-32817b7e42da"
      },
      "execution_count": 35,
      "outputs": [
        {
          "output_type": "stream",
          "name": "stdout",
          "text": [
            "1\n",
            "2\n",
            "3\n"
          ]
        }
      ]
    },
    {
      "cell_type": "code",
      "source": [
        "# Example - Iterator that produces even numbers up to a limit\n",
        "\n",
        "class EvenNumbers:\n",
        "    def __init__(self, limit):\n",
        "        self.limit = limit\n",
        "        self.current = 0\n",
        "\n",
        "    def __iter__(self):\n",
        "        return self\n",
        "\n",
        "    def __next__(self):\n",
        "        if self.current <= self.limit:\n",
        "            val = self.current\n",
        "            self.current += 2\n",
        "            return val\n",
        "        else:\n",
        "            raise StopIteration\n",
        "\n",
        "evens = EvenNumbers(10)\n",
        "\n",
        "for e in evens:\n",
        "    print(e)"
      ],
      "metadata": {
        "colab": {
          "base_uri": "https://localhost:8080/"
        },
        "id": "dpo2NCsmlHqK",
        "outputId": "c59b951f-b090-4703-f410-1ff128f60367"
      },
      "execution_count": 37,
      "outputs": [
        {
          "output_type": "stream",
          "name": "stdout",
          "text": [
            "<__main__.EvenNumbers object at 0x7a3102751950>\n",
            "0\n",
            "2\n",
            "4\n",
            "6\n",
            "8\n",
            "10\n"
          ]
        }
      ]
    },
    {
      "cell_type": "markdown",
      "source": [
        "### Key points:\n",
        "\n",
        "* **Iterable**: Any object capable of returning its members one at a time (has `__iter__()` method).\n",
        "* **Iterator**: Object with a `__next__()` method to get the next element.\n",
        "* Every iterator is also an iterable, but not every iterable is an iterator (like list).\n",
        "* Once an iterator reaches the end, it raises `StopIteration`.\n",
        "* You can only traverse once using an iterator (exhausted after use).\n",
        "\n",
        "---\n",
        "\n",
        "| Question                      | Answer                                                                                                                              |\n",
        "| ----------------------------- | ----------------------------------------------------------------------------------------------------------------------------------- |\n",
        "| **What** is an iterator?      | An object that lets you traverse through all elements of a collection, one at a time.                                               |\n",
        "| **Why** use iterators?        | To access elements lazily and sequentially without exposing internal structure; efficient for large datasets.                       |\n",
        "| **Who** uses iterators?       | Python developers who need to process collections element-by-element, such as in loops or generator functions.                      |\n",
        "| **When** to use iterators?    | When you want to traverse a collection without loading everything into memory or when writing custom sequence generators.           |\n",
        "| **Where** are iterators used? | In loops, generators, file reading, streams, and custom sequence objects in Python programs.                                        |\n",
        "| **How** do iterators work?    | They implement `__iter__()` to return themselves and `__next__()` to return the next item until exhausted, raising `StopIteration`. |"
      ],
      "metadata": {
        "id": "2aJM66HjV2Cu"
      }
    },
    {
      "cell_type": "code",
      "source": [],
      "metadata": {
        "id": "K07CL5R3V08q"
      },
      "execution_count": null,
      "outputs": []
    },
    {
      "cell_type": "code",
      "source": [],
      "metadata": {
        "id": "1jAd1y4tzuIH"
      },
      "execution_count": null,
      "outputs": []
    }
  ]
}