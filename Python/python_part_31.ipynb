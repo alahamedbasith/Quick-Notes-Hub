{
  "cells": [
    {
      "cell_type": "markdown",
      "id": "270000e4",
      "metadata": {
        "id": "270000e4"
      },
      "source": [
        "# Python Memory Management"
      ]
    },
    {
      "cell_type": "markdown",
      "id": "dd96dc83",
      "metadata": {
        "id": "dd96dc83"
      },
      "source": [
        "\n",
        "This notebook covers **complete memory management in Python**:\n",
        "- Reference counting\n",
        "- Circular references\n",
        "- Garbage collector\n",
        "- Generational GC\n",
        "- Memory profiling with `tracemalloc`\n",
        "- Best practices\n",
        "\n",
        "Python's memory management is **automatic**, but understanding it helps you write **efficient code**.\n"
      ]
    },
    {
      "cell_type": "markdown",
      "id": "2469ffb5",
      "metadata": {
        "id": "2469ffb5"
      },
      "source": [
        "## 1. Reference Counting"
      ]
    },
    {
      "cell_type": "markdown",
      "id": "e79bf068",
      "metadata": {
        "id": "e79bf068"
      },
      "source": [
        "\n",
        "Python tracks the **number of references** to every object.\n",
        "When the count becomes **zero**, the object is destroyed immediately.\n"
      ]
    },
    {
      "cell_type": "code",
      "execution_count": 3,
      "id": "6b23b19e",
      "metadata": {
        "colab": {
          "base_uri": "https://localhost:8080/"
        },
        "id": "6b23b19e",
        "outputId": "58a846bd-04b9-48f9-930a-7be2011ff800"
      },
      "outputs": [
        {
          "output_type": "stream",
          "name": "stdout",
          "text": [
            "Initial ref count: 1\n",
            "After assigning y: 2\n",
            "After deleting y: 1\n"
          ]
        }
      ],
      "source": [
        "\n",
        "import sys\n",
        "\n",
        "x = []  # empty list\n",
        "print(\"Initial ref count:\", sys.getrefcount(x)-1)\n",
        "\n",
        "y = x   # Another reference\n",
        "print(\"After assigning y:\", sys.getrefcount(x)-1)\n",
        "\n",
        "del y   # Remove a reference\n",
        "print(\"After deleting y:\", sys.getrefcount(x)-1)\n"
      ]
    },
    {
      "cell_type": "markdown",
      "id": "2b3cc75c",
      "metadata": {
        "id": "2b3cc75c"
      },
      "source": [
        "## 2. Circular References Problem"
      ]
    },
    {
      "cell_type": "markdown",
      "id": "0d6eb588",
      "metadata": {
        "id": "0d6eb588"
      },
      "source": [
        "\n",
        "Reference counting fails when objects **reference each other** in a cycle.\n"
      ]
    },
    {
      "cell_type": "code",
      "execution_count": null,
      "id": "c69dce22",
      "metadata": {
        "colab": {
          "base_uri": "https://localhost:8080/"
        },
        "id": "c69dce22",
        "outputId": "78f4670d-ed30-48a2-f6b7-4d69eed9e955"
      },
      "outputs": [
        {
          "output_type": "stream",
          "name": "stdout",
          "text": [
            "Created circular reference between a and b\n"
          ]
        }
      ],
      "source": [
        "\n",
        "class Node:\n",
        "    def __init__(self):\n",
        "        self.ref = None\n",
        "\n",
        "a = Node()\n",
        "b = Node()\n",
        "\n",
        "a.ref = b\n",
        "b.ref = a\n",
        "print(\"Created circular reference between a and b\")\n"
      ]
    },
    {
      "cell_type": "markdown",
      "id": "8bf6d26c",
      "metadata": {
        "id": "8bf6d26c"
      },
      "source": [
        "## 3. Garbage Collector"
      ]
    },
    {
      "cell_type": "markdown",
      "id": "4689a675",
      "metadata": {
        "id": "4689a675"
      },
      "source": [
        "\n",
        "Python's **garbage collector** detects and frees objects involved in **circular references**.\n",
        "\n",
        "It uses **generational garbage collection**:\n",
        "- **Gen 0**: New objects, collected often\n",
        "- **Gen 1**: Survived one collection\n",
        "- **Gen 2**: Survived multiple collections\n"
      ]
    },
    {
      "cell_type": "code",
      "execution_count": 4,
      "id": "72700e96",
      "metadata": {
        "colab": {
          "base_uri": "https://localhost:8080/"
        },
        "id": "72700e96",
        "outputId": "e0bd7911-1810-471e-c706-821254a77b0b"
      },
      "outputs": [
        {
          "output_type": "stream",
          "name": "stdout",
          "text": [
            "Is GC enabled? True\n",
            "Unreachable objects found and collected: 16\n"
          ]
        }
      ],
      "source": [
        "\n",
        "import gc\n",
        "\n",
        "print(\"Is GC enabled?\", gc.isenabled())\n",
        "unreachable = gc.collect()\n",
        "print(f\"Unreachable objects found and collected: {unreachable}\")\n"
      ]
    },
    {
      "cell_type": "markdown",
      "id": "d96ef724",
      "metadata": {
        "id": "d96ef724"
      },
      "source": [
        "### Forcing Garbage Collection"
      ]
    },
    {
      "cell_type": "code",
      "execution_count": 5,
      "id": "5917ed73",
      "metadata": {
        "colab": {
          "base_uri": "https://localhost:8080/"
        },
        "id": "5917ed73",
        "outputId": "3ba2fa03-fff0-493a-a96e-9cf5b29bde33"
      },
      "outputs": [
        {
          "output_type": "stream",
          "name": "stdout",
          "text": [
            "Collecting garbage...\n",
            "Deleting A\n",
            "Deleting B\n"
          ]
        },
        {
          "output_type": "execute_result",
          "data": {
            "text/plain": [
              "2"
            ]
          },
          "metadata": {},
          "execution_count": 5
        }
      ],
      "source": [
        "\n",
        "class Node:\n",
        "    def __init__(self, name):\n",
        "        self.name = name\n",
        "        self.ref = None\n",
        "    def __del__(self):\n",
        "        print(f\"Deleting {self.name}\")\n",
        "\n",
        "a = Node(\"A\")\n",
        "b = Node(\"B\")\n",
        "\n",
        "a.ref = b\n",
        "b.ref = a\n",
        "\n",
        "del a\n",
        "del b\n",
        "\n",
        "print(\"Collecting garbage...\")\n",
        "gc.collect()\n"
      ]
    },
    {
      "cell_type": "markdown",
      "id": "ce0bca81",
      "metadata": {
        "id": "ce0bca81"
      },
      "source": [
        "## 4. Memory Profiling with `tracemalloc`"
      ]
    },
    {
      "cell_type": "code",
      "execution_count": 6,
      "id": "aa2c4189",
      "metadata": {
        "colab": {
          "base_uri": "https://localhost:8080/"
        },
        "id": "aa2c4189",
        "outputId": "931ece52-beb3-4008-e8e2-4f5f3b867625"
      },
      "outputs": [
        {
          "output_type": "stream",
          "name": "stdout",
          "text": [
            "Current: 3900.28 KB; Peak: 3911.32 KB\n"
          ]
        }
      ],
      "source": [
        "# Get the Current and Peak using Memory Profiling\n",
        "\n",
        "import tracemalloc\n",
        "\n",
        "tracemalloc.start()\n",
        "\n",
        "# Allocate memory\n",
        "data = [i for i in range(100000)]\n",
        "\n",
        "current, peak = tracemalloc.get_traced_memory()\n",
        "print(f\"Current: {current / 1024:.2f} KB; Peak: {peak / 1024:.2f} KB\")\n",
        "\n",
        "tracemalloc.stop()\n"
      ]
    },
    {
      "cell_type": "code",
      "source": [
        "# Get the Current and Peak using Memory Profiling\n",
        "\n",
        "import tracemalloc\n",
        "\n",
        "def create_list():\n",
        "    return [i for i in range(10000)]\n",
        "\n",
        "def run():\n",
        "    tracemalloc.start()\n",
        "\n",
        "    create_list()\n",
        "\n",
        "    snapshot = tracemalloc.take_snapshot()\n",
        "    top_stats = snapshot.statistics('lineno')\n",
        "\n",
        "    print(\"[ Top 10 ]\")\n",
        "    for stat in top_stats[::]:\n",
        "        print(stat)"
      ],
      "metadata": {
        "id": "AuVioXT4r9wx"
      },
      "id": "AuVioXT4r9wx",
      "execution_count": 7,
      "outputs": []
    },
    {
      "cell_type": "code",
      "source": [
        "run()"
      ],
      "metadata": {
        "colab": {
          "base_uri": "https://localhost:8080/"
        },
        "id": "dMssRkaPsGeO",
        "outputId": "94a85f4e-fdaf-4357-e51f-4cd8443e0f13"
      },
      "id": "dMssRkaPsGeO",
      "execution_count": 8,
      "outputs": [
        {
          "output_type": "stream",
          "name": "stdout",
          "text": [
            "[ Top 10 ]\n",
            "/usr/lib/python3.11/asyncio/base_events.py:782: size=168 B, count=2, average=84 B\n",
            "/usr/local/lib/python3.11/dist-packages/tornado/queues.py:248: size=144 B, count=1, average=144 B\n",
            "/usr/lib/python3.11/asyncio/events.py:84: size=72 B, count=1, average=72 B\n",
            "/usr/local/lib/python3.11/dist-packages/zmq/sugar/attrsettr.py:45: size=55 B, count=1, average=55 B\n",
            "/usr/lib/python3.11/selectors.py:468: size=36 B, count=1, average=36 B\n"
          ]
        }
      ]
    },
    {
      "cell_type": "markdown",
      "id": "ec8a0d3c",
      "metadata": {
        "id": "ec8a0d3c"
      },
      "source": [
        "## 5. Best Practices"
      ]
    },
    {
      "cell_type": "markdown",
      "id": "b9e863ec",
      "metadata": {
        "id": "b9e863ec"
      },
      "source": [
        "\n",
        "✅ Avoid unnecessary references (`del var_name` when done)  \n",
        "✅ Break cycles manually (`obj.ref = None`)  \n",
        "✅ Use context managers (`with open(...) as f`)  \n",
        "✅ Profile memory usage when optimizing  \n",
        "✅ Stream data instead of loading huge datasets at once  \n"
      ]
    },
    {
      "cell_type": "markdown",
      "id": "c8f37274",
      "metadata": {
        "id": "c8f37274"
      },
      "source": [
        "\n",
        "## 6. Summary Table\n",
        "\n",
        "| Term              | Meaning |\n",
        "|-------------------|---------|\n",
        "| **Reference Count** | Number of references to an object |\n",
        "| **Circular Reference** | Objects referencing each other |\n",
        "| **Garbage Collector** | Finds & frees unreachable objects |\n",
        "| **Generational GC** | Groups objects into ages for efficiency |\n",
        "| **tracemalloc** | Tracks memory allocation for debugging |\n"
      ]
    }
  ],
  "metadata": {
    "colab": {
      "provenance": []
    },
    "language_info": {
      "name": "python"
    },
    "kernelspec": {
      "name": "python3",
      "display_name": "Python 3"
    }
  },
  "nbformat": 4,
  "nbformat_minor": 5
}