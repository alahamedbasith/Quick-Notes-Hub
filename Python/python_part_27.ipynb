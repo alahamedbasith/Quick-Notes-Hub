{
  "nbformat": 4,
  "nbformat_minor": 0,
  "metadata": {
    "colab": {
      "provenance": []
    },
    "kernelspec": {
      "name": "python3",
      "display_name": "Python 3"
    },
    "language_info": {
      "name": "python"
    }
  },
  "cells": [
    {
      "cell_type": "code",
      "execution_count": null,
      "metadata": {
        "id": "JasUw9LLNGlx",
        "colab": {
          "base_uri": "https://localhost:8080/"
        },
        "outputId": "1f1e21f7-4424-4d4e-e9a3-c39334f5f56a"
      },
      "outputs": [
        {
          "output_type": "execute_result",
          "data": {
            "text/plain": [
              "['__class__',\n",
              " '__delattr__',\n",
              " '__dict__',\n",
              " '__dir__',\n",
              " '__doc__',\n",
              " '__eq__',\n",
              " '__format__',\n",
              " '__ge__',\n",
              " '__getattribute__',\n",
              " '__getstate__',\n",
              " '__gt__',\n",
              " '__hash__',\n",
              " '__init__',\n",
              " '__init_subclass__',\n",
              " '__le__',\n",
              " '__lt__',\n",
              " '__module__',\n",
              " '__ne__',\n",
              " '__new__',\n",
              " '__reduce__',\n",
              " '__reduce_ex__',\n",
              " '__repr__',\n",
              " '__setattr__',\n",
              " '__sizeof__',\n",
              " '__str__',\n",
              " '__subclasshook__',\n",
              " '__weakref__']"
            ]
          },
          "metadata": {},
          "execution_count": 26
        }
      ],
      "source": [
        "class A:\n",
        "  pass\n",
        "\n",
        "obj = A()\n",
        "dir(obj)"
      ]
    },
    {
      "cell_type": "code",
      "source": [
        "a = 10\n",
        "b = 20\n",
        "\n",
        "print(a+b)"
      ],
      "metadata": {
        "colab": {
          "base_uri": "https://localhost:8080/"
        },
        "id": "E9E0qoUYjHWz",
        "outputId": "1b839679-f6ef-43b9-ee65-9d5e517cb1ef"
      },
      "execution_count": null,
      "outputs": [
        {
          "output_type": "stream",
          "name": "stdout",
          "text": [
            "30\n"
          ]
        }
      ]
    },
    {
      "cell_type": "code",
      "source": [
        "class A:\n",
        "  def __init__(self,num):\n",
        "    self.num = num\n",
        "\n",
        "  def __add__(self,other):\n",
        "    return self.num + other.num\n",
        "\n",
        "  def __str__(self):\n",
        "    return f\"{self.num}\"\n",
        "\n",
        "  def __repr__(self):\n",
        "    return f\"Sum({self.num})\"\n",
        "\n",
        "\n",
        "\n",
        "obj1 = A(10)\n",
        "obj2 = A(100)\n",
        "\n",
        "print(obj2)\n",
        "print(repr(obj2))\n"
      ],
      "metadata": {
        "colab": {
          "base_uri": "https://localhost:8080/"
        },
        "id": "Wfh8OSW0jn6-",
        "outputId": "6ce6a91b-e4ed-4b71-cbd4-5d2ed2794337"
      },
      "execution_count": null,
      "outputs": [
        {
          "output_type": "stream",
          "name": "stdout",
          "text": [
            "100\n",
            "Sum(100)\n"
          ]
        }
      ]
    },
    {
      "cell_type": "markdown",
      "source": [
        "# Dunder methods and Operator overloading\n",
        "We’ll cover:\n",
        "\n",
        "1. **What Dunder Methods Are**\n",
        "2. **Why They Exist**\n",
        "3. **Common Categories**\n",
        "4. **Operator Overloading** (using dunder methods)\n",
        "5. **Full Examples**\n",
        "\n",
        "---\n",
        "\n",
        "## 1. What are Dunder Methods?\n",
        "\n",
        "**\"Dunder\"** = **Double UNDERscore** → `__methodname__`.\n",
        "Example:\n",
        "\n",
        "```python\n",
        "__init__, __str__, __len__, __add__, __getitem__, __call__\n",
        "```\n",
        "\n",
        "They are **special methods** in Python that let you customize how objects behave **with built-in syntax** (like `+`, `len()`, `print()`).\n",
        "\n",
        "You don’t call them directly (usually). Instead, Python calls them **behind the scenes**.\n",
        "\n",
        "Example:\n",
        "\n",
        "```python\n",
        "len(\"Hello\")  \n",
        "# Python internally does:\n",
        "\"Hello\".__len__()\n",
        "```\n",
        "\n",
        "---\n",
        "\n",
        "## 2. Why Do They Exist?\n",
        "\n",
        "* To make your custom classes behave like built-in Python objects.\n",
        "* To define **custom behavior for operators** (`+`, `-`, `==`, `<`, `*`…).\n",
        "* To integrate with **built-in functions** (`len()`, `iter()`, `str()`…).\n",
        "* To make objects feel *\"Pythonic\"*.\n",
        "\n",
        "---\n",
        "\n",
        "## 3. Categories of Dunder Methods\n",
        "\n",
        "| Category                            | Purpose                            | Examples                                            |\n",
        "| ----------------------------------- | ---------------------------------- | --------------------------------------------------- |\n",
        "| **Initialization & Representation** | Object creation, string formats    | `__init__`, `__repr__`, `__str__`                   |\n",
        "| **Container / Sequence Protocol**   | Indexing, length, iteration        | `__len__`, `__getitem__`, `__setitem__`, `__iter__` |\n",
        "| **Numeric / Operator Overloading**  | Math and comparisons               | `__add__`, `__sub__`, `__mul__`, `__eq__`, `__lt__` |\n",
        "| **Callable Objects**                | Make an object act like a function | `__call__`                                          |\n",
        "| **Context Managers**                | `with` statement support           | `__enter__`, `__exit__`                             |\n",
        "| **Attribute Access Control**        | Manage attributes                  | `__getattr__`, `__setattr__`, `__delattr__`         |\n",
        "\n",
        "---\n",
        "\n",
        "## 4. Operator Overloading (using dunder methods)\n",
        "\n",
        "Operator overloading means you can **redefine how operators work** for your custom objects.\n",
        "\n",
        "Example:\n",
        "By default, `+` adds numbers or concatenates strings/lists.\n",
        "If you have a custom `Point` class, you can define your own `+` meaning.\n"
      ],
      "metadata": {
        "id": "QjN7-dNpOEx4"
      }
    },
    {
      "cell_type": "code",
      "source": [],
      "metadata": {
        "id": "AZoPZwQ2Q57k"
      },
      "execution_count": null,
      "outputs": []
    },
    {
      "cell_type": "code",
      "source": [
        "class A:\n",
        "    def __init__(self, num1):\n",
        "        self.num1 = num1\n",
        "\n",
        "    def __add__(self, other):\n",
        "        return A(self.num1 + other.num1)\n",
        "\n",
        "    def __str__(self):\n",
        "        return f\"{self.num1}\"\n",
        "\n",
        "\n",
        "obj1 = A(3)\n",
        "obj2 = A(4)\n",
        "obj3 = A(4)\n",
        "\n",
        "print(obj1 + obj2 + obj3)  # Output: A(11)\n",
        "print(obj3.num1)           # Output: 4\n"
      ],
      "metadata": {
        "id": "mwNR-Y6sQ6D7",
        "colab": {
          "base_uri": "https://localhost:8080/"
        },
        "outputId": "d1212d89-cd40-40e2-ae16-6c74f616029e"
      },
      "execution_count": null,
      "outputs": [
        {
          "output_type": "stream",
          "name": "stdout",
          "text": [
            "11\n",
            "4\n"
          ]
        }
      ]
    },
    {
      "cell_type": "code",
      "source": [],
      "metadata": {
        "id": "JrK70dzWQ6Pg"
      },
      "execution_count": null,
      "outputs": []
    },
    {
      "cell_type": "code",
      "source": [
        "### Example 1 — Operator Overloading with `__add__`\n",
        "\n",
        "\n",
        "class Point:\n",
        "    def __init__(self, x, y):\n",
        "        self.x = x\n",
        "        self.y = y\n",
        "\n",
        "    def __add__(self, other):\n",
        "        return Point(self.x + other.x, self.y + other.y)\n",
        "\n",
        "    def __repr__(self):\n",
        "        return f\"Point({self.x}, {self.y})\"\n",
        "\n",
        "p1 = Point(2, 3)\n",
        "p2 = Point(5, 7)\n",
        "print(p1 + p2)  # Point(7, 10)\n",
        "\n"
      ],
      "metadata": {
        "colab": {
          "base_uri": "https://localhost:8080/"
        },
        "id": "497q1VuQOr2i",
        "outputId": "7045625b-b1be-445b-86e2-ff873860ecb0"
      },
      "execution_count": null,
      "outputs": [
        {
          "output_type": "stream",
          "name": "stdout",
          "text": [
            "Point(7, 10)\n"
          ]
        }
      ]
    },
    {
      "cell_type": "code",
      "source": [
        "### Example 2 — Overloading Comparisons\n",
        "\n",
        "class Box:\n",
        "    def __init__(self, volume):\n",
        "        self.volume = volume\n",
        "\n",
        "    def __lt__(self, other):  # less than (<)\n",
        "        return self.volume < other.volume\n",
        "\n",
        "    def __eq__(self, other):  # equal (==)\n",
        "        return self.volume == other.volume\n",
        "\n",
        "b1 = Box(10)\n",
        "b2 = Box(15)\n",
        "b3 = Box(10)\n",
        "\n",
        "print(b1 < b2)   # True\n",
        "print(b1 == b3)  # True"
      ],
      "metadata": {
        "colab": {
          "base_uri": "https://localhost:8080/"
        },
        "id": "eY-2rGNcO0r2",
        "outputId": "fc418db4-985d-48b4-ab2f-cc7f05c53fd8"
      },
      "execution_count": null,
      "outputs": [
        {
          "output_type": "stream",
          "name": "stdout",
          "text": [
            "True\n",
            "True\n"
          ]
        }
      ]
    },
    {
      "cell_type": "code",
      "source": [
        "\n",
        "### Example 3 — Integration with `len()` and `str()`\n",
        "\n",
        "class ShoppingCart:\n",
        "    def __init__(self):\n",
        "        self.items = []\n",
        "\n",
        "    def add_item(self, item):\n",
        "        self.items.append(item)\n",
        "\n",
        "    def __len__(self):  # len(cart)\n",
        "        return len(self.items)\n",
        "\n",
        "    def __str__(self):  # print(cart)\n",
        "        return f\"ShoppingCart({self.items})\"\n",
        "\n",
        "cart = ShoppingCart()\n",
        "cart.add_item(\"Apple\")\n",
        "cart.add_item(\"Banana\")\n",
        "\n",
        "print(len(cart))  # 2\n",
        "print(cart)       # ShoppingCart(['Apple', 'Banana'])"
      ],
      "metadata": {
        "colab": {
          "base_uri": "https://localhost:8080/"
        },
        "id": "nwxkTFTaPDTi",
        "outputId": "472101ed-b4ed-4e6e-e36a-e01d436ff076"
      },
      "execution_count": null,
      "outputs": [
        {
          "output_type": "stream",
          "name": "stdout",
          "text": [
            "2\n",
            "ShoppingCart(['Apple', 'Banana'])\n"
          ]
        }
      ]
    },
    {
      "cell_type": "markdown",
      "source": [
        "## Summary Table of Common Dunder Methods\n",
        "\n",
        "| Method                  | Purpose              | Example Usage     |\n",
        "| ----------------------- | -------------------- | ----------------- |\n",
        "| `__init__`              | Constructor          | `obj = MyClass()` |\n",
        "| `__str__`               | User-friendly string | `print(obj)`      |\n",
        "| `__repr__`              | Debug string         | `repr(obj)`       |\n",
        "| `__len__`               | Length               | `len(obj)`        |\n",
        "| `__getitem__`           | Index access         | `obj[i]`          |\n",
        "| `__setitem__`           | Assign at index      | `obj[i] = val`    |\n",
        "| `__add__`               | Add                  | `obj1 + obj2`     |\n",
        "| `__lt__`                | Less than            | `obj1 < obj2`     |\n",
        "| `__eq__`                | Equals               | `obj1 == obj2`    |\n",
        "| `__call__`              | Callable object      | `obj()`           |\n",
        "| `__enter__`, `__exit__` | Context manager      | `with obj:`       |"
      ],
      "metadata": {
        "id": "zH8NP_f0PM7e"
      }
    },
    {
      "cell_type": "markdown",
      "source": [
        "# Real Time Example\n",
        "\n",
        "We’ll call it **`Library`** — it will:\n",
        "\n",
        "* Store a list of books\n",
        "* Support `len()`\n",
        "* Allow indexing `library[i]`\n",
        "* Support `+` to merge two libraries\n",
        "* Support `==` to compare libraries\n",
        "* Have nice printing (`__str__` / `__repr__`)\n",
        "* Be callable like a function to search books\n"
      ],
      "metadata": {
        "id": "4kEx1IaDQopl"
      }
    },
    {
      "cell_type": "code",
      "source": [
        "## All-in-One Dunder Method Example\n",
        "\n",
        "class Library:\n",
        "    def __init__(self, name, books=None):\n",
        "        self.name = name\n",
        "        self.books = books if books else []\n",
        "\n",
        "    def __repr__(self):\n",
        "        return f\"Library(name={self.name}, books={self.books})\"\n",
        "\n",
        "    def __str__(self):\n",
        "        return f\"📚 {self.name} Library: {len(self.books)} books\"\n",
        "\n",
        "    def __len__(self):\n",
        "        return len(self.books)\n",
        "\n",
        "    def __getitem__(self, index):\n",
        "        return self.books[index]\n",
        "\n",
        "    def __setitem__(self, index, value):\n",
        "        self.books[index] = value\n",
        "\n",
        "    def __add__(self, other):\n",
        "        new_books = self.books + other.books\n",
        "        return Library(f\"{self.name} & {other.name}\", new_books)\n",
        "\n",
        "    def __eq__(self, other):\n",
        "        return set(self.books) == set(other.books)\n",
        "\n",
        "    def __call__(self, search_term):\n",
        "        return [book for book in self.books if search_term.lower() in book.lower()]\n",
        "\n",
        "# -----------------\n",
        "# Usage\n",
        "# -----------------\n",
        "lib1 = Library(\"City\", [\"Python Basics\", \"Data Science 101\", \"AI for Beginners\"])\n",
        "lib2 = Library(\"University\", [\"Deep Learning\", \"Python Basics\", \"Math for AI\"])\n",
        "\n",
        "print(lib1)                      # 📚 City Library: 3 books\n",
        "print(repr(lib2))                # Library(name=University, books=[...])\n",
        "\n",
        "print(len(lib1))                 # 3\n",
        "print(lib1[0])                   # Python Basics\n",
        "\n",
        "lib1[1] = \"Data Science Advanced\"\n",
        "print(lib1.books)                # ['Python Basics', 'Data Science Advanced', 'AI for Beginners']\n",
        "\n",
        "merged = lib1 + lib2\n",
        "print(merged)                    # 📚 City & University Library: 5 books\n",
        "\n",
        "print(lib1 == lib2)              # False (different sets of books)\n",
        "\n",
        "print(lib1(\"python\"))"
      ],
      "metadata": {
        "id": "fisPbsiKOz99",
        "colab": {
          "base_uri": "https://localhost:8080/"
        },
        "outputId": "ef1949c0-0b24-4cc4-9131-243f96ee653e"
      },
      "execution_count": null,
      "outputs": [
        {
          "output_type": "stream",
          "name": "stdout",
          "text": [
            "📚 City Library: 3 books\n",
            "Library(name=University, books=['Deep Learning', 'Python Basics', 'Math for AI'])\n",
            "3\n",
            "Python Basics\n",
            "['Python Basics', 'Data Science Advanced', 'AI for Beginners']\n",
            "📚 City & University Library: 6 books\n",
            "False\n",
            "['Python Basics']\n"
          ]
        }
      ]
    },
    {
      "cell_type": "markdown",
      "source": [
        "\n",
        "### What’s happening here?\n",
        "\n",
        "| Method        | Trigger                   | Example                  |\n",
        "| ------------- | ------------------------- | ------------------------ |\n",
        "| `__init__`    | When you create an object | `Library(\"City\", [...])` |\n",
        "| `__repr__`    | Developer/debug display   | `repr(lib2)`             |\n",
        "| `__str__`     | User-friendly display     | `print(lib1)`            |\n",
        "| `__len__`     | `len()` function          | `len(lib1)`              |\n",
        "| `__getitem__` | Index access              | `lib1[0]`                |\n",
        "| `__setitem__` | Index assignment          | `lib1[1] = \"...\"`        |\n",
        "| `__add__`     | `+` operator              | `lib1 + lib2`            |\n",
        "| `__eq__`      | `==` operator             | `lib1 == lib2`           |\n",
        "| `__call__`    | Object as function        | `lib1(\"python\")`         |\n"
      ],
      "metadata": {
        "id": "bvF42BjWdtLp"
      }
    },
    {
      "cell_type": "code",
      "source": [],
      "metadata": {
        "id": "5nP_gEvRdKtf"
      },
      "execution_count": null,
      "outputs": []
    }
  ]
}