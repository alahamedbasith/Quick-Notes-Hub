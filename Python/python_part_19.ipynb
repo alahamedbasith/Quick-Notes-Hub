{
  "nbformat": 4,
  "nbformat_minor": 0,
  "metadata": {
    "colab": {
      "provenance": []
    },
    "kernelspec": {
      "name": "python3",
      "display_name": "Python 3"
    },
    "language_info": {
      "name": "python"
    }
  },
  "cells": [
    {
      "cell_type": "markdown",
      "source": [
        "# File Handling in Python\n",
        "\n",
        "Python provides built-in functions to work with files. You can **open**, **read**, **write**, and **close** files easily.\n",
        "\n",
        "---\n",
        "\n",
        "## 1. Opening a File\n",
        "\n",
        "Use the `open()` function to open a file:\n",
        "\n",
        "```python\n",
        "file = open(\"filename.txt\", mode)\n",
        "```\n",
        "\n",
        "* `\"filename.txt\"` is the file name or path.\n",
        "* `mode` specifies what you want to do with the file:\n",
        "\n",
        "| Mode  | Description                        |\n",
        "| ----- | ---------------------------------- |\n",
        "| `'r'` | Read (default). File must exist.   |\n",
        "| `'w'` | Write (creates or truncates file)  |\n",
        "| `'a'` | Append (adds content at end)       |\n",
        "| `'x'` | Create file, fails if file exists  |\n",
        "| `'b'` | Binary mode (add with other modes) |\n",
        "| `'t'` | Text mode (default)                |"
      ],
      "metadata": {
        "id": "um_V8qEpHhLD"
      }
    },
    {
      "cell_type": "code",
      "source": [
        "file = open(\"/content/drive/MyDrive/demo.txt\", mode='r')\n",
        "print(file.read())"
      ],
      "metadata": {
        "colab": {
          "base_uri": "https://localhost:8080/"
        },
        "id": "NroMg3J0Hx8-",
        "outputId": "18ceeb87-2470-4e7b-e32a-ed3bf648faab"
      },
      "execution_count": null,
      "outputs": [
        {
          "output_type": "stream",
          "name": "stdout",
          "text": [
            "hi \n",
            "hello\n",
            "how are you\n"
          ]
        }
      ]
    },
    {
      "cell_type": "code",
      "source": [],
      "metadata": {
        "id": "rxPhnUzDHyEG"
      },
      "execution_count": null,
      "outputs": []
    },
    {
      "cell_type": "markdown",
      "source": [
        "\n",
        "## 2. Closing a File\n",
        "\n",
        "After you finish working with a file, close it:\n",
        "\n",
        "```python\n",
        "file.close()\n",
        "```\n",
        "\n",
        "This releases system resources."
      ],
      "metadata": {
        "id": "ZThTCnedHyuR"
      }
    },
    {
      "cell_type": "code",
      "source": [
        "file.close()"
      ],
      "metadata": {
        "id": "ohXyO_RaHjJv"
      },
      "execution_count": null,
      "outputs": []
    },
    {
      "cell_type": "code",
      "source": [],
      "metadata": {
        "id": "8mTKyOGOH8NF"
      },
      "execution_count": null,
      "outputs": []
    },
    {
      "cell_type": "code",
      "source": [],
      "metadata": {
        "id": "dPnflQdMH8W2"
      },
      "execution_count": null,
      "outputs": []
    },
    {
      "cell_type": "markdown",
      "source": [
        "## 3. Reading from a File\n",
        "\n",
        "**Read entire file:**\n",
        "\n",
        "```python\n",
        "file = open(\"example.txt\", \"r\")\n",
        "content = file.read()\n",
        "print(content)\n",
        "file.close()\n",
        "```\n",
        "\n",
        "**Read line by line:**\n",
        "\n",
        "```python\n",
        "file = open(\"example.txt\", \"r\")\n",
        "for line in file:\n",
        "    print(line.strip())\n",
        "file.close()\n",
        "```\n",
        "\n",
        "**Read one line at a time:**\n",
        "\n",
        "```python\n",
        "file = open(\"example.txt\", \"r\")\n",
        "line = file.readline()\n",
        "while line:\n",
        "    print(line.strip())\n",
        "    line = file.readline()\n",
        "file.close()\n",
        "```"
      ],
      "metadata": {
        "id": "fvuJyjuGH8wC"
      }
    },
    {
      "cell_type": "code",
      "source": [
        "file = open(\"/content/drive/MyDrive/demo.txt\", \"r\")\n",
        "for line in file:\n",
        "    print(line.strip())\n",
        "file.close()"
      ],
      "metadata": {
        "id": "qEdW05yaIFX2",
        "colab": {
          "base_uri": "https://localhost:8080/"
        },
        "outputId": "03f0a711-1b35-4d0d-b0fe-671e64d7a7db"
      },
      "execution_count": null,
      "outputs": [
        {
          "output_type": "stream",
          "name": "stdout",
          "text": [
            "hi\n",
            "hello\n",
            "how are you\n"
          ]
        }
      ]
    },
    {
      "cell_type": "code",
      "source": [
        "file = open(\"/content/drive/MyDrive/demo.txt\", \"r\")\n",
        "line = file.readline()\n",
        "while line:\n",
        "    print(line.strip())\n",
        "    line = file.readline()\n",
        "file.close()"
      ],
      "metadata": {
        "id": "QkfgSpIRILr8",
        "colab": {
          "base_uri": "https://localhost:8080/"
        },
        "outputId": "2dc2cd8f-752f-4149-9c6b-daa95f283d7a"
      },
      "execution_count": null,
      "outputs": [
        {
          "output_type": "stream",
          "name": "stdout",
          "text": [
            "hi\n",
            "hello\n",
            "how are you\n"
          ]
        }
      ]
    },
    {
      "cell_type": "code",
      "source": [],
      "metadata": {
        "id": "DHunXlHVIL0W"
      },
      "execution_count": null,
      "outputs": []
    },
    {
      "cell_type": "markdown",
      "source": [
        "## 4. Writing to a File\n",
        "\n",
        "**Write mode (`'w'`)** overwrites the file or creates a new one:\n",
        "\n",
        "```python\n",
        "file = open(\"output.txt\", \"w\")\n",
        "file.write(\"Hello, world!\\n\")\n",
        "file.write(\"This is a new line.\\n\")\n",
        "file.close()\n",
        "```\n",
        "\n",
        "**Append mode (`'a'`)** adds data to the end:\n",
        "\n",
        "```python\n",
        "file = open(\"output.txt\", \"a\")\n",
        "file.write(\"Appending a new line.\\n\")\n",
        "file.close()\n",
        "```"
      ],
      "metadata": {
        "id": "CkxKn7BvIMQP"
      }
    },
    {
      "cell_type": "code",
      "source": [],
      "metadata": {
        "id": "Z1pnzAQhIX2b"
      },
      "execution_count": null,
      "outputs": []
    },
    {
      "cell_type": "code",
      "source": [
        "file = open(\"/content/drive/MyDrive/demo1.txt\", \"w\")\n",
        "file.write(\"Hello, world!\\n\")\n",
        "file.write(\"This is a new line.\\n\")\n",
        "file.close()"
      ],
      "metadata": {
        "id": "BHK_OZymItCk"
      },
      "execution_count": null,
      "outputs": []
    },
    {
      "cell_type": "code",
      "source": [
        "file = open(\"/content/drive/MyDrive/demo.txt\", \"a\")\n",
        "file.write(\"Appending a new line.\\n\")\n",
        "file.close()"
      ],
      "metadata": {
        "id": "jIwhGAitItID"
      },
      "execution_count": null,
      "outputs": []
    },
    {
      "cell_type": "markdown",
      "source": [
        "\n",
        "## 5. Using `with` Statement (Recommended)\n",
        "\n",
        "The `with` statement automatically closes the file for you, even if an error occurs:\n",
        "\n",
        "```python\n",
        "with open(\"example.txt\", \"r\") as file:\n",
        "    content = file.read()\n",
        "    print(content)\n",
        "# No need to call file.close()\n",
        "```\n"
      ],
      "metadata": {
        "id": "dpEojECeItSl"
      }
    },
    {
      "cell_type": "code",
      "source": [],
      "metadata": {
        "id": "AeRAiFc7Iurw"
      },
      "execution_count": null,
      "outputs": []
    },
    {
      "cell_type": "code",
      "source": [],
      "metadata": {
        "id": "05x8EMyhIuxC"
      },
      "execution_count": null,
      "outputs": []
    },
    {
      "cell_type": "code",
      "source": [],
      "metadata": {
        "id": "LX1lu5LUIu8y"
      },
      "execution_count": null,
      "outputs": []
    },
    {
      "cell_type": "markdown",
      "source": [
        "\n",
        "---\n",
        "\n",
        "## 6. Working with Binary Files\n",
        "\n",
        "Open the file in binary mode by adding `'b'` to the mode:\n",
        "\n",
        "```python\n",
        "with open(\"image.png\", \"rb\") as file:\n",
        "    data = file.read()\n",
        "    # process binary data\n",
        "```"
      ],
      "metadata": {
        "id": "cPYS7OlfIeTd"
      }
    },
    {
      "cell_type": "code",
      "source": [
        "with open(\"/content/drive/MyDrive/demo.txt\", \"rb\") as file:\n",
        "    data = file.read()\n",
        "    print(data)"
      ],
      "metadata": {
        "colab": {
          "base_uri": "https://localhost:8080/"
        },
        "id": "BOzOJWDnXsrO",
        "outputId": "ab8e9f56-4b54-4fd3-9bc0-be6afbb70813"
      },
      "execution_count": null,
      "outputs": [
        {
          "output_type": "stream",
          "name": "stdout",
          "text": [
            "b'Hello, world!\\nThis is a new line.\\nAppending a new line.\\n'\n"
          ]
        }
      ]
    },
    {
      "cell_type": "markdown",
      "source": [
        "### Writing to a binary file"
      ],
      "metadata": {
        "id": "PqX8-6SP3NrD"
      }
    },
    {
      "cell_type": "code",
      "source": [
        "data = b'\\x00\\x01\\x02\\x03\\x04'\n",
        "with open('example.bin', 'wb') as file:\n",
        "    file.write(data)"
      ],
      "metadata": {
        "id": "K38cCT35Iclk"
      },
      "execution_count": null,
      "outputs": []
    },
    {
      "cell_type": "markdown",
      "source": [
        "### Reading a binary file"
      ],
      "metadata": {
        "id": "6rNYRN-f3Sa1"
      }
    },
    {
      "cell_type": "code",
      "source": [
        "with open('example.bin', 'rb') as file:\n",
        "    content = file.read()\n",
        "    print(content)"
      ],
      "metadata": {
        "id": "JR8zvh_7Ii3u",
        "colab": {
          "base_uri": "https://localhost:8080/"
        },
        "outputId": "2b3607fe-132c-46db-8a6d-f6d699b312df"
      },
      "execution_count": null,
      "outputs": [
        {
          "output_type": "stream",
          "name": "stdout",
          "text": [
            "b'\\x00\\x01\\x02\\x03\\x04'\n"
          ]
        }
      ]
    },
    {
      "cell_type": "code",
      "source": [],
      "metadata": {
        "id": "owYMOHeGIjEw"
      },
      "execution_count": null,
      "outputs": []
    },
    {
      "cell_type": "code",
      "source": [],
      "metadata": {
        "id": "xGMHN7AlLCP4"
      },
      "execution_count": null,
      "outputs": []
    },
    {
      "cell_type": "markdown",
      "source": [
        "### Writing and then reading a file\n"
      ],
      "metadata": {
        "id": "EroshUeC6O_w"
      }
    },
    {
      "cell_type": "code",
      "source": [
        "with open('example.txt','w+') as file:\n",
        "    file.write(\"Hello world\\n\")\n",
        "    file.write(\"This is a new line \\n\")\n",
        "\n",
        "    ## Move the file cursor to the beginning\n",
        "    file.seek(0)\n",
        "\n",
        "    ## Read the content of the file\n",
        "    content=file.read()\n",
        "    print(content)"
      ],
      "metadata": {
        "id": "N_E8pswnLLw7",
        "colab": {
          "base_uri": "https://localhost:8080/"
        },
        "outputId": "62ba2e54-37c9-45b4-958c-e16a8db591bd"
      },
      "execution_count": null,
      "outputs": [
        {
          "output_type": "stream",
          "name": "stdout",
          "text": [
            "Hello world\n",
            "This is a new line \n",
            "\n"
          ]
        }
      ]
    },
    {
      "cell_type": "markdown",
      "source": [
        "\n",
        "# 🎨 Basic File Editing in Python: Text, Image, Video, Audio\n",
        "\n",
        "This guide shows how to handle and edit different types of files in Python, just like how we use `file.read()` and `file.write()` for text files.\n",
        "\n",
        "---\n",
        "\n",
        "## 🔤 1. Text Files (Basic)\n",
        "\n",
        "Text files are plain and human-readable.\n",
        "\n",
        "```python\n",
        "# Read a text file\n",
        "with open(\"file.txt\", \"r\") as file:\n",
        "    content = file.read()\n",
        "\n",
        "# Write to a text file\n",
        "with open(\"file.txt\", \"w\") as file:\n",
        "    file.write(\"Hello, World!\")\n",
        "```\n",
        "\n",
        "---\n",
        "\n",
        "## 🖼️ 2. Image Files\n",
        "\n",
        "Use libraries like **PIL** or **OpenCV**.\n",
        "\n",
        "```python\n",
        "from PIL import Image, ImageDraw\n",
        "\n",
        "# Open image\n",
        "image = Image.open(\"input.jpg\")\n",
        "\n",
        "# Draw on image\n",
        "draw = ImageDraw.Draw(image)\n",
        "draw.rectangle([50, 50, 200, 200], fill=\"red\")  # Add red square\n",
        "\n",
        "# Save new image\n",
        "image.save(\"edited.jpg\")\n",
        "```\n",
        "\n",
        "- `Image.open()` ≈ `file.read()`  \n",
        "- `image.save()` ≈ `file.write()`\n",
        "\n",
        "---\n",
        "\n",
        "## 🎬 3. Video Files\n",
        "\n",
        "Use **OpenCV** to read/write video frames.\n",
        "\n",
        "```python\n",
        "import cv2\n",
        "\n",
        "video = cv2.VideoCapture('input.mp4')\n",
        "fourcc = cv2.VideoWriter_fourcc(*'mp4v')\n",
        "out = cv2.VideoWriter('output.mp4', fourcc, 20.0, (640, 480))\n",
        "\n",
        "while True:\n",
        "    ret, frame = video.read()\n",
        "    if not ret:\n",
        "        break\n",
        "    # Add text to each frame\n",
        "    cv2.putText(frame, \"Hello!\", (50, 50), cv2.FONT_HERSHEY_SIMPLEX, 1, (255, 0, 0), 2)\n",
        "    out.write(frame)\n",
        "\n",
        "video.release()\n",
        "out.release()\n",
        "```\n",
        "\n",
        "- `cv2.VideoCapture()` ≈ `file.read()`  \n",
        "- `out.write()` ≈ `file.write()`\n",
        "\n",
        "---\n",
        "\n",
        "## 🔊 4. Audio Files\n",
        "\n",
        "Use **pydub** or **wave** to manipulate audio files.\n",
        "\n",
        "```python\n",
        "from pydub import AudioSegment\n",
        "from pydub.generators import WhiteNoise\n",
        "\n",
        "sound = AudioSegment.from_file(\"audio.wav\")\n",
        "noise = WhiteNoise().to_audio_segment(duration=len(sound))\n",
        "\n",
        "# Mix original with noise\n",
        "mixed = sound.overlay(noise - 30)  # Reduce noise volume\n",
        "\n",
        "mixed.export(\"output.wav\", format=\"wav\")\n",
        "```\n",
        "\n",
        "- `AudioSegment.from_file()` ≈ `file.read()`  \n",
        "- `.export()` ≈ `file.write()`\n",
        "\n",
        "---\n",
        "\n",
        "## 🧠 Summary Table\n",
        "\n",
        "| File Type | Read Like | Write Like | Common Library | Simple Action |\n",
        "|-----------|-----------|------------|----------------|----------------|\n",
        "| Text      | `file.read()` | `file.write()` | Built-in `open()` | Print, count, edit |\n",
        "| Image     | `Image.open()` | `image.save()` | `PIL`, `OpenCV` | Draw shapes, paste images |\n",
        "| Video     | `cv2.VideoCapture()` | `cv2.VideoWriter()` | `OpenCV` | Add text, draw on frame |\n",
        "| Audio     | `AudioSegment.from_file()` | `.export()` | `pydub`, `wave` | Add noise, trim, combine |\n"
      ],
      "metadata": {
        "id": "Sh924zO4IjOk"
      }
    },
    {
      "cell_type": "code",
      "source": [
        "with open(\"/content/example.txt\", \"r\") as file:\n",
        "    data = file.readlines()\n",
        "    print(data)\n",
        "    print(\"Line count:\",len(data))\n",
        "\n",
        "    word_count = 0\n",
        "    ch_count = 0\n",
        "\n",
        "    for line in data:\n",
        "      print(line.split())\n",
        "      print(line.strip())\n",
        "      word_count += len(line.split())\n",
        "      ch_count += len(line.strip())\n",
        "\n",
        "    print(\"word count:\",word_count)\n",
        "    print(\"ch count:\",ch_count)\n",
        "\n",
        "\n"
      ],
      "metadata": {
        "id": "KW74IA-aIoK5",
        "colab": {
          "base_uri": "https://localhost:8080/"
        },
        "outputId": "02952f9b-f16e-478e-81a2-6ac187fe17f3"
      },
      "execution_count": null,
      "outputs": [
        {
          "output_type": "stream",
          "name": "stdout",
          "text": [
            "['Hello world\\n', 'This is a new line']\n",
            "Line count: 2\n",
            "['Hello', 'world']\n",
            "Hello world\n",
            "['This', 'is', 'a', 'new', 'line']\n",
            "This is a new line\n",
            "word count: 7\n",
            "ch count: 29\n"
          ]
        }
      ]
    },
    {
      "cell_type": "code",
      "source": [],
      "metadata": {
        "id": "sfdzO1J5aepn"
      },
      "execution_count": null,
      "outputs": []
    },
    {
      "cell_type": "code",
      "source": [],
      "metadata": {
        "id": "bAsI-65RbDsX"
      },
      "execution_count": null,
      "outputs": []
    }
  ]
}